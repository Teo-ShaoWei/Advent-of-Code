{
 "cells": [
  {
   "cell_type": "markdown",
   "metadata": {},
   "source": [
    "# Advent of Code 2021 Day 4\n",
    "[link](https://adventofcode.com/2021/day/4)"
   ]
  },
  {
   "cell_type": "markdown",
   "metadata": {
    "toc": true
   },
   "source": [
    "<h1>Table of Contents<span class=\"tocSkip\"></span></h1>\n",
    "<div class=\"toc\"><ul class=\"toc-item\"><li><span><a href=\"#include-code-file-using-Revise\" data-toc-modified-id=\"include-code-file-using-Revise-1\"><span class=\"toc-item-num\">1&nbsp;&nbsp;</span>include code file using Revise</a></span></li><li><span><a href=\"#read-input\" data-toc-modified-id=\"read-input-2\"><span class=\"toc-item-num\">2&nbsp;&nbsp;</span>read input</a></span></li><li><span><a href=\"#part-1\" data-toc-modified-id=\"part-1-3\"><span class=\"toc-item-num\">3&nbsp;&nbsp;</span>part 1</a></span><ul class=\"toc-item\"><li><span><a href=\"#answer\" data-toc-modified-id=\"answer-3.1\"><span class=\"toc-item-num\">3.1&nbsp;&nbsp;</span>answer</a></span></li></ul></li><li><span><a href=\"#part-2\" data-toc-modified-id=\"part-2-4\"><span class=\"toc-item-num\">4&nbsp;&nbsp;</span>part 2</a></span><ul class=\"toc-item\"><li><span><a href=\"#answer\" data-toc-modified-id=\"answer-4.1\"><span class=\"toc-item-num\">4.1&nbsp;&nbsp;</span>answer</a></span></li></ul></li></ul></div>"
   ]
  },
  {
   "cell_type": "markdown",
   "metadata": {},
   "source": [
    "## include code file using Revise"
   ]
  },
  {
   "cell_type": "code",
   "execution_count": 1,
   "metadata": {
    "ExecuteTime": {
     "end_time": "2021-12-12T23:49:55.475000+08:00",
     "start_time": "2021-12-12T15:49:54.431Z"
    }
   },
   "outputs": [],
   "source": [
    "using Revise"
   ]
  },
  {
   "cell_type": "code",
   "execution_count": 2,
   "metadata": {
    "ExecuteTime": {
     "end_time": "2021-12-12T23:50:01.343000+08:00",
     "start_time": "2021-12-12T15:49:54.433Z"
    },
    "scrolled": true
   },
   "outputs": [],
   "source": [
    "includet(\"functions.jl\")"
   ]
  },
  {
   "cell_type": "markdown",
   "metadata": {},
   "source": [
    "## read input"
   ]
  },
  {
   "cell_type": "code",
   "execution_count": 3,
   "metadata": {
    "ExecuteTime": {
     "end_time": "2021-12-12T23:50:02.842000+08:00",
     "start_time": "2021-12-12T15:49:54.486Z"
    },
    "scrolled": true
   },
   "outputs": [
    {
     "data": {
      "text/plain": [
       "(drawns = [7, 4, 9, 5, 11, 17, 23, 2, 0, 14  …  25, 12, 22, 18, 20, 8, 19, 3, 26, 1], boards = [[22 13 … 11 0; 8 2 … 4 24; … ; 6 10 … 18 5; 1 12 … 15 19], [3 15 … 2 22; 9 18 … 17 5; … ; 20 11 … 24 4; 14 21 … 12 6], [14 21 … 24 4; 10 16 … 9 19; … ; 22 11 … 6 5; 2 0 … 3 7]])"
      ]
     },
     "execution_count": 3,
     "metadata": {},
     "output_type": "execute_result"
    }
   ],
   "source": [
    "PDS1 = parse_input(\"sample1.txt\")"
   ]
  },
  {
   "cell_type": "code",
   "execution_count": 4,
   "metadata": {
    "ExecuteTime": {
     "end_time": "2021-12-12T23:50:03.061000+08:00",
     "start_time": "2021-12-12T15:49:54.488Z"
    }
   },
   "outputs": [
    {
     "data": {
      "text/plain": [
       "3"
      ]
     },
     "execution_count": 4,
     "metadata": {},
     "output_type": "execute_result"
    }
   ],
   "source": [
    "length(PDS1.boards)"
   ]
  },
  {
   "cell_type": "code",
   "execution_count": 5,
   "metadata": {
    "ExecuteTime": {
     "end_time": "2021-12-12T23:50:03.694000+08:00",
     "start_time": "2021-12-12T15:49:54.490Z"
    }
   },
   "outputs": [
    {
     "data": {
      "text/plain": [
       "5×5 Matrix{Int64}:\n",
       " 22  13  17  11   0\n",
       "  8   2  23   4  24\n",
       " 21   9  14  16   7\n",
       "  6  10   3  18   5\n",
       "  1  12  20  15  19"
      ]
     },
     "execution_count": 5,
     "metadata": {},
     "output_type": "execute_result"
    }
   ],
   "source": [
    "PDS1.boards[1]"
   ]
  },
  {
   "cell_type": "code",
   "execution_count": 6,
   "metadata": {
    "ExecuteTime": {
     "end_time": "2021-12-12T23:50:03.707000+08:00",
     "start_time": "2021-12-12T15:49:54.492Z"
    },
    "scrolled": true
   },
   "outputs": [
    {
     "data": {
      "text/plain": [
       "(drawns = [17, 11, 37, 7, 89, 48, 99, 28, 56, 55  …  21, 49, 29, 50, 0, 5, 8, 32, 62, 41], boards = [[57 80 … 40 12; 62 36 … 0 20; … ; 14 2 … 18 86; 1 4 … 66 38], [1 25 … 16 24; 33 40 … 28 96; … ; 50 38 … 14 56; 73 42 … 36 67], [46 25 … 59 88; 33 48 … 0 95; … ; 11 81 … 70 65; 37 1 … 94 75], [53 56 … 72 99; 46 27 … 49 4; … ; 35 7 … 32 24; 81 78 … 54 88], [76 14 … 84 17; 5 89 … 57 15; … ; 31 71 … 2 39; 10 27 … 67 47], [27 95 … 40 50; 49 66 … 80 75; … ; 11 77 … 6 89; 71 45 … 23 29], [87 72 … 89 18; 91 56 … 14 88; … ; 36 66 … 34 17; 71 57 … 16 7], [35 85 … 2 59; 47 51 … 29 22; … ; 61 13 … 99 65; 92 52 … 9 73], [51 39 … 88 62; 79 91 … 50 15; … ; 12 73 … 95 32; 54 67 … 77 4], [49 38 … 68 13; 33 42 … 58 65; … ; 34 94 … 99 11; 89 43 … 0 78]  …  [68 30 … 16 88; 33 76 … 99 60; … ; 89 58 … 26 34; 70 92 … 64 94], [78 87 … 29 5; 75 54 … 20 33; … ; 93 73 … 39 22; 2 10 … 82 77], [93 33 … 39 3; 27 42 … 12 13; … ; 94 21 … 99 91; 95 97 … 63 92], [30 65 … 73 85; 90 60 … 1 37; … ; 62 51 … 19 76; 96 77 … 72 71], [69 88 … 14 64; 77 12 … 46 58; … ; 32 62 … 23 84; 78 97 … 41 85], [17 40 … 68 81; 52 24 … 30 80; … ; 94 16 … 67 19; 95 43 … 46 93], [32 60 … 75 98; 74 82 … 20 81; … ; 88 11 … 69 67; 72 36 … 62 34], [26 8 … 47 76; 27 15 … 65 80; … ; 97 18 … 93 20; 88 7 … 99 35], [40 94 … 53 58; 45 60 … 64 30; … ; 63 95 … 72 17; 80 18 … 89 28], [48 83 … 85 3; 98 80 … 96 91; … ; 20 88 … 45 28; 8 29 … 37 27]])"
      ]
     },
     "execution_count": 6,
     "metadata": {},
     "output_type": "execute_result"
    }
   ],
   "source": [
    "PDI = parse_input(\"input.txt\")"
   ]
  },
  {
   "cell_type": "markdown",
   "metadata": {},
   "source": [
    "## part 1"
   ]
  },
  {
   "cell_type": "code",
   "execution_count": 7,
   "metadata": {
    "ExecuteTime": {
     "end_time": "2021-12-12T23:50:04.116000+08:00",
     "start_time": "2021-12-12T15:49:54.551Z"
    }
   },
   "outputs": [
    {
     "data": {
      "text/plain": [
       "false"
      ]
     },
     "execution_count": 7,
     "metadata": {},
     "output_type": "execute_result"
    }
   ],
   "source": [
    "is_row_complete(BitArray([1 0; 0 1]))"
   ]
  },
  {
   "cell_type": "code",
   "execution_count": 8,
   "metadata": {
    "ExecuteTime": {
     "end_time": "2021-12-12T23:50:04.130000+08:00",
     "start_time": "2021-12-12T15:49:54.552Z"
    }
   },
   "outputs": [
    {
     "data": {
      "text/plain": [
       "true"
      ]
     },
     "execution_count": 8,
     "metadata": {},
     "output_type": "execute_result"
    }
   ],
   "source": [
    "is_row_complete(BitArray([0 0; 1 1]))"
   ]
  },
  {
   "cell_type": "code",
   "execution_count": 9,
   "metadata": {
    "ExecuteTime": {
     "end_time": "2021-12-12T23:50:04.277000+08:00",
     "start_time": "2021-12-12T15:49:54.554Z"
    }
   },
   "outputs": [
    {
     "data": {
      "text/plain": [
       "false"
      ]
     },
     "execution_count": 9,
     "metadata": {},
     "output_type": "execute_result"
    }
   ],
   "source": [
    "is_col_complete(BitArray([1 0; 0 1]))"
   ]
  },
  {
   "cell_type": "code",
   "execution_count": 10,
   "metadata": {
    "ExecuteTime": {
     "end_time": "2021-12-12T23:50:04.291000+08:00",
     "start_time": "2021-12-12T15:49:54.557Z"
    }
   },
   "outputs": [
    {
     "data": {
      "text/plain": [
       "true"
      ]
     },
     "execution_count": 10,
     "metadata": {},
     "output_type": "execute_result"
    }
   ],
   "source": [
    "is_col_complete(BitArray([1 0; 1 0]))"
   ]
  },
  {
   "cell_type": "code",
   "execution_count": 11,
   "metadata": {
    "ExecuteTime": {
     "end_time": "2021-12-12T23:50:04.982000+08:00",
     "start_time": "2021-12-12T15:49:54.558Z"
    }
   },
   "outputs": [
    {
     "data": {
      "text/plain": [
       "2×2 BitMatrix:\n",
       " 0  0\n",
       " 1  0"
      ]
     },
     "execution_count": 11,
     "metadata": {},
     "output_type": "execute_result"
    }
   ],
   "source": [
    "update_drawn!(\n",
    "    falses((2, 2)),\n",
    "    [1 2; 3 4],\n",
    "    3,\n",
    ")"
   ]
  },
  {
   "cell_type": "code",
   "execution_count": 12,
   "metadata": {
    "ExecuteTime": {
     "end_time": "2021-12-12T23:50:05.126000+08:00",
     "start_time": "2021-12-12T15:49:54.560Z"
    }
   },
   "outputs": [],
   "source": [
    "findfirst_complete(init_drawn_state.(PDS1.boards))"
   ]
  },
  {
   "cell_type": "markdown",
   "metadata": {},
   "source": [
    "### answer"
   ]
  },
  {
   "cell_type": "code",
   "execution_count": 13,
   "metadata": {
    "ExecuteTime": {
     "end_time": "2021-12-12T23:50:05.702000+08:00",
     "start_time": "2021-12-12T15:49:54.615Z"
    }
   },
   "outputs": [
    {
     "name": "stdout",
     "output_type": "stream",
     "text": [
      "  0.461129 seconds (1.90 M allocations: 91.413 MiB, 5.86% gc time, 98.60% compilation time)\n"
     ]
    },
    {
     "name": "stderr",
     "output_type": "stream",
     "text": [
      "┌ Info: part 1 answer\n",
      "│   result1(PDS1) = 4512\n",
      "│   result1(PDI) = 55770\n",
      "└ @ Main In[13]:1\n"
     ]
    }
   ],
   "source": [
    "@time @info(\n",
    "    \"part 1 answer\",\n",
    "    result1(PDS1),\n",
    "    result1(PDI),\n",
    ")"
   ]
  },
  {
   "cell_type": "markdown",
   "metadata": {},
   "source": [
    "## part 2"
   ]
  },
  {
   "cell_type": "markdown",
   "metadata": {},
   "source": [
    "### answer"
   ]
  },
  {
   "cell_type": "code",
   "execution_count": 14,
   "metadata": {
    "ExecuteTime": {
     "end_time": "2021-12-12T23:50:06.091000+08:00",
     "start_time": "2021-12-12T15:49:54.740Z"
    }
   },
   "outputs": [
    {
     "name": "stdout",
     "output_type": "stream",
     "text": [
      "  0.328556 seconds (705.97 k allocations: 38.781 MiB, 95.63% compilation time)\n"
     ]
    },
    {
     "name": "stderr",
     "output_type": "stream",
     "text": [
      "┌ Info: part 2 answer\n",
      "│   result2(PDS1) = 1924\n",
      "│   result2(PDI) = 2980\n",
      "└ @ Main In[14]:1\n"
     ]
    }
   ],
   "source": [
    "@time @info(\n",
    "    \"part 2 answer\",\n",
    "    result2(PDS1),\n",
    "    result2(PDI),\n",
    "    )"
   ]
  }
 ],
 "metadata": {
  "@webio": {
   "lastCommId": null,
   "lastKernelId": null
  },
  "kernelspec": {
   "display_name": "Julia 1.7.0",
   "language": "julia",
   "name": "julia-1.7"
  },
  "language_info": {
   "file_extension": ".jl",
   "mimetype": "application/julia",
   "name": "julia",
   "version": "1.7.0"
  },
  "latex_envs": {
   "LaTeX_envs_menu_present": true,
   "autoclose": false,
   "autocomplete": true,
   "bibliofile": "biblio.bib",
   "cite_by": "apalike",
   "current_citInitial": 1,
   "eqLabelWithNumbers": true,
   "eqNumInitial": 1,
   "hotkeys": {
    "equation": "Ctrl-E",
    "itemize": "Ctrl-I"
   },
   "labels_anchors": false,
   "latex_user_defs": false,
   "report_style_numbering": false,
   "user_envs_cfg": false
  },
  "toc": {
   "base_numbering": 1,
   "nav_menu": {},
   "number_sections": true,
   "sideBar": true,
   "skip_h1_title": true,
   "title_cell": "Table of Contents",
   "title_sidebar": "Contents",
   "toc_cell": true,
   "toc_position": {},
   "toc_section_display": true,
   "toc_window_display": false
  }
 },
 "nbformat": 4,
 "nbformat_minor": 4
}
