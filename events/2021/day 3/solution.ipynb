{
 "cells": [
  {
   "cell_type": "markdown",
   "metadata": {},
   "source": [
    "# Advent of Code 2021 Day 3\n",
    "[link](https://adventofcode.com/2021/day/3)"
   ]
  },
  {
   "cell_type": "markdown",
   "metadata": {
    "toc": true
   },
   "source": [
    "<h1>Table of Contents<span class=\"tocSkip\"></span></h1>\n",
    "<div class=\"toc\"><ul class=\"toc-item\"><li><span><a href=\"#include-code-file-using-Revise\" data-toc-modified-id=\"include-code-file-using-Revise-1\"><span class=\"toc-item-num\">1&nbsp;&nbsp;</span>include code file using Revise</a></span></li><li><span><a href=\"#read-input\" data-toc-modified-id=\"read-input-2\"><span class=\"toc-item-num\">2&nbsp;&nbsp;</span>read input</a></span></li><li><span><a href=\"#part-1\" data-toc-modified-id=\"part-1-3\"><span class=\"toc-item-num\">3&nbsp;&nbsp;</span>part 1</a></span><ul class=\"toc-item\"><li><span><a href=\"#answer\" data-toc-modified-id=\"answer-3.1\"><span class=\"toc-item-num\">3.1&nbsp;&nbsp;</span>answer</a></span></li></ul></li><li><span><a href=\"#part-2\" data-toc-modified-id=\"part-2-4\"><span class=\"toc-item-num\">4&nbsp;&nbsp;</span>part 2</a></span><ul class=\"toc-item\"><li><span><a href=\"#answer\" data-toc-modified-id=\"answer-4.1\"><span class=\"toc-item-num\">4.1&nbsp;&nbsp;</span>answer</a></span></li></ul></li></ul></div>"
   ]
  },
  {
   "cell_type": "markdown",
   "metadata": {},
   "source": [
    "## include code file using Revise"
   ]
  },
  {
   "cell_type": "code",
   "execution_count": 1,
   "metadata": {
    "ExecuteTime": {
     "end_time": "2021-12-12T20:47:39.545000+08:00",
     "start_time": "2021-12-12T12:47:38.473Z"
    }
   },
   "outputs": [],
   "source": [
    "using Revise"
   ]
  },
  {
   "cell_type": "code",
   "execution_count": 2,
   "metadata": {
    "ExecuteTime": {
     "end_time": "2021-12-12T20:47:45.359000+08:00",
     "start_time": "2021-12-12T12:47:38.475Z"
    },
    "scrolled": true
   },
   "outputs": [],
   "source": [
    "includet(\"functions.jl\")"
   ]
  },
  {
   "cell_type": "markdown",
   "metadata": {},
   "source": [
    "## read input"
   ]
  },
  {
   "cell_type": "code",
   "execution_count": 3,
   "metadata": {
    "ExecuteTime": {
     "end_time": "2021-12-12T20:47:46.721000+08:00",
     "start_time": "2021-12-12T12:47:38.530Z"
    },
    "scrolled": true
   },
   "outputs": [
    {
     "data": {
      "text/plain": [
       "12-element Vector{Vector{Int64}}:\n",
       " [0, 0, 1, 0, 0]\n",
       " [1, 1, 1, 1, 0]\n",
       " [1, 0, 1, 1, 0]\n",
       " [1, 0, 1, 1, 1]\n",
       " [1, 0, 1, 0, 1]\n",
       " [0, 1, 1, 1, 1]\n",
       " [0, 0, 1, 1, 1]\n",
       " [1, 1, 1, 0, 0]\n",
       " [1, 0, 0, 0, 0]\n",
       " [1, 1, 0, 0, 1]\n",
       " [0, 0, 0, 1, 0]\n",
       " [0, 1, 0, 1, 0]"
      ]
     },
     "execution_count": 3,
     "metadata": {},
     "output_type": "execute_result"
    }
   ],
   "source": [
    "PDS1 = parse_input(\"sample1.txt\")"
   ]
  },
  {
   "cell_type": "code",
   "execution_count": 4,
   "metadata": {
    "ExecuteTime": {
     "end_time": "2021-12-12T20:47:46.755000+08:00",
     "start_time": "2021-12-12T12:47:38.532Z"
    },
    "scrolled": true
   },
   "outputs": [
    {
     "data": {
      "text/plain": [
       "1000-element Vector{Vector{Int64}}:\n",
       " [0, 1, 1, 1, 1, 0, 1, 1, 1, 1, 0, 1]\n",
       " [1, 1, 0, 0, 1, 0, 0, 1, 0, 0, 0, 1]\n",
       " [1, 1, 1, 0, 1, 1, 1, 1, 1, 1, 1, 1]\n",
       " [1, 1, 0, 0, 1, 1, 0, 1, 0, 1, 0, 0]\n",
       " [1, 1, 1, 1, 0, 0, 0, 0, 0, 0, 1, 1]\n",
       " [0, 1, 0, 1, 0, 1, 0, 0, 1, 0, 0, 1]\n",
       " [0, 1, 0, 1, 0, 1, 0, 0, 0, 0, 1, 0]\n",
       " [1, 0, 0, 1, 1, 1, 1, 0, 1, 0, 0, 0]\n",
       " [1, 1, 0, 1, 1, 0, 1, 0, 1, 1, 1, 0]\n",
       " [0, 0, 1, 0, 0, 1, 1, 0, 1, 0, 0, 0]\n",
       " [1, 0, 1, 1, 0, 0, 1, 0, 0, 1, 1, 0]\n",
       " [1, 0, 1, 0, 0, 1, 1, 0, 0, 1, 1, 0]\n",
       " [1, 0, 1, 1, 1, 0, 0, 0, 0, 1, 1, 0]\n",
       " ⋮\n",
       " [0, 1, 0, 1, 0, 1, 1, 1, 0, 1, 1, 1]\n",
       " [1, 1, 1, 1, 0, 0, 1, 0, 1, 0, 1, 1]\n",
       " [1, 0, 1, 1, 0, 1, 0, 0, 1, 1, 0, 1]\n",
       " [0, 1, 1, 0, 1, 1, 1, 1, 1, 1, 1, 0]\n",
       " [0, 1, 1, 1, 0, 0, 0, 1, 1, 0, 0, 1]\n",
       " [1, 1, 0, 0, 1, 0, 0, 1, 1, 1, 0, 0]\n",
       " [0, 0, 0, 0, 0, 1, 0, 1, 1, 1, 0, 0]\n",
       " [1, 0, 1, 1, 1, 0, 1, 0, 0, 1, 1, 0]\n",
       " [0, 1, 0, 0, 0, 1, 0, 1, 1, 1, 0, 0]\n",
       " [0, 1, 1, 1, 1, 1, 0, 0, 1, 0, 1, 0]\n",
       " [1, 0, 0, 1, 1, 1, 1, 0, 0, 1, 0, 1]\n",
       " [1, 1, 1, 1, 1, 1, 0, 0, 0, 0, 1, 0]"
      ]
     },
     "execution_count": 4,
     "metadata": {},
     "output_type": "execute_result"
    }
   ],
   "source": [
    "PDI = parse_input(\"input.txt\")"
   ]
  },
  {
   "cell_type": "markdown",
   "metadata": {},
   "source": [
    "## part 1"
   ]
  },
  {
   "cell_type": "code",
   "execution_count": 5,
   "metadata": {
    "ExecuteTime": {
     "end_time": "2021-12-12T20:47:47.003000+08:00",
     "start_time": "2021-12-12T12:47:38.581Z"
    }
   },
   "outputs": [
    {
     "data": {
      "text/plain": [
       "22"
      ]
     },
     "execution_count": 5,
     "metadata": {},
     "output_type": "execute_result"
    }
   ],
   "source": [
    "gamma_rate(PDS1)"
   ]
  },
  {
   "cell_type": "code",
   "execution_count": 6,
   "metadata": {
    "ExecuteTime": {
     "end_time": "2021-12-12T20:47:47.055000+08:00",
     "start_time": "2021-12-12T12:47:38.582Z"
    }
   },
   "outputs": [
    {
     "data": {
      "text/plain": [
       "9"
      ]
     },
     "execution_count": 6,
     "metadata": {},
     "output_type": "execute_result"
    }
   ],
   "source": [
    "epsilon_rate(PDS1)"
   ]
  },
  {
   "cell_type": "markdown",
   "metadata": {},
   "source": [
    "### answer"
   ]
  },
  {
   "cell_type": "code",
   "execution_count": 7,
   "metadata": {
    "ExecuteTime": {
     "end_time": "2021-12-12T20:47:47.248000+08:00",
     "start_time": "2021-12-12T12:47:38.629Z"
    }
   },
   "outputs": [
    {
     "name": "stdout",
     "output_type": "stream",
     "text": [
      "  0.102496 seconds (176.81 k allocations: 10.007 MiB, 98.97% compilation time)\n"
     ]
    },
    {
     "name": "stderr",
     "output_type": "stream",
     "text": [
      "┌ Info: part 1 answer\n",
      "│   result1(PDS1) = 198\n",
      "│   result1(PDI) = 3847100\n",
      "└ @ Main In[7]:1\n"
     ]
    }
   ],
   "source": [
    "@time @info(\n",
    "    \"part 1 answer\",\n",
    "    result1(PDS1),\n",
    "    result1(PDI),\n",
    ")"
   ]
  },
  {
   "cell_type": "markdown",
   "metadata": {},
   "source": [
    "## part 2"
   ]
  },
  {
   "cell_type": "code",
   "execution_count": 8,
   "metadata": {
    "ExecuteTime": {
     "end_time": "2021-12-12T20:47:47.338000+08:00",
     "start_time": "2021-12-12T12:47:38.681Z"
    }
   },
   "outputs": [
    {
     "data": {
      "text/plain": [
       "23"
      ]
     },
     "execution_count": 8,
     "metadata": {},
     "output_type": "execute_result"
    }
   ],
   "source": [
    "oxygen_generator_rating(PDS1)"
   ]
  },
  {
   "cell_type": "code",
   "execution_count": 9,
   "metadata": {
    "ExecuteTime": {
     "end_time": "2021-12-12T20:47:47.423000+08:00",
     "start_time": "2021-12-12T12:47:38.683Z"
    }
   },
   "outputs": [
    {
     "data": {
      "text/plain": [
       "10"
      ]
     },
     "execution_count": 9,
     "metadata": {},
     "output_type": "execute_result"
    }
   ],
   "source": [
    "co2_scrubber_rating(PDS1)"
   ]
  },
  {
   "cell_type": "markdown",
   "metadata": {},
   "source": [
    "### answer"
   ]
  },
  {
   "cell_type": "code",
   "execution_count": 10,
   "metadata": {
    "ExecuteTime": {
     "end_time": "2021-12-12T20:47:47.519000+08:00",
     "start_time": "2021-12-12T12:47:38.753Z"
    }
   },
   "outputs": [
    {
     "name": "stdout",
     "output_type": "stream",
     "text": [
      "  0.036681 seconds (70.75 k allocations: 4.388 MiB, 96.13% compilation time)\n"
     ]
    },
    {
     "name": "stderr",
     "output_type": "stream",
     "text": [
      "┌ Info: part 2 answer\n",
      "│   result2(PDS1) = 230\n",
      "│   result2(PDI) = 4105235\n",
      "└ @ Main In[10]:1\n"
     ]
    }
   ],
   "source": [
    "@time @info(\n",
    "    \"part 2 answer\",\n",
    "    result2(PDS1),\n",
    "    result2(PDI),\n",
    "    )"
   ]
  }
 ],
 "metadata": {
  "@webio": {
   "lastCommId": null,
   "lastKernelId": null
  },
  "kernelspec": {
   "display_name": "Julia 1.7.0",
   "language": "julia",
   "name": "julia-1.7"
  },
  "language_info": {
   "file_extension": ".jl",
   "mimetype": "application/julia",
   "name": "julia",
   "version": "1.7.0"
  },
  "latex_envs": {
   "LaTeX_envs_menu_present": true,
   "autoclose": false,
   "autocomplete": true,
   "bibliofile": "biblio.bib",
   "cite_by": "apalike",
   "current_citInitial": 1,
   "eqLabelWithNumbers": true,
   "eqNumInitial": 1,
   "hotkeys": {
    "equation": "Ctrl-E",
    "itemize": "Ctrl-I"
   },
   "labels_anchors": false,
   "latex_user_defs": false,
   "report_style_numbering": false,
   "user_envs_cfg": false
  },
  "toc": {
   "base_numbering": 1,
   "nav_menu": {},
   "number_sections": true,
   "sideBar": true,
   "skip_h1_title": true,
   "title_cell": "Table of Contents",
   "title_sidebar": "Contents",
   "toc_cell": true,
   "toc_position": {},
   "toc_section_display": true,
   "toc_window_display": false
  }
 },
 "nbformat": 4,
 "nbformat_minor": 4
}
