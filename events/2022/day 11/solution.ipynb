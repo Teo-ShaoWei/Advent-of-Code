{
 "cells": [
  {
   "cell_type": "markdown",
   "metadata": {},
   "source": [
    "# Advent of Code 2022 Day 11\n",
    "[link](https://adventofcode.com/2022/day/11)"
   ]
  },
  {
   "cell_type": "markdown",
   "metadata": {},
   "source": [
    "## include code file using Revise"
   ]
  },
  {
   "cell_type": "code",
   "execution_count": 1,
   "metadata": {},
   "outputs": [],
   "source": [
    "using Revise"
   ]
  },
  {
   "cell_type": "code",
   "execution_count": 2,
   "metadata": {
    "scrolled": true
   },
   "outputs": [],
   "source": [
    "includet(\"functions.jl\")"
   ]
  },
  {
   "cell_type": "markdown",
   "metadata": {},
   "source": [
    "## set logger"
   ]
  },
  {
   "cell_type": "code",
   "execution_count": 3,
   "metadata": {},
   "outputs": [
    {
     "data": {
      "text/plain": [
       "Base.CoreLogging.SimpleLogger(IJulia.IJuliaStdio{Base.PipeEndpoint}(IOContext(Base.PipeEndpoint(RawFD(45) open, 0 bytes waiting))), Info, Dict{Any, Int64}())"
      ]
     },
     "execution_count": 3,
     "metadata": {},
     "output_type": "execute_result"
    }
   ],
   "source": [
    "import Logging\n",
    "import TerminalLoggers\n",
    "\n",
    "Logging.global_logger(TerminalLoggers.TerminalLogger())"
   ]
  },
  {
   "cell_type": "markdown",
   "metadata": {},
   "source": [
    "## read input"
   ]
  },
  {
   "cell_type": "code",
   "execution_count": 4,
   "metadata": {},
   "outputs": [
    {
     "data": {
      "text/plain": [
       "(worries = [79, 98], op_string = \"new = old * 19\", check = 23, if_true = 2, if_false = 3)"
      ]
     },
     "execution_count": 4,
     "metadata": {},
     "output_type": "execute_result"
    }
   ],
   "source": [
    "pd\"\"\"\n",
    "Monkey 0:\n",
    "  Starting items: 79, 98\n",
    "  Operation: new = old * 19\n",
    "  Test: divisible by 23\n",
    "    If true: throw to monkey 2\n",
    "    If false: throw to monkey 3\n",
    "\"\"\"[0]"
   ]
  },
  {
   "cell_type": "code",
   "execution_count": 5,
   "metadata": {
    "scrolled": true
   },
   "outputs": [
    {
     "name": "stdout",
     "output_type": "stream",
     "text": [
      "(worries = [79, 98], op_string = \"new = old * 19\", check = 23, if_true = 2, if_false = 3)\n",
      "(worries = [54, 65, 75, 74], op_string = \"new = old + 6\", check = 19, if_true = 2, if_false = 0)\n",
      "(worries = [79, 60, 97], op_string = \"new = old * old\", check = 13, if_true = 1, if_false = 3)\n",
      "(worries = [74], op_string = \"new = old + 3\", check = 17, if_true = 0, if_false = 1)\n"
     ]
    }
   ],
   "source": [
    "PDS1 = parse_puzzle_file(\"sample1.txt\")\n",
    "PDS1 .|> println;"
   ]
  },
  {
   "cell_type": "code",
   "execution_count": 6,
   "metadata": {
    "scrolled": true
   },
   "outputs": [
    {
     "name": "stdout",
     "output_type": "stream",
     "text": [
      "(worries = [98, 89, 52], op_string = \"new = old * 2\", check = 5, if_true = 6, if_false = 1)\n",
      "(worries = [57, 95, 80, 92, 57, 78], op_string = \"new = old * 13\", check = 2, if_true = 2, if_false = 6)\n",
      "(worries = [82, 74, 97, 75, 51, 92, 83], op_string = \"new = old + 5\", check = 19, if_true = 7, if_false = 5)\n",
      "(worries = [97, 88, 51, 68, 76], op_string = \"new = old + 6\", check = 7, if_true = 0, if_false = 4)\n",
      "(worries = [63], op_string = \"new = old + 1\", check = 17, if_true = 0, if_false = 1)\n",
      "(worries = [94, 91, 51, 63], op_string = \"new = old + 4\", check = 13, if_true = 4, if_false = 3)\n",
      "(worries = [61, 54, 94, 71, 74, 68, 98, 83], op_string = \"new = old + 2\", check = 3, if_true = 2, if_false = 7)\n",
      "(worries = [90, 56], op_string = \"new = old * old\", check = 11, if_true = 3, if_false = 5)\n"
     ]
    }
   ],
   "source": [
    "PDI = parse_puzzle_file(\"input.txt\")\n",
    "PDI .|> println;"
   ]
  },
  {
   "cell_type": "markdown",
   "metadata": {},
   "source": [
    "## part 1"
   ]
  },
  {
   "cell_type": "code",
   "execution_count": 7,
   "metadata": {},
   "outputs": [
    {
     "data": {
      "text/plain": [
       "(worries = [79, 98], op = var\"#21#22\"(), check = 23, if_true = 2, if_false = 3)"
      ]
     },
     "execution_count": 7,
     "metadata": {},
     "output_type": "execute_result"
    }
   ],
   "source": [
    "PDS1_P1 = transform_monkeys_part1(PDS1)\n",
    "PDI_P1 = transform_monkeys_part1(PDI)\n",
    "\n",
    "PDS1_P1[0]"
   ]
  },
  {
   "cell_type": "code",
   "execution_count": 8,
   "metadata": {},
   "outputs": [
    {
     "data": {
      "text/plain": [
       "4-element OffsetArray(::Vector{Int64}, 0:3) with eltype Int64 with indices 0:3:\n",
       " 0\n",
       " 0\n",
       " 0\n",
       " 0"
      ]
     },
     "execution_count": 8,
     "metadata": {},
     "output_type": "execute_result"
    }
   ],
   "source": [
    "COUNT = map(x -> (0), PDS1)"
   ]
  },
  {
   "cell_type": "code",
   "execution_count": 9,
   "metadata": {},
   "outputs": [],
   "source": [
    "next_monkey!(PDS1_P1, 0, COUNT; throw_item_func! = throw_item_part1!)"
   ]
  },
  {
   "cell_type": "code",
   "execution_count": 10,
   "metadata": {},
   "outputs": [
    {
     "data": {
      "text/plain": [
       "(worries = Int64[], op = var\"#21#22\"(), check = 23, if_true = 2, if_false = 3)"
      ]
     },
     "execution_count": 10,
     "metadata": {},
     "output_type": "execute_result"
    }
   ],
   "source": [
    "PDS1_P1[0]"
   ]
  },
  {
   "cell_type": "code",
   "execution_count": 11,
   "metadata": {},
   "outputs": [
    {
     "data": {
      "text/plain": [
       "(worries = [74, 500, 620], op = var\"#27#28\"(), check = 17, if_true = 0, if_false = 1)"
      ]
     },
     "execution_count": 11,
     "metadata": {},
     "output_type": "execute_result"
    }
   ],
   "source": [
    "PDS1_P1[3]"
   ]
  },
  {
   "cell_type": "code",
   "execution_count": 12,
   "metadata": {},
   "outputs": [
    {
     "data": {
      "text/plain": [
       "-17"
      ]
     },
     "execution_count": 12,
     "metadata": {},
     "output_type": "execute_result"
    }
   ],
   "source": [
    "make_op(\"new = old - 18\")(1)"
   ]
  },
  {
   "cell_type": "code",
   "execution_count": 13,
   "metadata": {},
   "outputs": [
    {
     "data": {
      "text/plain": [
       "1-element Vector{Any}:\n",
       " CodeInfo(\n",
       "\u001b[90m1 ─\u001b[39m %1 = (old * old)\u001b[36m::Any\u001b[39m\n",
       "\u001b[90m└──\u001b[39m      return %1\n",
       ") => Any"
      ]
     },
     "execution_count": 13,
     "metadata": {},
     "output_type": "execute_result"
    }
   ],
   "source": [
    "make_op(\"new = old * old\") |> code_typed"
   ]
  },
  {
   "cell_type": "code",
   "execution_count": 14,
   "metadata": {},
   "outputs": [
    {
     "data": {
      "text/plain": [
       "1-element Vector{Any}:\n",
       " CodeInfo(\n",
       "\u001b[90m1 ─\u001b[39m %1 = (old * old)\u001b[36m::Any\u001b[39m\n",
       "\u001b[90m└──\u001b[39m      return %1\n",
       ") => Any"
      ]
     },
     "execution_count": 14,
     "metadata": {},
     "output_type": "execute_result"
    }
   ],
   "source": [
    "(old -> old * old) |> code_typed"
   ]
  },
  {
   "cell_type": "markdown",
   "metadata": {},
   "source": [
    "### answer"
   ]
  },
  {
   "cell_type": "code",
   "execution_count": 15,
   "metadata": {},
   "outputs": [
    {
     "name": "stdout",
     "output_type": "stream",
     "text": [
      "  0.480881 seconds (3.36 M allocations: 165.185 MiB, 5.90% gc time, 99.54% compilation time: 4% of which was recompilation)\n"
     ]
    },
    {
     "name": "stderr",
     "output_type": "stream",
     "text": [
      "\u001b[36m\u001b[1m┌ \u001b[22m\u001b[39m\u001b[36m\u001b[1mInfo: \u001b[22m\u001b[39mpart 1 answer\n",
      "\u001b[36m\u001b[1m│ \u001b[22m\u001b[39m  result1(PDS1_P1) = 10395\n",
      "\u001b[36m\u001b[1m└ \u001b[22m\u001b[39m  result1(PDI_P1) = 113220\n"
     ]
    }
   ],
   "source": [
    "@time @info(\n",
    "    \"part 1 answer\",\n",
    "    result1(PDS1_P1),\n",
    "    result1(PDI_P1),\n",
    ")"
   ]
  },
  {
   "cell_type": "markdown",
   "metadata": {},
   "source": [
    "## part 2"
   ]
  },
  {
   "cell_type": "markdown",
   "metadata": {},
   "source": [
    "### answer"
   ]
  },
  {
   "cell_type": "code",
   "execution_count": 16,
   "metadata": {},
   "outputs": [
    {
     "data": {
      "text/plain": [
       "(worries = Mod{96577, Int64}[Mod{96577}(79), Mod{96577}(98)], op = var\"#53#54\"(), check = 23, if_true = 2, if_false = 3)"
      ]
     },
     "execution_count": 16,
     "metadata": {},
     "output_type": "execute_result"
    }
   ],
   "source": [
    "PDS1_P2 = transform_monkeys_part2(PDS1)\n",
    "PDI_P2 = transform_monkeys_part2(PDI)\n",
    "\n",
    "PDS1_P2[0]"
   ]
  },
  {
   "cell_type": "code",
   "execution_count": 17,
   "metadata": {},
   "outputs": [
    {
     "name": "stdout",
     "output_type": "stream",
     "text": [
      "  0.640110 seconds (8.23 M allocations: 204.477 MiB, 4.23% gc time, 31.64% compilation time)\n"
     ]
    },
    {
     "name": "stderr",
     "output_type": "stream",
     "text": [
      "\u001b[36m\u001b[1m┌ \u001b[22m\u001b[39m\u001b[36m\u001b[1mInfo: \u001b[22m\u001b[39mpart 2 answer\n",
      "\u001b[36m\u001b[1m│ \u001b[22m\u001b[39m  result2(PDS1_P2) = 2713310158\n",
      "\u001b[36m\u001b[1m└ \u001b[22m\u001b[39m  result2(PDI_P2) = 30599555965\n"
     ]
    }
   ],
   "source": [
    "@time @info(\n",
    "    \"part 2 answer\",\n",
    "    result2(PDS1_P2),\n",
    "    result2(PDI_P2),\n",
    ")"
   ]
  }
 ],
 "metadata": {
  "@webio": {
   "lastCommId": null,
   "lastKernelId": null
  },
  "kernelspec": {
   "display_name": "Julia 1.8.2",
   "language": "julia",
   "name": "julia-1.8"
  },
  "language_info": {
   "file_extension": ".jl",
   "mimetype": "application/julia",
   "name": "julia",
   "version": "1.8.2"
  },
  "latex_envs": {
   "LaTeX_envs_menu_present": true,
   "autoclose": false,
   "autocomplete": true,
   "bibliofile": "biblio.bib",
   "cite_by": "apalike",
   "current_citInitial": 1,
   "eqLabelWithNumbers": true,
   "eqNumInitial": 1,
   "hotkeys": {
    "equation": "Ctrl-E",
    "itemize": "Ctrl-I"
   },
   "labels_anchors": false,
   "latex_user_defs": false,
   "report_style_numbering": false,
   "user_envs_cfg": false
  },
  "toc": {
   "base_numbering": 1,
   "nav_menu": {},
   "number_sections": true,
   "sideBar": true,
   "skip_h1_title": true,
   "title_cell": "Table of Contents",
   "title_sidebar": "Contents",
   "toc_cell": true,
   "toc_position": {},
   "toc_section_display": true,
   "toc_window_display": false
  }
 },
 "nbformat": 4,
 "nbformat_minor": 4
}
