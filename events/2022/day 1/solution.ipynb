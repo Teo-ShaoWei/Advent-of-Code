{
 "cells": [
  {
   "cell_type": "markdown",
   "metadata": {},
   "source": [
    "# Advent of Code 2022 Day 1\n",
    "[link](https://adventofcode.com/2022/day/1)"
   ]
  },
  {
   "cell_type": "markdown",
   "metadata": {},
   "source": [
    "## include code file using Revise"
   ]
  },
  {
   "cell_type": "code",
   "execution_count": 1,
   "metadata": {},
   "outputs": [],
   "source": [
    "using Revise"
   ]
  },
  {
   "cell_type": "code",
   "execution_count": 2,
   "metadata": {
    "scrolled": true
   },
   "outputs": [],
   "source": [
    "includet(\"functions.jl\")"
   ]
  },
  {
   "cell_type": "markdown",
   "metadata": {},
   "source": [
    "## set logger"
   ]
  },
  {
   "cell_type": "code",
   "execution_count": 3,
   "metadata": {},
   "outputs": [
    {
     "data": {
      "text/plain": [
       "Base.CoreLogging.SimpleLogger(IJulia.IJuliaStdio{Base.PipeEndpoint}(IOContext(Base.PipeEndpoint(RawFD(45) open, 0 bytes waiting))), Info, Dict{Any, Int64}())"
      ]
     },
     "execution_count": 3,
     "metadata": {},
     "output_type": "execute_result"
    }
   ],
   "source": [
    "import Logging\n",
    "import TerminalLoggers\n",
    "\n",
    "Logging.global_logger(TerminalLoggers.TerminalLogger())"
   ]
  },
  {
   "cell_type": "markdown",
   "metadata": {},
   "source": [
    "## read input"
   ]
  },
  {
   "cell_type": "code",
   "execution_count": 4,
   "metadata": {},
   "outputs": [
    {
     "data": {
      "text/plain": [
       "5-element Vector{Vector{Int64}}:\n",
       " [1000, 2000, 3000]\n",
       " [4000]\n",
       " [5000, 6000]\n",
       " [7000, 8000, 9000]\n",
       " [10000]"
      ]
     },
     "execution_count": 4,
     "metadata": {},
     "output_type": "execute_result"
    }
   ],
   "source": [
    "PDS1 = pd\"\"\"\n",
    "1000\n",
    "2000\n",
    "3000\n",
    "\n",
    "4000\n",
    "\n",
    "5000\n",
    "6000\n",
    "\n",
    "7000\n",
    "8000\n",
    "9000\n",
    "\n",
    "10000\n",
    "\"\"\""
   ]
  },
  {
   "cell_type": "code",
   "execution_count": 5,
   "metadata": {
    "scrolled": true
   },
   "outputs": [
    {
     "data": {
      "text/plain": [
       "253-element Vector{Vector{Int64}}:\n",
       " [7914, 5032, 11424, 2567, 4123, 3567, 7346]\n",
       " [1334, 2173, 5437, 1104, 1872, 1148, 6547, 3149, 5923, 5705, 4036, 5348, 1100]\n",
       " [4108, 14444, 25596]\n",
       " [7237, 4252, 1020, 8333, 3538, 5089, 6328, 4581, 6503, 8741]\n",
       " [5799, 1585, 1137, 1985, 6489, 5309, 6249, 4594, 1885, 6100, 4233, 1517, 6346]\n",
       " [13392]\n",
       " [5705, 2914, 1636, 2126, 1200, 2458, 3862, 5696, 6269, 6624, 4015, 6878]\n",
       " [7503, 4528, 1771, 4976, 2360, 4953, 8402, 5437, 1521, 3369]\n",
       " [19947, 3465]\n",
       " [2635, 3520, 5764, 1201, 2231, 5663, 1872, 1834, 5889, 3104, 6043, 5672, 1897, 4429, 3242]\n",
       " [1568, 7727, 7363, 1762, 6400, 5605]\n",
       " [4660, 11308, 4380, 2582, 1001, 11714]\n",
       " [5134, 2300, 4757, 4613, 2991, 6561, 5951, 4936, 4592, 2099, 4117, 6658, 6387]\n",
       " ⋮\n",
       " [5017, 4609, 8767, 9643, 4702, 8519, 7904, 4716, 3679]\n",
       " [1068, 6794, 7802, 2099, 7998, 3563, 6051, 6596, 7987, 3732, 7337]\n",
       " [2241, 13670, 13185, 6208, 12631]\n",
       " [29307, 3839]\n",
       " [11354, 6015, 2257, 7358, 7688, 5290, 3929]\n",
       " [12228]\n",
       " [3334, 8211, 5328, 4224, 5626, 7635, 7615, 9511]\n",
       " [8075, 5712, 7226, 5213, 7236, 7907, 1417, 6890, 2571, 1881, 6929]\n",
       " [1189, 2124, 5640, 4677, 1487, 3608, 2828, 2911, 2102, 2169, 6087, 4343, 5689, 5315, 1946]\n",
       " [7302, 1351, 1299, 3498, 2752, 2502, 7397, 7139, 1571, 1882, 4967, 7024]\n",
       " [2453, 2774, 12613, 15345, 3686]\n",
       " [6213, 6151, 2743, 3336, 7888, 7792, 2768, 4780, 1782, 4613, 1344]"
      ]
     },
     "execution_count": 5,
     "metadata": {},
     "output_type": "execute_result"
    }
   ],
   "source": [
    "PDI = parse_puzzle_file(\"input.txt\")"
   ]
  },
  {
   "cell_type": "markdown",
   "metadata": {},
   "source": [
    "## part 1"
   ]
  },
  {
   "cell_type": "markdown",
   "metadata": {},
   "source": [
    "### answer"
   ]
  },
  {
   "cell_type": "code",
   "execution_count": 6,
   "metadata": {},
   "outputs": [
    {
     "name": "stdout",
     "output_type": "stream",
     "text": [
      "  0.297142 seconds (2.17 M allocations: 108.921 MiB, 5.67% gc time, 98.93% compilation time)\n"
     ]
    },
    {
     "name": "stderr",
     "output_type": "stream",
     "text": [
      "\u001b[36m\u001b[1m┌ \u001b[22m\u001b[39m\u001b[36m\u001b[1mInfo: \u001b[22m\u001b[39mpart 1 answer\n",
      "\u001b[36m\u001b[1m│ \u001b[22m\u001b[39m  result1(PDS1) = 24000\n",
      "\u001b[36m\u001b[1m└ \u001b[22m\u001b[39m  result1(PDI) = 64929\n"
     ]
    }
   ],
   "source": [
    "@time @info(\n",
    "    \"part 1 answer\",\n",
    "    result1(PDS1),\n",
    "    result1(PDI),\n",
    ")"
   ]
  },
  {
   "cell_type": "markdown",
   "metadata": {},
   "source": [
    "## part 2"
   ]
  },
  {
   "cell_type": "markdown",
   "metadata": {},
   "source": [
    "### answer"
   ]
  },
  {
   "cell_type": "code",
   "execution_count": 7,
   "metadata": {},
   "outputs": [
    {
     "name": "stdout",
     "output_type": "stream",
     "text": [
      "  0.106908 seconds (522.21 k allocations: 26.287 MiB, 6.43% gc time, 99.31% compilation time)\n"
     ]
    },
    {
     "name": "stderr",
     "output_type": "stream",
     "text": [
      "\u001b[36m\u001b[1m┌ \u001b[22m\u001b[39m\u001b[36m\u001b[1mInfo: \u001b[22m\u001b[39mpart 2 answer\n",
      "\u001b[36m\u001b[1m│ \u001b[22m\u001b[39m  result2(PDS1) = 45000\n",
      "\u001b[36m\u001b[1m└ \u001b[22m\u001b[39m  result2(PDI) = 193697\n"
     ]
    }
   ],
   "source": [
    "@time @info(\n",
    "    \"part 2 answer\",\n",
    "    result2(PDS1),\n",
    "    result2(PDI),\n",
    ")"
   ]
  }
 ],
 "metadata": {
  "@webio": {
   "lastCommId": null,
   "lastKernelId": null
  },
  "kernelspec": {
   "display_name": "Julia 1.8.2",
   "language": "julia",
   "name": "julia-1.8"
  },
  "language_info": {
   "file_extension": ".jl",
   "mimetype": "application/julia",
   "name": "julia",
   "version": "1.8.2"
  },
  "latex_envs": {
   "LaTeX_envs_menu_present": true,
   "autoclose": false,
   "autocomplete": true,
   "bibliofile": "biblio.bib",
   "cite_by": "apalike",
   "current_citInitial": 1,
   "eqLabelWithNumbers": true,
   "eqNumInitial": 1,
   "hotkeys": {
    "equation": "Ctrl-E",
    "itemize": "Ctrl-I"
   },
   "labels_anchors": false,
   "latex_user_defs": false,
   "report_style_numbering": false,
   "user_envs_cfg": false
  },
  "toc": {
   "base_numbering": 1,
   "nav_menu": {},
   "number_sections": true,
   "sideBar": true,
   "skip_h1_title": true,
   "title_cell": "Table of Contents",
   "title_sidebar": "Contents",
   "toc_cell": true,
   "toc_position": {},
   "toc_section_display": true,
   "toc_window_display": false
  }
 },
 "nbformat": 4,
 "nbformat_minor": 4
}
