{
 "cells": [
  {
   "cell_type": "markdown",
   "metadata": {},
   "source": [
    "# Advent of Code 2022 Day 18\n",
    "[link](https://adventofcode.com/2022/day/18)"
   ]
  },
  {
   "cell_type": "markdown",
   "metadata": {},
   "source": [
    "## include code file using Revise"
   ]
  },
  {
   "cell_type": "code",
   "execution_count": 1,
   "metadata": {},
   "outputs": [],
   "source": [
    "using Revise"
   ]
  },
  {
   "cell_type": "code",
   "execution_count": 2,
   "metadata": {
    "scrolled": true
   },
   "outputs": [],
   "source": [
    "includet(\"functions.jl\")"
   ]
  },
  {
   "cell_type": "markdown",
   "metadata": {},
   "source": [
    "## set logger"
   ]
  },
  {
   "cell_type": "code",
   "execution_count": 3,
   "metadata": {},
   "outputs": [
    {
     "data": {
      "text/plain": [
       "Base.CoreLogging.SimpleLogger(IJulia.IJuliaStdio{Base.PipeEndpoint}(IOContext(Base.PipeEndpoint(RawFD(47) open, 0 bytes waiting))), Info, Dict{Any, Int64}())"
      ]
     },
     "execution_count": 3,
     "metadata": {},
     "output_type": "execute_result"
    }
   ],
   "source": [
    "import Logging\n",
    "import TerminalLoggers\n",
    "\n",
    "Logging.global_logger(TerminalLoggers.TerminalLogger())"
   ]
  },
  {
   "cell_type": "markdown",
   "metadata": {},
   "source": [
    "## read input"
   ]
  },
  {
   "cell_type": "code",
   "execution_count": 4,
   "metadata": {
    "scrolled": true
   },
   "outputs": [
    {
     "data": {
      "text/plain": [
       "13-element Vector{CartesianIndex{3}}:\n",
       " CI(2, 2, 2)\n",
       " CI(1, 2, 2)\n",
       " CI(3, 2, 2)\n",
       " CI(2, 1, 2)\n",
       " CI(2, 3, 2)\n",
       " CI(2, 2, 1)\n",
       " CI(2, 2, 3)\n",
       " CI(2, 2, 4)\n",
       " CI(2, 2, 6)\n",
       " CI(1, 2, 5)\n",
       " CI(3, 2, 5)\n",
       " CI(2, 1, 5)\n",
       " CI(2, 3, 5)"
      ]
     },
     "execution_count": 4,
     "metadata": {},
     "output_type": "execute_result"
    }
   ],
   "source": [
    "PDS1 = parse_puzzle_file(\"sample1.txt\")"
   ]
  },
  {
   "cell_type": "code",
   "execution_count": 5,
   "metadata": {
    "scrolled": true
   },
   "outputs": [
    {
     "data": {
      "text/plain": [
       "2812-element Vector{CartesianIndex{3}}:\n",
       " CI(17, 10, 15)\n",
       " CI(10, 8, 19)\n",
       " CI(11, 17, 8)\n",
       " CI(19, 6, 7)\n",
       " CI(3, 12, 7)\n",
       " CI(14, 11, 19)\n",
       " CI(17, 15, 10)\n",
       " CI(15, 7, 3)\n",
       " CI(4, 15, 15)\n",
       " CI(10, 16, 4)\n",
       " CI(7, 10, 19)\n",
       " CI(11, 4, 15)\n",
       " CI(6, 14, 6)\n",
       " ⋮\n",
       " CI(12, 10, 1)\n",
       " CI(7, 5, 11)\n",
       " CI(16, 3, 7)\n",
       " CI(8, 5, 9)\n",
       " CI(19, 11, 14)\n",
       " CI(13, 10, 17)\n",
       " CI(16, 12, 18)\n",
       " CI(1, 10, 10)\n",
       " CI(11, 8, 20)\n",
       " CI(15, 7, 6)\n",
       " CI(17, 13, 14)\n",
       " CI(6, 9, 19)"
      ]
     },
     "execution_count": 5,
     "metadata": {},
     "output_type": "execute_result"
    }
   ],
   "source": [
    "PDI = parse_puzzle_file(\"input.txt\")"
   ]
  },
  {
   "cell_type": "markdown",
   "metadata": {},
   "source": [
    "## part 1"
   ]
  },
  {
   "cell_type": "code",
   "execution_count": 6,
   "metadata": {},
   "outputs": [
    {
     "data": {
      "text/plain": [
       "true"
      ]
     },
     "execution_count": 6,
     "metadata": {},
     "output_type": "execute_result"
    }
   ],
   "source": [
    "is_adjacent(CI(0, 0, 1), CI(0, 0, 2))"
   ]
  },
  {
   "cell_type": "code",
   "execution_count": 7,
   "metadata": {},
   "outputs": [
    {
     "data": {
      "text/plain": [
       "64"
      ]
     },
     "execution_count": 7,
     "metadata": {},
     "output_type": "execute_result"
    }
   ],
   "source": [
    "result1(PDS1)"
   ]
  },
  {
   "cell_type": "markdown",
   "metadata": {},
   "source": [
    "### answer"
   ]
  },
  {
   "cell_type": "code",
   "execution_count": 8,
   "metadata": {},
   "outputs": [
    {
     "name": "stdout",
     "output_type": "stream",
     "text": [
      "  0.492708 seconds (9.96 M allocations: 649.623 MiB, 12.51% gc time, 61.54% compilation time: 8% of which was recompilation)\n"
     ]
    },
    {
     "name": "stderr",
     "output_type": "stream",
     "text": [
      "\u001b[36m\u001b[1m┌ \u001b[22m\u001b[39m\u001b[36m\u001b[1mInfo: \u001b[22m\u001b[39mpart 1 answer\n",
      "\u001b[36m\u001b[1m│ \u001b[22m\u001b[39m  result1(PDS1) = 64\n",
      "\u001b[36m\u001b[1m└ \u001b[22m\u001b[39m  result1(PDI) = 4456\n"
     ]
    }
   ],
   "source": [
    "@time @info(\n",
    "    \"part 1 answer\",\n",
    "    result1(PDS1),\n",
    "    result1(PDI),\n",
    ")"
   ]
  },
  {
   "cell_type": "markdown",
   "metadata": {},
   "source": [
    "## part 2"
   ]
  },
  {
   "cell_type": "code",
   "execution_count": 9,
   "metadata": {},
   "outputs": [
    {
     "data": {
      "text/plain": [
       "(0:4, 0:4, 0:7)"
      ]
     },
     "execution_count": 9,
     "metadata": {},
     "output_type": "execute_result"
    }
   ],
   "source": [
    "make_smallest_boundary(PDS1; margin = (1, 1, 1))"
   ]
  },
  {
   "cell_type": "code",
   "execution_count": 10,
   "metadata": {},
   "outputs": [
    {
     "data": {
      "text/plain": [
       "5×5×8 OffsetArray(::Array{Int64, 3}, 0:4, 0:4, 0:7) with eltype Int64 with indices 0:4×0:4×0:7:\n",
       "[:, :, 0] =\n",
       " 2  2  2  2  2\n",
       " 2  2  2  2  2\n",
       " 2  2  2  2  2\n",
       " 2  2  2  2  2\n",
       " 2  2  2  2  2\n",
       "\n",
       "[:, :, 1] =\n",
       " 2  2  2  2  2\n",
       " 2  2  2  2  2\n",
       " 2  2  1  2  2\n",
       " 2  2  2  2  2\n",
       " 2  2  2  2  2\n",
       "\n",
       "[:, :, 2] =\n",
       " 2  2  2  2  2\n",
       " 2  2  1  2  2\n",
       " 2  1  1  1  2\n",
       " 2  2  1  2  2\n",
       " 2  2  2  2  2\n",
       "\n",
       "[:, :, 3] =\n",
       " 2  2  2  2  2\n",
       " 2  2  2  2  2\n",
       " 2  2  1  2  2\n",
       " 2  2  2  2  2\n",
       " 2  2  2  2  2\n",
       "\n",
       "[:, :, 4] =\n",
       " 2  2  2  2  2\n",
       " 2  2  2  2  2\n",
       " 2  2  1  2  2\n",
       " 2  2  2  2  2\n",
       " 2  2  2  2  2\n",
       "\n",
       "[:, :, 5] =\n",
       " 2  2  2  2  2\n",
       " 2  2  1  2  2\n",
       " 2  1  0  1  2\n",
       " 2  2  1  2  2\n",
       " 2  2  2  2  2\n",
       "\n",
       "[:, :, 6] =\n",
       " 2  2  2  2  2\n",
       " 2  2  2  2  2\n",
       " 2  2  1  2  2\n",
       " 2  2  2  2  2\n",
       " 2  2  2  2  2\n",
       "\n",
       "[:, :, 7] =\n",
       " 2  2  2  2  2\n",
       " 2  2  2  2  2\n",
       " 2  2  2  2  2\n",
       " 2  2  2  2  2\n",
       " 2  2  2  2  2"
      ]
     },
     "execution_count": 10,
     "metadata": {},
     "output_type": "execute_result"
    }
   ],
   "source": [
    "INIT_STATE = init_state(PDS1)"
   ]
  },
  {
   "cell_type": "code",
   "execution_count": 11,
   "metadata": {},
   "outputs": [
    {
     "data": {
      "text/plain": [
       "PriorityQueue{CartesianIndex{3}, Int64, Base.Order.ForwardOrdering} with 146 entries:\n",
       "  CI(0, 0, 0) => 0\n",
       "  CI(4, 4, 7) => 0\n",
       "  CI(3, 4, 7) => 0\n",
       "  CI(2, 4, 7) => 0\n",
       "  CI(1, 4, 7) => 0\n",
       "  CI(0, 4, 7) => 0\n",
       "  CI(4, 3, 7) => 0\n",
       "  CI(3, 3, 7) => 0\n",
       "  CI(2, 3, 7) => 0\n",
       "  CI(1, 3, 7) => 0\n",
       "  CI(0, 3, 7) => 0\n",
       "  CI(4, 2, 7) => 0\n",
       "  CI(3, 2, 7) => 0\n",
       "  CI(2, 2, 7) => 0\n",
       "  CI(1, 2, 7) => 0\n",
       "  CI(0, 2, 7) => 0\n",
       "  CI(4, 1, 7) => 0\n",
       "  CI(3, 1, 7) => 0\n",
       "  CI(2, 1, 7) => 0\n",
       "  CI(1, 1, 7) => 0\n",
       "  CI(0, 1, 7) => 0\n",
       "  CI(4, 0, 7) => 0\n",
       "  CI(3, 0, 7) => 0\n",
       "  CI(2, 0, 7) => 0\n",
       "  CI(1, 0, 7) => 0\n",
       "  ⋮           => ⋮"
      ]
     },
     "execution_count": 11,
     "metadata": {},
     "output_type": "execute_result"
    }
   ],
   "source": [
    "queue_state_boundary(INIT_STATE)"
   ]
  },
  {
   "cell_type": "code",
   "execution_count": 12,
   "metadata": {},
   "outputs": [
    {
     "data": {
      "text/plain": [
       "PriorityQueue{CartesianIndex{3}, Int64, Base.Order.ForwardOrdering} with 146 entries:\n",
       "  CI(0, 0, 0) => 0\n",
       "  CI(4, 4, 7) => 0\n",
       "  CI(3, 4, 7) => 0\n",
       "  CI(2, 4, 7) => 0\n",
       "  CI(1, 4, 7) => 0\n",
       "  CI(0, 4, 7) => 0\n",
       "  CI(4, 3, 7) => 0\n",
       "  CI(3, 3, 7) => 0\n",
       "  CI(2, 3, 7) => 0\n",
       "  CI(1, 3, 7) => 0\n",
       "  CI(0, 3, 7) => 0\n",
       "  CI(4, 2, 7) => 0\n",
       "  CI(3, 2, 7) => 0\n",
       "  CI(2, 2, 7) => 0\n",
       "  CI(1, 2, 7) => 0\n",
       "  CI(0, 2, 7) => 0\n",
       "  CI(4, 1, 7) => 0\n",
       "  CI(3, 1, 7) => 0\n",
       "  CI(2, 1, 7) => 0\n",
       "  CI(1, 1, 7) => 0\n",
       "  CI(0, 1, 7) => 0\n",
       "  CI(4, 0, 7) => 0\n",
       "  CI(3, 0, 7) => 0\n",
       "  CI(2, 0, 7) => 0\n",
       "  CI(1, 0, 7) => 0\n",
       "  ⋮           => ⋮"
      ]
     },
     "execution_count": 12,
     "metadata": {},
     "output_type": "execute_result"
    }
   ],
   "source": [
    "queue_state_boundary(INIT_STATE)"
   ]
  },
  {
   "cell_type": "code",
   "execution_count": 13,
   "metadata": {},
   "outputs": [
    {
     "data": {
      "text/plain": [
       "5×5×8 OffsetArray(::Array{Int64, 3}, 0:4, 0:4, 0:7) with eltype Int64 with indices 0:4×0:4×0:7:\n",
       "[:, :, 0] =\n",
       " 2  2  2  2  2\n",
       " 2  2  2  2  2\n",
       " 2  2  2  2  2\n",
       " 2  2  2  2  2\n",
       " 2  2  2  2  2\n",
       "\n",
       "[:, :, 1] =\n",
       " 2  2  2  2  2\n",
       " 2  2  2  2  2\n",
       " 2  2  1  2  2\n",
       " 2  2  2  2  2\n",
       " 2  2  2  2  2\n",
       "\n",
       "[:, :, 2] =\n",
       " 2  2  2  2  2\n",
       " 2  2  1  2  2\n",
       " 2  1  1  1  2\n",
       " 2  2  1  2  2\n",
       " 2  2  2  2  2\n",
       "\n",
       "[:, :, 3] =\n",
       " 2  2  2  2  2\n",
       " 2  2  2  2  2\n",
       " 2  2  1  2  2\n",
       " 2  2  2  2  2\n",
       " 2  2  2  2  2\n",
       "\n",
       "[:, :, 4] =\n",
       " 2  2  2  2  2\n",
       " 2  2  2  2  2\n",
       " 2  2  1  2  2\n",
       " 2  2  2  2  2\n",
       " 2  2  2  2  2\n",
       "\n",
       "[:, :, 5] =\n",
       " 2  2  2  2  2\n",
       " 2  2  1  2  2\n",
       " 2  1  0  1  2\n",
       " 2  2  1  2  2\n",
       " 2  2  2  2  2\n",
       "\n",
       "[:, :, 6] =\n",
       " 2  2  2  2  2\n",
       " 2  2  2  2  2\n",
       " 2  2  1  2  2\n",
       " 2  2  2  2  2\n",
       " 2  2  2  2  2\n",
       "\n",
       "[:, :, 7] =\n",
       " 2  2  2  2  2\n",
       " 2  2  2  2  2\n",
       " 2  2  2  2  2\n",
       " 2  2  2  2  2\n",
       " 2  2  2  2  2"
      ]
     },
     "execution_count": 13,
     "metadata": {},
     "output_type": "execute_result"
    }
   ],
   "source": [
    "fill_water!(deepcopy(INIT_STATE))"
   ]
  },
  {
   "cell_type": "code",
   "execution_count": 14,
   "metadata": {},
   "outputs": [
    {
     "data": {
      "text/plain": [
       "24×23 OffsetArray(::Matrix{Int64}, -1:22, 0:22) with eltype Int64 with indices -1:22×0:22:\n",
       " 2  2  2  2  2  2  2  2  2  2  2  2  2  2  2  2  2  2  2  2  2  2  2\n",
       " 2  2  2  2  2  2  2  2  2  2  2  2  2  2  2  2  2  2  2  2  2  2  2\n",
       " 2  2  2  2  2  2  2  2  2  2  2  2  2  2  2  2  2  2  2  2  2  2  2\n",
       " 2  2  2  2  2  2  2  2  2  2  2  2  2  2  2  2  2  2  2  2  2  2  2\n",
       " 2  2  2  2  2  2  2  2  2  2  2  2  2  2  2  2  2  2  2  2  2  2  2\n",
       " 2  2  2  2  2  2  2  2  2  1  2  1  2  1  2  2  2  2  2  2  2  2  2\n",
       " 2  2  2  2  2  2  2  1  1  2  1  2  1  1  2  2  2  2  2  2  2  2  2\n",
       " 2  2  2  2  2  1  1  0  1  1  1  1  1  1  1  2  1  2  2  2  2  2  2\n",
       " 2  2  2  2  2  1  2  1  1  1  1  1  1  1  1  1  2  2  2  2  2  2  2\n",
       " 2  2  2  2  1  1  1  1  1  1  1  0  1  1  1  0  1  2  2  2  2  2  2\n",
       " 2  2  2  2  1  1  1  1  1  1  1  1  0  1  1  1  1  1  2  2  2  2  2\n",
       " 2  2  2  2  1  1  1  1  1  1  0  1  1  1  1  1  1  2  1  2  2  2  2\n",
       " 2  2  2  2  1  1  1  1  1  1  0  1  1  1  1  1  1  2  2  2  2  2  2\n",
       " 2  2  2  2  1  1  1  1  1  1  1  0  1  1  1  1  1  2  2  2  2  2  2\n",
       " 2  2  2  2  1  1  1  1  1  1  1  0  1  1  1  1  1  1  2  2  2  2  2\n",
       " 2  2  2  2  2  1  1  1  1  1  1  1  1  1  1  1  1  2  2  2  2  2  2\n",
       " 2  2  2  2  2  2  2  1  1  1  1  1  1  1  2  1  2  2  2  2  2  2  2\n",
       " 2  2  2  2  2  2  2  2  1  1  1  1  1  1  1  2  2  2  2  2  2  2  2\n",
       " 2  2  2  2  2  2  2  2  1  2  1  1  1  2  2  2  2  2  2  2  2  2  2\n",
       " 2  2  2  2  2  2  2  2  2  2  2  2  2  2  2  2  2  2  2  2  2  2  2\n",
       " 2  2  2  2  2  2  2  2  2  2  2  2  2  2  2  2  2  2  2  2  2  2  2\n",
       " 2  2  2  2  2  2  2  2  2  2  2  2  2  2  2  2  2  2  2  2  2  2  2\n",
       " 2  2  2  2  2  2  2  2  2  2  2  2  2  2  2  2  2  2  2  2  2  2  2\n",
       " 2  2  2  2  2  2  2  2  2  2  2  2  2  2  2  2  2  2  2  2  2  2  2"
      ]
     },
     "execution_count": 14,
     "metadata": {},
     "output_type": "execute_result"
    }
   ],
   "source": [
    "INIT_STATE = init_state(PDI)[:, :, 3]"
   ]
  },
  {
   "cell_type": "code",
   "execution_count": 15,
   "metadata": {},
   "outputs": [
    {
     "data": {
      "text/plain": [
       "58"
      ]
     },
     "execution_count": 15,
     "metadata": {},
     "output_type": "execute_result"
    }
   ],
   "source": [
    "result2(PDS1)"
   ]
  },
  {
   "cell_type": "markdown",
   "metadata": {},
   "source": [
    "### answer"
   ]
  },
  {
   "cell_type": "code",
   "execution_count": 16,
   "metadata": {},
   "outputs": [
    {
     "name": "stdout",
     "output_type": "stream",
     "text": [
      "  0.135288 seconds (840.24 k allocations: 44.403 MiB, 64.49% compilation time)\n"
     ]
    },
    {
     "name": "stderr",
     "output_type": "stream",
     "text": [
      "\u001b[36m\u001b[1m┌ \u001b[22m\u001b[39m\u001b[36m\u001b[1mInfo: \u001b[22m\u001b[39mpart 2 answer\n",
      "\u001b[36m\u001b[1m│ \u001b[22m\u001b[39m  result2(PDS1) = 58\n",
      "\u001b[36m\u001b[1m└ \u001b[22m\u001b[39m  result2(PDI) = 2510\n"
     ]
    }
   ],
   "source": [
    "@time @info(\n",
    "    \"part 2 answer\",\n",
    "    result2(PDS1),\n",
    "    result2(PDI),\n",
    ")"
   ]
  }
 ],
 "metadata": {
  "@webio": {
   "lastCommId": null,
   "lastKernelId": null
  },
  "kernelspec": {
   "display_name": "Julia 1.8.2",
   "language": "julia",
   "name": "julia-1.8"
  },
  "language_info": {
   "file_extension": ".jl",
   "mimetype": "application/julia",
   "name": "julia",
   "version": "1.8.2"
  },
  "latex_envs": {
   "LaTeX_envs_menu_present": true,
   "autoclose": false,
   "autocomplete": true,
   "bibliofile": "biblio.bib",
   "cite_by": "apalike",
   "current_citInitial": 1,
   "eqLabelWithNumbers": true,
   "eqNumInitial": 1,
   "hotkeys": {
    "equation": "Ctrl-E",
    "itemize": "Ctrl-I"
   },
   "labels_anchors": false,
   "latex_user_defs": false,
   "report_style_numbering": false,
   "user_envs_cfg": false
  },
  "toc": {
   "base_numbering": 1,
   "nav_menu": {},
   "number_sections": true,
   "sideBar": true,
   "skip_h1_title": true,
   "title_cell": "Table of Contents",
   "title_sidebar": "Contents",
   "toc_cell": true,
   "toc_position": {},
   "toc_section_display": true,
   "toc_window_display": false
  }
 },
 "nbformat": 4,
 "nbformat_minor": 4
}
