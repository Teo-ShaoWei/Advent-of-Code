{
 "cells": [
  {
   "cell_type": "markdown",
   "metadata": {},
   "source": [
    "# Advent of Code 2021 Day 18\n",
    "[link](https://adventofcode.com/2021/day/18)"
   ]
  },
  {
   "cell_type": "markdown",
   "metadata": {
    "toc": true
   },
   "source": [
    "<h1>Table of Contents<span class=\"tocSkip\"></span></h1>\n",
    "<div class=\"toc\"><ul class=\"toc-item\"><li><span><a href=\"#include-code-file-using-Revise\" data-toc-modified-id=\"include-code-file-using-Revise-1\"><span class=\"toc-item-num\">1&nbsp;&nbsp;</span>include code file using Revise</a></span></li><li><span><a href=\"#read-input\" data-toc-modified-id=\"read-input-2\"><span class=\"toc-item-num\">2&nbsp;&nbsp;</span>read input</a></span></li><li><span><a href=\"#part-1\" data-toc-modified-id=\"part-1-3\"><span class=\"toc-item-num\">3&nbsp;&nbsp;</span>part 1</a></span><ul class=\"toc-item\"><li><span><a href=\"#answer\" data-toc-modified-id=\"answer-3.1\"><span class=\"toc-item-num\">3.1&nbsp;&nbsp;</span>answer</a></span></li></ul></li><li><span><a href=\"#part-2\" data-toc-modified-id=\"part-2-4\"><span class=\"toc-item-num\">4&nbsp;&nbsp;</span>part 2</a></span><ul class=\"toc-item\"><li><span><a href=\"#answer\" data-toc-modified-id=\"answer-4.1\"><span class=\"toc-item-num\">4.1&nbsp;&nbsp;</span>answer</a></span></li></ul></li></ul></div>"
   ]
  },
  {
   "cell_type": "markdown",
   "metadata": {},
   "source": [
    "## include code file using Revise"
   ]
  },
  {
   "cell_type": "code",
   "execution_count": 1,
   "metadata": {
    "ExecuteTime": {
     "end_time": "2021-12-20T00:05:15.216000+08:00",
     "start_time": "2021-12-19T16:05:14.119Z"
    }
   },
   "outputs": [],
   "source": [
    "using Revise"
   ]
  },
  {
   "cell_type": "code",
   "execution_count": 2,
   "metadata": {
    "ExecuteTime": {
     "end_time": "2021-12-20T00:05:20.645000+08:00",
     "start_time": "2021-12-19T16:05:14.120Z"
    },
    "scrolled": true
   },
   "outputs": [],
   "source": [
    "includet(\"functions.jl\")"
   ]
  },
  {
   "cell_type": "markdown",
   "metadata": {},
   "source": [
    "## read input"
   ]
  },
  {
   "cell_type": "code",
   "execution_count": 3,
   "metadata": {
    "ExecuteTime": {
     "end_time": "2021-12-20T00:05:22.029000+08:00",
     "start_time": "2021-12-19T16:05:14.200Z"
    },
    "scrolled": true
   },
   "outputs": [
    {
     "data": {
      "text/plain": [
       "10-element Vector{Vector{Union{Int64, Vector}}}:\n",
       " [[[0, [4, 5]], [0, 0]], [[[4, 5], [2, 6]], [9, 5]]]\n",
       " [7, [[[3, 7], [4, 3]], [[6, 3], [8, 8]]]]\n",
       " [[2, [[0, 8], [3, 4]]], [[[6, 7], 1], [7, [1, 6]]]]\n",
       " [[[[2, 4], 7], [6, [0, 5]]], [[[6, 8], [2, 8]], [[2, 1], [4, 5]]]]\n",
       " [7, [5, [[3, 8], [1, 4]]]]\n",
       " [[2, [2, 2]], [8, [8, 1]]]\n",
       " [2, 9]\n",
       " [1, [[[9, 3], 9], [[9, 0], [0, 7]]]]\n",
       " [[[5, [7, 4]], 7], 1]\n",
       " [[[[4, 2], 2], 6], [8, 7]]"
      ]
     },
     "execution_count": 3,
     "metadata": {},
     "output_type": "execute_result"
    }
   ],
   "source": [
    "PDS1 = parse_input(\"sample1.txt\")"
   ]
  },
  {
   "cell_type": "code",
   "execution_count": 4,
   "metadata": {
    "ExecuteTime": {
     "end_time": "2021-12-20T00:05:22.054000+08:00",
     "start_time": "2021-12-19T16:05:14.201Z"
    },
    "scrolled": true
   },
   "outputs": [
    {
     "data": {
      "text/plain": [
       "10-element Vector{Vector{Union{Int64, Vector}}}:\n",
       " [[[0, [5, 8]], [[1, 7], [9, 6]]], [[4, [1, 2]], [[1, 4], 2]]]\n",
       " [[[5, [2, 8]], 4], [5, [[9, 9], 0]]]\n",
       " [6, [[[6, 2], [5, 6]], [[7, 6], [4, 7]]]]\n",
       " [[[6, [0, 7]], [0, 9]], [4, [9, [9, 0]]]]\n",
       " [[[7, [6, 4]], [3, [1, 3]]], [[[5, 5], 1], 9]]\n",
       " [[6, [[7, 3], [3, 2]]], [[[3, 8], [5, 7]], 4]]\n",
       " [[[[5, 4], [7, 7]], 8], [[8, 3], 8]]\n",
       " [[9, 3], [[9, 9], [6, [4, 9]]]]\n",
       " [[2, [[7, 7], 7]], [[5, 8], [[9, 3], [0, 2]]]]\n",
       " [[[[5, 2], 5], [8, [3, 7]]], [[5, [7, 5]], [4, 4]]]"
      ]
     },
     "execution_count": 4,
     "metadata": {},
     "output_type": "execute_result"
    }
   ],
   "source": [
    "PDS2 = parse_input(\"sample2.txt\")"
   ]
  },
  {
   "cell_type": "code",
   "execution_count": 5,
   "metadata": {
    "ExecuteTime": {
     "end_time": "2021-12-20T00:05:22.145000+08:00",
     "start_time": "2021-12-19T16:05:14.205Z"
    },
    "scrolled": true
   },
   "outputs": [
    {
     "data": {
      "text/plain": [
       "100-element Vector{Vector{Union{Int64, Vector}}}:\n",
       " [[[0, [4, 4]], 6], [[[7, 6], 6], [[5, 3], [3, 2]]]]\n",
       " [[[[4, 6], [1, 7]], [5, 8]], [[9, 7], [9, 6]]]\n",
       " [[[2, [7, 1]], [[8, 2], [9, 3]]], 3]\n",
       " [[[[2, 1], 6], 2], 4]\n",
       " [[[[0, 3], 0], 6], [[9, [0, 8]], [[2, 1], [0, 2]]]]\n",
       " [[[5, 1], [[0, 5], 1]], [[[9, 9], [8, 7]], 7]]\n",
       " [[[[0, 2], 8], 8], [0, [7, [2, 7]]]]\n",
       " [[[[3, 8], [6, 4]], [[2, 0], 2]], 3]\n",
       " [[[[1, 5], 3], [[5, 3], [5, 4]]], [[0, 1], [[1, 2], 8]]]\n",
       " [[[1, 1], [[9, 3], 9]], [[9, [6, 5]], [2, 6]]]\n",
       " [[[9, 3], [6, [1, 5]]], [[3, 8], [[4, 6], [8, 0]]]]\n",
       " [[3, [6, 7]], [[3, 0], [5, [3, 4]]]]\n",
       " [1, [2, [[4, 1], [2, 3]]]]\n",
       " ⋮\n",
       " [[[8, [8, 4]], [2, [4, 3]]], [[2, [5, 6]], [[2, 0], [7, 3]]]]\n",
       " [[4, [[4, 3], [5, 2]]], [1, 3]]\n",
       " [[5, [5, 0]], 9]\n",
       " [[[2, [7, 6]], [1, 8]], [[[5, 2], 2], 0]]\n",
       " [[2, [2, 3]], [[9, 8], [[0, 1], [3, 5]]]]\n",
       " [[7, [[3, 7], 3]], [[[7, 6], [4, 8]], [[1, 7], [8, 6]]]]\n",
       " [[[0, 0], [[6, 1], 5]], [5, [5, 4]]]\n",
       " [[2, 3], [4, [3, 5]]]\n",
       " [[8, [7, 7]], [8, [4, [8, 1]]]]\n",
       " [[[[4, 0], 3], [[0, 0], [0, 0]]], [[[6, 0], 4], [[1, 7], 0]]]\n",
       " [[[[6, 4], [3, 1]], [[2, 8], [1, 2]]], [4, [[6, 5], 4]]]\n",
       " [[[[5, 3], 7], [4, [2, 6]]], [[6, [4, 5]], [1, [9, 0]]]]"
      ]
     },
     "execution_count": 5,
     "metadata": {},
     "output_type": "execute_result"
    }
   ],
   "source": [
    "PDI = parse_input(\"input.txt\")"
   ]
  },
  {
   "cell_type": "markdown",
   "metadata": {},
   "source": [
    "## part 1"
   ]
  },
  {
   "cell_type": "code",
   "execution_count": 6,
   "metadata": {
    "ExecuteTime": {
     "end_time": "2021-12-20T00:05:22.346000+08:00",
     "start_time": "2021-12-19T16:05:14.268Z"
    }
   },
   "outputs": [
    {
     "data": {
      "text/plain": [
       "[[[9, [3, 8]], [[0, 9], 6]], [[[3, 7], [4, 9]], 3]]"
      ]
     },
     "execution_count": 6,
     "metadata": {},
     "output_type": "execute_result"
    }
   ],
   "source": [
    "ex\"[[[9,[3,8]],[[0,9],6]],[[[3,7],[4,9]],3]]\""
   ]
  },
  {
   "cell_type": "code",
   "execution_count": 7,
   "metadata": {
    "ExecuteTime": {
     "end_time": "2021-12-20T00:05:23.350000+08:00",
     "start_time": "2021-12-19T16:05:14.269Z"
    }
   },
   "outputs": [
    {
     "data": {
      "text/plain": [
       "11-element Vector{Pair{Vector{Int64}, Int64}}:\n",
       "    [1, 1, 1] => 9\n",
       " [1, 1, 2, 1] => 3\n",
       " [1, 1, 2, 2] => 8\n",
       " [1, 2, 1, 1] => 0\n",
       " [1, 2, 1, 2] => 9\n",
       "    [1, 2, 2] => 6\n",
       " [2, 1, 1, 1] => 3\n",
       " [2, 1, 1, 2] => 7\n",
       " [2, 1, 2, 1] => 4\n",
       " [2, 1, 2, 2] => 9\n",
       "       [2, 2] => 3"
      ]
     },
     "execution_count": 7,
     "metadata": {},
     "output_type": "execute_result"
    }
   ],
   "source": [
    "ni\"[[[9,[3,8]],[[0,9],6]],[[[3,7],[4,9]],3]]\""
   ]
  },
  {
   "cell_type": "code",
   "execution_count": 8,
   "metadata": {
    "ExecuteTime": {
     "end_time": "2021-12-20T00:05:23.467000+08:00",
     "start_time": "2021-12-19T16:05:14.271Z"
    }
   },
   "outputs": [
    {
     "data": {
      "text/plain": [
       "[[[9, [3, 8]], [[0, 9], 6]], [[[3, 7], [4, 9]], 3]]"
      ]
     },
     "execution_count": 8,
     "metadata": {},
     "output_type": "execute_result"
    }
   ],
   "source": [
    "to_nested_vector_form(ni\"[[[9,[3,8]],[[0,9],6]],[[[3,7],[4,9]],3]]\")"
   ]
  },
  {
   "cell_type": "code",
   "execution_count": 9,
   "metadata": {
    "ExecuteTime": {
     "end_time": "2021-12-20T00:05:23.492000+08:00",
     "start_time": "2021-12-19T16:05:14.272Z"
    }
   },
   "outputs": [
    {
     "data": {
      "text/plain": [
       "11-element Vector{Pair{Vector{Int64}, Int64}}:\n",
       "    [1, 1, 1] => 9\n",
       " [1, 1, 2, 1] => 3\n",
       " [1, 1, 2, 2] => 12\n",
       " [1, 2, 1, 1] => 0\n",
       " [1, 2, 1, 2] => 9\n",
       "    [1, 2, 2] => 6\n",
       " [2, 1, 1, 1] => 3\n",
       " [2, 1, 1, 2] => 7\n",
       " [2, 1, 2, 1] => 4\n",
       " [2, 1, 2, 2] => 9\n",
       "       [2, 2] => 3"
      ]
     },
     "execution_count": 9,
     "metadata": {},
     "output_type": "execute_result"
    }
   ],
   "source": [
    "add_value!(ni\"[[[9,[3,8]],[[0,9],6]],[[[3,7],[4,9]],3]]\", 3, 4)"
   ]
  },
  {
   "cell_type": "code",
   "execution_count": 10,
   "metadata": {
    "ExecuteTime": {
     "end_time": "2021-12-20T00:05:23.823000+08:00",
     "start_time": "2021-12-19T16:05:14.274Z"
    }
   },
   "outputs": [
    {
     "data": {
      "text/plain": [
       "3-element Vector{Int64}:\n",
       " 2\n",
       " 1\n",
       " 2"
      ]
     },
     "execution_count": 10,
     "metadata": {},
     "output_type": "execute_result"
    }
   ],
   "source": [
    "get_parent([2, 1, 2, 2])"
   ]
  },
  {
   "cell_type": "code",
   "execution_count": 11,
   "metadata": {
    "ExecuteTime": {
     "end_time": "2021-12-20T00:05:24.338000+08:00",
     "start_time": "2021-12-19T16:05:14.275Z"
    }
   },
   "outputs": [
    {
     "data": {
      "text/plain": [
       "4-element Vector{Any}:\n",
       " 2\n",
       " 4\n",
       " 7\n",
       " 9"
      ]
     },
     "execution_count": 11,
     "metadata": {},
     "output_type": "execute_result"
    }
   ],
   "source": [
    "get_leaf_pair_inds(ni\"[[[9,[3,8]],[[0,9],6]],[[[3,7],[4,9]],3]]\")"
   ]
  },
  {
   "cell_type": "code",
   "execution_count": 12,
   "metadata": {
    "ExecuteTime": {
     "end_time": "2021-12-20T00:05:24.439000+08:00",
     "start_time": "2021-12-19T16:05:14.278Z"
    }
   },
   "outputs": [
    {
     "data": {
      "text/plain": [
       "[[[[0, 9], 2], 3], 4]"
      ]
     },
     "execution_count": 12,
     "metadata": {},
     "output_type": "execute_result"
    }
   ],
   "source": [
    "@chain ni\"[[[[[9,8],1],2],3],4]\" begin\n",
    "    explode!\n",
    "    _[2]\n",
    "    to_nested_vector_form\n",
    "end"
   ]
  },
  {
   "cell_type": "code",
   "execution_count": 13,
   "metadata": {
    "ExecuteTime": {
     "end_time": "2021-12-20T00:05:24.452000+08:00",
     "start_time": "2021-12-19T16:05:14.280Z"
    }
   },
   "outputs": [
    {
     "data": {
      "text/plain": [
       "[7, [6, [5, [7, 0]]]]"
      ]
     },
     "execution_count": 13,
     "metadata": {},
     "output_type": "execute_result"
    }
   ],
   "source": [
    "@chain ni\"[7,[6,[5,[4,[3,2]]]]]\" begin\n",
    "    explode!\n",
    "    _[2]\n",
    "    to_nested_vector_form\n",
    "end"
   ]
  },
  {
   "cell_type": "code",
   "execution_count": 14,
   "metadata": {
    "ExecuteTime": {
     "end_time": "2021-12-20T00:05:24.465000+08:00",
     "start_time": "2021-12-19T16:05:14.281Z"
    }
   },
   "outputs": [
    {
     "data": {
      "text/plain": [
       "[[6, [5, [7, 0]]], 3]"
      ]
     },
     "execution_count": 14,
     "metadata": {},
     "output_type": "execute_result"
    }
   ],
   "source": [
    "@chain ni\"[[6,[5,[4,[3,2]]]],1]\" begin\n",
    "    explode!\n",
    "    _[2]\n",
    "    to_nested_vector_form\n",
    "end"
   ]
  },
  {
   "cell_type": "code",
   "execution_count": 15,
   "metadata": {
    "ExecuteTime": {
     "end_time": "2021-12-20T00:05:24.478000+08:00",
     "start_time": "2021-12-19T16:05:14.283Z"
    }
   },
   "outputs": [
    {
     "data": {
      "text/plain": [
       "[[3, [2, [8, 0]]], [9, [5, [4, [3, 2]]]]]"
      ]
     },
     "execution_count": 15,
     "metadata": {},
     "output_type": "execute_result"
    }
   ],
   "source": [
    "@chain ni\"[[3,[2,[1,[7,3]]]],[6,[5,[4,[3,2]]]]]\" begin\n",
    "    explode!\n",
    "    _[2]\n",
    "    to_nested_vector_form\n",
    "end"
   ]
  },
  {
   "cell_type": "code",
   "execution_count": 16,
   "metadata": {
    "ExecuteTime": {
     "end_time": "2021-12-20T00:05:24.493000+08:00",
     "start_time": "2021-12-19T16:05:14.284Z"
    }
   },
   "outputs": [
    {
     "data": {
      "text/plain": [
       "[[3, [2, [8, 0]]], [9, [5, [7, 0]]]]"
      ]
     },
     "execution_count": 16,
     "metadata": {},
     "output_type": "execute_result"
    }
   ],
   "source": [
    "@chain ni\"[[3,[2,[8,0]]],[9,[5,[4,[3,2]]]]]\" begin\n",
    "    explode!\n",
    "    _[2]\n",
    "    to_nested_vector_form\n",
    "end"
   ]
  },
  {
   "cell_type": "code",
   "execution_count": 17,
   "metadata": {
    "ExecuteTime": {
     "end_time": "2021-12-20T00:05:24.534000+08:00",
     "start_time": "2021-12-19T16:05:14.286Z"
    },
    "scrolled": true
   },
   "outputs": [
    {
     "data": {
      "text/plain": [
       "[[5, 6], 4]"
      ]
     },
     "execution_count": 17,
     "metadata": {},
     "output_type": "execute_result"
    }
   ],
   "source": [
    "@chain ni\"[11, 4]\" begin\n",
    "    split!\n",
    "    _[2]\n",
    "    to_nested_vector_form\n",
    "end"
   ]
  },
  {
   "cell_type": "code",
   "execution_count": 18,
   "metadata": {
    "ExecuteTime": {
     "end_time": "2021-12-20T00:05:24.548000+08:00",
     "start_time": "2021-12-19T16:05:14.288Z"
    },
    "scrolled": true
   },
   "outputs": [
    {
     "data": {
      "text/plain": [
       "[[3, 6], [6, 7]]"
      ]
     },
     "execution_count": 18,
     "metadata": {},
     "output_type": "execute_result"
    }
   ],
   "source": [
    "@chain ni\"[[3, 6], 13]\" begin\n",
    "    split!\n",
    "    _[2]\n",
    "    to_nested_vector_form\n",
    "end"
   ]
  },
  {
   "cell_type": "code",
   "execution_count": 19,
   "metadata": {
    "ExecuteTime": {
     "end_time": "2021-12-20T00:05:24.939000+08:00",
     "start_time": "2021-12-19T16:05:14.289Z"
    }
   },
   "outputs": [
    {
     "data": {
      "text/plain": [
       "[[[[0, 7], 4], [7, [[8, 4], 9]]], [1, 1]]"
      ]
     },
     "metadata": {},
     "output_type": "display_data"
    },
    {
     "data": {
      "text/plain": [
       "[[[[0, 7], 4], [15, [0, 13]]], [1, 1]]"
      ]
     },
     "metadata": {},
     "output_type": "display_data"
    },
    {
     "data": {
      "text/plain": [
       "[[[[0, 7], 4], [[7, 8], [0, 13]]], [1, 1]]"
      ]
     },
     "metadata": {},
     "output_type": "display_data"
    },
    {
     "data": {
      "text/plain": [
       "[[[[0, 7], 4], [[7, 8], [0, [6, 7]]]], [1, 1]]"
      ]
     },
     "metadata": {},
     "output_type": "display_data"
    },
    {
     "data": {
      "text/plain": [
       "[[[[0, 7], 4], [[7, 8], [6, 0]]], [8, 1]]"
      ]
     },
     "metadata": {},
     "output_type": "display_data"
    }
   ],
   "source": [
    "@chain ni\"[[[[[4,3],4],4],[7,[[8,4],9]]],[1,1]]\" begin\n",
    "    next_reduce!\n",
    "    _[2]\n",
    "    @aside _ |> to_nested_vector_form |> display\n",
    "    next_reduce!\n",
    "    _[2]\n",
    "    @aside _ |> to_nested_vector_form |> display\n",
    "    next_reduce!\n",
    "    _[2]\n",
    "    @aside _ |> to_nested_vector_form |> display\n",
    "    next_reduce!\n",
    "    _[2]\n",
    "    @aside _ |> to_nested_vector_form |> display\n",
    "    next_reduce!\n",
    "    _[2]\n",
    "    @aside _ |> to_nested_vector_form |> display\n",
    "end;"
   ]
  },
  {
   "cell_type": "code",
   "execution_count": 20,
   "metadata": {
    "ExecuteTime": {
     "end_time": "2021-12-20T00:05:24.960000+08:00",
     "start_time": "2021-12-19T16:05:14.291Z"
    }
   },
   "outputs": [
    {
     "data": {
      "text/plain": [
       "[[[[0, 7], 4], [[7, 8], [6, 0]]], [8, 1]]"
      ]
     },
     "execution_count": 20,
     "metadata": {},
     "output_type": "execute_result"
    }
   ],
   "source": [
    "@chain ni\"[[[[[4,3],4],4],[7,[[8,4],9]]],[1,1]]\" begin\n",
    "    reduce!\n",
    "    to_nested_vector_form\n",
    "end"
   ]
  },
  {
   "cell_type": "code",
   "execution_count": 21,
   "metadata": {
    "ExecuteTime": {
     "end_time": "2021-12-20T00:05:25.074000+08:00",
     "start_time": "2021-12-19T16:05:14.292Z"
    }
   },
   "outputs": [
    {
     "data": {
      "text/plain": [
       "[[[[0, 7], 4], [[7, 8], [6, 0]]], [8, 1]]"
      ]
     },
     "execution_count": 21,
     "metadata": {},
     "output_type": "execute_result"
    }
   ],
   "source": [
    "add(\n",
    "    ni\"[[[[4,3],4],4],[7,[[8,4],9]]]\",\n",
    "    ni\"[1,1]\",\n",
    ") |> to_nested_vector_form"
   ]
  },
  {
   "cell_type": "code",
   "execution_count": 22,
   "metadata": {
    "ExecuteTime": {
     "end_time": "2021-12-20T00:05:25.088000+08:00",
     "start_time": "2021-12-19T16:05:14.294Z"
    }
   },
   "outputs": [
    {
     "data": {
      "text/plain": [
       "[[[[4, 0], [5, 4]], [[7, 7], [6, 0]]], [[8, [7, 7]], [[7, 9], [5, 0]]]]"
      ]
     },
     "execution_count": 22,
     "metadata": {},
     "output_type": "execute_result"
    }
   ],
   "source": [
    "add(\n",
    "    ni\"[[[0,[4,5]],[0,0]],[[[4,5],[2,6]],[9,5]]]\",\n",
    "    ni\"[7,[[[3,7],[4,3]],[[6,3],[8,8]]]]\",\n",
    ") |> to_nested_vector_form"
   ]
  },
  {
   "cell_type": "code",
   "execution_count": 23,
   "metadata": {
    "ExecuteTime": {
     "end_time": "2021-12-20T00:05:25.171000+08:00",
     "start_time": "2021-12-19T16:05:14.295Z"
    }
   },
   "outputs": [
    {
     "data": {
      "text/plain": [
       "[[[[8, 7], [7, 7]], [[8, 6], [7, 7]]], [[[0, 7], [6, 6]], [8, 7]]]"
      ]
     },
     "execution_count": 23,
     "metadata": {},
     "output_type": "execute_result"
    }
   ],
   "source": [
    "@chain PDS1 begin\n",
    "    @. to_nested_indices_form\n",
    "    add_all\n",
    "    to_nested_vector_form\n",
    "end"
   ]
  },
  {
   "cell_type": "code",
   "execution_count": 24,
   "metadata": {
    "ExecuteTime": {
     "end_time": "2021-12-20T00:05:25.380000+08:00",
     "start_time": "2021-12-19T16:05:14.296Z"
    }
   },
   "outputs": [
    {
     "data": {
      "text/plain": [
       "180"
      ]
     },
     "execution_count": 24,
     "metadata": {},
     "output_type": "execute_result"
    }
   ],
   "source": [
    "get_magnitude([1, 2, 2, 1], 5)"
   ]
  },
  {
   "cell_type": "code",
   "execution_count": 25,
   "metadata": {
    "ExecuteTime": {
     "end_time": "2021-12-20T00:05:25.428000+08:00",
     "start_time": "2021-12-19T16:05:14.298Z"
    }
   },
   "outputs": [
    {
     "data": {
      "text/plain": [
       "29"
      ]
     },
     "execution_count": 25,
     "metadata": {},
     "output_type": "execute_result"
    }
   ],
   "source": [
    "get_magnitude(ni\"[9,1]\")"
   ]
  },
  {
   "cell_type": "code",
   "execution_count": 26,
   "metadata": {
    "ExecuteTime": {
     "end_time": "2021-12-20T00:05:25.441000+08:00",
     "start_time": "2021-12-19T16:05:14.299Z"
    }
   },
   "outputs": [
    {
     "data": {
      "text/plain": [
       "21"
      ]
     },
     "execution_count": 26,
     "metadata": {},
     "output_type": "execute_result"
    }
   ],
   "source": [
    "get_magnitude(ni\"[1,9]\")"
   ]
  },
  {
   "cell_type": "code",
   "execution_count": 27,
   "metadata": {
    "ExecuteTime": {
     "end_time": "2021-12-20T00:05:25.455000+08:00",
     "start_time": "2021-12-19T16:05:14.301Z"
    }
   },
   "outputs": [
    {
     "data": {
      "text/plain": [
       "129"
      ]
     },
     "execution_count": 27,
     "metadata": {},
     "output_type": "execute_result"
    }
   ],
   "source": [
    "get_magnitude(ni\"[[9,1],[1,9]]\")"
   ]
  },
  {
   "cell_type": "code",
   "execution_count": 28,
   "metadata": {
    "ExecuteTime": {
     "end_time": "2021-12-20T00:05:25.469000+08:00",
     "start_time": "2021-12-19T16:05:14.302Z"
    }
   },
   "outputs": [
    {
     "data": {
      "text/plain": [
       "3488"
      ]
     },
     "execution_count": 28,
     "metadata": {},
     "output_type": "execute_result"
    }
   ],
   "source": [
    "get_magnitude(ni\"[[[[8,7],[7,7]],[[8,6],[7,7]]],[[[0,7],[6,6]],[8,7]]]\")"
   ]
  },
  {
   "cell_type": "code",
   "execution_count": 29,
   "metadata": {
    "ExecuteTime": {
     "end_time": "2021-12-20T00:05:25.484000+08:00",
     "start_time": "2021-12-19T16:05:14.304Z"
    }
   },
   "outputs": [
    {
     "data": {
      "text/plain": [
       "4140"
      ]
     },
     "execution_count": 29,
     "metadata": {},
     "output_type": "execute_result"
    }
   ],
   "source": [
    "get_magnitude(ni\"[[[[6,6],[7,6]],[[7,7],[7,0]]],[[[7,7],[7,7]],[[7,8],[9,9]]]]\")"
   ]
  },
  {
   "cell_type": "markdown",
   "metadata": {},
   "source": [
    "### answer"
   ]
  },
  {
   "cell_type": "code",
   "execution_count": 30,
   "metadata": {
    "ExecuteTime": {
     "end_time": "2021-12-20T00:05:25.766000+08:00",
     "start_time": "2021-12-19T16:05:14.377Z"
    }
   },
   "outputs": [
    {
     "name": "stdout",
     "output_type": "stream",
     "text": [
      "  0.192930 seconds (1.23 M allocations: 64.688 MiB, 8.00% gc time, 58.58% compilation time)\n"
     ]
    },
    {
     "name": "stderr",
     "output_type": "stream",
     "text": [
      "┌ Info: part 1 answer\n",
      "│   result1(PDS1) = 3488\n",
      "│   result1(PDS2) = 4140\n",
      "│   result1(PDI) = 4202\n",
      "└ @ Main In[30]:1\n"
     ]
    }
   ],
   "source": [
    "@time @info(\n",
    "    \"part 1 answer\",\n",
    "    result1(PDS1),\n",
    "    result1(PDS2),\n",
    "    result1(PDI),\n",
    ")"
   ]
  },
  {
   "cell_type": "markdown",
   "metadata": {},
   "source": [
    "## part 2"
   ]
  },
  {
   "cell_type": "markdown",
   "metadata": {},
   "source": [
    "### answer"
   ]
  },
  {
   "cell_type": "code",
   "execution_count": 31,
   "metadata": {
    "ExecuteTime": {
     "end_time": "2021-12-20T00:05:27.035000+08:00",
     "start_time": "2021-12-19T16:05:14.515Z"
    }
   },
   "outputs": [
    {
     "name": "stdout",
     "output_type": "stream",
     "text": [
      "  1.219571 seconds (13.41 M allocations: 705.715 MiB, 8.30% gc time, 8.51% compilation time)\n"
     ]
    },
    {
     "name": "stderr",
     "output_type": "stream",
     "text": [
      "┌ Info: part 2 answer\n",
      "│   result2(PDS1) = 3805\n",
      "│   result2(PDS2) = 3993\n",
      "│   result2(PDI) = 4779\n",
      "└ @ Main In[31]:1\n"
     ]
    }
   ],
   "source": [
    "@time @info(\n",
    "    \"part 2 answer\",\n",
    "    result2(PDS1),\n",
    "    result2(PDS2),\n",
    "    result2(PDI),\n",
    "    )"
   ]
  }
 ],
 "metadata": {
  "@webio": {
   "lastCommId": null,
   "lastKernelId": null
  },
  "kernelspec": {
   "display_name": "Julia 1.7.0",
   "language": "julia",
   "name": "julia-1.7"
  },
  "language_info": {
   "file_extension": ".jl",
   "mimetype": "application/julia",
   "name": "julia",
   "version": "1.7.0"
  },
  "latex_envs": {
   "LaTeX_envs_menu_present": true,
   "autoclose": false,
   "autocomplete": true,
   "bibliofile": "biblio.bib",
   "cite_by": "apalike",
   "current_citInitial": 1,
   "eqLabelWithNumbers": true,
   "eqNumInitial": 1,
   "hotkeys": {
    "equation": "Ctrl-E",
    "itemize": "Ctrl-I"
   },
   "labels_anchors": false,
   "latex_user_defs": false,
   "report_style_numbering": false,
   "user_envs_cfg": false
  },
  "toc": {
   "base_numbering": 1,
   "nav_menu": {},
   "number_sections": true,
   "sideBar": true,
   "skip_h1_title": true,
   "title_cell": "Table of Contents",
   "title_sidebar": "Contents",
   "toc_cell": true,
   "toc_position": {},
   "toc_section_display": true,
   "toc_window_display": false
  }
 },
 "nbformat": 4,
 "nbformat_minor": 4
}
