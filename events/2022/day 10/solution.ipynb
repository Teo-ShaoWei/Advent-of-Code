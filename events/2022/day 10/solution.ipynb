{
 "cells": [
  {
   "cell_type": "markdown",
   "metadata": {},
   "source": [
    "# Advent of Code 2022 Day 10\n",
    "[link](https://adventofcode.com/2022/day/10)"
   ]
  },
  {
   "cell_type": "markdown",
   "metadata": {},
   "source": [
    "## include code file using Revise"
   ]
  },
  {
   "cell_type": "code",
   "execution_count": 1,
   "metadata": {},
   "outputs": [],
   "source": [
    "using Revise"
   ]
  },
  {
   "cell_type": "code",
   "execution_count": 2,
   "metadata": {
    "scrolled": true
   },
   "outputs": [],
   "source": [
    "includet(\"functions.jl\")"
   ]
  },
  {
   "cell_type": "markdown",
   "metadata": {},
   "source": [
    "## set logger"
   ]
  },
  {
   "cell_type": "code",
   "execution_count": 3,
   "metadata": {},
   "outputs": [
    {
     "data": {
      "text/plain": [
       "Base.CoreLogging.SimpleLogger(IJulia.IJuliaStdio{Base.PipeEndpoint}(IOContext(Base.PipeEndpoint(RawFD(46) open, 0 bytes waiting))), Info, Dict{Any, Int64}())"
      ]
     },
     "execution_count": 3,
     "metadata": {},
     "output_type": "execute_result"
    }
   ],
   "source": [
    "import Logging\n",
    "import TerminalLoggers\n",
    "\n",
    "Logging.global_logger(TerminalLoggers.TerminalLogger())"
   ]
  },
  {
   "cell_type": "markdown",
   "metadata": {},
   "source": [
    "## read input"
   ]
  },
  {
   "cell_type": "code",
   "execution_count": 4,
   "metadata": {
    "scrolled": true
   },
   "outputs": [
    {
     "data": {
      "text/plain": [
       "146-element Vector{Op}:\n",
       " AddX(15)\n",
       " AddX(-11)\n",
       " AddX(6)\n",
       " AddX(-3)\n",
       " AddX(5)\n",
       " AddX(-1)\n",
       " AddX(-8)\n",
       " AddX(13)\n",
       " AddX(4)\n",
       " Noop()\n",
       " AddX(-1)\n",
       " AddX(5)\n",
       " AddX(-1)\n",
       " ⋮\n",
       " AddX(-10)\n",
       " Noop()\n",
       " Noop()\n",
       " AddX(20)\n",
       " AddX(1)\n",
       " AddX(2)\n",
       " AddX(2)\n",
       " AddX(-6)\n",
       " AddX(-11)\n",
       " Noop()\n",
       " Noop()\n",
       " Noop()"
      ]
     },
     "execution_count": 4,
     "metadata": {},
     "output_type": "execute_result"
    }
   ],
   "source": [
    "PDS1 = parse_puzzle_file(\"sample1.txt\")"
   ]
  },
  {
   "cell_type": "code",
   "execution_count": 5,
   "metadata": {
    "scrolled": true
   },
   "outputs": [
    {
     "data": {
      "text/plain": [
       "136-element Vector{Op}:\n",
       " Noop()\n",
       " Noop()\n",
       " AddX(5)\n",
       " AddX(3)\n",
       " Noop()\n",
       " AddX(14)\n",
       " AddX(-12)\n",
       " Noop()\n",
       " AddX(5)\n",
       " AddX(1)\n",
       " Noop()\n",
       " AddX(19)\n",
       " AddX(-15)\n",
       " ⋮\n",
       " AddX(3)\n",
       " AddX(5)\n",
       " AddX(-1)\n",
       " AddX(5)\n",
       " Noop()\n",
       " Noop()\n",
       " Noop()\n",
       " Noop()\n",
       " AddX(3)\n",
       " AddX(5)\n",
       " AddX(-16)\n",
       " Noop()"
      ]
     },
     "execution_count": 5,
     "metadata": {},
     "output_type": "execute_result"
    }
   ],
   "source": [
    "PDI = parse_puzzle_file(\"input.txt\")"
   ]
  },
  {
   "cell_type": "markdown",
   "metadata": {},
   "source": [
    "## part 1"
   ]
  },
  {
   "cell_type": "code",
   "execution_count": 6,
   "metadata": {},
   "outputs": [
    {
     "data": {
      "text/plain": [
       "3-element Vector{Op}:\n",
       " Noop()\n",
       " AddX(3)\n",
       " AddX(-5)"
      ]
     },
     "execution_count": 6,
     "metadata": {},
     "output_type": "execute_result"
    }
   ],
   "source": [
    "PSE = pd\"\"\"\n",
    "noop\n",
    "addx 3\n",
    "addx -5\n",
    "\"\"\""
   ]
  },
  {
   "cell_type": "code",
   "execution_count": 7,
   "metadata": {},
   "outputs": [
    {
     "data": {
      "text/plain": [
       "6-element Vector{Int64}:\n",
       "  1\n",
       "  1\n",
       "  1\n",
       "  4\n",
       "  4\n",
       " -1"
      ]
     },
     "execution_count": 7,
     "metadata": {},
     "output_type": "execute_result"
    }
   ],
   "source": [
    "make_values(PSE)"
   ]
  },
  {
   "cell_type": "markdown",
   "metadata": {},
   "source": [
    "### answer"
   ]
  },
  {
   "cell_type": "code",
   "execution_count": 8,
   "metadata": {},
   "outputs": [
    {
     "name": "stdout",
     "output_type": "stream",
     "text": [
      "  0.362437 seconds (2.25 M allocations: 112.752 MiB, 6.79% gc time, 99.58% compilation time: 7% of which was recompilation)\n"
     ]
    },
    {
     "name": "stderr",
     "output_type": "stream",
     "text": [
      "\u001b[36m\u001b[1m┌ \u001b[22m\u001b[39m\u001b[36m\u001b[1mInfo: \u001b[22m\u001b[39mpart 1 answer\n",
      "\u001b[36m\u001b[1m│ \u001b[22m\u001b[39m  result1(PDS1) = 13140\n",
      "\u001b[36m\u001b[1m└ \u001b[22m\u001b[39m  result1(PDI) = 16880\n"
     ]
    }
   ],
   "source": [
    "@time @info(\n",
    "    \"part 1 answer\",\n",
    "    result1(PDS1),\n",
    "    result1(PDI),\n",
    ")"
   ]
  },
  {
   "cell_type": "markdown",
   "metadata": {},
   "source": [
    "## part 2"
   ]
  },
  {
   "cell_type": "markdown",
   "metadata": {},
   "source": [
    "### answer"
   ]
  },
  {
   "cell_type": "code",
   "execution_count": 9,
   "metadata": {},
   "outputs": [
    {
     "name": "stdout",
     "output_type": "stream",
     "text": [
      "size: 6 × 40\n",
      "axes: (1:6, 1:40)\n",
      "░░··░░··░░··░░··░░··░░··░░··░░··░░··░░··\n",
      "░░░···░░░···░░░···░░░···░░░···░░░···░░░·\n",
      "░░░░····░░░░····░░░░····░░░░····░░░░····\n",
      "░░░░░·····░░░░░·····░░░░░·····░░░░░·····\n",
      "░░░░░░······░░░░░░······░░░░░░······░░░░\n",
      "░░░░░░░·······░░░░░░░·······░░░░░░░·····\n",
      "\n",
      "size: 6 × 40\n",
      "axes: (1:6, 1:40)\n",
      "░░░··░··░··░░··░░░░··░░····░░·░░░··░░░··\n",
      "░··░·░·░··░··░····░·░··░····░·░··░·░··░·\n",
      "░··░·░░···░··░···░··░··░····░·░░░··░··░·\n",
      "░░░··░·░··░░░░··░···░░░░····░·░··░·░░░··\n",
      "░·░··░·░··░··░·░····░··░·░··░·░··░·░·░··\n",
      "░··░·░··░·░··░·░░░░·░··░··░░··░░░··░··░·\n",
      "\n",
      "  0.428450 seconds (2.82 M allocations: 143.558 MiB, 3.78% gc time, 99.39% compilation time)\n"
     ]
    },
    {
     "name": "stderr",
     "output_type": "stream",
     "text": [
      "\u001b[36m\u001b[1m┌ \u001b[22m\u001b[39m\u001b[36m\u001b[1mInfo: \u001b[22m\u001b[39mpart 2 answer\n",
      "\u001b[36m\u001b[1m│ \u001b[22m\u001b[39m  result2(PDS1) = nothing\n",
      "\u001b[36m\u001b[1m└ \u001b[22m\u001b[39m  result2(PDI) = nothing\n"
     ]
    }
   ],
   "source": [
    "@time @info(\n",
    "    \"part 2 answer\",\n",
    "    result2(PDS1),\n",
    "    result2(PDI),\n",
    ")"
   ]
  }
 ],
 "metadata": {
  "@webio": {
   "lastCommId": null,
   "lastKernelId": null
  },
  "kernelspec": {
   "display_name": "Julia 1.8.2",
   "language": "julia",
   "name": "julia-1.8"
  },
  "language_info": {
   "file_extension": ".jl",
   "mimetype": "application/julia",
   "name": "julia",
   "version": "1.8.2"
  },
  "latex_envs": {
   "LaTeX_envs_menu_present": true,
   "autoclose": false,
   "autocomplete": true,
   "bibliofile": "biblio.bib",
   "cite_by": "apalike",
   "current_citInitial": 1,
   "eqLabelWithNumbers": true,
   "eqNumInitial": 1,
   "hotkeys": {
    "equation": "Ctrl-E",
    "itemize": "Ctrl-I"
   },
   "labels_anchors": false,
   "latex_user_defs": false,
   "report_style_numbering": false,
   "user_envs_cfg": false
  },
  "toc": {
   "base_numbering": 1,
   "nav_menu": {},
   "number_sections": true,
   "sideBar": true,
   "skip_h1_title": true,
   "title_cell": "Table of Contents",
   "title_sidebar": "Contents",
   "toc_cell": true,
   "toc_position": {},
   "toc_section_display": true,
   "toc_window_display": false
  }
 },
 "nbformat": 4,
 "nbformat_minor": 4
}
