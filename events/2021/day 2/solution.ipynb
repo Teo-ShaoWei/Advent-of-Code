{
 "cells": [
  {
   "cell_type": "markdown",
   "metadata": {},
   "source": [
    "# Advent of Code 2021 Day 2\n",
    "[link](https://adventofcode.com/2021/day/2)"
   ]
  },
  {
   "cell_type": "markdown",
   "metadata": {
    "toc": true
   },
   "source": [
    "<h1>Table of Contents<span class=\"tocSkip\"></span></h1>\n",
    "<div class=\"toc\"><ul class=\"toc-item\"><li><span><a href=\"#include-code-file-using-Revise\" data-toc-modified-id=\"include-code-file-using-Revise-1\"><span class=\"toc-item-num\">1&nbsp;&nbsp;</span>include code file using Revise</a></span></li><li><span><a href=\"#read-input\" data-toc-modified-id=\"read-input-2\"><span class=\"toc-item-num\">2&nbsp;&nbsp;</span>read input</a></span></li><li><span><a href=\"#part-1\" data-toc-modified-id=\"part-1-3\"><span class=\"toc-item-num\">3&nbsp;&nbsp;</span>part 1</a></span><ul class=\"toc-item\"><li><span><a href=\"#answer\" data-toc-modified-id=\"answer-3.1\"><span class=\"toc-item-num\">3.1&nbsp;&nbsp;</span>answer</a></span></li></ul></li><li><span><a href=\"#part-2\" data-toc-modified-id=\"part-2-4\"><span class=\"toc-item-num\">4&nbsp;&nbsp;</span>part 2</a></span><ul class=\"toc-item\"><li><span><a href=\"#answer\" data-toc-modified-id=\"answer-4.1\"><span class=\"toc-item-num\">4.1&nbsp;&nbsp;</span>answer</a></span></li></ul></li></ul></div>"
   ]
  },
  {
   "cell_type": "markdown",
   "metadata": {},
   "source": [
    "## include code file using Revise"
   ]
  },
  {
   "cell_type": "code",
   "execution_count": 1,
   "metadata": {
    "ExecuteTime": {
     "end_time": "2021-12-12T19:37:54.924000+08:00",
     "start_time": "2021-12-12T11:37:53.811Z"
    }
   },
   "outputs": [],
   "source": [
    "using Revise"
   ]
  },
  {
   "cell_type": "code",
   "execution_count": 2,
   "metadata": {
    "ExecuteTime": {
     "end_time": "2021-12-12T19:38:00.770000+08:00",
     "start_time": "2021-12-12T11:37:53.813Z"
    },
    "scrolled": true
   },
   "outputs": [],
   "source": [
    "includet(\"functions.jl\")"
   ]
  },
  {
   "cell_type": "markdown",
   "metadata": {},
   "source": [
    "## read input"
   ]
  },
  {
   "cell_type": "code",
   "execution_count": 3,
   "metadata": {
    "ExecuteTime": {
     "end_time": "2021-12-12T19:38:02.305000+08:00",
     "start_time": "2021-12-12T11:37:53.882Z"
    },
    "scrolled": false
   },
   "outputs": [
    {
     "data": {
      "text/plain": [
       "6-element Vector{NamedTuple{(:d, :m), Tuple{SubString{String}, Int64}}}:\n",
       " (d = \"forward\", m = 5)\n",
       " (d = \"down\", m = 5)\n",
       " (d = \"forward\", m = 8)\n",
       " (d = \"up\", m = 3)\n",
       " (d = \"down\", m = 8)\n",
       " (d = \"forward\", m = 2)"
      ]
     },
     "execution_count": 3,
     "metadata": {},
     "output_type": "execute_result"
    }
   ],
   "source": [
    "PDS1 = parse_input(\"sample1.txt\")"
   ]
  },
  {
   "cell_type": "code",
   "execution_count": 4,
   "metadata": {
    "ExecuteTime": {
     "end_time": "2021-12-12T19:38:02.321000+08:00",
     "start_time": "2021-12-12T11:37:53.884Z"
    },
    "scrolled": true
   },
   "outputs": [
    {
     "data": {
      "text/plain": [
       "1000-element Vector{NamedTuple{(:d, :m), Tuple{SubString{String}, Int64}}}:\n",
       " (d = \"forward\", m = 3)\n",
       " (d = \"down\", m = 7)\n",
       " (d = \"forward\", m = 7)\n",
       " (d = \"down\", m = 4)\n",
       " (d = \"down\", m = 9)\n",
       " (d = \"down\", m = 7)\n",
       " (d = \"forward\", m = 5)\n",
       " (d = \"forward\", m = 9)\n",
       " (d = \"forward\", m = 3)\n",
       " (d = \"forward\", m = 8)\n",
       " (d = \"down\", m = 4)\n",
       " (d = \"down\", m = 6)\n",
       " (d = \"down\", m = 3)\n",
       " ⋮\n",
       " (d = \"forward\", m = 8)\n",
       " (d = \"down\", m = 5)\n",
       " (d = \"down\", m = 6)\n",
       " (d = \"up\", m = 5)\n",
       " (d = \"forward\", m = 8)\n",
       " (d = \"forward\", m = 6)\n",
       " (d = \"up\", m = 8)\n",
       " (d = \"forward\", m = 8)\n",
       " (d = \"up\", m = 3)\n",
       " (d = \"up\", m = 6)\n",
       " (d = \"up\", m = 3)\n",
       " (d = \"forward\", m = 1)"
      ]
     },
     "execution_count": 4,
     "metadata": {},
     "output_type": "execute_result"
    }
   ],
   "source": [
    "PDI = parse_input(\"input.txt\")"
   ]
  },
  {
   "cell_type": "markdown",
   "metadata": {},
   "source": [
    "## part 1"
   ]
  },
  {
   "cell_type": "code",
   "execution_count": 5,
   "metadata": {
    "ExecuteTime": {
     "end_time": "2021-12-12T19:38:03.188000+08:00",
     "start_time": "2021-12-12T11:37:53.934Z"
    }
   },
   "outputs": [
    {
     "data": {
      "text/plain": [
       "6-element Vector{CartesianIndex{2}}:\n",
       " CartesianIndex(0, 5)\n",
       " CartesianIndex(5, 0)\n",
       " CartesianIndex(0, 8)\n",
       " CartesianIndex(-3, 0)\n",
       " CartesianIndex(8, 0)\n",
       " CartesianIndex(0, 2)"
      ]
     },
     "execution_count": 5,
     "metadata": {},
     "output_type": "execute_result"
    }
   ],
   "source": [
    "get_move.(PDS1)"
   ]
  },
  {
   "cell_type": "markdown",
   "metadata": {},
   "source": [
    "### answer"
   ]
  },
  {
   "cell_type": "code",
   "execution_count": 6,
   "metadata": {
    "ExecuteTime": {
     "end_time": "2021-12-12T19:38:03.434000+08:00",
     "start_time": "2021-12-12T11:37:53.984Z"
    }
   },
   "outputs": [
    {
     "name": "stdout",
     "output_type": "stream",
     "text": [
      "  0.156307 seconds (313.61 k allocations: 17.522 MiB, 98.08% compilation time)\n"
     ]
    },
    {
     "name": "stderr",
     "output_type": "stream",
     "text": [
      "┌ Info: part 1 answer\n",
      "│   result1(PDS1) = 150\n",
      "│   result1(PDI) = 1561344\n",
      "└ @ Main In[6]:1\n"
     ]
    }
   ],
   "source": [
    "@time @info(\n",
    "    \"part 1 answer\",\n",
    "    result1(PDS1),\n",
    "    result1(PDI),\n",
    ")"
   ]
  },
  {
   "cell_type": "markdown",
   "metadata": {},
   "source": [
    "## part 2"
   ]
  },
  {
   "cell_type": "markdown",
   "metadata": {},
   "source": [
    "### answer"
   ]
  },
  {
   "cell_type": "code",
   "execution_count": 7,
   "metadata": {
    "ExecuteTime": {
     "end_time": "2021-12-12T19:38:03.565000+08:00",
     "start_time": "2021-12-12T11:37:54.079Z"
    }
   },
   "outputs": [
    {
     "name": "stdout",
     "output_type": "stream",
     "text": [
      "  0.064396 seconds (112.61 k allocations: 6.290 MiB, 94.09% compilation time)\n"
     ]
    },
    {
     "name": "stderr",
     "output_type": "stream",
     "text": [
      "┌ Info: part 2 answer\n",
      "│   result2(PDS1) = 900\n",
      "│   result2(PDI) = 1848454425\n",
      "└ @ Main In[7]:1\n"
     ]
    }
   ],
   "source": [
    "@time @info(\n",
    "    \"part 2 answer\",\n",
    "    result2(PDS1),\n",
    "    result2(PDI),\n",
    "    )"
   ]
  }
 ],
 "metadata": {
  "@webio": {
   "lastCommId": null,
   "lastKernelId": null
  },
  "kernelspec": {
   "display_name": "Julia 1.7.0",
   "language": "julia",
   "name": "julia-1.7"
  },
  "language_info": {
   "file_extension": ".jl",
   "mimetype": "application/julia",
   "name": "julia",
   "version": "1.7.0"
  },
  "latex_envs": {
   "LaTeX_envs_menu_present": true,
   "autoclose": false,
   "autocomplete": true,
   "bibliofile": "biblio.bib",
   "cite_by": "apalike",
   "current_citInitial": 1,
   "eqLabelWithNumbers": true,
   "eqNumInitial": 1,
   "hotkeys": {
    "equation": "Ctrl-E",
    "itemize": "Ctrl-I"
   },
   "labels_anchors": false,
   "latex_user_defs": false,
   "report_style_numbering": false,
   "user_envs_cfg": false
  },
  "toc": {
   "base_numbering": 1,
   "nav_menu": {},
   "number_sections": true,
   "sideBar": true,
   "skip_h1_title": true,
   "title_cell": "Table of Contents",
   "title_sidebar": "Contents",
   "toc_cell": true,
   "toc_position": {},
   "toc_section_display": true,
   "toc_window_display": false
  }
 },
 "nbformat": 4,
 "nbformat_minor": 4
}
