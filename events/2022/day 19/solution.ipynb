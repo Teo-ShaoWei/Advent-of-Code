{
 "cells": [
  {
   "cell_type": "markdown",
   "metadata": {},
   "source": [
    "# Advent of Code 2022 Day 19\n",
    "[link](https://adventofcode.com/2022/day/19)"
   ]
  },
  {
   "cell_type": "markdown",
   "metadata": {},
   "source": [
    "## include code file using Revise"
   ]
  },
  {
   "cell_type": "code",
   "execution_count": 1,
   "metadata": {},
   "outputs": [],
   "source": [
    "using Revise"
   ]
  },
  {
   "cell_type": "code",
   "execution_count": 2,
   "metadata": {
    "scrolled": true
   },
   "outputs": [],
   "source": [
    "includet(\"functions.jl\")"
   ]
  },
  {
   "cell_type": "markdown",
   "metadata": {},
   "source": [
    "## set logger"
   ]
  },
  {
   "cell_type": "code",
   "execution_count": 3,
   "metadata": {},
   "outputs": [
    {
     "data": {
      "text/plain": [
       "Base.CoreLogging.SimpleLogger(IJulia.IJuliaStdio{Base.PipeEndpoint}(IOContext(Base.PipeEndpoint(RawFD(45) open, 0 bytes waiting))), Info, Dict{Any, Int64}())"
      ]
     },
     "execution_count": 3,
     "metadata": {},
     "output_type": "execute_result"
    }
   ],
   "source": [
    "import Logging\n",
    "import TerminalLoggers\n",
    "\n",
    "Logging.global_logger(TerminalLoggers.TerminalLogger())"
   ]
  },
  {
   "cell_type": "markdown",
   "metadata": {},
   "source": [
    "## read input"
   ]
  },
  {
   "cell_type": "code",
   "execution_count": 4,
   "metadata": {
    "scrolled": true
   },
   "outputs": [
    {
     "data": {
      "text/plain": [
       "2-element Vector{Matrix{Int64}}:\n",
       " [4 2 3 2; 0 0 14 0; 0 0 0 7; 0 0 0 0]\n",
       " [2 3 3 3; 0 0 8 0; 0 0 0 12; 0 0 0 0]"
      ]
     },
     "execution_count": 4,
     "metadata": {},
     "output_type": "execute_result"
    }
   ],
   "source": [
    "PDS1 = parse_puzzle_file(\"sample1.txt\")"
   ]
  },
  {
   "cell_type": "code",
   "execution_count": 5,
   "metadata": {
    "scrolled": true
   },
   "outputs": [
    {
     "data": {
      "text/plain": [
       "30-element Vector{Matrix{Int64}}:\n",
       " [4 4 2 4; 0 0 16 0; 0 0 0 16; 0 0 0 0]\n",
       " [4 4 3 4; 0 0 14 0; 0 0 0 8; 0 0 0 0]\n",
       " [3 4 3 4; 0 0 18 0; 0 0 0 16; 0 0 0 0]\n",
       " [4 3 3 2; 0 0 7 0; 0 0 0 7; 0 0 0 0]\n",
       " [4 4 4 2; 0 0 7 0; 0 0 0 16; 0 0 0 0]\n",
       " [3 3 3 4; 0 0 17 0; 0 0 0 8; 0 0 0 0]\n",
       " [4 3 3 2; 0 0 20 0; 0 0 0 19; 0 0 0 0]\n",
       " [4 3 2 4; 0 0 10 0; 0 0 0 10; 0 0 0 0]\n",
       " [3 3 4 4; 0 0 19 0; 0 0 0 7; 0 0 0 0]\n",
       " [4 3 2 3; 0 0 19 0; 0 0 0 13; 0 0 0 0]\n",
       " [4 4 2 3; 0 0 12 0; 0 0 0 15; 0 0 0 0]\n",
       " [4 3 2 4; 0 0 14 0; 0 0 0 11; 0 0 0 0]\n",
       " [4 3 3 2; 0 0 10 0; 0 0 0 10; 0 0 0 0]\n",
       " ⋮\n",
       " [2 4 4 3; 0 0 20 0; 0 0 0 14; 0 0 0 0]\n",
       " [3 4 4 2; 0 0 8 0; 0 0 0 10; 0 0 0 0]\n",
       " [2 4 3 4; 0 0 19 0; 0 0 0 13; 0 0 0 0]\n",
       " [3 3 2 3; 0 0 13 0; 0 0 0 12; 0 0 0 0]\n",
       " [3 4 2 4; 0 0 20 0; 0 0 0 7; 0 0 0 0]\n",
       " [4 3 3 3; 0 0 7 0; 0 0 0 9; 0 0 0 0]\n",
       " [4 3 2 2; 0 0 13 0; 0 0 0 9; 0 0 0 0]\n",
       " [4 4 4 4; 0 0 7 0; 0 0 0 17; 0 0 0 0]\n",
       " [3 3 3 3; 0 0 19 0; 0 0 0 17; 0 0 0 0]\n",
       " [3 3 3 2; 0 0 6 0; 0 0 0 16; 0 0 0 0]\n",
       " [4 4 4 2; 0 0 7 0; 0 0 0 19; 0 0 0 0]\n",
       " [4 3 2 3; 0 0 20 0; 0 0 0 9; 0 0 0 0]"
      ]
     },
     "execution_count": 5,
     "metadata": {},
     "output_type": "execute_result"
    }
   ],
   "source": [
    "PDI = parse_puzzle_file(\"input.txt\")"
   ]
  },
  {
   "cell_type": "code",
   "execution_count": 6,
   "metadata": {},
   "outputs": [],
   "source": [
    "PD = PDS1;"
   ]
  },
  {
   "cell_type": "markdown",
   "metadata": {},
   "source": [
    "## part 1"
   ]
  },
  {
   "cell_type": "code",
   "execution_count": 7,
   "metadata": {},
   "outputs": [
    {
     "data": {
      "text/plain": [
       "(robots = [1, 0, 0, 0], resources = [0, 0, 0, 0], timing = 0, time_limit = 24, max_robots = [4, 14, 7, 24])"
      ]
     },
     "execution_count": 7,
     "metadata": {},
     "output_type": "execute_result"
    }
   ],
   "source": [
    "INIT_STATE = init_state(PD[1]; time_limit = 24)"
   ]
  },
  {
   "cell_type": "code",
   "execution_count": 8,
   "metadata": {},
   "outputs": [
    {
     "data": {
      "text/plain": [
       "4-element Vector{Int64}:\n",
       " 1\n",
       " 0\n",
       " 0\n",
       " 1"
      ]
     },
     "execution_count": 8,
     "metadata": {},
     "output_type": "execute_result"
    }
   ],
   "source": [
    "add_robot(INIT_STATE.robots, 4)"
   ]
  },
  {
   "cell_type": "code",
   "execution_count": 9,
   "metadata": {},
   "outputs": [
    {
     "data": {
      "text/plain": [
       "4-element Vector{Int64}:\n",
       " 2\n",
       " 2\n",
       " 5\n",
       " 0"
      ]
     },
     "execution_count": 9,
     "metadata": {},
     "output_type": "execute_result"
    }
   ],
   "source": [
    "remove_resources([4, 2, 5, 0], [2, 0, 0, 0])"
   ]
  },
  {
   "cell_type": "code",
   "execution_count": 10,
   "metadata": {},
   "outputs": [
    {
     "data": {
      "text/plain": [
       "false"
      ]
     },
     "execution_count": 10,
     "metadata": {},
     "output_type": "execute_result"
    }
   ],
   "source": [
    "has_enough_resources([1, 2, 5, 0], [2, 0, 0, 0])"
   ]
  },
  {
   "cell_type": "code",
   "execution_count": 11,
   "metadata": {
    "tags": []
   },
   "outputs": [
    {
     "data": {
      "text/plain": [
       "4-element BitVector:\n",
       " 0\n",
       " 1\n",
       " 1\n",
       " 0"
      ]
     },
     "execution_count": 11,
     "metadata": {},
     "output_type": "execute_result"
    }
   ],
   "source": [
    "has_enough_robots(\n",
    "    (\n",
    "        robots = [1, 0, 2, 0],\n",
    "        resources = [1, 1, 1, 1],\n",
    "        timing = 22,\n",
    "        time_limit = 24,\n",
    "        max_robots = [4, 14, 2, 24],\n",
    "    ),\n",
    "    PD[1],\n",
    ")"
   ]
  },
  {
   "cell_type": "code",
   "execution_count": 12,
   "metadata": {},
   "outputs": [
    {
     "data": {
      "text/plain": [
       "1"
      ]
     },
     "execution_count": 12,
     "metadata": {},
     "output_type": "execute_result"
    }
   ],
   "source": [
    "derive_time_to_build_robot((robots = [1, 2, 3, 1], resources = [77, 77, 77, 77]), [1, 2, 3, 0], 1)"
   ]
  },
  {
   "cell_type": "code",
   "execution_count": 13,
   "metadata": {},
   "outputs": [
    {
     "data": {
      "text/plain": [
       "4-element Vector{Int64}:\n",
       " 4\n",
       " 5\n",
       " 3\n",
       " 6"
      ]
     },
     "execution_count": 13,
     "metadata": {},
     "output_type": "execute_result"
    }
   ],
   "source": [
    "mine_resources([1, 2, 0, 0], [1, 1, 1, 2], 3)"
   ]
  },
  {
   "cell_type": "code",
   "execution_count": 14,
   "metadata": {},
   "outputs": [
    {
     "data": {
      "text/plain": [
       "(robots = [2, 0, 0, 0], resources = [1, 0, 0, 0], timing = 5, time_limit = 24, max_robots = [4, 14, 7, 24])"
      ]
     },
     "execution_count": 14,
     "metadata": {},
     "output_type": "execute_result"
    }
   ],
   "source": [
    "make_next_state(INIT_STATE, PD[1], 5, 1)"
   ]
  },
  {
   "cell_type": "code",
   "execution_count": 15,
   "metadata": {},
   "outputs": [
    {
     "name": "stdout",
     "output_type": "stream",
     "text": [
      "  1.191841 seconds (11.12 M allocations: 919.839 MiB, 27.99% gc time, 23.27% compilation time)\n"
     ]
    },
    {
     "data": {
      "text/plain": [
       "Dict{Vector{Int64}, NamedTuple{(:robots, :resources, :timing, :time_limit, :max_robots), Tuple{Vector{Int64}, Vector{Int64}, Int64, Int64, Vector{Int64}}}} with 625709 entries:\n",
       "  [2, 2, 2, 1, 1, 2, 2, 3,… => (robots = [3, 8, 4, 1], resources = [9, 31, 7, 1…\n",
       "  [1, 2, 1, 2, 2, 2, 3, 2,… => (robots = [3, 9, 1, 1], resources = [24, 63, 1, …\n",
       "  [1, 2, 2, 2, 1, 2, 2, 3,… => (robots = [4, 9, 3, 1], resources = [12, 50, 7, …\n",
       "  [2, 1, 1, 2, 2, 2, 2, 3,… => (robots = [4, 8, 5, 1], resources = [18, 15, 10,…\n",
       "  [1, 2, 2, 2, 1, 2, 2, 2,… => (robots = [4, 7, 3, 0], resources = [8, 12, 5, 0…\n",
       "  [2, 2, 1, 3, 2, 2, 2, 1,… => (robots = [3, 9, 3, 0], resources = [9, 30, 19, …\n",
       "  [2, 2, 2, 1, 2, 1, 2, 2,… => (robots = [3, 7, 5, 1], resources = [7, 17, 10, …\n",
       "  [2, 2, 1, 3, 1, 2, 2, 2,… => (robots = [4, 8, 1, 1], resources = [11, 53, 3, …\n",
       "  [2, 2, 1, 2, 2, 1, 2, 3,… => (robots = [4, 7, 5, 0], resources = [7, 10, 15, …\n",
       "  [1, 2, 2, 1, 2, 2, 2, 2,… => (robots = [4, 10, 3, 0], resources = [12, 41, 10…\n",
       "  [1, 2, 2, 2, 3, 1, 3, 2,… => (robots = [4, 5, 2, 1], resources = [21, 20, 6, …\n",
       "  [2, 2, 1, 3, 2, 1, 2, 2,… => (robots = [4, 8, 2, 1], resources = [12, 38, 5, …\n",
       "  [1, 2, 1, 2, 2, 2, 1, 2,… => (robots = [4, 6, 4, 1], resources = [31, 19, 8, …\n",
       "  [2, 2, 1, 2, 2, 1, 2, 1,… => (robots = [4, 6, 4, 1], resources = [19, 25, 8, …\n",
       "  [1, 1, 2, 2, 2, 2, 2, 2,… => (robots = [4, 9, 5, 1], resources = [20, 25, 9, …\n",
       "  [1, 2, 2, 2, 2, 3, 1, 3,… => (robots = [4, 5, 3, 0], resources = [16, 13, 16,…\n",
       "  [2, 2, 1, 2, 1, 1, 3, 3,… => (robots = [4, 5, 3, 1], resources = [18, 12, 5, …\n",
       "  [1, 2, 2, 2, 2, 2, 1, 3,… => (robots = [3, 8, 4, 2], resources = [11, 28, 7, …\n",
       "  [2, 2, 3, 1, 2, 1, 2, 2,… => (robots = [4, 7, 2, 0], resources = [8, 28, 10, …\n",
       "  [1, 2, 1, 2, 2, 2, 2, 2,… => (robots = [4, 9, 4, 2], resources = [17, 38, 8, …\n",
       "  [2, 1, 2, 2, 2, 2, 3, 3,… => (robots = [3, 8, 4, 2], resources = [5, 34, 9, 5…\n",
       "  [1, 2, 2, 2, 2, 1, 3, 2,… => (robots = [4, 5, 4, 1], resources = [14, 6, 10, …\n",
       "  [2, 1, 2, 2, 1, 2, 1, 3,… => (robots = [4, 8, 2, 1], resources = [15, 33, 2, …\n",
       "  [2, 2, 1, 2, 2, 3, 1, 2,… => (robots = [3, 8, 4, 2], resources = [8, 31, 6, 5…\n",
       "  [2, 1, 2, 2, 3, 2, 3, 2,… => (robots = [2, 8, 3, 2], resources = [8, 36, 5, 2…\n",
       "  ⋮                         => ⋮"
      ]
     },
     "execution_count": 15,
     "metadata": {},
     "output_type": "execute_result"
    }
   ],
   "source": [
    "@time PSBLT = derive_possibilities(\n",
    "    PDS1[1];\n",
    "    time_limit = 24,\n",
    ")"
   ]
  },
  {
   "cell_type": "code",
   "execution_count": 16,
   "metadata": {},
   "outputs": [
    {
     "data": {
      "text/plain": [
       "20-element Vector{Vector{Int64}}:\n",
       " [2, 2, 2, 1, 1, 2, 2, 3, 2, 3, 2, 2, 3, 4, 3]\n",
       " [1, 2, 1, 2, 2, 2, 3, 2, 2, 2, 2, 2, 4]\n",
       " [1, 2, 2, 2, 1, 2, 2, 3, 2, 2, 2, 2, 3, 4, 3, 1]\n",
       " [2, 1, 1, 2, 2, 2, 2, 3, 1, 2, 2, 2, 3, 3, 4, 3, 3]\n",
       " [1, 2, 2, 2, 1, 2, 2, 2, 3, 2, 1, 3, 3]\n",
       " [2, 2, 1, 3, 2, 2, 2, 1, 3, 2, 3, 2, 2, 2]\n",
       " [2, 2, 2, 1, 2, 1, 2, 2, 3, 3, 2, 3, 3, 3, 4]\n",
       " [2, 2, 1, 3, 1, 2, 2, 2, 2, 2, 4, 2, 1]\n",
       " [2, 2, 1, 2, 2, 1, 2, 3, 2, 2, 3, 3, 1, 3, 3]\n",
       " [1, 2, 2, 1, 2, 2, 2, 2, 2, 3, 2, 3, 2, 1, 2, 3]\n",
       " [1, 2, 2, 2, 3, 1, 3, 2, 1, 4, 2]\n",
       " [2, 2, 1, 3, 2, 1, 2, 2, 1, 2, 2, 3, 2, 4]\n",
       " [1, 2, 1, 2, 2, 2, 1, 2, 2, 3, 3, 4, 3, 3]\n",
       " [2, 2, 1, 2, 2, 1, 2, 1, 2, 3, 3, 3, 4, 3]\n",
       " [1, 1, 2, 2, 2, 2, 2, 2, 2, 1, 2, 3, 3, 2, 3, 3, 4, 3]\n",
       " [1, 2, 2, 2, 2, 3, 1, 3, 3, 2, 1]\n",
       " [2, 2, 1, 2, 1, 1, 3, 3, 2, 2, 3, 4]\n",
       " [1, 2, 2, 2, 2, 2, 1, 3, 3, 2, 2, 3, 2, 4, 3, 4]\n",
       " [2, 2, 3, 1, 2, 1, 2, 2, 1, 2, 2, 3]\n",
       " [1, 2, 1, 2, 2, 2, 2, 2, 2, 3, 3, 2, 1, 3, 3, 2, 4, 4]"
      ]
     },
     "execution_count": 16,
     "metadata": {},
     "output_type": "execute_result"
    }
   ],
   "source": [
    "collect(keys(PSBLT))[1:20]"
   ]
  },
  {
   "cell_type": "code",
   "execution_count": 17,
   "metadata": {},
   "outputs": [
    {
     "data": {
      "text/plain": [
       "(robots = [1, 4, 2, 2], resources = [3, 29, 2, 3], timing = 21, time_limit = 24, max_robots = [4, 14, 7, 24])"
      ]
     },
     "execution_count": 17,
     "metadata": {},
     "output_type": "execute_result"
    }
   ],
   "source": [
    "PSBLT[[2, 2, 2, 3, 2, 3, 4, 4]]"
   ]
  },
  {
   "cell_type": "code",
   "execution_count": 18,
   "metadata": {},
   "outputs": [
    {
     "data": {
      "text/plain": [
       "(robots = [1, 4, 2, 2], resources = [6, 41, 8, 9], timing = 21, time_limit = 24, max_robots = [4, 14, 7, 24])"
      ]
     },
     "execution_count": 18,
     "metadata": {},
     "output_type": "execute_result"
    }
   ],
   "source": [
    "PSBLT[[2, 2, 2, 3, 2, 3, 4, 4]] |> harvest_till_time_up"
   ]
  },
  {
   "cell_type": "markdown",
   "metadata": {},
   "source": [
    "### answer"
   ]
  },
  {
   "cell_type": "code",
   "execution_count": 19,
   "metadata": {},
   "outputs": [
    {
     "name": "stdout",
     "output_type": "stream",
     "text": [
      "  5.868536 seconds (62.61 M allocations: 5.736 GiB, 23.38% gc time, 8.86% compilation time: 4% of which was recompilation)\n"
     ]
    },
    {
     "name": "stderr",
     "output_type": "stream",
     "text": [
      "\u001b[36m\u001b[1m┌ \u001b[22m\u001b[39m\u001b[36m\u001b[1mInfo: \u001b[22m\u001b[39mpart 1 answer\n",
      "\u001b[36m\u001b[1m│ \u001b[22m\u001b[39m  result1(PDS1) = 33\n",
      "\u001b[36m\u001b[1m└ \u001b[22m\u001b[39m  result1(PDI) = 1395\n"
     ]
    }
   ],
   "source": [
    "@time @info(\n",
    "    \"part 1 answer\",\n",
    "    result1(PDS1),\n",
    "    result1(PDI),\n",
    ")"
   ]
  },
  {
   "cell_type": "markdown",
   "metadata": {},
   "source": [
    "## part 2"
   ]
  },
  {
   "cell_type": "markdown",
   "metadata": {},
   "source": [
    "### answer"
   ]
  },
  {
   "cell_type": "code",
   "execution_count": 20,
   "metadata": {},
   "outputs": [
    {
     "name": "stdout",
     "output_type": "stream",
     "text": [
      " 14.221179 seconds (93.84 M allocations: 9.571 GiB, 33.69% gc time, 0.02% compilation time)\n"
     ]
    },
    {
     "data": {
      "text/plain": [
       "9"
      ]
     },
     "execution_count": 20,
     "metadata": {},
     "output_type": "execute_result"
    }
   ],
   "source": [
    "@time PSBLT = derive_geode_count(\n",
    "    PDI[1];\n",
    "    time_limit = 32,\n",
    ")"
   ]
  },
  {
   "cell_type": "code",
   "execution_count": 21,
   "metadata": {},
   "outputs": [
    {
     "name": "stdout",
     "output_type": "stream",
     "text": [
      "194.939186 seconds (288.72 M allocations: 27.763 GiB, 51.35% gc time)\n"
     ]
    },
    {
     "data": {
      "text/plain": [
       "25"
      ]
     },
     "execution_count": 21,
     "metadata": {},
     "output_type": "execute_result"
    }
   ],
   "source": [
    "@time PSBLT = derive_geode_count(\n",
    "    PDI[2];\n",
    "    time_limit = 32,\n",
    ")"
   ]
  },
  {
   "cell_type": "code",
   "execution_count": 22,
   "metadata": {},
   "outputs": [
    {
     "name": "stdout",
     "output_type": "stream",
     "text": [
      "154.430943 seconds (213.28 M allocations: 21.531 GiB, 49.40% gc time, 0.00% compilation time)\n"
     ]
    },
    {
     "data": {
      "text/plain": [
       "12"
      ]
     },
     "execution_count": 22,
     "metadata": {},
     "output_type": "execute_result"
    }
   ],
   "source": [
    "@time PSBLT = derive_geode_count(\n",
    "    PDI[3];\n",
    "    time_limit = 32,\n",
    ")"
   ]
  },
  {
   "cell_type": "code",
   "execution_count": 23,
   "metadata": {},
   "outputs": [
    {
     "data": {
      "text/plain": [
       "2700"
      ]
     },
     "execution_count": 23,
     "metadata": {},
     "output_type": "execute_result"
    }
   ],
   "source": [
    "9 * 25 * 12"
   ]
  },
  {
   "cell_type": "code",
   "execution_count": null,
   "metadata": {},
   "outputs": [],
   "source": [
    "# 2700 is the right ans"
   ]
  }
 ],
 "metadata": {
  "@webio": {
   "lastCommId": null,
   "lastKernelId": null
  },
  "kernelspec": {
   "display_name": "Julia 1.8.2",
   "language": "julia",
   "name": "julia-1.8"
  },
  "language_info": {
   "file_extension": ".jl",
   "mimetype": "application/julia",
   "name": "julia",
   "version": "1.8.2"
  },
  "latex_envs": {
   "LaTeX_envs_menu_present": true,
   "autoclose": false,
   "autocomplete": true,
   "bibliofile": "biblio.bib",
   "cite_by": "apalike",
   "current_citInitial": 1,
   "eqLabelWithNumbers": true,
   "eqNumInitial": 1,
   "hotkeys": {
    "equation": "Ctrl-E",
    "itemize": "Ctrl-I"
   },
   "labels_anchors": false,
   "latex_user_defs": false,
   "report_style_numbering": false,
   "user_envs_cfg": false
  },
  "toc": {
   "base_numbering": 1,
   "nav_menu": {},
   "number_sections": true,
   "sideBar": true,
   "skip_h1_title": true,
   "title_cell": "Table of Contents",
   "title_sidebar": "Contents",
   "toc_cell": true,
   "toc_position": {},
   "toc_section_display": true,
   "toc_window_display": false
  }
 },
 "nbformat": 4,
 "nbformat_minor": 4
}
