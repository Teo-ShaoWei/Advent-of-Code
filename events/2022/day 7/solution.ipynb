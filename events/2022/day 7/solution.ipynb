{
 "cells": [
  {
   "cell_type": "markdown",
   "metadata": {},
   "source": [
    "# Advent of Code 2022 Day 7\n",
    "[link](https://adventofcode.com/2022/day/7)"
   ]
  },
  {
   "cell_type": "markdown",
   "metadata": {},
   "source": [
    "## include code file using Revise"
   ]
  },
  {
   "cell_type": "code",
   "execution_count": 1,
   "metadata": {},
   "outputs": [],
   "source": [
    "using Revise"
   ]
  },
  {
   "cell_type": "code",
   "execution_count": 2,
   "metadata": {
    "scrolled": true
   },
   "outputs": [],
   "source": [
    "includet(\"functions.jl\")"
   ]
  },
  {
   "cell_type": "markdown",
   "metadata": {},
   "source": [
    "## set logger"
   ]
  },
  {
   "cell_type": "code",
   "execution_count": 3,
   "metadata": {},
   "outputs": [
    {
     "data": {
      "text/plain": [
       "Base.CoreLogging.SimpleLogger(IJulia.IJuliaStdio{Base.PipeEndpoint}(IOContext(Base.PipeEndpoint(RawFD(46) open, 0 bytes waiting))), Info, Dict{Any, Int64}())"
      ]
     },
     "execution_count": 3,
     "metadata": {},
     "output_type": "execute_result"
    }
   ],
   "source": [
    "import Logging\n",
    "import TerminalLoggers\n",
    "\n",
    "Logging.global_logger(TerminalLoggers.TerminalLogger())"
   ]
  },
  {
   "cell_type": "markdown",
   "metadata": {},
   "source": [
    "## read input"
   ]
  },
  {
   "cell_type": "code",
   "execution_count": 4,
   "metadata": {
    "scrolled": true
   },
   "outputs": [
    {
     "data": {
      "text/plain": [
       "10-element Vector{Vector{SubString{String}}}:\n",
       " [\"cd /\"]\n",
       " [\"ls\", \"dir a\", \"14848514 b.txt\", \"8504156 c.dat\", \"dir d\"]\n",
       " [\"cd a\"]\n",
       " [\"ls\", \"dir e\", \"29116 f\", \"2557 g\", \"62596 h.lst\"]\n",
       " [\"cd e\"]\n",
       " [\"ls\", \"584 i\"]\n",
       " [\"cd ..\"]\n",
       " [\"cd ..\"]\n",
       " [\"cd d\"]\n",
       " [\"ls\", \"4060174 j\", \"8033020 d.log\", \"5626152 d.ext\", \"7214296 k\"]"
      ]
     },
     "execution_count": 4,
     "metadata": {},
     "output_type": "execute_result"
    }
   ],
   "source": [
    "PDS1 = parse_puzzle_file(\"sample1.txt\")"
   ]
  },
  {
   "cell_type": "code",
   "execution_count": 5,
   "metadata": {
    "scrolled": true
   },
   "outputs": [
    {
     "data": {
      "text/plain": [
       "12-element Vector{Vector{SubString{String}}}:\n",
       " [\"cd /\"]\n",
       " [\"ls\", \"dir a\", \"1 b.txt\", \"dir d\"]\n",
       " [\"cd a\"]\n",
       " [\"ls\", \"dir a\", \"1 b.txt\"]\n",
       " [\"cd a\"]\n",
       " [\"ls\", \"1 b.txt\"]\n",
       " [\"cd ..\"]\n",
       " [\"cd ..\"]\n",
       " [\"cd d\"]\n",
       " [\"ls\", \"dir a\", \"1 b.txt\"]\n",
       " [\"cd a\"]\n",
       " [\"ls\", \"1 b.txt\"]"
      ]
     },
     "execution_count": 5,
     "metadata": {},
     "output_type": "execute_result"
    }
   ],
   "source": [
    "PDSE = parse_puzzle_file(\"sample_evil.txt\")"
   ]
  },
  {
   "cell_type": "code",
   "execution_count": 6,
   "metadata": {
    "scrolled": true
   },
   "outputs": [
    {
     "data": {
      "text/plain": [
       "626-element Vector{Vector{SubString{String}}}:\n",
       " [\"cd /\"]\n",
       " [\"ls\", \"233998 glh.fcb\", \"184686 jzn\", \"dir qcznqph\", \"dir qtbprrq\", \"299692 rbssdzm.ccn\", \"dir vtb\"]\n",
       " [\"cd qcznqph\"]\n",
       " [\"ls\", \"32148 lhsrj.fnr\", \"dir lnj\", \"dir mtr\", \"dir mznnlph\", \"dir pdtpt\", \"24836 rsjcg.lrh\", \"dir vrj\", \"dir wrqcfl\"]\n",
       " [\"cd lnj\"]\n",
       " [\"ls\", \"12592 tlh\"]\n",
       " [\"cd ..\"]\n",
       " [\"cd mtr\"]\n",
       " [\"ls\", \"118870 twdhlmp.gbw\"]\n",
       " [\"cd ..\"]\n",
       " [\"cd mznnlph\"]\n",
       " [\"ls\", \"240977 fmmhnhtf\", \"dir gbhcnts\", \"dir gsbjrrd\", \"dir pmwcs\", \"dir qtbprrq\", \"286007 rhnjndsq.gst\", \"dir twdhlmp\", \"283716 twdhlmp.rpr\"]\n",
       " [\"cd gbhcnts\"]\n",
       " ⋮\n",
       " [\"ls\", \"dir gbhcnts\", \"dir gfh\", \"dir ppqjzln\", \"dir qtbprrq\"]\n",
       " [\"cd gbhcnts\"]\n",
       " [\"ls\", \"156292 wlcl.fhs\"]\n",
       " [\"cd ..\"]\n",
       " [\"cd gfh\"]\n",
       " [\"ls\", \"189836 ljvwzj.wpt\", \"10416 zbnhzjvw.jct\"]\n",
       " [\"cd ..\"]\n",
       " [\"cd ppqjzln\"]\n",
       " [\"ls\", \"95088 sszd\"]\n",
       " [\"cd ..\"]\n",
       " [\"cd qtbprrq\"]\n",
       " [\"ls\", \"295187 hnnl\", \"292421 qtbprrq.ppg\", \"220281 wlcl.fhs\"]"
      ]
     },
     "execution_count": 6,
     "metadata": {},
     "output_type": "execute_result"
    }
   ],
   "source": [
    "PDI = parse_puzzle_file(\"input.txt\")"
   ]
  },
  {
   "cell_type": "markdown",
   "metadata": {},
   "source": [
    "## part 1"
   ]
  },
  {
   "cell_type": "markdown",
   "metadata": {},
   "source": [
    "### answer"
   ]
  },
  {
   "cell_type": "code",
   "execution_count": 7,
   "metadata": {},
   "outputs": [
    {
     "data": {
      "text/plain": [
       "DefaultDict{Any, Any, Int64} with 5 entries:\n",
       "  Any[\"d\", \"a\"] => 1\n",
       "  Any[]         => 5\n",
       "  Any[\"d\"]      => 2\n",
       "  Any[\"a\", \"a\"] => 1\n",
       "  Any[\"a\"]      => 2"
      ]
     },
     "execution_count": 7,
     "metadata": {},
     "output_type": "execute_result"
    }
   ],
   "source": [
    "calculate_folder_sizes(PDSE)"
   ]
  },
  {
   "cell_type": "code",
   "execution_count": 8,
   "metadata": {},
   "outputs": [
    {
     "name": "stdout",
     "output_type": "stream",
     "text": [
      "  0.343661 seconds (2.22 M allocations: 111.340 MiB, 6.34% gc time, 99.10% compilation time: 7% of which was recompilation)\n"
     ]
    },
    {
     "name": "stderr",
     "output_type": "stream",
     "text": [
      "\u001b[36m\u001b[1m┌ \u001b[22m\u001b[39m\u001b[36m\u001b[1mInfo: \u001b[22m\u001b[39mpart 1 answer\n",
      "\u001b[36m\u001b[1m│ \u001b[22m\u001b[39m  result1(PDS1) = 95437\n",
      "\u001b[36m\u001b[1m│ \u001b[22m\u001b[39m  result1(PDSE) = 11\n",
      "\u001b[36m\u001b[1m└ \u001b[22m\u001b[39m  result1(PDI) = 1490523\n"
     ]
    }
   ],
   "source": [
    "@time @info(\n",
    "    \"part 1 answer\",\n",
    "    result1(PDS1),\n",
    "    result1(PDSE),\n",
    "    result1(PDI),\n",
    ")"
   ]
  },
  {
   "cell_type": "markdown",
   "metadata": {},
   "source": [
    "## part 2"
   ]
  },
  {
   "cell_type": "markdown",
   "metadata": {},
   "source": [
    "### answer"
   ]
  },
  {
   "cell_type": "code",
   "execution_count": 9,
   "metadata": {},
   "outputs": [
    {
     "name": "stdout",
     "output_type": "stream",
     "text": [
      "  0.109087 seconds (531.34 k allocations: 26.299 MiB, 97.70% compilation time)\n"
     ]
    },
    {
     "name": "stderr",
     "output_type": "stream",
     "text": [
      "\u001b[36m\u001b[1m┌ \u001b[22m\u001b[39m\u001b[36m\u001b[1mInfo: \u001b[22m\u001b[39mpart 2 answer\n",
      "\u001b[36m\u001b[1m│ \u001b[22m\u001b[39m  result2(PDS1) = 24933642\n",
      "\u001b[36m\u001b[1m└ \u001b[22m\u001b[39m  result2(PDI) = 12390492\n"
     ]
    }
   ],
   "source": [
    "@time @info(\n",
    "    \"part 2 answer\",\n",
    "    result2(PDS1),\n",
    "    result2(PDI),\n",
    ")"
   ]
  }
 ],
 "metadata": {
  "@webio": {
   "lastCommId": null,
   "lastKernelId": null
  },
  "kernelspec": {
   "display_name": "Julia 1.8.2",
   "language": "julia",
   "name": "julia-1.8"
  },
  "language_info": {
   "file_extension": ".jl",
   "mimetype": "application/julia",
   "name": "julia",
   "version": "1.8.2"
  },
  "latex_envs": {
   "LaTeX_envs_menu_present": true,
   "autoclose": false,
   "autocomplete": true,
   "bibliofile": "biblio.bib",
   "cite_by": "apalike",
   "current_citInitial": 1,
   "eqLabelWithNumbers": true,
   "eqNumInitial": 1,
   "hotkeys": {
    "equation": "Ctrl-E",
    "itemize": "Ctrl-I"
   },
   "labels_anchors": false,
   "latex_user_defs": false,
   "report_style_numbering": false,
   "user_envs_cfg": false
  },
  "toc": {
   "base_numbering": 1,
   "nav_menu": {},
   "number_sections": true,
   "sideBar": true,
   "skip_h1_title": true,
   "title_cell": "Table of Contents",
   "title_sidebar": "Contents",
   "toc_cell": true,
   "toc_position": {},
   "toc_section_display": true,
   "toc_window_display": false
  }
 },
 "nbformat": 4,
 "nbformat_minor": 4
}
