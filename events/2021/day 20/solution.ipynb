{
 "cells": [
  {
   "cell_type": "markdown",
   "metadata": {},
   "source": [
    "# Advent of Code 2021 Day 20\n",
    "[link](https://adventofcode.com/2021/day/20)"
   ]
  },
  {
   "cell_type": "markdown",
   "metadata": {
    "toc": true
   },
   "source": [
    "<h1>Table of Contents<span class=\"tocSkip\"></span></h1>\n",
    "<div class=\"toc\"><ul class=\"toc-item\"><li><span><a href=\"#include-code-file-using-Revise\" data-toc-modified-id=\"include-code-file-using-Revise-1\"><span class=\"toc-item-num\">1&nbsp;&nbsp;</span>include code file using Revise</a></span></li><li><span><a href=\"#read-input\" data-toc-modified-id=\"read-input-2\"><span class=\"toc-item-num\">2&nbsp;&nbsp;</span>read input</a></span></li><li><span><a href=\"#part-1\" data-toc-modified-id=\"part-1-3\"><span class=\"toc-item-num\">3&nbsp;&nbsp;</span>part 1</a></span><ul class=\"toc-item\"><li><span><a href=\"#answer\" data-toc-modified-id=\"answer-3.1\"><span class=\"toc-item-num\">3.1&nbsp;&nbsp;</span>answer</a></span></li></ul></li><li><span><a href=\"#part-2\" data-toc-modified-id=\"part-2-4\"><span class=\"toc-item-num\">4&nbsp;&nbsp;</span>part 2</a></span><ul class=\"toc-item\"><li><span><a href=\"#answer\" data-toc-modified-id=\"answer-4.1\"><span class=\"toc-item-num\">4.1&nbsp;&nbsp;</span>answer</a></span></li></ul></li></ul></div>"
   ]
  },
  {
   "cell_type": "markdown",
   "metadata": {},
   "source": [
    "## include code file using Revise"
   ]
  },
  {
   "cell_type": "code",
   "execution_count": 1,
   "metadata": {
    "ExecuteTime": {
     "end_time": "2021-12-20T14:34:37.586000+08:00",
     "start_time": "2021-12-20T06:34:36.540Z"
    }
   },
   "outputs": [],
   "source": [
    "using Revise"
   ]
  },
  {
   "cell_type": "code",
   "execution_count": 2,
   "metadata": {
    "ExecuteTime": {
     "end_time": "2021-12-20T14:34:43.016000+08:00",
     "start_time": "2021-12-20T06:34:36.542Z"
    },
    "scrolled": true
   },
   "outputs": [],
   "source": [
    "includet(\"functions.jl\")"
   ]
  },
  {
   "cell_type": "markdown",
   "metadata": {},
   "source": [
    "## read input"
   ]
  },
  {
   "cell_type": "code",
   "execution_count": 3,
   "metadata": {
    "ExecuteTime": {
     "end_time": "2021-12-20T14:34:44.241000+08:00",
     "start_time": "2021-12-20T06:34:36.605Z"
    },
    "scrolled": false
   },
   "outputs": [
    {
     "data": {
      "text/plain": [
       "(algo = [0, 0, 1, 0, 1, 0, 0, 1, 1, 1  …  0, 0, 0, 0, 0, 0, 1, 0, 0, 1], image = [1 0 … 1 0; 1 0 … 0 0; … ; 0 0 … 0 0; 0 0 … 1 1])"
      ]
     },
     "execution_count": 3,
     "metadata": {},
     "output_type": "execute_result"
    }
   ],
   "source": [
    "PDS1 = parse_input(\"sample1.txt\")"
   ]
  },
  {
   "cell_type": "code",
   "execution_count": 4,
   "metadata": {
    "ExecuteTime": {
     "end_time": "2021-12-20T14:34:44.777000+08:00",
     "start_time": "2021-12-20T06:34:36.608Z"
    },
    "scrolled": true
   },
   "outputs": [
    {
     "data": {
      "text/plain": [
       "512-element Vector{Int64}:\n",
       " 0\n",
       " 0\n",
       " 1\n",
       " 0\n",
       " 1\n",
       " 0\n",
       " 0\n",
       " 1\n",
       " 1\n",
       " 1\n",
       " 1\n",
       " 1\n",
       " 0\n",
       " ⋮\n",
       " 1\n",
       " 1\n",
       " 0\n",
       " 0\n",
       " 0\n",
       " 0\n",
       " 0\n",
       " 0\n",
       " 1\n",
       " 0\n",
       " 0\n",
       " 1"
      ]
     },
     "execution_count": 4,
     "metadata": {},
     "output_type": "execute_result"
    }
   ],
   "source": [
    "PDS1.algo"
   ]
  },
  {
   "cell_type": "code",
   "execution_count": 5,
   "metadata": {
    "ExecuteTime": {
     "end_time": "2021-12-20T14:34:45.161000+08:00",
     "start_time": "2021-12-20T06:34:36.610Z"
    }
   },
   "outputs": [
    {
     "data": {
      "text/plain": [
       "5×5 OffsetArray(::Matrix{Int64}, 1:5, 1:5) with eltype Int64 with indices 1:5×1:5:\n",
       " 1  0  0  1  0\n",
       " 1  0  0  0  0\n",
       " 1  1  0  0  1\n",
       " 0  0  1  0  0\n",
       " 0  0  1  1  1"
      ]
     },
     "execution_count": 5,
     "metadata": {},
     "output_type": "execute_result"
    }
   ],
   "source": [
    "PDS1.image"
   ]
  },
  {
   "cell_type": "code",
   "execution_count": 6,
   "metadata": {
    "ExecuteTime": {
     "end_time": "2021-12-20T14:34:45.176000+08:00",
     "start_time": "2021-12-20T06:34:36.612Z"
    },
    "scrolled": true
   },
   "outputs": [
    {
     "data": {
      "text/plain": [
       "(algo = [1, 1, 1, 1, 0, 0, 0, 1, 1, 1  …  1, 1, 1, 0, 1, 1, 0, 1, 1, 0], image = [1 0 … 1 0; 0 1 … 0 0; … ; 0 0 … 0 1; 1 1 … 1 1])"
      ]
     },
     "execution_count": 6,
     "metadata": {},
     "output_type": "execute_result"
    }
   ],
   "source": [
    "PDI = parse_input(\"input.txt\")"
   ]
  },
  {
   "cell_type": "code",
   "execution_count": 7,
   "metadata": {
    "ExecuteTime": {
     "end_time": "2021-12-20T14:34:45.191000+08:00",
     "start_time": "2021-12-20T06:34:36.614Z"
    }
   },
   "outputs": [
    {
     "data": {
      "text/plain": [
       "512-element Vector{Int64}:\n",
       " 1\n",
       " 1\n",
       " 1\n",
       " 1\n",
       " 0\n",
       " 0\n",
       " 0\n",
       " 1\n",
       " 1\n",
       " 1\n",
       " 0\n",
       " 1\n",
       " 1\n",
       " ⋮\n",
       " 0\n",
       " 0\n",
       " 1\n",
       " 1\n",
       " 1\n",
       " 0\n",
       " 1\n",
       " 1\n",
       " 0\n",
       " 1\n",
       " 1\n",
       " 0"
      ]
     },
     "execution_count": 7,
     "metadata": {},
     "output_type": "execute_result"
    }
   ],
   "source": [
    "PDI.algo"
   ]
  },
  {
   "cell_type": "code",
   "execution_count": 8,
   "metadata": {
    "ExecuteTime": {
     "end_time": "2021-12-20T14:34:45.206000+08:00",
     "start_time": "2021-12-20T06:34:36.616Z"
    }
   },
   "outputs": [
    {
     "data": {
      "text/plain": [
       "100×100 OffsetArray(::Matrix{Int64}, 1:100, 1:100) with eltype Int64 with indices 1:100×1:100:\n",
       " 1  0  1  0  0  0  1  0  0  1  1  0  0  …  0  0  0  1  0  0  0  1  1  0  1  0\n",
       " 0  1  1  1  0  1  0  0  1  0  1  0  1     0  1  1  1  1  1  0  0  0  0  0  0\n",
       " 1  1  0  1  0  1  1  1  0  1  0  1  0     0  1  1  1  1  0  0  1  0  1  1  0\n",
       " 0  0  0  1  0  0  1  1  0  0  0  1  1     1  1  0  0  1  0  0  1  0  1  0  0\n",
       " 0  0  0  0  0  1  1  1  0  0  0  0  1     0  0  1  1  1  1  0  0  1  0  1  0\n",
       " 0  0  1  1  1  1  0  0  1  1  1  0  1  …  0  1  1  1  0  1  1  0  0  0  1  1\n",
       " 1  1  1  0  1  0  0  1  1  1  1  1  0     0  0  1  0  0  0  0  1  1  0  0  1\n",
       " 0  0  0  1  0  0  0  1  0  1  0  1  1     1  1  0  0  1  0  1  0  0  1  1  1\n",
       " 1  1  0  0  0  1  1  0  0  1  1  1  0     1  1  1  0  1  0  0  0  1  0  0  0\n",
       " 0  1  1  0  1  0  0  1  0  0  1  0  0     0  0  1  1  0  0  1  1  1  1  1  1\n",
       " 1  0  1  0  0  1  1  1  1  0  1  1  1  …  0  1  1  0  1  0  0  0  0  1  1  0\n",
       " 0  1  0  0  1  0  1  0  1  0  0  1  0     0  0  1  1  1  1  1  1  0  0  1  1\n",
       " 0  0  1  1  0  1  1  1  1  0  1  1  0     0  0  0  1  1  1  0  0  1  1  0  0\n",
       " ⋮              ⋮              ⋮        ⋱        ⋮              ⋮           \n",
       " 0  1  1  1  0  1  1  1  0  1  1  0  1     1  0  0  1  0  1  0  0  0  1  1  0\n",
       " 0  0  1  1  0  1  0  1  0  1  1  1  1     0  1  0  0  0  1  1  0  0  0  1  1\n",
       " 0  0  0  0  0  0  1  1  1  0  0  1  1  …  0  0  0  0  0  0  0  0  0  1  0  0\n",
       " 1  1  1  0  0  0  0  0  0  0  0  0  0     0  0  1  0  1  1  1  1  0  1  0  1\n",
       " 0  1  0  0  0  0  0  1  0  0  0  0  1     0  0  0  0  1  0  1  1  0  1  1  1\n",
       " 0  0  1  0  0  0  1  1  1  0  0  0  0     1  1  0  0  0  1  1  1  0  0  0  0\n",
       " 1  1  0  1  0  1  0  1  0  1  0  0  0     0  0  1  0  0  0  1  1  0  0  0  0\n",
       " 0  0  0  0  0  0  0  1  0  1  0  1  0  …  0  1  0  1  1  1  0  0  0  1  1  0\n",
       " 0  0  1  1  0  1  0  1  0  0  1  1  0     0  1  1  1  1  1  1  0  1  1  1  0\n",
       " 1  1  0  1  0  1  0  1  0  1  0  1  0     1  0  0  0  1  1  1  0  0  1  0  0\n",
       " 0  0  1  1  0  0  0  1  1  1  1  0  0     1  1  1  1  1  1  1  1  0  0  0  1\n",
       " 1  1  1  1  0  1  1  0  1  0  1  0  1     1  0  0  0  0  1  0  1  1  1  1  1"
      ]
     },
     "execution_count": 8,
     "metadata": {},
     "output_type": "execute_result"
    }
   ],
   "source": [
    "PDI.image"
   ]
  },
  {
   "cell_type": "markdown",
   "metadata": {},
   "source": [
    "## part 1"
   ]
  },
  {
   "cell_type": "code",
   "execution_count": 9,
   "metadata": {
    "ExecuteTime": {
     "end_time": "2021-12-20T14:34:45.770000+08:00",
     "start_time": "2021-12-20T06:34:36.691Z"
    }
   },
   "outputs": [
    {
     "data": {
      "text/plain": [
       "9-element Vector{CartesianIndex{2}}:\n",
       " CI(4, 9)\n",
       " CI(4, 10)\n",
       " CI(4, 11)\n",
       " CI(5, 9)\n",
       " CI(5, 10)\n",
       " CI(5, 11)\n",
       " CI(6, 9)\n",
       " CI(6, 10)\n",
       " CI(6, 11)"
      ]
     },
     "execution_count": 9,
     "metadata": {},
     "output_type": "execute_result"
    }
   ],
   "source": [
    "get_neighbours(CI(5, 10))"
   ]
  },
  {
   "cell_type": "code",
   "execution_count": 10,
   "metadata": {
    "ExecuteTime": {
     "end_time": "2021-12-20T14:34:45.911000+08:00",
     "start_time": "2021-12-20T06:34:36.693Z"
    }
   },
   "outputs": [
    {
     "data": {
      "text/plain": [
       "9×9 OffsetArray(::Matrix{Int64}, -1:7, -1:7) with eltype Int64 with indices -1:7×-1:7:\n",
       " 0  0  0  0  0  0  0  0  0\n",
       " 0  0  0  0  0  0  0  0  0\n",
       " 0  0  1  0  0  1  0  0  0\n",
       " 0  0  1  0  0  0  0  0  0\n",
       " 0  0  1  1  0  0  1  0  0\n",
       " 0  0  0  0  1  0  0  0  0\n",
       " 0  0  0  0  1  1  1  0  0\n",
       " 0  0  0  0  0  0  0  0  0\n",
       " 0  0  0  0  0  0  0  0  0"
      ]
     },
     "execution_count": 10,
     "metadata": {},
     "output_type": "execute_result"
    }
   ],
   "source": [
    "@chain PDS1.image begin\n",
    "    expand_image(false)\n",
    "end"
   ]
  },
  {
   "cell_type": "code",
   "execution_count": 11,
   "metadata": {
    "ExecuteTime": {
     "end_time": "2021-12-20T14:34:46.047000+08:00",
     "start_time": "2021-12-20T06:34:36.694Z"
    }
   },
   "outputs": [
    {
     "data": {
      "text/plain": [
       "7×7 OffsetArray(::Matrix{Int64}, 0:6, 0:6) with eltype Int64 with indices 0:6×0:6:\n",
       " 0  1  1  0  1  1  0\n",
       " 1  0  0  1  0  1  0\n",
       " 1  1  0  1  0  0  1\n",
       " 1  1  1  1  0  0  1\n",
       " 0  1  0  0  1  1  0\n",
       " 0  0  1  1  0  0  1\n",
       " 0  0  0  1  0  1  0"
      ]
     },
     "execution_count": 11,
     "metadata": {},
     "output_type": "execute_result"
    }
   ],
   "source": [
    "@chain PDS1.image begin\n",
    "    enhance_image(PDS1.algo, 1)\n",
    "end"
   ]
  },
  {
   "cell_type": "code",
   "execution_count": 12,
   "metadata": {
    "ExecuteTime": {
     "end_time": "2021-12-20T14:34:46.063000+08:00",
     "start_time": "2021-12-20T06:34:36.695Z"
    }
   },
   "outputs": [
    {
     "data": {
      "text/plain": [
       "9×9 OffsetArray(::Matrix{Int64}, -1:7, -1:7) with eltype Int64 with indices -1:7×-1:7:\n",
       " 0  0  0  0  0  0  0  1  0\n",
       " 0  1  0  0  1  0  1  0  0\n",
       " 1  0  1  0  0  0  1  1  1\n",
       " 1  0  0  0  1  1  0  1  0\n",
       " 1  0  0  0  0  0  1  0  1\n",
       " 0  1  0  1  1  1  1  1  0\n",
       " 0  0  1  0  1  1  1  1  1\n",
       " 0  0  0  1  1  0  1  1  0\n",
       " 0  0  0  0  1  1  1  0  0"
      ]
     },
     "execution_count": 12,
     "metadata": {},
     "output_type": "execute_result"
    }
   ],
   "source": [
    "@chain PDS1.image begin\n",
    "    enhance_image(PDS1.algo, 1)\n",
    "    enhance_image(PDS1.algo, 2)\n",
    "end"
   ]
  },
  {
   "cell_type": "code",
   "execution_count": 13,
   "metadata": {
    "ExecuteTime": {
     "end_time": "2021-12-20T14:34:46.326000+08:00",
     "start_time": "2021-12-20T06:34:36.697Z"
    }
   },
   "outputs": [
    {
     "name": "stdout",
     "output_type": "stream",
     "text": [
      "PDI.algo[1] = 1\n",
      "PDI.algo[end] = 0\n"
     ]
    },
    {
     "data": {
      "text/plain": [
       "0"
      ]
     },
     "execution_count": 13,
     "metadata": {},
     "output_type": "execute_result"
    }
   ],
   "source": [
    "@show PDI.algo[1]\n",
    "@show PDI.algo[end]"
   ]
  },
  {
   "cell_type": "code",
   "execution_count": 14,
   "metadata": {
    "ExecuteTime": {
     "end_time": "2021-12-20T14:34:46.414000+08:00",
     "start_time": "2021-12-20T06:34:36.699Z"
    }
   },
   "outputs": [
    {
     "data": {
      "text/plain": [
       "104×104 OffsetArray(::Matrix{Int64}, -1:102, -1:102) with eltype Int64 with indices -1:102×-1:102:\n",
       " 0  0  0  0  0  0  0  0  0  0  0  0  0  …  0  0  0  0  0  0  0  0  0  0  0  0\n",
       " 0  0  0  0  0  0  0  0  0  0  0  0  0     0  0  0  0  0  0  0  0  0  0  0  0\n",
       " 0  0  1  0  1  0  0  0  1  0  0  1  1     0  1  0  0  0  1  1  0  1  0  0  0\n",
       " 0  0  0  1  1  1  0  1  0  0  1  0  1     1  1  1  1  0  0  0  0  0  0  0  0\n",
       " 0  0  1  1  0  1  0  1  1  1  0  1  0     1  1  1  0  0  1  0  1  1  0  0  0\n",
       " 0  0  0  0  0  1  0  0  1  1  0  0  0  …  0  0  1  0  0  1  0  1  0  0  0  0\n",
       " 0  0  0  0  0  0  0  1  1  1  0  0  0     1  1  1  1  0  0  1  0  1  0  0  0\n",
       " 0  0  0  0  1  1  1  1  0  0  1  1  1     1  1  0  1  1  0  0  0  1  1  0  0\n",
       " 0  0  1  1  1  0  1  0  0  1  1  1  1     1  0  0  0  0  1  1  0  0  1  0  0\n",
       " 0  0  0  0  0  1  0  0  0  1  0  1  0     0  0  1  0  1  0  0  1  1  1  0  0\n",
       " 0  0  1  1  0  0  0  1  1  0  0  1  1  …  1  0  1  0  0  0  1  0  0  0  0  0\n",
       " 0  0  0  1  1  0  1  0  0  1  0  0  1     1  1  0  0  1  1  1  1  1  1  0  0\n",
       " 0  0  1  0  1  0  0  1  1  1  1  0  1     1  0  1  0  0  0  0  1  1  0  0  0\n",
       " ⋮              ⋮              ⋮        ⋱           ⋮              ⋮        \n",
       " 0  0  0  0  0  0  0  0  1  1  1  0  0     0  0  0  0  0  0  0  1  0  0  0  0\n",
       " 0  0  1  1  1  0  0  0  0  0  0  0  0     1  0  1  1  1  1  0  1  0  1  0  0\n",
       " 0  0  0  1  0  0  0  0  0  1  0  0  0     0  0  1  0  1  1  0  1  1  1  0  0\n",
       " 0  0  0  0  1  0  0  0  1  1  1  0  0  …  0  0  0  1  1  1  0  0  0  0  0  0\n",
       " 0  0  1  1  0  1  0  1  0  1  0  1  0     1  0  0  0  1  1  0  0  0  0  0  0\n",
       " 0  0  0  0  0  0  0  0  0  1  0  1  0     0  1  1  1  0  0  0  1  1  0  0  0\n",
       " 0  0  0  0  1  1  0  1  0  1  0  0  1     1  1  1  1  1  0  1  1  1  0  0  0\n",
       " 0  0  1  1  0  1  0  1  0  1  0  1  0     0  0  1  1  1  0  0  1  0  0  0  0\n",
       " 0  0  0  0  1  1  0  0  0  1  1  1  1  …  1  1  1  1  1  1  0  0  0  1  0  0\n",
       " 0  0  1  1  1  1  0  1  1  0  1  0  1     0  0  0  1  0  1  1  1  1  1  0  0\n",
       " 0  0  0  0  0  0  0  0  0  0  0  0  0     0  0  0  0  0  0  0  0  0  0  0  0\n",
       " 0  0  0  0  0  0  0  0  0  0  0  0  0     0  0  0  0  0  0  0  0  0  0  0  0"
      ]
     },
     "execution_count": 14,
     "metadata": {},
     "output_type": "execute_result"
    }
   ],
   "source": [
    "@chain PDI.image begin\n",
    "    expand_image(false)\n",
    "end"
   ]
  },
  {
   "cell_type": "code",
   "execution_count": 15,
   "metadata": {
    "ExecuteTime": {
     "end_time": "2021-12-20T14:34:46.414000+08:00",
     "start_time": "2021-12-20T06:34:36.699Z"
    },
    "scrolled": true
   },
   "outputs": [
    {
     "data": {
      "text/plain": [
       "102×102 OffsetArray(::Matrix{Int64}, 0:101, 0:101) with eltype Int64 with indices 0:101×0:101:\n",
       " 1  1  0  1  0  1  1  1  0  1  1  0  0  …  1  1  1  0  1  1  1  0  0  1  0  1\n",
       " 1  0  1  0  1  0  0  0  1  0  0  0  0     1  1  0  0  0  1  0  1  0  1  0  1\n",
       " 0  1  1  0  0  1  1  1  0  0  0  0  1     1  1  0  0  0  0  0  0  0  1  1  1\n",
       " 1  1  0  1  1  1  1  1  0  0  0  1  0     0  0  0  0  0  1  1  1  1  0  0  1\n",
       " 1  1  1  1  1  0  1  0  0  0  1  1  1     0  1  0  0  0  0  0  0  0  0  1  1\n",
       " 1  1  1  1  0  0  0  1  1  0  1  1  0  …  1  0  0  0  1  1  1  0  1  0  1  0\n",
       " 1  1  1  1  0  1  0  0  1  0  0  0  1     1  1  0  1  0  1  1  1  0  1  0  1\n",
       " 1  0  1  0  1  0  0  1  1  0  1  1  1     0  0  0  1  0  1  0  1  1  0  0  0\n",
       " 0  1  1  0  0  0  0  0  0  1  1  0  0     0  0  0  1  1  0  0  1  0  1  1  0\n",
       " 1  1  0  1  0  0  0  1  0  0  1  0  0     1  1  1  0  0  0  0  1  1  1  1  1\n",
       " 0  0  0  0  1  1  0  1  1  1  0  1  1  …  0  0  1  0  1  0  1  1  1  0  0  0\n",
       " 1  1  0  1  0  0  0  1  0  0  1  1  0     1  0  1  1  1  1  1  0  1  0  0  1\n",
       " 1  1  0  1  0  0  1  1  0  0  1  1  0     1  0  1  0  0  0  1  1  0  1  1  0\n",
       " ⋮              ⋮              ⋮        ⋱  ⋮              ⋮              ⋮  \n",
       " 1  1  1  1  1  1  0  1  0  0  0  1  1  …  0  1  1  1  0  1  0  0  0  1  1  0\n",
       " 1  1  1  0  1  0  1  0  1  1  0  1  1     1  1  0  1  1  1  1  1  1  0  0  1\n",
       " 1  1  0  0  0  1  1  0  1  1  1  1  0     1  1  0  1  0  1  0  0  1  0  1  1\n",
       " 1  1  1  0  1  1  1  1  0  1  0  1  1     1  1  1  0  1  0  0  1  0  0  1  0\n",
       " 1  1  0  0  0  0  0  1  1  1  0  0  1     1  0  0  1  1  0  0  0  1  0  1  1\n",
       " 1  0  1  0  0  0  0  0  1  1  0  0  1  …  1  0  1  1  0  1  1  1  1  0  0  1\n",
       " 1  1  1  0  1  0  1  0  0  1  0  1  1     1  0  0  0  0  1  0  0  1  0  1  1\n",
       " 1  1  0  0  0  1  1  0  0  1  0  0  0     0  0  1  1  1  0  1  1  1  1  0  1\n",
       " 1  0  1  1  0  1  1  1  1  0  1  1  1     1  1  0  0  0  1  1  1  1  0  1  0\n",
       " 0  1  1  1  1  1  0  0  1  0  0  0  1     1  1  1  1  1  1  1  1  0  0  1  1\n",
       " 1  0  1  1  1  0  0  1  0  1  1  0  0  …  1  0  0  1  1  1  0  0  1  1  1  0\n",
       " 1  1  0  0  1  0  1  1  0  1  0  1  0     1  1  1  1  1  0  1  0  0  0  1  1"
      ]
     },
     "execution_count": 15,
     "metadata": {},
     "output_type": "execute_result"
    }
   ],
   "source": [
    "@chain PDI.image begin\n",
    "    enhance_image(PDI.algo, 1)\n",
    "end"
   ]
  },
  {
   "cell_type": "code",
   "execution_count": 16,
   "metadata": {
    "ExecuteTime": {
     "end_time": "2021-12-20T14:34:46.535000+08:00",
     "start_time": "2021-12-20T06:34:36.700Z"
    },
    "scrolled": true
   },
   "outputs": [
    {
     "data": {
      "text/plain": [
       "104×104 OffsetArray(::Matrix{Int64}, -1:102, -1:102) with eltype Int64 with indices -1:102×-1:102:\n",
       " 0  0  1  1  1  1  1  0  1  1  1  1  0  …  0  1  1  1  0  1  0  0  1  1  1  0\n",
       " 0  1  0  1  0  1  1  1  0  1  1  1  1     1  0  1  1  1  0  0  0  1  0  0  0\n",
       " 1  0  1  0  0  0  0  1  0  1  0  1  0     1  0  0  1  1  0  0  0  1  0  0  0\n",
       " 1  1  1  1  0  1  0  0  0  1  1  1  0     1  0  1  0  0  1  0  0  0  0  0  0\n",
       " 1  0  1  1  0  0  0  1  1  0  1  1  1     0  1  1  1  0  1  1  1  0  0  0  0\n",
       " 0  0  1  0  1  0  1  1  0  1  1  1  0  …  0  0  1  1  1  1  1  0  0  1  0  1\n",
       " 0  0  0  0  1  0  1  1  1  0  1  1  0     0  0  0  0  1  0  0  1  0  0  1  0\n",
       " 0  1  1  1  1  1  0  0  1  0  1  1  1     1  0  1  0  0  1  1  0  1  0  1  0\n",
       " 1  0  1  0  0  0  0  1  1  0  1  1  0     1  0  1  0  0  1  1  1  1  1  0  0\n",
       " 1  1  1  1  1  1  1  0  0  0  1  0  1     1  0  0  1  0  0  0  1  0  0  1  0\n",
       " 0  1  0  0  0  1  0  1  1  1  0  0  0  …  0  0  0  0  0  0  0  0  1  0  0  0\n",
       " 1  1  1  0  0  0  1  0  0  1  1  0  0     0  0  0  0  0  0  0  0  1  1  0  0\n",
       " 1  1  0  1  1  0  1  1  1  1  0  0  0     0  0  1  1  0  0  1  0  0  0  1  0\n",
       " ⋮              ⋮              ⋮        ⋱           ⋮              ⋮        \n",
       " 0  0  1  0  1  1  1  0  1  0  0  1  0     0  0  1  1  1  1  0  0  0  1  1  0\n",
       " 0  0  1  0  0  1  1  1  0  1  0  1  0     1  0  0  1  0  0  1  1  1  1  0  1\n",
       " 0  0  0  0  0  1  1  1  1  1  0  1  0     1  0  0  0  1  1  1  0  0  0  0  0\n",
       " 0  1  0  0  0  1  0  1  0  1  1  0  1  …  1  1  1  1  0  1  1  0  1  1  1  0\n",
       " 0  1  1  0  0  1  0  0  1  1  1  0  0     0  1  0  0  1  0  0  0  1  1  0  0\n",
       " 0  1  0  0  0  0  1  1  0  1  1  0  1     0  1  1  0  0  1  0  0  0  1  0  0\n",
       " 0  1  0  0  1  1  0  1  0  0  1  0  1     0  0  1  1  0  0  1  0  1  0  1  1\n",
       " 1  0  1  0  0  1  0  1  0  0  0  0  0     0  1  1  1  1  0  1  0  0  0  1  0\n",
       " 1  1  0  0  1  0  0  0  1  0  0  0  0  …  1  0  1  1  1  0  0  0  0  0  1  0\n",
       " 1  1  1  1  0  0  0  0  1  1  1  1  1     1  0  0  1  0  0  0  0  0  0  0  0\n",
       " 0  1  1  1  0  0  0  0  1  0  0  1  1     1  1  0  1  1  1  1  1  0  0  0  0\n",
       " 0  0  1  1  1  0  0  0  1  0  0  0  0     0  0  0  1  0  0  1  0  1  0  0  0"
      ]
     },
     "execution_count": 16,
     "metadata": {},
     "output_type": "execute_result"
    }
   ],
   "source": [
    "@chain PDI.image begin\n",
    "    enhance_image(PDI.algo, 1)\n",
    "    enhance_image(PDI.algo, 2)\n",
    "end"
   ]
  },
  {
   "cell_type": "markdown",
   "metadata": {},
   "source": [
    "### answer"
   ]
  },
  {
   "cell_type": "code",
   "execution_count": 17,
   "metadata": {
    "ExecuteTime": {
     "end_time": "2021-12-20T14:34:46.878000+08:00",
     "start_time": "2021-12-20T06:34:36.761Z"
    }
   },
   "outputs": [
    {
     "name": "stdout",
     "output_type": "stream",
     "text": [
      "  0.250440 seconds (1.33 M allocations: 65.523 MiB, 6.03% gc time, 58.55% compilation time)\n"
     ]
    },
    {
     "name": "stderr",
     "output_type": "stream",
     "text": [
      "┌ Info: part 1 answer\n",
      "│   result1(PDS1) = 35\n",
      "│   result1(PDI) = 5179\n",
      "└ @ Main In[17]:1\n"
     ]
    }
   ],
   "source": [
    "@time @info(\n",
    "    \"part 1 answer\",\n",
    "    result1(PDS1),\n",
    "    result1(PDI),\n",
    ")"
   ]
  },
  {
   "cell_type": "markdown",
   "metadata": {},
   "source": [
    "## part 2"
   ]
  },
  {
   "cell_type": "markdown",
   "metadata": {},
   "source": [
    "### answer"
   ]
  },
  {
   "cell_type": "code",
   "execution_count": 18,
   "metadata": {
    "ExecuteTime": {
     "end_time": "2021-12-20T14:34:52.100000+08:00",
     "start_time": "2021-12-20T06:34:36.857Z"
    }
   },
   "outputs": [
    {
     "name": "stdout",
     "output_type": "stream",
     "text": [
      "  5.159039 seconds (70.50 M allocations: 3.276 GiB, 7.08% gc time, 0.81% compilation time)\n"
     ]
    },
    {
     "name": "stderr",
     "output_type": "stream",
     "text": [
      "┌ Info: part 2 answer\n",
      "│   result2(PDS1) = 3351\n",
      "│   result2(PDI) = 16112\n",
      "└ @ Main In[18]:1\n"
     ]
    }
   ],
   "source": [
    "@time @info(\n",
    "    \"part 2 answer\",\n",
    "    result2(PDS1),\n",
    "    result2(PDI),\n",
    "    )"
   ]
  }
 ],
 "metadata": {
  "@webio": {
   "lastCommId": null,
   "lastKernelId": null
  },
  "kernelspec": {
   "display_name": "Julia 1.7.0",
   "language": "julia",
   "name": "julia-1.7"
  },
  "language_info": {
   "file_extension": ".jl",
   "mimetype": "application/julia",
   "name": "julia",
   "version": "1.7.0"
  },
  "latex_envs": {
   "LaTeX_envs_menu_present": true,
   "autoclose": false,
   "autocomplete": true,
   "bibliofile": "biblio.bib",
   "cite_by": "apalike",
   "current_citInitial": 1,
   "eqLabelWithNumbers": true,
   "eqNumInitial": 1,
   "hotkeys": {
    "equation": "Ctrl-E",
    "itemize": "Ctrl-I"
   },
   "labels_anchors": false,
   "latex_user_defs": false,
   "report_style_numbering": false,
   "user_envs_cfg": false
  },
  "toc": {
   "base_numbering": 1,
   "nav_menu": {},
   "number_sections": true,
   "sideBar": true,
   "skip_h1_title": true,
   "title_cell": "Table of Contents",
   "title_sidebar": "Contents",
   "toc_cell": true,
   "toc_position": {},
   "toc_section_display": true,
   "toc_window_display": false
  }
 },
 "nbformat": 4,
 "nbformat_minor": 4
}
