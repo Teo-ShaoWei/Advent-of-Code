{
 "cells": [
  {
   "cell_type": "markdown",
   "metadata": {},
   "source": [
    "# Advent of Code 2015 Day 2\n",
    "[link](https://adventofcode.com/2015/day/2)"
   ]
  },
  {
   "cell_type": "markdown",
   "metadata": {
    "toc": true
   },
   "source": [
    "<h1>Table of Contents<span class=\"tocSkip\"></span></h1>\n",
    "<div class=\"toc\"><ul class=\"toc-item\"><li><span><a href=\"#include-code-file-using-Revise\" data-toc-modified-id=\"include-code-file-using-Revise-1\"><span class=\"toc-item-num\">1&nbsp;&nbsp;</span>include code file using Revise</a></span></li><li><span><a href=\"#read-input\" data-toc-modified-id=\"read-input-2\"><span class=\"toc-item-num\">2&nbsp;&nbsp;</span>read input</a></span><ul class=\"toc-item\"><li><span><a href=\"#PDS1-:=-puzzle-data-sample-1\" data-toc-modified-id=\"PDS1-:=-puzzle-data-sample-1-2.1\"><span class=\"toc-item-num\">2.1&nbsp;&nbsp;</span>PDS1 := puzzle data sample 1</a></span></li><li><span><a href=\"#PDI-:=-puzzle-data-input\" data-toc-modified-id=\"PDI-:=-puzzle-data-input-2.2\"><span class=\"toc-item-num\">2.2&nbsp;&nbsp;</span>PDI := puzzle data input</a></span></li></ul></li><li><span><a href=\"#part-1\" data-toc-modified-id=\"part-1-3\"><span class=\"toc-item-num\">3&nbsp;&nbsp;</span>part 1</a></span><ul class=\"toc-item\"><li><span><a href=\"#answer\" data-toc-modified-id=\"answer-3.1\"><span class=\"toc-item-num\">3.1&nbsp;&nbsp;</span>answer</a></span></li></ul></li><li><span><a href=\"#part-2\" data-toc-modified-id=\"part-2-4\"><span class=\"toc-item-num\">4&nbsp;&nbsp;</span>part 2</a></span><ul class=\"toc-item\"><li><span><a href=\"#answer\" data-toc-modified-id=\"answer-4.1\"><span class=\"toc-item-num\">4.1&nbsp;&nbsp;</span>answer</a></span></li></ul></li></ul></div>"
   ]
  },
  {
   "cell_type": "markdown",
   "metadata": {},
   "source": [
    "## include code file using Revise"
   ]
  },
  {
   "cell_type": "code",
   "execution_count": 1,
   "metadata": {
    "ExecuteTime": {
     "end_time": "2021-12-12T01:34:56.521000+08:00",
     "start_time": "2021-12-11T17:34:55.548Z"
    }
   },
   "outputs": [],
   "source": [
    "using Revise"
   ]
  },
  {
   "cell_type": "code",
   "execution_count": 2,
   "metadata": {
    "ExecuteTime": {
     "end_time": "2021-12-12T01:35:01.678000+08:00",
     "start_time": "2021-12-11T17:34:55.550Z"
    },
    "scrolled": true
   },
   "outputs": [],
   "source": [
    "includet(\"functions.jl\")"
   ]
  },
  {
   "cell_type": "markdown",
   "metadata": {},
   "source": [
    "## read input"
   ]
  },
  {
   "cell_type": "markdown",
   "metadata": {},
   "source": [
    "### PDS1 := puzzle data sample 1"
   ]
  },
  {
   "cell_type": "code",
   "execution_count": 3,
   "metadata": {
    "ExecuteTime": {
     "end_time": "2021-12-12T01:35:02.380000+08:00",
     "start_time": "2021-12-11T17:34:55.678Z"
    }
   },
   "outputs": [
    {
     "data": {
      "text/plain": [
       "RegexMatch(\"12x4x5\", l=\"12\", w=\"4\", h=\"5\")"
      ]
     },
     "execution_count": 3,
     "metadata": {},
     "output_type": "execute_result"
    }
   ],
   "source": [
    "match(r\"(?<l>\\d+)x(?<w>\\d+)x(?<h>\\d+)\", \"12x4x5\")"
   ]
  },
  {
   "cell_type": "code",
   "execution_count": 4,
   "metadata": {
    "ExecuteTime": {
     "end_time": "2021-12-12T01:35:03.401000+08:00",
     "start_time": "2021-12-11T17:34:55.680Z"
    },
    "scrolled": true
   },
   "outputs": [
    {
     "data": {
      "text/plain": [
       "2-element Vector{NamedTuple{(:l, :w, :h), Tuple{Int64, Int64, Int64}}}:\n",
       " (l = 2, w = 3, h = 4)\n",
       " (l = 1, w = 1, h = 10)"
      ]
     },
     "execution_count": 4,
     "metadata": {},
     "output_type": "execute_result"
    }
   ],
   "source": [
    "PDS1 = parse_input(\"sample1.txt\")"
   ]
  },
  {
   "cell_type": "markdown",
   "metadata": {},
   "source": [
    "### PDI := puzzle data input"
   ]
  },
  {
   "cell_type": "code",
   "execution_count": 5,
   "metadata": {
    "ExecuteTime": {
     "end_time": "2021-12-12T01:35:03.418000+08:00",
     "start_time": "2021-12-11T17:34:55.737Z"
    },
    "scrolled": true
   },
   "outputs": [
    {
     "data": {
      "text/plain": [
       "1000-element Vector{NamedTuple{(:l, :w, :h), Tuple{Int64, Int64, Int64}}}:\n",
       " (l = 29, w = 13, h = 26)\n",
       " (l = 11, w = 11, h = 14)\n",
       " (l = 27, w = 2, h = 5)\n",
       " (l = 6, w = 10, h = 13)\n",
       " (l = 15, w = 19, h = 10)\n",
       " (l = 26, w = 29, h = 15)\n",
       " (l = 8, w = 23, h = 6)\n",
       " (l = 17, w = 8, h = 26)\n",
       " (l = 20, w = 28, h = 3)\n",
       " (l = 23, w = 12, h = 24)\n",
       " (l = 11, w = 17, h = 3)\n",
       " (l = 19, w = 23, h = 28)\n",
       " (l = 25, w = 2, h = 25)\n",
       " ⋮\n",
       " (l = 24, w = 5, h = 1)\n",
       " (l = 19, w = 29, h = 29)\n",
       " (l = 11, w = 23, h = 1)\n",
       " (l = 8, w = 16, h = 21)\n",
       " (l = 3, w = 17, h = 19)\n",
       " (l = 10, w = 13, h = 5)\n",
       " (l = 20, w = 21, h = 16)\n",
       " (l = 23, w = 3, h = 6)\n",
       " (l = 27, w = 26, h = 11)\n",
       " (l = 3, w = 2, h = 22)\n",
       " (l = 14, w = 3, h = 5)\n",
       " (l = 10, w = 9, h = 8)"
      ]
     },
     "execution_count": 5,
     "metadata": {},
     "output_type": "execute_result"
    }
   ],
   "source": [
    "PDI = parse_input(\"input.txt\")"
   ]
  },
  {
   "cell_type": "markdown",
   "metadata": {},
   "source": [
    "## part 1"
   ]
  },
  {
   "cell_type": "code",
   "execution_count": 6,
   "metadata": {
    "ExecuteTime": {
     "end_time": "2021-12-12T01:35:03.855000+08:00",
     "start_time": "2021-12-11T17:34:55.795Z"
    }
   },
   "outputs": [
    {
     "data": {
      "text/plain": [
       "2-element Vector{Int64}:\n",
       " 58\n",
       " 43"
      ]
     },
     "execution_count": 6,
     "metadata": {},
     "output_type": "execute_result"
    }
   ],
   "source": [
    "get_wrapping_paper_size.(PDS1)"
   ]
  },
  {
   "cell_type": "markdown",
   "metadata": {},
   "source": [
    "### answer"
   ]
  },
  {
   "cell_type": "code",
   "execution_count": 7,
   "metadata": {
    "ExecuteTime": {
     "end_time": "2021-12-12T01:35:04.060000+08:00",
     "start_time": "2021-12-11T17:34:55.848Z"
    }
   },
   "outputs": [
    {
     "name": "stdout",
     "output_type": "stream",
     "text": [
      "  0.118438 seconds (191.30 k allocations: 10.816 MiB, 99.05% compilation time)\n"
     ]
    },
    {
     "name": "stderr",
     "output_type": "stream",
     "text": [
      "┌ Info: part 1 answer\n",
      "│   result1(PDS1) = 101\n",
      "│   result1(PDI) = 1586300\n",
      "└ @ Main In[7]:1\n"
     ]
    }
   ],
   "source": [
    "@time @info(\n",
    "    \"part 1 answer\",\n",
    "    result1(PDS1),\n",
    "    result1(PDI),\n",
    ")"
   ]
  },
  {
   "cell_type": "markdown",
   "metadata": {},
   "source": [
    "## part 2"
   ]
  },
  {
   "cell_type": "code",
   "execution_count": 8,
   "metadata": {
    "ExecuteTime": {
     "end_time": "2021-12-12T01:35:04.128000+08:00",
     "start_time": "2021-12-11T17:34:55.915Z"
    }
   },
   "outputs": [
    {
     "data": {
      "text/plain": [
       "2-element Vector{Int64}:\n",
       " 34\n",
       " 14"
      ]
     },
     "execution_count": 8,
     "metadata": {},
     "output_type": "execute_result"
    }
   ],
   "source": [
    "get_ribbon_length.(PDS1)"
   ]
  },
  {
   "cell_type": "markdown",
   "metadata": {},
   "source": [
    "### answer"
   ]
  },
  {
   "cell_type": "code",
   "execution_count": 9,
   "metadata": {
    "ExecuteTime": {
     "end_time": "2021-12-12T01:35:04.221000+08:00",
     "start_time": "2021-12-11T17:34:55.972Z"
    }
   },
   "outputs": [
    {
     "name": "stdout",
     "output_type": "stream",
     "text": [
      "  0.043213 seconds (84.40 k allocations: 4.751 MiB, 97.89% compilation time)\n"
     ]
    },
    {
     "name": "stderr",
     "output_type": "stream",
     "text": [
      "┌ Info: part 2 answer\n",
      "│   result2(PDS1) = 48\n",
      "│   result2(PDI) = 3737498\n",
      "└ @ Main In[9]:1\n"
     ]
    }
   ],
   "source": [
    "@time @info(\n",
    "    \"part 2 answer\",\n",
    "    result2(PDS1),\n",
    "    result2(PDI),\n",
    "    )"
   ]
  }
 ],
 "metadata": {
  "@webio": {
   "lastCommId": null,
   "lastKernelId": null
  },
  "kernelspec": {
   "display_name": "Julia 1.7.0",
   "language": "julia",
   "name": "julia-1.7"
  },
  "language_info": {
   "file_extension": ".jl",
   "mimetype": "application/julia",
   "name": "julia",
   "version": "1.7.0"
  },
  "latex_envs": {
   "LaTeX_envs_menu_present": true,
   "autoclose": false,
   "autocomplete": true,
   "bibliofile": "biblio.bib",
   "cite_by": "apalike",
   "current_citInitial": 1,
   "eqLabelWithNumbers": true,
   "eqNumInitial": 1,
   "hotkeys": {
    "equation": "Ctrl-E",
    "itemize": "Ctrl-I"
   },
   "labels_anchors": false,
   "latex_user_defs": false,
   "report_style_numbering": false,
   "user_envs_cfg": false
  },
  "toc": {
   "base_numbering": 1,
   "nav_menu": {},
   "number_sections": true,
   "sideBar": true,
   "skip_h1_title": true,
   "title_cell": "Table of Contents",
   "title_sidebar": "Contents",
   "toc_cell": true,
   "toc_position": {},
   "toc_section_display": true,
   "toc_window_display": false
  }
 },
 "nbformat": 4,
 "nbformat_minor": 4
}
