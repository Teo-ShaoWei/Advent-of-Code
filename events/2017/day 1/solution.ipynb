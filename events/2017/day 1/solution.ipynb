{
 "cells": [
  {
   "cell_type": "code",
   "execution_count": 1,
   "metadata": {},
   "outputs": [
    {
     "data": {
      "text/latex": [
       "\\section{Advent of Code 2017 Day 1}\n",
       "\\href{https://adventofcode.com/2017/day/1}{Problem link}\n",
       "\n"
      ],
      "text/markdown": [
       "# Advent of Code 2017 Day 1\n",
       "\n",
       "[Problem link](https://adventofcode.com/2017/day/1)\n"
      ],
      "text/plain": [
       "\u001b[1m  Advent of Code 2017 Day 1\u001b[22m\n",
       "\u001b[1m  ≡≡≡≡≡≡≡≡≡≡≡≡≡≡≡≡≡≡≡≡≡≡≡≡≡≡≡\u001b[22m\n",
       "\n",
       "  Problem link (https://adventofcode.com/2017/day/1)"
      ]
     },
     "metadata": {},
     "output_type": "display_data"
    }
   ],
   "source": [
    "YEAR = 2017;\n",
    "DAY = 1;\n",
    "SESSION_COOKIE = \"53616c7465645f5f247aa4bb66cc604a12f273db44943b8acf6742dbc7ed3e4915998d3119ad3e8822969ca3695db15416e2361accaed6724c90e2044486f759\"\n",
    "\n",
    "using Markdown\n",
    "URL = \"https://adventofcode.com/$(YEAR)/day/$(DAY)\"\n",
    "Markdown.parse(\"\"\"\n",
    "# Advent of Code $(YEAR) Day $(DAY)\n",
    "[Problem link]($(URL))\n",
    "\"\"\")\n"
   ]
  },
  {
   "cell_type": "markdown",
   "metadata": {},
   "source": [
    "## include code file using Revise\n"
   ]
  },
  {
   "cell_type": "code",
   "execution_count": 2,
   "metadata": {},
   "outputs": [],
   "source": [
    "using Revise\n"
   ]
  },
  {
   "cell_type": "code",
   "execution_count": 3,
   "metadata": {
    "scrolled": true
   },
   "outputs": [],
   "source": [
    "includet(\"functions.jl\")\n"
   ]
  },
  {
   "cell_type": "markdown",
   "metadata": {},
   "source": [
    "## set logger\n"
   ]
  },
  {
   "cell_type": "code",
   "execution_count": 4,
   "metadata": {},
   "outputs": [
    {
     "data": {
      "text/plain": [
       "Base.CoreLogging.SimpleLogger(VSCodeServer.IJuliaCore.IJuliaStdio{Base.PipeEndpoint, typeof(VSCodeServer.io_send_callback)}(IOContext(Base.PipeEndpoint(RawFD(20) open, 0 bytes waiting)), VSCodeServer.io_send_callback), Info, Dict{Any, Int64}())"
      ]
     },
     "metadata": {},
     "output_type": "display_data"
    }
   ],
   "source": [
    "using Logging: Logging\n",
    "using TerminalLoggers: TerminalLoggers\n",
    "\n",
    "Logging.global_logger(TerminalLoggers.TerminalLogger())\n"
   ]
  },
  {
   "cell_type": "markdown",
   "metadata": {},
   "source": [
    "## read input"
   ]
  },
  {
   "cell_type": "code",
   "execution_count": 5,
   "metadata": {},
   "outputs": [],
   "source": [
    "# Run this first.\n",
    "import HTTP\n"
   ]
  },
  {
   "cell_type": "code",
   "execution_count": 6,
   "metadata": {},
   "outputs": [
    {
     "name": "stdout",
     "output_type": "stream",
     "text": [
      "url = \"https://adventofcode.com/$(YEAR)/day/$(DAY)/input\" = \"https://adventofcode.com/2017/day/1/input\"\n",
      "SESSION_COOKIE = \"53616c7465645f5f247aa4bb66cc604a12f273db44943b8acf6742dbc7ed3e4915998d3119ad3e8822969ca3695db15416e2361accaed6724c90e2044486f759\"\n",
      "\n",
      "You already have `input.txt`!\n"
     ]
    }
   ],
   "source": [
    "# Run this only when trying to download the input.txt! Do so abit later.\n",
    "\n",
    "@show url = \"https://adventofcode.com/$(YEAR)/day/$(DAY)/input\"\n",
    "@show SESSION_COOKIE\n",
    "println()\n",
    "\n",
    "if \"input.txt\" ∉ readdir()\n",
    "    response = HTTP.get(url, headers=Dict(\"Cookie\" => \"session=$(SESSION_COOKIE)\"))\n",
    "\n",
    "    if HTTP.status(response) == 200\n",
    "        write(\"input.txt\", String(response.body))\n",
    "        println(\"Downlaoded input file for $YEAR day $DAY to `input.txt`.\")\n",
    "    else\n",
    "        println(\"Download unsuccessful\")\n",
    "    end\n",
    "else\n",
    "    println(\"You already have `input.txt`!\")\n",
    "end\n"
   ]
  },
  {
   "cell_type": "code",
   "execution_count": 7,
   "metadata": {
    "scrolled": true
   },
   "outputs": [
    {
     "data": {
      "text/plain": [
       "4-element Vector{Vector{Int64}}:\n",
       " [1, 1, 2, 2]\n",
       " [1, 1, 1, 1]\n",
       " [1, 2, 3, 4]\n",
       " [9, 1, 2, 1, 2, 1, 2, 9]"
      ]
     },
     "metadata": {},
     "output_type": "display_data"
    }
   ],
   "source": [
    "PDS1s = [\n",
    "    pd\"1122\",\n",
    "    pd\"1111\",\n",
    "    pd\"1234\",\n",
    "    pd\"91212129\",\n",
    "]\n"
   ]
  },
  {
   "cell_type": "code",
   "execution_count": 8,
   "metadata": {
    "scrolled": true
   },
   "outputs": [
    {
     "data": {
      "text/plain": [
       "2124-element Vector{Int64}:\n",
       " 4\n",
       " 9\n",
       " 4\n",
       " 7\n",
       " 5\n",
       " 1\n",
       " 1\n",
       " 3\n",
       " 6\n",
       " 8\n",
       " ⋮\n",
       " 1\n",
       " 6\n",
       " 9\n",
       " 1\n",
       " 4\n",
       " 1\n",
       " 7\n",
       " 8\n",
       " 4"
      ]
     },
     "metadata": {},
     "output_type": "display_data"
    }
   ],
   "source": [
    "PDI = parse_puzzle_file(\"input.txt\")\n"
   ]
  },
  {
   "cell_type": "markdown",
   "metadata": {},
   "source": [
    "## part 1\n"
   ]
  },
  {
   "cell_type": "code",
   "execution_count": 9,
   "metadata": {},
   "outputs": [
    {
     "data": {
      "text/plain": [
       "4-element Vector{Int64}:\n",
       " 3\n",
       " 4\n",
       " 0\n",
       " 9"
      ]
     },
     "metadata": {},
     "output_type": "display_data"
    }
   ],
   "source": [
    "result1.(PDS1s)\n"
   ]
  },
  {
   "cell_type": "markdown",
   "metadata": {},
   "source": [
    "### answer\n"
   ]
  },
  {
   "cell_type": "code",
   "execution_count": 10,
   "metadata": {},
   "outputs": [
    {
     "name": "stdout",
     "output_type": "stream",
     "text": [
      "  0.269749 seconds (781.02 k allocations: 53.186 MiB, 2.77% gc time, 99.69% compilation time)\n"
     ]
    },
    {
     "name": "stderr",
     "output_type": "stream",
     "text": [
      "\u001b[36m\u001b[1m┌ \u001b[22m\u001b[39m\u001b[36m\u001b[1mInfo: \u001b[22m\u001b[39mpart 1 answer\n",
      "\u001b[36m\u001b[1m└ \u001b[22m\u001b[39m  result1(PDI) = 1150\n"
     ]
    }
   ],
   "source": [
    "@time @info(\n",
    "    \"part 1 answer\",\n",
    "    result1(PDI),\n",
    ")\n"
   ]
  },
  {
   "cell_type": "markdown",
   "metadata": {},
   "source": [
    "## part 2\n"
   ]
  },
  {
   "cell_type": "code",
   "execution_count": 11,
   "metadata": {},
   "outputs": [
    {
     "data": {
      "text/plain": [
       "5-element Vector{Vector{Int64}}:\n",
       " [1, 2, 1, 2]\n",
       " [1, 2, 2, 1]\n",
       " [1, 2, 3, 4, 2, 5]\n",
       " [1, 2, 3, 1, 2, 3]\n",
       " [1, 2, 1, 3, 1, 4, 1, 5]"
      ]
     },
     "metadata": {},
     "output_type": "display_data"
    }
   ],
   "source": [
    "PDS2s = [\n",
    "    pd\"1212\",\n",
    "    pd\"1221\",\n",
    "    pd\"123425\",\n",
    "    pd\"123123\",\n",
    "    pd\"12131415\",\n",
    "]\n"
   ]
  },
  {
   "cell_type": "code",
   "execution_count": 12,
   "metadata": {},
   "outputs": [
    {
     "data": {
      "text/plain": [
       "5-element Vector{Int64}:\n",
       "  6\n",
       "  0\n",
       "  4\n",
       " 12\n",
       "  4"
      ]
     },
     "metadata": {},
     "output_type": "display_data"
    }
   ],
   "source": [
    "result2.(PDS2s)\n"
   ]
  },
  {
   "cell_type": "markdown",
   "metadata": {},
   "source": [
    "### answer\n"
   ]
  },
  {
   "cell_type": "code",
   "execution_count": 13,
   "metadata": {},
   "outputs": [
    {
     "name": "stdout",
     "output_type": "stream",
     "text": [
      "  0.076147 seconds (149.00 k allocations: 10.091 MiB, 8.72% gc time, 98.60% compilation time)\n"
     ]
    },
    {
     "name": "stderr",
     "output_type": "stream",
     "text": [
      "\u001b[36m\u001b[1m┌ \u001b[22m\u001b[39m\u001b[36m\u001b[1mInfo: \u001b[22m\u001b[39mpart 2 answer\n",
      "\u001b[36m\u001b[1m└ \u001b[22m\u001b[39m  result2(PDI) = 1064\n"
     ]
    }
   ],
   "source": [
    "@time @info(\n",
    "    \"part 2 answer\",\n",
    "    result2(PDI),\n",
    ")\n"
   ]
  }
 ],
 "metadata": {
  "@webio": {
   "lastCommId": null,
   "lastKernelId": null
  },
  "kernelspec": {
   "display_name": "Julia 1.9.3",
   "language": "julia",
   "name": "julia-1.9"
  },
  "language_info": {
   "file_extension": ".jl",
   "mimetype": "application/julia",
   "name": "julia",
   "version": "1.9.3"
  },
  "latex_envs": {
   "LaTeX_envs_menu_present": true,
   "autoclose": false,
   "autocomplete": true,
   "bibliofile": "biblio.bib",
   "cite_by": "apalike",
   "current_citInitial": 1,
   "eqLabelWithNumbers": true,
   "eqNumInitial": 1,
   "hotkeys": {
    "equation": "Ctrl-E",
    "itemize": "Ctrl-I"
   },
   "labels_anchors": false,
   "latex_user_defs": false,
   "report_style_numbering": false,
   "user_envs_cfg": false
  },
  "toc": {
   "base_numbering": 1,
   "nav_menu": {},
   "number_sections": true,
   "sideBar": true,
   "skip_h1_title": true,
   "title_cell": "Table of Contents",
   "title_sidebar": "Contents",
   "toc_cell": true,
   "toc_position": {},
   "toc_section_display": true,
   "toc_window_display": false
  }
 },
 "nbformat": 4,
 "nbformat_minor": 4
}
