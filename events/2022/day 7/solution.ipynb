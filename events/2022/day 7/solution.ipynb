{
 "cells": [
  {
   "cell_type": "markdown",
   "metadata": {},
   "source": [
    "# Advent of Code 2022 Day 7\n",
    "[link](https://adventofcode.com/2022/day/7)"
   ]
  },
  {
   "cell_type": "markdown",
   "metadata": {},
   "source": [
    "## include code file using Revise"
   ]
  },
  {
   "cell_type": "code",
   "execution_count": 1,
   "metadata": {},
   "outputs": [],
   "source": [
    "using Revise"
   ]
  },
  {
   "cell_type": "code",
   "execution_count": 2,
   "metadata": {
    "scrolled": true
   },
   "outputs": [],
   "source": [
    "includet(\"functions.jl\")"
   ]
  },
  {
   "cell_type": "markdown",
   "metadata": {},
   "source": [
    "## set logger"
   ]
  },
  {
   "cell_type": "code",
   "execution_count": 3,
   "metadata": {},
   "outputs": [
    {
     "data": {
      "text/plain": [
       "Base.CoreLogging.SimpleLogger(IJulia.IJuliaStdio{Base.PipeEndpoint}(IOContext(Base.PipeEndpoint(RawFD(45) open, 0 bytes waiting))), Info, Dict{Any, Int64}())"
      ]
     },
     "execution_count": 3,
     "metadata": {},
     "output_type": "execute_result"
    }
   ],
   "source": [
    "import Logging\n",
    "import TerminalLoggers\n",
    "\n",
    "Logging.global_logger(TerminalLoggers.TerminalLogger())"
   ]
  },
  {
   "cell_type": "markdown",
   "metadata": {},
   "source": [
    "## read input"
   ]
  },
  {
   "cell_type": "code",
   "execution_count": 4,
   "metadata": {
    "scrolled": true
   },
   "outputs": [
    {
     "data": {
      "text/plain": [
       "10-element Vector{Op}:\n",
       " Cd(\"/\")\n",
       " Ls(Content[Folder(\"a\"), File(\"b.txt\", 14848514), File(\"c.dat\", 8504156), Folder(\"d\")])\n",
       " Cd(\"a\")\n",
       " Ls(Content[Folder(\"e\"), File(\"f\", 29116), File(\"g\", 2557), File(\"h.lst\", 62596)])\n",
       " Cd(\"e\")\n",
       " Ls(Content[File(\"i\", 584)])\n",
       " Cd(\"..\")\n",
       " Cd(\"..\")\n",
       " Cd(\"d\")\n",
       " Ls(Content[File(\"j\", 4060174), File(\"d.log\", 8033020), File(\"d.ext\", 5626152), File(\"k\", 7214296)])"
      ]
     },
     "execution_count": 4,
     "metadata": {},
     "output_type": "execute_result"
    }
   ],
   "source": [
    "PDS1 = parse_puzzle_file(\"sample1.txt\")"
   ]
  },
  {
   "cell_type": "code",
   "execution_count": 5,
   "metadata": {
    "scrolled": true
   },
   "outputs": [
    {
     "data": {
      "text/plain": [
       "12-element Vector{Op}:\n",
       " Cd(\"/\")\n",
       " Ls(Content[Folder(\"a\"), File(\"b.txt\", 1), Folder(\"d\")])\n",
       " Cd(\"a\")\n",
       " Ls(Content[Folder(\"a\"), File(\"b.txt\", 1)])\n",
       " Cd(\"a\")\n",
       " Ls(Content[File(\"b.txt\", 1)])\n",
       " Cd(\"..\")\n",
       " Cd(\"..\")\n",
       " Cd(\"d\")\n",
       " Ls(Content[Folder(\"a\"), File(\"b.txt\", 1)])\n",
       " Cd(\"a\")\n",
       " Ls(Content[File(\"b.txt\", 1)])"
      ]
     },
     "execution_count": 5,
     "metadata": {},
     "output_type": "execute_result"
    }
   ],
   "source": [
    "PDSE = parse_puzzle_file(\"sample_evil.txt\")"
   ]
  },
  {
   "cell_type": "code",
   "execution_count": 6,
   "metadata": {
    "scrolled": true
   },
   "outputs": [
    {
     "data": {
      "text/plain": [
       "626-element Vector{Op}:\n",
       " Cd(\"/\")\n",
       " Ls(Content[File(\"glh.fcb\", 233998), File(\"jzn\", 184686), Folder(\"qcznqph\"), Folder(\"qtbprrq\"), File(\"rbssdzm.ccn\", 299692), Folder(\"vtb\")])\n",
       " Cd(\"qcznqph\")\n",
       " Ls(Content[File(\"lhsrj.fnr\", 32148), Folder(\"lnj\"), Folder(\"mtr\"), Folder(\"mznnlph\"), Folder(\"pdtpt\"), File(\"rsjcg.lrh\", 24836), Folder(\"vrj\"), Folder(\"wrqcfl\")])\n",
       " Cd(\"lnj\")\n",
       " Ls(Content[File(\"tlh\", 12592)])\n",
       " Cd(\"..\")\n",
       " Cd(\"mtr\")\n",
       " Ls(Content[File(\"twdhlmp.gbw\", 118870)])\n",
       " Cd(\"..\")\n",
       " Cd(\"mznnlph\")\n",
       " Ls(Content[File(\"fmmhnhtf\", 240977), Folder(\"gbhcnts\"), Folder(\"gsbjrrd\"), Folder(\"pmwcs\"), Folder(\"qtbprrq\"), File(\"rhnjndsq.gst\", 286007), Folder(\"twdhlmp\"), File(\"twdhlmp.rpr\", 283716)])\n",
       " Cd(\"gbhcnts\")\n",
       " ⋮\n",
       " Ls(Content[Folder(\"gbhcnts\"), Folder(\"gfh\"), Folder(\"ppqjzln\"), Folder(\"qtbprrq\")])\n",
       " Cd(\"gbhcnts\")\n",
       " Ls(Content[File(\"wlcl.fhs\", 156292)])\n",
       " Cd(\"..\")\n",
       " Cd(\"gfh\")\n",
       " Ls(Content[File(\"ljvwzj.wpt\", 189836), File(\"zbnhzjvw.jct\", 10416)])\n",
       " Cd(\"..\")\n",
       " Cd(\"ppqjzln\")\n",
       " Ls(Content[File(\"sszd\", 95088)])\n",
       " Cd(\"..\")\n",
       " Cd(\"qtbprrq\")\n",
       " Ls(Content[File(\"hnnl\", 295187), File(\"qtbprrq.ppg\", 292421), File(\"wlcl.fhs\", 220281)])"
      ]
     },
     "execution_count": 6,
     "metadata": {},
     "output_type": "execute_result"
    }
   ],
   "source": [
    "PDI = parse_puzzle_file(\"input.txt\")"
   ]
  },
  {
   "cell_type": "markdown",
   "metadata": {},
   "source": [
    "## part 1"
   ]
  },
  {
   "cell_type": "markdown",
   "metadata": {},
   "source": [
    "### answer"
   ]
  },
  {
   "cell_type": "code",
   "execution_count": 7,
   "metadata": {},
   "outputs": [
    {
     "data": {
      "text/plain": [
       "Dict{String, Int64} with 4 entries:\n",
       "  \"d\"   => 24933642\n",
       "  \"\"    => 23352670\n",
       "  \"a\"   => 94269\n",
       "  \"a/e\" => 584"
      ]
     },
     "execution_count": 7,
     "metadata": {},
     "output_type": "execute_result"
    }
   ],
   "source": [
    "calculate_folders_file_size(PDS1)"
   ]
  },
  {
   "cell_type": "code",
   "execution_count": 8,
   "metadata": {},
   "outputs": [
    {
     "data": {
      "text/plain": [
       "Dict{String, Int64} with 5 entries:\n",
       "  \"a/a\" => 1\n",
       "  \"\"    => 1\n",
       "  \"a\"   => 1\n",
       "  \"d/a\" => 1\n",
       "  \"d\"   => 1"
      ]
     },
     "execution_count": 8,
     "metadata": {},
     "output_type": "execute_result"
    }
   ],
   "source": [
    "calculate_folders_file_size(PDSE)"
   ]
  },
  {
   "cell_type": "code",
   "execution_count": 9,
   "metadata": {},
   "outputs": [
    {
     "data": {
      "text/plain": [
       "Dict{String, Int64} with 210 entries:\n",
       "  \"qcznqph/mznnlph/pmwcs\"                                    => 125444\n",
       "  \"vtb/lwcznw/gfh\"                                           => 169547\n",
       "  \"vtb/pqcddzsf/shwrrq/qpsmgfjl\"                             => 237214\n",
       "  \"qcznqph/pdtpt/qtbprrq/sbtl/ncnwbsdh/vgh/gbhcnts\"          => 352584\n",
       "  \"qcznqph/mznnlph/qtbprrq/bjnctfv/qnsdl\"                    => 215915\n",
       "  \"vtb/pqcddzsf\"                                             => 0\n",
       "  \"qcznqph/mznnlph/gbhcnts/fctrnwb\"                          => 112643\n",
       "  \"qcznqph/mznnlph/gbhcnts/gbhcnts/tqcllnv/cbdj\"             => 588137\n",
       "  \"qcznqph/mznnlph/gbhcnts/gbhcnts/lwshph/gpqgrw/qtbprrq\"    => 221953\n",
       "  \"qcznqph\"                                                  => 56984\n",
       "  \"qcznqph/pdtpt/rrhcsn/jbhcpdh/bmg/ljvwzj/dgqw/qtbprrq\"     => 489366\n",
       "  \"qcznqph/pdtpt/ljvwzj\"                                     => 446412\n",
       "  \"vtb/lwcznw/llnl\"                                          => 246659\n",
       "  \"qcznqph/mznnlph/qtbprrq/bjnctfv/fdjzsfc/nqpbzvpq/hpwhslq\" => 526541\n",
       "  \"qcznqph/pdtpt/rrhcsn/jbhcpdh/bmg/zqjbb/rcfvq\"             => 0\n",
       "  \"qcznqph/mznnlph/gsbjrrd\"                                  => 236813\n",
       "  \"vtb/lwcznw/jdg/cthptwcf\"                                  => 98711\n",
       "  \"qcznqph/pdtpt/rrhcsn/jbhcpdh/bmg/djwfl\"                   => 0\n",
       "  \"vtb/lwcznw/jdg/ljvwzj\"                                    => 245473\n",
       "  \"qcznqph/mznnlph/qtbprrq/bjnctfv/snq\"                      => 25995\n",
       "  \"qcznqph/pdtpt/rrhcsn/jbhcpdh/bmg/ljvwzj/dgqw\"             => 0\n",
       "  \"vtb/mhp/ndgqtvhg\"                                         => 55244\n",
       "  \"qcznqph/mznnlph\"                                          => 810700\n",
       "  \"qcznqph/pdtpt/qtbprrq/twdhlmp/gbhcnts\"                    => 217462\n",
       "  \"qcznqph/pdtpt/rrhcsn/szljjhc\"                             => 460762\n",
       "  ⋮                                                          => ⋮"
      ]
     },
     "execution_count": 9,
     "metadata": {},
     "output_type": "execute_result"
    }
   ],
   "source": [
    "calculate_folders_file_size(PDI)"
   ]
  },
  {
   "cell_type": "code",
   "execution_count": 10,
   "metadata": {},
   "outputs": [
    {
     "data": {
      "text/plain": [
       "DefaultDict{String, Int64, Int64} with 210 entries:\n",
       "  \"qcznqph/mznnlph/pmwcs\"                                    => 125444\n",
       "  \"vtb/lwcznw/gfh\"                                           => 169547\n",
       "  \"vtb/pqcddzsf/shwrrq/qpsmgfjl\"                             => 237214\n",
       "  \"qcznqph/pdtpt/qtbprrq/sbtl/ncnwbsdh/vgh/gbhcnts\"          => 352584\n",
       "  \"qcznqph/mznnlph/qtbprrq/bjnctfv/qnsdl\"                    => 487357\n",
       "  \"vtb/pqcddzsf\"                                             => 2152065\n",
       "  \"qcznqph/mznnlph/gbhcnts/fctrnwb\"                          => 112643\n",
       "  \"qcznqph/mznnlph/gbhcnts/gbhcnts/tqcllnv/cbdj\"             => 1179580\n",
       "  \"qcznqph/mznnlph/gbhcnts/gbhcnts/lwshph/gpqgrw/qtbprrq\"    => 221953\n",
       "  \"qcznqph\"                                                  => 40842292\n",
       "  \"qcznqph/pdtpt/rrhcsn/jbhcpdh/bmg/ljvwzj/dgqw/qtbprrq\"     => 489366\n",
       "  \"qcznqph/pdtpt/ljvwzj\"                                     => 517863\n",
       "  \"vtb/lwcznw/llnl\"                                          => 308679\n",
       "  \"qcznqph/mznnlph/qtbprrq/bjnctfv/fdjzsfc/nqpbzvpq/hpwhslq\" => 526541\n",
       "  \"qcznqph/pdtpt/rrhcsn/jbhcpdh/bmg/zqjbb/rcfvq\"             => 1731658\n",
       "  \"qcznqph/mznnlph/gsbjrrd\"                                  => 2326144\n",
       "  \"vtb/lwcznw/jdg/cthptwcf\"                                  => 98711\n",
       "  \"qcznqph/pdtpt/rrhcsn/jbhcpdh/bmg/djwfl\"                   => 439203\n",
       "  \"vtb/lwcznw/jdg/ljvwzj\"                                    => 245473\n",
       "  \"qcznqph/mznnlph/qtbprrq/bjnctfv/snq\"                      => 25995\n",
       "  \"qcznqph/pdtpt/rrhcsn/jbhcpdh/bmg/ljvwzj/dgqw\"             => 1240296\n",
       "  \"vtb/mhp/ndgqtvhg\"                                         => 87955\n",
       "  \"qcznqph/mznnlph\"                                          => 16293851\n",
       "  \"qcznqph/pdtpt/qtbprrq/twdhlmp/gbhcnts\"                    => 217462\n",
       "  \"qcznqph/pdtpt/rrhcsn/szljjhc\"                             => 460762\n",
       "  ⋮                                                          => ⋮"
      ]
     },
     "execution_count": 10,
     "metadata": {},
     "output_type": "execute_result"
    }
   ],
   "source": [
    "calculate_folders_recursive_size(calculate_folders_file_size(PDI))"
   ]
  },
  {
   "cell_type": "code",
   "execution_count": 11,
   "metadata": {},
   "outputs": [
    {
     "name": "stdout",
     "output_type": "stream",
     "text": [
      "  0.320634 seconds (2.18 M allocations: 109.828 MiB, 4.89% gc time, 99.37% compilation time: 7% of which was recompilation)\n"
     ]
    },
    {
     "name": "stderr",
     "output_type": "stream",
     "text": [
      "\u001b[36m\u001b[1m┌ \u001b[22m\u001b[39m\u001b[36m\u001b[1mInfo: \u001b[22m\u001b[39mpart 1 answer\n",
      "\u001b[36m\u001b[1m│ \u001b[22m\u001b[39m  result1(PDS1) = 95437\n",
      "\u001b[36m\u001b[1m│ \u001b[22m\u001b[39m  result1(PDSE) = 11\n",
      "\u001b[36m\u001b[1m└ \u001b[22m\u001b[39m  result1(PDI) = 1490523\n"
     ]
    }
   ],
   "source": [
    "@time @info(\n",
    "    \"part 1 answer\",\n",
    "    result1(PDS1),\n",
    "    result1(PDSE),\n",
    "    result1(PDI),\n",
    ")"
   ]
  },
  {
   "cell_type": "markdown",
   "metadata": {},
   "source": [
    "## part 2"
   ]
  },
  {
   "cell_type": "markdown",
   "metadata": {},
   "source": [
    "### answer"
   ]
  },
  {
   "cell_type": "code",
   "execution_count": 12,
   "metadata": {},
   "outputs": [
    {
     "name": "stdout",
     "output_type": "stream",
     "text": [
      "  0.110450 seconds (540.04 k allocations: 27.405 MiB, 6.63% gc time, 98.66% compilation time)\n"
     ]
    },
    {
     "name": "stderr",
     "output_type": "stream",
     "text": [
      "\u001b[36m\u001b[1m┌ \u001b[22m\u001b[39m\u001b[36m\u001b[1mInfo: \u001b[22m\u001b[39mpart 2 answer\n",
      "\u001b[36m\u001b[1m│ \u001b[22m\u001b[39m  result2(PDS1) = 24933642\n",
      "\u001b[36m\u001b[1m└ \u001b[22m\u001b[39m  result2(PDI) = 12390492\n"
     ]
    }
   ],
   "source": [
    "@time @info(\n",
    "    \"part 2 answer\",\n",
    "    result2(PDS1),\n",
    "    result2(PDI),\n",
    ")"
   ]
  }
 ],
 "metadata": {
  "@webio": {
   "lastCommId": null,
   "lastKernelId": null
  },
  "kernelspec": {
   "display_name": "Julia 1.8.2",
   "language": "julia",
   "name": "julia-1.8"
  },
  "language_info": {
   "file_extension": ".jl",
   "mimetype": "application/julia",
   "name": "julia",
   "version": "1.8.2"
  },
  "latex_envs": {
   "LaTeX_envs_menu_present": true,
   "autoclose": false,
   "autocomplete": true,
   "bibliofile": "biblio.bib",
   "cite_by": "apalike",
   "current_citInitial": 1,
   "eqLabelWithNumbers": true,
   "eqNumInitial": 1,
   "hotkeys": {
    "equation": "Ctrl-E",
    "itemize": "Ctrl-I"
   },
   "labels_anchors": false,
   "latex_user_defs": false,
   "report_style_numbering": false,
   "user_envs_cfg": false
  },
  "toc": {
   "base_numbering": 1,
   "nav_menu": {},
   "number_sections": true,
   "sideBar": true,
   "skip_h1_title": true,
   "title_cell": "Table of Contents",
   "title_sidebar": "Contents",
   "toc_cell": true,
   "toc_position": {},
   "toc_section_display": true,
   "toc_window_display": false
  }
 },
 "nbformat": 4,
 "nbformat_minor": 4
}
