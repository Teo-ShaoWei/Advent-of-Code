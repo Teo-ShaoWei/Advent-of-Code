{
 "cells": [
  {
   "cell_type": "markdown",
   "metadata": {},
   "source": [
    "# Advent of Code 2021 Day 12\n",
    "[link](https://adventofcode.com/2021/day/12)"
   ]
  },
  {
   "cell_type": "markdown",
   "metadata": {
    "toc": true
   },
   "source": [
    "<h1>Table of Contents<span class=\"tocSkip\"></span></h1>\n",
    "<div class=\"toc\"><ul class=\"toc-item\"><li><span><a href=\"#include-code-file-using-Revise\" data-toc-modified-id=\"include-code-file-using-Revise-1\"><span class=\"toc-item-num\">1&nbsp;&nbsp;</span>include code file using Revise</a></span></li><li><span><a href=\"#read-input\" data-toc-modified-id=\"read-input-2\"><span class=\"toc-item-num\">2&nbsp;&nbsp;</span>read input</a></span></li><li><span><a href=\"#part-1\" data-toc-modified-id=\"part-1-3\"><span class=\"toc-item-num\">3&nbsp;&nbsp;</span>part 1</a></span><ul class=\"toc-item\"><li><span><a href=\"#answer\" data-toc-modified-id=\"answer-3.1\"><span class=\"toc-item-num\">3.1&nbsp;&nbsp;</span>answer</a></span></li></ul></li><li><span><a href=\"#part-2\" data-toc-modified-id=\"part-2-4\"><span class=\"toc-item-num\">4&nbsp;&nbsp;</span>part 2</a></span><ul class=\"toc-item\"><li><span><a href=\"#answer\" data-toc-modified-id=\"answer-4.1\"><span class=\"toc-item-num\">4.1&nbsp;&nbsp;</span>answer</a></span></li></ul></li></ul></div>"
   ]
  },
  {
   "cell_type": "markdown",
   "metadata": {},
   "source": [
    "## include code file using Revise"
   ]
  },
  {
   "cell_type": "code",
   "execution_count": 1,
   "metadata": {
    "ExecuteTime": {
     "end_time": "2021-12-12T16:16:58.156000+08:00",
     "start_time": "2021-12-12T08:16:57.141Z"
    }
   },
   "outputs": [],
   "source": [
    "using Revise"
   ]
  },
  {
   "cell_type": "code",
   "execution_count": 2,
   "metadata": {
    "ExecuteTime": {
     "end_time": "2021-12-12T16:17:03.036000+08:00",
     "start_time": "2021-12-12T08:16:57.143Z"
    },
    "scrolled": true
   },
   "outputs": [],
   "source": [
    "includet(\"functions.jl\")"
   ]
  },
  {
   "cell_type": "markdown",
   "metadata": {},
   "source": [
    "## read input"
   ]
  },
  {
   "cell_type": "code",
   "execution_count": 3,
   "metadata": {
    "ExecuteTime": {
     "end_time": "2021-12-12T16:17:04.218000+08:00",
     "start_time": "2021-12-12T08:16:57.215Z"
    },
    "scrolled": true
   },
   "outputs": [
    {
     "data": {
      "text/plain": [
       "7-element Vector{Pair{String, String}}:\n",
       " \"start\" => \"A\"\n",
       " \"start\" => \"b\"\n",
       "     \"A\" => \"c\"\n",
       "     \"A\" => \"b\"\n",
       "     \"b\" => \"d\"\n",
       "     \"A\" => \"end\"\n",
       "     \"b\" => \"end\""
      ]
     },
     "execution_count": 3,
     "metadata": {},
     "output_type": "execute_result"
    }
   ],
   "source": [
    "PDS1 = parse_input(\"sample1.txt\")"
   ]
  },
  {
   "cell_type": "code",
   "execution_count": 4,
   "metadata": {
    "ExecuteTime": {
     "end_time": "2021-12-12T16:17:04.234000+08:00",
     "start_time": "2021-12-12T08:16:57.216Z"
    },
    "scrolled": true
   },
   "outputs": [
    {
     "data": {
      "text/plain": [
       "10-element Vector{Pair{String, String}}:\n",
       "    \"dc\" => \"end\"\n",
       "    \"HN\" => \"start\"\n",
       " \"start\" => \"kj\"\n",
       "    \"dc\" => \"start\"\n",
       "    \"dc\" => \"HN\"\n",
       "    \"LN\" => \"dc\"\n",
       "    \"HN\" => \"end\"\n",
       "    \"kj\" => \"sa\"\n",
       "    \"kj\" => \"HN\"\n",
       "    \"kj\" => \"dc\""
      ]
     },
     "execution_count": 4,
     "metadata": {},
     "output_type": "execute_result"
    }
   ],
   "source": [
    "PDS2 = parse_input(\"sample2.txt\")"
   ]
  },
  {
   "cell_type": "code",
   "execution_count": 5,
   "metadata": {
    "ExecuteTime": {
     "end_time": "2021-12-12T16:17:04.249000+08:00",
     "start_time": "2021-12-12T08:16:57.218Z"
    },
    "scrolled": true
   },
   "outputs": [
    {
     "data": {
      "text/plain": [
       "18-element Vector{Pair{String, String}}:\n",
       "    \"fs\" => \"end\"\n",
       "    \"he\" => \"DX\"\n",
       "    \"fs\" => \"he\"\n",
       " \"start\" => \"DX\"\n",
       "    \"pj\" => \"DX\"\n",
       "   \"end\" => \"zg\"\n",
       "    \"zg\" => \"sl\"\n",
       "    \"zg\" => \"pj\"\n",
       "    \"pj\" => \"he\"\n",
       "    \"RW\" => \"he\"\n",
       "    \"fs\" => \"DX\"\n",
       "    \"pj\" => \"RW\"\n",
       "    \"zg\" => \"RW\"\n",
       " \"start\" => \"pj\"\n",
       "    \"he\" => \"WI\"\n",
       "    \"zg\" => \"he\"\n",
       "    \"pj\" => \"fs\"\n",
       " \"start\" => \"RW\""
      ]
     },
     "execution_count": 5,
     "metadata": {},
     "output_type": "execute_result"
    }
   ],
   "source": [
    "PDS3 = parse_input(\"sample3.txt\")"
   ]
  },
  {
   "cell_type": "code",
   "execution_count": 6,
   "metadata": {
    "ExecuteTime": {
     "end_time": "2021-12-12T16:17:04.264000+08:00",
     "start_time": "2021-12-12T08:16:57.219Z"
    },
    "scrolled": true
   },
   "outputs": [
    {
     "data": {
      "text/plain": [
       "24-element Vector{Pair{String, String}}:\n",
       " \"EG\" => \"bj\"\n",
       " \"LN\" => \"end\"\n",
       " \"bj\" => \"LN\"\n",
       " \"yv\" => \"start\"\n",
       " \"iw\" => \"ch\"\n",
       " \"ch\" => \"LN\"\n",
       " \"EG\" => \"bn\"\n",
       " \"OF\" => \"iw\"\n",
       " \"LN\" => \"yv\"\n",
       " \"iw\" => \"TQ\"\n",
       " \"iw\" => \"start\"\n",
       " \"TQ\" => \"ch\"\n",
       " \"EG\" => \"end\"\n",
       " \"bj\" => \"OF\"\n",
       " \"OF\" => \"end\"\n",
       " \"TQ\" => \"start\"\n",
       " \"TQ\" => \"bj\"\n",
       " \"iw\" => \"LN\"\n",
       " \"EG\" => \"ch\"\n",
       " \"yv\" => \"iw\"\n",
       " \"KW\" => \"bj\"\n",
       " \"OF\" => \"ch\"\n",
       " \"bj\" => \"ch\"\n",
       " \"yv\" => \"TQ\""
      ]
     },
     "execution_count": 6,
     "metadata": {},
     "output_type": "execute_result"
    }
   ],
   "source": [
    "PDI = parse_input(\"input.txt\")"
   ]
  },
  {
   "cell_type": "markdown",
   "metadata": {},
   "source": [
    "## part 1"
   ]
  },
  {
   "cell_type": "code",
   "execution_count": 7,
   "metadata": {
    "ExecuteTime": {
     "end_time": "2021-12-12T16:17:04.906000+08:00",
     "start_time": "2021-12-12T08:16:57.272Z"
    }
   },
   "outputs": [
    {
     "ename": "LoadError",
     "evalue": "UndefVarError: get_type_of_loc not defined",
     "output_type": "error",
     "traceback": [
      "UndefVarError: get_type_of_loc not defined",
      "",
      "Stacktrace:",
      " [1] top-level scope",
      "   @ In[7]:1",
      " [2] eval",
      "   @ ./boot.jl:373 [inlined]",
      " [3] include_string(mapexpr::typeof(REPL.softscope), mod::Module, code::String, filename::String)",
      "   @ Base ./loading.jl:1196"
     ]
    }
   ],
   "source": [
    "get_type_of_loc.([\"start\", \"end\", \"ABC\", \"def\"])"
   ]
  },
  {
   "cell_type": "code",
   "execution_count": 8,
   "metadata": {
    "ExecuteTime": {
     "end_time": "2021-12-12T16:17:04.958000+08:00",
     "start_time": "2021-12-12T08:16:57.274Z"
    },
    "scrolled": true
   },
   "outputs": [
    {
     "data": {
      "text/plain": [
       "2-element Vector{Pair{String, String}}:\n",
       " \"start\" => \"A\"\n",
       " \"start\" => \"b\""
      ]
     },
     "execution_count": 8,
     "metadata": {},
     "output_type": "execute_result"
    }
   ],
   "source": [
    "filter_roads_with_start(PDS1)"
   ]
  },
  {
   "cell_type": "code",
   "execution_count": 9,
   "metadata": {
    "ExecuteTime": {
     "end_time": "2021-12-12T16:17:04.991000+08:00",
     "start_time": "2021-12-12T08:16:57.275Z"
    }
   },
   "outputs": [
    {
     "data": {
      "text/plain": [
       "2-element Vector{Pair{String, String}}:\n",
       " \"A\" => \"end\"\n",
       " \"b\" => \"end\""
      ]
     },
     "execution_count": 9,
     "metadata": {},
     "output_type": "execute_result"
    }
   ],
   "source": [
    "filter_roads_with_end(PDS1)"
   ]
  },
  {
   "cell_type": "code",
   "execution_count": 10,
   "metadata": {
    "ExecuteTime": {
     "end_time": "2021-12-12T16:17:05.026000+08:00",
     "start_time": "2021-12-12T08:16:57.277Z"
    }
   },
   "outputs": [
    {
     "data": {
      "text/plain": [
       "4-element Vector{Pair{String, String}}:\n",
       " \"start\" => \"A\"\n",
       "     \"A\" => \"c\"\n",
       "     \"A\" => \"b\"\n",
       "     \"A\" => \"end\""
      ]
     },
     "execution_count": 10,
     "metadata": {},
     "output_type": "execute_result"
    }
   ],
   "source": [
    "filter_roads_with_cave(\"A\", PDS1)"
   ]
  },
  {
   "cell_type": "code",
   "execution_count": 11,
   "metadata": {
    "ExecuteTime": {
     "end_time": "2021-12-12T16:17:05.041000+08:00",
     "start_time": "2021-12-12T08:16:57.279Z"
    }
   },
   "outputs": [
    {
     "data": {
      "text/plain": [
       "4-element Vector{Pair{String, String}}:\n",
       " \"start\" => \"b\"\n",
       "     \"A\" => \"b\"\n",
       "     \"b\" => \"d\"\n",
       "     \"b\" => \"end\""
      ]
     },
     "execution_count": 11,
     "metadata": {},
     "output_type": "execute_result"
    }
   ],
   "source": [
    "filter_roads_with_cave(\"b\", PDS1)"
   ]
  },
  {
   "cell_type": "code",
   "execution_count": 12,
   "metadata": {
    "ExecuteTime": {
     "end_time": "2021-12-12T16:17:05.516000+08:00",
     "start_time": "2021-12-12T08:16:57.280Z"
    }
   },
   "outputs": [
    {
     "data": {
      "text/plain": [
       "2-element Vector{String}:\n",
       " \"start\"\n",
       " \"b\""
      ]
     },
     "execution_count": 12,
     "metadata": {},
     "output_type": "execute_result"
    }
   ],
   "source": [
    "filter_inaccessible_caves([\"start\", \"A\", \"b\", \"end\"])"
   ]
  },
  {
   "cell_type": "code",
   "execution_count": 13,
   "metadata": {
    "ExecuteTime": {
     "end_time": "2021-12-12T16:17:05.796000+08:00",
     "start_time": "2021-12-12T08:16:57.281Z"
    }
   },
   "outputs": [
    {
     "data": {
      "text/plain": [
       "\"A\""
      ]
     },
     "execution_count": 13,
     "metadata": {},
     "output_type": "execute_result"
    }
   ],
   "source": [
    "get_opp_cave(PDS1[1], \"start\")"
   ]
  },
  {
   "cell_type": "code",
   "execution_count": 14,
   "metadata": {
    "ExecuteTime": {
     "end_time": "2021-12-12T16:17:06.272000+08:00",
     "start_time": "2021-12-12T08:16:57.283Z"
    }
   },
   "outputs": [
    {
     "name": "stdout",
     "output_type": "stream",
     "text": [
      "start,A,b,A,c,A,end\n",
      "start,A,b,A,end\n",
      "start,A,b,end\n",
      "start,A,c,A,b,A,end\n",
      "start,A,c,A,b,end\n",
      "start,A,c,A,end\n",
      "start,A,end\n",
      "start,b,A,c,A,end\n",
      "start,b,A,end\n",
      "start,b,end\n"
     ]
    }
   ],
   "source": [
    "@chain PDS1 begin\n",
    "    find_paths([\"start\"], _)\n",
    "    @. path_to_string\n",
    "    sort!\n",
    "    @. println\n",
    "end;"
   ]
  },
  {
   "cell_type": "markdown",
   "metadata": {},
   "source": [
    "### answer"
   ]
  },
  {
   "cell_type": "code",
   "execution_count": 15,
   "metadata": {
    "ExecuteTime": {
     "end_time": "2021-12-12T16:17:06.481000+08:00",
     "start_time": "2021-12-12T08:16:57.340Z"
    }
   },
   "outputs": [
    {
     "name": "stdout",
     "output_type": "stream",
     "text": [
      "  0.127860 seconds (337.31 k allocations: 25.291 MiB, 5.99% gc time, 79.22% compilation time)\n"
     ]
    },
    {
     "name": "stderr",
     "output_type": "stream",
     "text": [
      "┌ Info: part 1 answer\n",
      "│   result1(PDS1) = 10\n",
      "│   result1(PDS2) = 19\n",
      "│   result1(PDS3) = 226\n",
      "│   result1(PDI) = 4659\n",
      "└ @ Main In[15]:1\n"
     ]
    }
   ],
   "source": [
    "@time @info(\n",
    "    \"part 1 answer\",\n",
    "    result1(PDS1),\n",
    "    result1(PDS2),\n",
    "    result1(PDS3),\n",
    "    result1(PDI),\n",
    ")"
   ]
  },
  {
   "cell_type": "markdown",
   "metadata": {},
   "source": [
    "## part 2"
   ]
  },
  {
   "cell_type": "code",
   "execution_count": 16,
   "metadata": {
    "ExecuteTime": {
     "end_time": "2021-12-12T16:17:07.069000+08:00",
     "start_time": "2021-12-12T08:16:57.389Z"
    }
   },
   "outputs": [
    {
     "data": {
      "text/plain": [
       "2-element BitVector:\n",
       " 1\n",
       " 0"
      ]
     },
     "execution_count": 16,
     "metadata": {},
     "output_type": "execute_result"
    }
   ],
   "source": [
    "can_revisit_small_caves.(\n",
    "    [\n",
    "        [\"start\", \"A\", \"b\", \"end\"],\n",
    "        [\"start\", \"c\", \"c\"],\n",
    "    ]\n",
    ")"
   ]
  },
  {
   "cell_type": "code",
   "execution_count": 17,
   "metadata": {
    "ExecuteTime": {
     "end_time": "2021-12-12T16:17:07.116000+08:00",
     "start_time": "2021-12-12T08:16:57.391Z"
    }
   },
   "outputs": [
    {
     "name": "stdout",
     "output_type": "stream",
     "text": [
      "start,A,b,A,b,A,c,A,end\n",
      "start,A,b,A,b,A,end\n",
      "start,A,b,A,b,end\n",
      "start,A,b,A,c,A,b,A,end\n",
      "start,A,b,A,c,A,b,end\n",
      "start,A,b,A,c,A,c,A,end\n",
      "start,A,b,A,c,A,end\n",
      "start,A,b,A,end\n",
      "start,A,b,d,b,A,c,A,end\n",
      "start,A,b,d,b,A,end\n",
      "start,A,b,d,b,end\n",
      "start,A,b,end\n",
      "start,A,c,A,b,A,b,A,end\n",
      "start,A,c,A,b,A,b,end\n",
      "start,A,c,A,b,A,c,A,end\n",
      "start,A,c,A,b,A,end\n",
      "start,A,c,A,b,d,b,A,end\n",
      "start,A,c,A,b,d,b,end\n",
      "start,A,c,A,b,end\n",
      "start,A,c,A,c,A,b,A,end\n",
      "start,A,c,A,c,A,b,end\n",
      "start,A,c,A,c,A,end\n",
      "start,A,c,A,end\n",
      "start,A,end\n",
      "start,b,A,b,A,c,A,end\n",
      "start,b,A,b,A,end\n",
      "start,b,A,b,end\n",
      "start,b,A,c,A,b,A,end\n",
      "start,b,A,c,A,b,end\n",
      "start,b,A,c,A,c,A,end\n",
      "start,b,A,c,A,end\n",
      "start,b,A,end\n",
      "start,b,d,b,A,c,A,end\n",
      "start,b,d,b,A,end\n",
      "start,b,d,b,end\n",
      "start,b,end\n"
     ]
    }
   ],
   "source": [
    "@chain PDS1 begin\n",
    "    find_longer_paths([\"start\"], _)\n",
    "    path_to_string.(_)\n",
    "    sort!\n",
    "    @. println\n",
    "end;"
   ]
  },
  {
   "cell_type": "markdown",
   "metadata": {},
   "source": [
    "### answer"
   ]
  },
  {
   "cell_type": "code",
   "execution_count": 18,
   "metadata": {
    "ExecuteTime": {
     "end_time": "2021-12-12T16:17:08.132000+08:00",
     "start_time": "2021-12-12T08:16:57.442Z"
    }
   },
   "outputs": [
    {
     "name": "stdout",
     "output_type": "stream",
     "text": [
      "  0.961103 seconds (6.95 M allocations: 687.651 MiB, 12.70% gc time, 3.45% compilation time)\n"
     ]
    },
    {
     "name": "stderr",
     "output_type": "stream",
     "text": [
      "┌ Info: part 1 answer\n",
      "│   result2(PDS1) = 36\n",
      "│   result2(PDS2) = 103\n",
      "│   result2(PDS3) = 3509\n",
      "│   result2(PDI) = 148962\n",
      "└ @ Main In[18]:1\n"
     ]
    }
   ],
   "source": [
    "@time @info(\n",
    "    \"part 1 answer\",\n",
    "    result2(PDS1),\n",
    "    result2(PDS2),\n",
    "    result2(PDS3),\n",
    "    result2(PDI),\n",
    ")"
   ]
  }
 ],
 "metadata": {
  "@webio": {
   "lastCommId": null,
   "lastKernelId": null
  },
  "kernelspec": {
   "display_name": "Julia 1.7.0",
   "language": "julia",
   "name": "julia-1.7"
  },
  "language_info": {
   "file_extension": ".jl",
   "mimetype": "application/julia",
   "name": "julia",
   "version": "1.7.0"
  },
  "latex_envs": {
   "LaTeX_envs_menu_present": true,
   "autoclose": false,
   "autocomplete": true,
   "bibliofile": "biblio.bib",
   "cite_by": "apalike",
   "current_citInitial": 1,
   "eqLabelWithNumbers": true,
   "eqNumInitial": 1,
   "hotkeys": {
    "equation": "Ctrl-E",
    "itemize": "Ctrl-I"
   },
   "labels_anchors": false,
   "latex_user_defs": false,
   "report_style_numbering": false,
   "user_envs_cfg": false
  },
  "toc": {
   "base_numbering": 1,
   "nav_menu": {},
   "number_sections": true,
   "sideBar": true,
   "skip_h1_title": true,
   "title_cell": "Table of Contents",
   "title_sidebar": "Contents",
   "toc_cell": true,
   "toc_position": {},
   "toc_section_display": true,
   "toc_window_display": false
  }
 },
 "nbformat": 4,
 "nbformat_minor": 4
}
