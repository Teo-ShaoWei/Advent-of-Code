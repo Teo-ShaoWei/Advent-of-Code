{
 "cells": [
  {
   "cell_type": "markdown",
   "metadata": {},
   "source": [
    "# Advent of Code 2022 Day 21\n",
    "[link](https://adventofcode.com/2022/day/21)"
   ]
  },
  {
   "cell_type": "markdown",
   "metadata": {},
   "source": [
    "## include code file using Revise"
   ]
  },
  {
   "cell_type": "code",
   "execution_count": 1,
   "metadata": {},
   "outputs": [],
   "source": [
    "using Revise"
   ]
  },
  {
   "cell_type": "code",
   "execution_count": 2,
   "metadata": {
    "scrolled": true
   },
   "outputs": [],
   "source": [
    "includet(\"functions.jl\")"
   ]
  },
  {
   "cell_type": "markdown",
   "metadata": {
    "tags": []
   },
   "source": [
    "## set logger"
   ]
  },
  {
   "cell_type": "code",
   "execution_count": 3,
   "metadata": {},
   "outputs": [
    {
     "data": {
      "text/plain": [
       "Base.CoreLogging.SimpleLogger(IJulia.IJuliaStdio{Base.PipeEndpoint}(IOContext(Base.PipeEndpoint(RawFD(45) open, 0 bytes waiting))), Info, Dict{Any, Int64}())"
      ]
     },
     "execution_count": 3,
     "metadata": {},
     "output_type": "execute_result"
    }
   ],
   "source": [
    "import Logging\n",
    "import TerminalLoggers\n",
    "\n",
    "Logging.global_logger(TerminalLoggers.TerminalLogger())"
   ]
  },
  {
   "cell_type": "markdown",
   "metadata": {},
   "source": [
    "## read input"
   ]
  },
  {
   "cell_type": "code",
   "execution_count": 4,
   "metadata": {
    "scrolled": true
   },
   "outputs": [
    {
     "data": {
      "text/plain": [
       "Dict{String, Monkey} with 15 entries:\n",
       "  \"root\" => Equation(+, (\"pppw\", \"sjmn\"))\n",
       "  \"humn\" => Value(5)\n",
       "  \"drzm\" => Equation(-, (\"hmdt\", \"zczc\"))\n",
       "  \"ljgn\" => Value(2)\n",
       "  \"lgvd\" => Equation(*, (\"ljgn\", \"ptdq\"))\n",
       "  \"cczh\" => Equation(+, (\"sllz\", \"lgvd\"))\n",
       "  \"dvpt\" => Value(3)\n",
       "  \"lfqf\" => Value(4)\n",
       "  \"sllz\" => Value(4)\n",
       "  \"zczc\" => Value(2)\n",
       "  \"sjmn\" => Equation(*, (\"drzm\", \"dbpl\"))\n",
       "  \"hmdt\" => Value(32)\n",
       "  \"dbpl\" => Value(5)\n",
       "  \"ptdq\" => Equation(-, (\"humn\", \"dvpt\"))\n",
       "  \"pppw\" => Equation(div, (\"cczh\", \"lfqf\"))"
      ]
     },
     "execution_count": 4,
     "metadata": {},
     "output_type": "execute_result"
    }
   ],
   "source": [
    "PDS1 = parse_puzzle_file(\"sample1.txt\")"
   ]
  },
  {
   "cell_type": "code",
   "execution_count": 5,
   "metadata": {
    "scrolled": true
   },
   "outputs": [
    {
     "data": {
      "text/plain": [
       "Dict{String, Monkey} with 1897 entries:\n",
       "  \"vcdb\" => Value(8)\n",
       "  \"mdds\" => Equation(-, (\"bvbh\", \"qqpg\"))\n",
       "  \"fnqh\" => Value(8)\n",
       "  \"bvbh\" => Equation(*, (\"fwzl\", \"grzn\"))\n",
       "  \"mtvg\" => Equation(+, (\"rszj\", \"rcdf\"))\n",
       "  \"nlfc\" => Value(5)\n",
       "  \"dvwg\" => Value(2)\n",
       "  \"ntnv\" => Value(16)\n",
       "  \"fvpg\" => Value(3)\n",
       "  \"jjfd\" => Value(2)\n",
       "  \"rfpw\" => Equation(+, (\"gwmj\", \"gbbm\"))\n",
       "  \"mjqm\" => Equation(*, (\"pzrh\", \"jgbp\"))\n",
       "  \"vpjf\" => Equation(+, (\"gnpm\", \"wfwt\"))\n",
       "  \"pszb\" => Value(14)\n",
       "  \"dnwn\" => Value(5)\n",
       "  \"mshb\" => Value(3)\n",
       "  \"jmcp\" => Value(3)\n",
       "  \"lfms\" => Equation(-, (\"htbj\", \"wsgs\"))\n",
       "  \"dzmq\" => Equation(-, (\"tpzq\", \"wvrp\"))\n",
       "  \"rvls\" => Equation(div, (\"zqnb\", \"ncvp\"))\n",
       "  \"dsfr\" => Equation(+, (\"qmss\", \"hlnd\"))\n",
       "  \"gtcp\" => Equation(*, (\"clqj\", \"pmqd\"))\n",
       "  \"crgq\" => Equation(*, (\"srdm\", \"cqjh\"))\n",
       "  \"lnbj\" => Value(14)\n",
       "  \"cjjt\" => Equation(-, (\"fhhn\", \"fpsz\"))\n",
       "  ⋮      => ⋮"
      ]
     },
     "execution_count": 5,
     "metadata": {},
     "output_type": "execute_result"
    }
   ],
   "source": [
    "PDI = parse_puzzle_file(\"input.txt\")"
   ]
  },
  {
   "cell_type": "code",
   "execution_count": 6,
   "metadata": {
    "scrolled": true
   },
   "outputs": [
    {
     "data": {
      "text/plain": [
       "Dict{String, Monkey} with 15 entries:\n",
       "  \"root\" => Equation(+, (\"pppw\", \"sjmn\"))\n",
       "  \"humn\" => Value(301)\n",
       "  \"drzm\" => Equation(-, (\"hmdt\", \"zczc\"))\n",
       "  \"ljgn\" => Value(2)\n",
       "  \"lgvd\" => Equation(*, (\"ljgn\", \"ptdq\"))\n",
       "  \"cczh\" => Equation(+, (\"sllz\", \"lgvd\"))\n",
       "  \"dvpt\" => Value(3)\n",
       "  \"lfqf\" => Value(4)\n",
       "  \"sllz\" => Value(4)\n",
       "  \"zczc\" => Value(2)\n",
       "  \"sjmn\" => Equation(*, (\"drzm\", \"dbpl\"))\n",
       "  \"hmdt\" => Value(32)\n",
       "  \"dbpl\" => Value(5)\n",
       "  \"ptdq\" => Equation(-, (\"humn\", \"dvpt\"))\n",
       "  \"pppw\" => Equation(div, (\"cczh\", \"lfqf\"))"
      ]
     },
     "execution_count": 6,
     "metadata": {},
     "output_type": "execute_result"
    }
   ],
   "source": [
    "PDS2 = parse_puzzle_file(\"sample2.txt\")"
   ]
  },
  {
   "cell_type": "code",
   "execution_count": 7,
   "metadata": {
    "scrolled": true
   },
   "outputs": [
    {
     "data": {
      "text/plain": [
       "Dict{String, Monkey} with 1897 entries:\n",
       "  \"vcdb\" => Value(8)\n",
       "  \"mdds\" => Equation(-, (\"bvbh\", \"qqpg\"))\n",
       "  \"fnqh\" => Value(8)\n",
       "  \"bvbh\" => Equation(*, (\"fwzl\", \"grzn\"))\n",
       "  \"mtvg\" => Equation(+, (\"rszj\", \"rcdf\"))\n",
       "  \"nlfc\" => Value(5)\n",
       "  \"dvwg\" => Value(2)\n",
       "  \"ntnv\" => Value(16)\n",
       "  \"fvpg\" => Value(3)\n",
       "  \"jjfd\" => Value(2)\n",
       "  \"rfpw\" => Equation(+, (\"gwmj\", \"gbbm\"))\n",
       "  \"mjqm\" => Equation(*, (\"pzrh\", \"jgbp\"))\n",
       "  \"vpjf\" => Equation(+, (\"gnpm\", \"wfwt\"))\n",
       "  \"pszb\" => Value(14)\n",
       "  \"dnwn\" => Value(5)\n",
       "  \"mshb\" => Value(3)\n",
       "  \"jmcp\" => Value(3)\n",
       "  \"lfms\" => Equation(-, (\"htbj\", \"wsgs\"))\n",
       "  \"dzmq\" => Equation(-, (\"tpzq\", \"wvrp\"))\n",
       "  \"rvls\" => Equation(div, (\"zqnb\", \"ncvp\"))\n",
       "  \"dsfr\" => Equation(+, (\"qmss\", \"hlnd\"))\n",
       "  \"gtcp\" => Equation(*, (\"clqj\", \"pmqd\"))\n",
       "  \"crgq\" => Equation(*, (\"srdm\", \"cqjh\"))\n",
       "  \"lnbj\" => Value(14)\n",
       "  \"cjjt\" => Equation(-, (\"fhhn\", \"fpsz\"))\n",
       "  ⋮      => ⋮"
      ]
     },
     "execution_count": 7,
     "metadata": {},
     "output_type": "execute_result"
    }
   ],
   "source": [
    "PDS3 = parse_puzzle_file(\"sample3.txt\")"
   ]
  },
  {
   "cell_type": "code",
   "execution_count": 8,
   "metadata": {},
   "outputs": [],
   "source": [
    "PD = PDS1;"
   ]
  },
  {
   "cell_type": "markdown",
   "metadata": {},
   "source": [
    "## part 1"
   ]
  },
  {
   "cell_type": "code",
   "execution_count": 9,
   "metadata": {},
   "outputs": [
    {
     "data": {
      "text/plain": [
       "152"
      ]
     },
     "execution_count": 9,
     "metadata": {},
     "output_type": "execute_result"
    }
   ],
   "source": [
    "result1(PDS1)"
   ]
  },
  {
   "cell_type": "markdown",
   "metadata": {},
   "source": [
    "### answer"
   ]
  },
  {
   "cell_type": "code",
   "execution_count": 10,
   "metadata": {},
   "outputs": [
    {
     "name": "stdout",
     "output_type": "stream",
     "text": [
      "  0.284013 seconds (2.06 M allocations: 103.525 MiB, 2.52% gc time, 99.26% compilation time: 8% of which was recompilation)\n"
     ]
    },
    {
     "name": "stderr",
     "output_type": "stream",
     "text": [
      "\u001b[36m\u001b[1m┌ \u001b[22m\u001b[39m\u001b[36m\u001b[1mInfo: \u001b[22m\u001b[39mpart 1 answer\n",
      "\u001b[36m\u001b[1m│ \u001b[22m\u001b[39m  result1(PDS1) = 152\n",
      "\u001b[36m\u001b[1m└ \u001b[22m\u001b[39m  result1(PDI) = 299983725663456\n"
     ]
    }
   ],
   "source": [
    "@time @info(\n",
    "    \"part 1 answer\",\n",
    "    result1(PDS1),\n",
    "    result1(PDI),\n",
    ")"
   ]
  },
  {
   "cell_type": "markdown",
   "metadata": {},
   "source": [
    "## part 2"
   ]
  },
  {
   "cell_type": "code",
   "execution_count": 11,
   "metadata": {},
   "outputs": [
    {
     "data": {
      "text/plain": [
       "Dict{String, Monkey} with 15 entries:\n",
       "  \"root\" => Equation(-, (\"pppw\", \"sjmn\"))\n",
       "  \"humn\" => Unknown()\n",
       "  \"drzm\" => Equation(-, (\"hmdt\", \"zczc\"))\n",
       "  \"lgvd\" => Equation(*, (\"ljgn\", \"ptdq\"))\n",
       "  \"ljgn\" => Value(2)\n",
       "  \"cczh\" => Equation(+, (\"sllz\", \"lgvd\"))\n",
       "  \"dvpt\" => Value(3)\n",
       "  \"lfqf\" => Value(4)\n",
       "  \"sllz\" => Value(4)\n",
       "  \"zczc\" => Value(2)\n",
       "  \"sjmn\" => Equation(*, (\"drzm\", \"dbpl\"))\n",
       "  \"hmdt\" => Value(32)\n",
       "  \"dbpl\" => Value(5)\n",
       "  \"ptdq\" => Equation(-, (\"humn\", \"dvpt\"))\n",
       "  \"pppw\" => Equation(div, (\"cczh\", \"lfqf\"))"
      ]
     },
     "execution_count": 11,
     "metadata": {},
     "output_type": "execute_result"
    }
   ],
   "source": [
    "edit_jobs(PD)"
   ]
  },
  {
   "cell_type": "markdown",
   "metadata": {},
   "source": [
    "### answer"
   ]
  },
  {
   "cell_type": "code",
   "execution_count": 14,
   "metadata": {},
   "outputs": [
    {
     "name": "stdout",
     "output_type": "stream",
     "text": [
      "  0.001851 seconds (11.80 k allocations: 837.859 KiB)\n"
     ]
    },
    {
     "name": "stderr",
     "output_type": "stream",
     "text": [
      "\u001b[36m\u001b[1m┌ \u001b[22m\u001b[39m\u001b[36m\u001b[1mInfo: \u001b[22m\u001b[39mpart 2 answer\n",
      "\u001b[36m\u001b[1m│ \u001b[22m\u001b[39m  result2(PDS1) = 301\n",
      "\u001b[36m\u001b[1m└ \u001b[22m\u001b[39m  result2(PDI) = 3093175982595\n"
     ]
    }
   ],
   "source": [
    "@time @info(\n",
    "    \"part 2 answer\",\n",
    "    result2(PDS1),\n",
    "    result2(PDI),\n",
    ")"
   ]
  }
 ],
 "metadata": {
  "@webio": {
   "lastCommId": null,
   "lastKernelId": null
  },
  "kernelspec": {
   "display_name": "Julia 1.8.2",
   "language": "julia",
   "name": "julia-1.8"
  },
  "language_info": {
   "file_extension": ".jl",
   "mimetype": "application/julia",
   "name": "julia",
   "version": "1.8.2"
  },
  "latex_envs": {
   "LaTeX_envs_menu_present": true,
   "autoclose": false,
   "autocomplete": true,
   "bibliofile": "biblio.bib",
   "cite_by": "apalike",
   "current_citInitial": 1,
   "eqLabelWithNumbers": true,
   "eqNumInitial": 1,
   "hotkeys": {
    "equation": "Ctrl-E",
    "itemize": "Ctrl-I"
   },
   "labels_anchors": false,
   "latex_user_defs": false,
   "report_style_numbering": false,
   "user_envs_cfg": false
  },
  "toc": {
   "base_numbering": 1,
   "nav_menu": {},
   "number_sections": true,
   "sideBar": true,
   "skip_h1_title": true,
   "title_cell": "Table of Contents",
   "title_sidebar": "Contents",
   "toc_cell": true,
   "toc_position": {},
   "toc_section_display": true,
   "toc_window_display": false
  }
 },
 "nbformat": 4,
 "nbformat_minor": 4
}
