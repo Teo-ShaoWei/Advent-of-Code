{
 "cells": [
  {
   "cell_type": "markdown",
   "metadata": {},
   "source": [
    "# Advent of Code 2015 Day 4\n",
    "[link](https://adventofcode.com/2015/day/4)"
   ]
  },
  {
   "cell_type": "markdown",
   "metadata": {
    "toc": true
   },
   "source": [
    "<h1>Table of Contents<span class=\"tocSkip\"></span></h1>\n",
    "<div class=\"toc\"><ul class=\"toc-item\"><li><span><a href=\"#include-code-file-using-Revise\" data-toc-modified-id=\"include-code-file-using-Revise-1\"><span class=\"toc-item-num\">1&nbsp;&nbsp;</span>include code file using Revise</a></span></li><li><span><a href=\"#read-input\" data-toc-modified-id=\"read-input-2\"><span class=\"toc-item-num\">2&nbsp;&nbsp;</span>read input</a></span><ul class=\"toc-item\"><li><span><a href=\"#samples\" data-toc-modified-id=\"samples-2.1\"><span class=\"toc-item-num\">2.1&nbsp;&nbsp;</span>samples</a></span></li><li><span><a href=\"#PDI-:=-puzzle-data-input\" data-toc-modified-id=\"PDI-:=-puzzle-data-input-2.2\"><span class=\"toc-item-num\">2.2&nbsp;&nbsp;</span>PDI := puzzle data input</a></span></li></ul></li><li><span><a href=\"#part-1\" data-toc-modified-id=\"part-1-3\"><span class=\"toc-item-num\">3&nbsp;&nbsp;</span>part 1</a></span><ul class=\"toc-item\"><li><span><a href=\"#answer\" data-toc-modified-id=\"answer-3.1\"><span class=\"toc-item-num\">3.1&nbsp;&nbsp;</span>answer</a></span></li></ul></li><li><span><a href=\"#part-2\" data-toc-modified-id=\"part-2-4\"><span class=\"toc-item-num\">4&nbsp;&nbsp;</span>part 2</a></span><ul class=\"toc-item\"><li><span><a href=\"#answer\" data-toc-modified-id=\"answer-4.1\"><span class=\"toc-item-num\">4.1&nbsp;&nbsp;</span>answer</a></span></li></ul></li></ul></div>"
   ]
  },
  {
   "cell_type": "markdown",
   "metadata": {},
   "source": [
    "## include code file using Revise"
   ]
  },
  {
   "cell_type": "code",
   "execution_count": 1,
   "metadata": {
    "ExecuteTime": {
     "end_time": "2021-12-12T02:23:35.393000+08:00",
     "start_time": "2021-12-11T18:23:34.279Z"
    }
   },
   "outputs": [],
   "source": [
    "using Revise"
   ]
  },
  {
   "cell_type": "code",
   "execution_count": 2,
   "metadata": {
    "ExecuteTime": {
     "end_time": "2021-12-12T02:23:39.784000+08:00",
     "start_time": "2021-12-11T18:23:34.282Z"
    },
    "scrolled": true
   },
   "outputs": [],
   "source": [
    "includet(\"functions.jl\")"
   ]
  },
  {
   "cell_type": "markdown",
   "metadata": {},
   "source": [
    "## read input"
   ]
  },
  {
   "cell_type": "markdown",
   "metadata": {},
   "source": [
    "### samples"
   ]
  },
  {
   "cell_type": "code",
   "execution_count": 3,
   "metadata": {
    "ExecuteTime": {
     "end_time": "2021-12-12T02:23:40.972000+08:00",
     "start_time": "2021-12-11T18:23:34.416Z"
    },
    "scrolled": true
   },
   "outputs": [
    {
     "data": {
      "text/plain": [
       "2-element Vector{String}:\n",
       " \"abcdef\"\n",
       " \"pqrstuv\""
      ]
     },
     "execution_count": 3,
     "metadata": {},
     "output_type": "execute_result"
    }
   ],
   "source": [
    "PDS_P1 = [\n",
    "    \"abcdef\",\n",
    "    \"pqrstuv\",\n",
    "]"
   ]
  },
  {
   "cell_type": "markdown",
   "metadata": {},
   "source": [
    "### PDI := puzzle data input"
   ]
  },
  {
   "cell_type": "code",
   "execution_count": 4,
   "metadata": {
    "ExecuteTime": {
     "end_time": "2021-12-12T02:23:41.347000+08:00",
     "start_time": "2021-12-11T18:23:34.485Z"
    },
    "scrolled": true
   },
   "outputs": [
    {
     "data": {
      "text/plain": [
       "\"iwrupvqb\""
      ]
     },
     "execution_count": 4,
     "metadata": {},
     "output_type": "execute_result"
    }
   ],
   "source": [
    "PDI = \"iwrupvqb\""
   ]
  },
  {
   "cell_type": "markdown",
   "metadata": {},
   "source": [
    "## part 1"
   ]
  },
  {
   "cell_type": "markdown",
   "metadata": {},
   "source": [
    "### answer"
   ]
  },
  {
   "cell_type": "code",
   "execution_count": 5,
   "metadata": {
    "ExecuteTime": {
     "end_time": "2021-12-12T02:23:42.722000+08:00",
     "start_time": "2021-12-11T18:23:34.622Z"
    }
   },
   "outputs": [
    {
     "name": "stdout",
     "output_type": "stream",
     "text": [
      "  1.273458 seconds (19.44 M allocations: 1.058 GiB, 9.04% gc time, 32.12% compilation time)\n"
     ]
    },
    {
     "name": "stderr",
     "output_type": "stream",
     "text": [
      "┌ Info: part 1 answer\n",
      "│   result1.(PDS_P1) = [609043, 1048970]\n",
      "│   result1(PDI) = 346386\n",
      "└ @ Main In[5]:1\n"
     ]
    }
   ],
   "source": [
    "@time @info(\n",
    "    \"part 1 answer\",\n",
    "    result1.(PDS_P1),\n",
    "    result1(PDI),\n",
    ")"
   ]
  },
  {
   "cell_type": "markdown",
   "metadata": {},
   "source": [
    "## part 2"
   ]
  },
  {
   "cell_type": "markdown",
   "metadata": {},
   "source": [
    "### answer"
   ]
  },
  {
   "cell_type": "code",
   "execution_count": 6,
   "metadata": {
    "ExecuteTime": {
     "end_time": "2021-12-12T02:23:46.916000+08:00",
     "start_time": "2021-12-11T18:23:34.735Z"
    }
   },
   "outputs": [
    {
     "name": "stdout",
     "output_type": "stream",
     "text": [
      "  4.140706 seconds (90.08 M allocations: 4.921 GiB, 9.79% gc time, 2.18% compilation time)\n"
     ]
    },
    {
     "name": "stderr",
     "output_type": "stream",
     "text": [
      "┌ Info: part 2 answer\n",
      "│   result2(PDI) = 9958218\n",
      "└ @ Main In[6]:1\n"
     ]
    }
   ],
   "source": [
    "@time @info(\n",
    "    \"part 2 answer\",\n",
    "    result2(PDI),\n",
    "    )"
   ]
  }
 ],
 "metadata": {
  "@webio": {
   "lastCommId": null,
   "lastKernelId": null
  },
  "kernelspec": {
   "display_name": "Julia 1.7.0",
   "language": "julia",
   "name": "julia-1.7"
  },
  "language_info": {
   "file_extension": ".jl",
   "mimetype": "application/julia",
   "name": "julia",
   "version": "1.7.0"
  },
  "latex_envs": {
   "LaTeX_envs_menu_present": true,
   "autoclose": false,
   "autocomplete": true,
   "bibliofile": "biblio.bib",
   "cite_by": "apalike",
   "current_citInitial": 1,
   "eqLabelWithNumbers": true,
   "eqNumInitial": 1,
   "hotkeys": {
    "equation": "Ctrl-E",
    "itemize": "Ctrl-I"
   },
   "labels_anchors": false,
   "latex_user_defs": false,
   "report_style_numbering": false,
   "user_envs_cfg": false
  },
  "toc": {
   "base_numbering": 1,
   "nav_menu": {},
   "number_sections": true,
   "sideBar": true,
   "skip_h1_title": true,
   "title_cell": "Table of Contents",
   "title_sidebar": "Contents",
   "toc_cell": true,
   "toc_position": {},
   "toc_section_display": true,
   "toc_window_display": false
  }
 },
 "nbformat": 4,
 "nbformat_minor": 4
}
