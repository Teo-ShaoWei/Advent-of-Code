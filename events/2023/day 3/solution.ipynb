{
 "cells": [
  {
   "cell_type": "code",
   "execution_count": 1,
   "metadata": {},
   "outputs": [
    {
     "data": {
      "text/latex": [
       "\\section{Advent of Code 2023 Day 3}\n",
       "\\href{https://adventofcode.com/2023/day/3}{Problem link}\n",
       "\n"
      ],
      "text/markdown": [
       "# Advent of Code 2023 Day 3\n",
       "\n",
       "[Problem link](https://adventofcode.com/2023/day/3)\n"
      ],
      "text/plain": [
       "\u001b[1m  Advent of Code 2023 Day 3\u001b[22m\n",
       "\u001b[1m  ≡≡≡≡≡≡≡≡≡≡≡≡≡≡≡≡≡≡≡≡≡≡≡≡≡≡≡\u001b[22m\n",
       "\n",
       "  Problem link (https://adventofcode.com/2023/day/3)"
      ]
     },
     "metadata": {},
     "output_type": "display_data"
    }
   ],
   "source": [
    "YEAR = 2023;\n",
    "DAY = 3;\n",
    "SESSION_COOKIE = \"53616c7465645f5f247aa4bb66cc604a12f273db44943b8acf6742dbc7ed3e4915998d3119ad3e8822969ca3695db15416e2361accaed6724c90e2044486f759\"\n",
    "\n",
    "using Markdown\n",
    "URL = \"https://adventofcode.com/$(YEAR)/day/$(DAY)\"\n",
    "Markdown.parse(\"\"\"\n",
    "# Advent of Code $(YEAR) Day $(DAY)\n",
    "[Problem link]($(URL))\n",
    "\"\"\")\n"
   ]
  },
  {
   "cell_type": "markdown",
   "metadata": {},
   "source": [
    "## include code file using Revise\n"
   ]
  },
  {
   "cell_type": "code",
   "execution_count": 2,
   "metadata": {},
   "outputs": [],
   "source": [
    "using Revise\n",
    "includet(\"functions.jl\")\n"
   ]
  },
  {
   "cell_type": "markdown",
   "metadata": {},
   "source": [
    "## logging\n"
   ]
  },
  {
   "cell_type": "code",
   "execution_count": 3,
   "metadata": {},
   "outputs": [
    {
     "data": {
      "text/plain": [
       "Base.CoreLogging.SimpleLogger(VSCodeServer.IJuliaCore.IJuliaStdio{Base.PipeEndpoint, typeof(VSCodeServer.io_send_callback)}(IOContext(Base.PipeEndpoint(RawFD(20) open, 0 bytes waiting)), VSCodeServer.io_send_callback), Info, Dict{Any, Int64}())"
      ]
     },
     "metadata": {},
     "output_type": "display_data"
    }
   ],
   "source": [
    "using Logging: Logging\n",
    "using TerminalLoggers: TerminalLoggers\n",
    "\n",
    "Logging.global_logger(TerminalLoggers.TerminalLogger())\n"
   ]
  },
  {
   "cell_type": "code",
   "execution_count": 4,
   "metadata": {},
   "outputs": [],
   "source": [
    "# Patching some printing methods in Base.\n",
    "\n",
    "Base.show(io::IO, ::MIME\"text/plain\", c::Char) = show(io, c)\n",
    "\n",
    "Base.show(io::IO, c::CI) = print(io, \"CI(\", join(string.(Tuple(c)), \", \"), \")\")\n",
    "Base.print(io::IO, ::Type{CI{N}}) where {N} = print(io, \"CI{\", N, \"}\")\n",
    "\n",
    "Base.show(io::IO, c::CIS) = print(io, \"CIS((\", join(get_bound(c), \", \"), \"))\")\n",
    "Base.show(io::IO, ::MIME\"text/plain\", c::CIS) = print(io, c)\n",
    "\n",
    "function Base.show(io::IO, v::Vector{T}) where {T}\n",
    "    if isempty(v)\n",
    "        print(io, T, \"[]\")\n",
    "    else\n",
    "        print(io, \"[\", join(v, \", \"), \"]\")\n",
    "    end\n",
    "end\n"
   ]
  },
  {
   "cell_type": "markdown",
   "metadata": {},
   "source": [
    "## read input"
   ]
  },
  {
   "cell_type": "code",
   "execution_count": 5,
   "metadata": {},
   "outputs": [],
   "source": [
    "# Run this first.\n",
    "import HTTP\n"
   ]
  },
  {
   "cell_type": "code",
   "execution_count": 6,
   "metadata": {},
   "outputs": [
    {
     "name": "stdout",
     "output_type": "stream",
     "text": [
      "url = \"https://adventofcode.com/$(YEAR)/day/$(DAY)/input\" = \"https://adventofcode.com/2023/day/3/input\"\n",
      "SESSION_COOKIE = \"53616c7465645f5f247aa4bb66cc604a12f273db44943b8acf6742dbc7ed3e4915998d3119ad3e8822969ca3695db15416e2361accaed6724c90e2044486f759\"\n",
      "\n",
      "You already have `input.txt`!\n"
     ]
    }
   ],
   "source": [
    "# Run this only when trying to download the input.txt! Do so abit later.\n",
    "\n",
    "@show url = \"https://adventofcode.com/$(YEAR)/day/$(DAY)/input\"\n",
    "@show SESSION_COOKIE\n",
    "println()\n",
    "\n",
    "if \"input.txt\" ∉ readdir()\n",
    "    response = HTTP.get(url, headers=Dict(\"Cookie\" => \"session=$(SESSION_COOKIE)\"))\n",
    "\n",
    "    if HTTP.status(response) == 200\n",
    "        write(\"input.txt\", String(response.body))\n",
    "        println(\"Downlaoded input file for $YEAR day $DAY to `input.txt`.\")\n",
    "    else\n",
    "        println(\"Download unsuccessful\")\n",
    "    end\n",
    "else\n",
    "    println(\"You already have `input.txt`!\")\n",
    "end\n"
   ]
  },
  {
   "cell_type": "code",
   "execution_count": 7,
   "metadata": {
    "scrolled": true
   },
   "outputs": [
    {
     "data": {
      "text/plain": [
       "10×10 Matrix{Char}:\n",
       " '4'  '6'  '7'  '.'  '.'  '1'  '1'  '4'  '.'  '.'\n",
       " '.'  '.'  '.'  '*'  '.'  '.'  '.'  '.'  '.'  '.'\n",
       " '.'  '.'  '3'  '5'  '.'  '.'  '6'  '3'  '3'  '.'\n",
       " '.'  '.'  '.'  '.'  '.'  '.'  '#'  '.'  '.'  '.'\n",
       " '6'  '1'  '7'  '*'  '.'  '.'  '.'  '.'  '.'  '.'\n",
       " '.'  '.'  '.'  '.'  '.'  '+'  '.'  '5'  '8'  '.'\n",
       " '.'  '.'  '5'  '9'  '2'  '.'  '.'  '.'  '.'  '.'\n",
       " '.'  '.'  '.'  '.'  '.'  '.'  '7'  '5'  '5'  '.'\n",
       " '.'  '.'  '.'  '$'  '.'  '*'  '.'  '.'  '.'  '.'\n",
       " '.'  '6'  '6'  '4'  '.'  '5'  '9'  '8'  '.'  '.'"
      ]
     },
     "metadata": {},
     "output_type": "display_data"
    }
   ],
   "source": [
    "PDS1 = parse_puzzle_file(\"sample1.txt\")\n"
   ]
  },
  {
   "cell_type": "code",
   "execution_count": 8,
   "metadata": {
    "scrolled": true
   },
   "outputs": [
    {
     "data": {
      "text/plain": [
       "140×140 Matrix{Char}:\n",
       " '.'  '.'  '.'  '7'  '3'  '3'  '.'  '.'  …  '.'  '.'  '.'  '.'  '.'  '.'  '.'\n",
       " '.'  '.'  '.'  '.'  '*'  '.'  '.'  '.'     '.'  '.'  '.'  '2'  '8'  '7'  '.'\n",
       " '.'  '.'  '.'  '.'  '4'  '2'  '.'  '.'     '2'  '3'  '.'  '*'  '.'  '.'  '.'\n",
       " '6'  '1'  '8'  '.'  '.'  '.'  '.'  '.'     '.'  '.'  '.'  '4'  '3'  '3'  '.'\n",
       " '.'  '.'  '.'  '.'  '.'  '.'  '.'  '.'     '.'  '.'  '.'  '.'  '.'  '.'  '.'\n",
       " '.'  '.'  '.'  '6'  '9'  '.'  '.'  '.'  …  '.'  '.'  '.'  '5'  '4'  '6'  '.'\n",
       " '.'  '.'  '.'  '*'  '.'  '.'  '.'  '.'     '.'  '.'  '.'  '.'  '.'  '.'  '.'\n",
       " '.'  '.'  '.'  '9'  '7'  '3'  '.'  '.'     '.'  '.'  '.'  '*'  '.'  '.'  '.'\n",
       " '.'  '.'  '.'  '.'  '.'  '.'  '.'  '2'     '2'  '2'  '2'  '.'  '.'  '.'  '.'\n",
       " '.'  '3'  '7'  '3'  '.'  '.'  '*'  '.'     '.'  '.'  '.'  '.'  '.'  '.'  '.'\n",
       " ⋮                        ⋮              ⋱            ⋮                   \n",
       " '3'  '9'  '9'  '.'  '.'  '.'  '.'  '.'     '.'  '.'  '.'  '.'  '.'  '.'  '.'\n",
       " '.'  '.'  '.'  '.'  '*'  '3'  '6'  '4'     '.'  '.'  '.'  '.'  '.'  '.'  '.'\n",
       " '.'  '.'  '.'  '.'  '.'  '.'  '.'  '.'     '.'  '.'  '.'  '.'  '.'  '.'  '.'\n",
       " '.'  '.'  '.'  '.'  '.'  '.'  '.'  '.'     '.'  '.'  '.'  '.'  '.'  '.'  '.'\n",
       " '.'  '.'  '.'  '1'  '0'  '5'  '.'  '.'  …  '5'  '8'  '9'  '-'  '.'  '.'  '.'\n",
       " '.'  '.'  '.'  '.'  '.'  '.'  '.'  '.'     '.'  '.'  '.'  '.'  '.'  '.'  '.'\n",
       " '.'  '.'  '.'  '.'  '.'  '8'  '6'  '.'     '.'  '.'  '.'  '2'  '5'  '9'  '.'\n",
       " '.'  '.'  '.'  '.'  '.'  '.'  '*'  '.'     '.'  '.'  '.'  '.'  '.'  '.'  '.'\n",
       " '.'  '.'  '.'  '.'  '.'  '.'  '.'  '.'     '.'  '.'  '.'  '.'  '.'  '.'  '.'"
      ]
     },
     "metadata": {},
     "output_type": "display_data"
    }
   ],
   "source": [
    "PDI = parse_puzzle_file(\"input.txt\")\n"
   ]
  },
  {
   "cell_type": "markdown",
   "metadata": {},
   "source": [
    "## part 1\n"
   ]
  },
  {
   "cell_type": "code",
   "execution_count": 9,
   "metadata": {},
   "outputs": [
    {
     "data": {
      "text/plain": [
       "true"
      ]
     },
     "metadata": {},
     "output_type": "display_data"
    }
   ],
   "source": [
    "is_part('*')\n"
   ]
  },
  {
   "cell_type": "code",
   "execution_count": 10,
   "metadata": {},
   "outputs": [
    {
     "data": {
      "text/plain": [
       "6-element Vector{NamedTuple{(:ci, :item), Tuple{CartesianIndex{2}, Char}}}:\n",
       " (ci = CI(2, 4), item = '*')\n",
       " (ci = CI(5, 4), item = '*')\n",
       " (ci = CI(9, 4), item = '$')\n",
       " (ci = CI(6, 6), item = '+')\n",
       " (ci = CI(9, 6), item = '*')\n",
       " (ci = CI(4, 7), item = '#')"
      ]
     },
     "metadata": {},
     "output_type": "display_data"
    }
   ],
   "source": [
    "find_parts(PDS1)\n"
   ]
  },
  {
   "cell_type": "code",
   "execution_count": 11,
   "metadata": {},
   "outputs": [
    {
     "data": {
      "text/plain": [
       "467"
      ]
     },
     "metadata": {},
     "output_type": "display_data"
    }
   ],
   "source": [
    "parse_number([CI(1, 1), CI(1, 2), CI(1, 3)], PDS1)\n"
   ]
  },
  {
   "cell_type": "code",
   "execution_count": 12,
   "metadata": {},
   "outputs": [
    {
     "data": {
      "text/plain": [
       "10-element Vector{NamedTuple{(:cis, :value), Tuple{Vector{CartesianIndex{2}}, Int64}}}:\n",
       " (cis = [CI(1, 1), CI(1, 2), CI(1, 3)], value = 467)\n",
       " (cis = [CI(1, 6), CI(1, 7), CI(1, 8)], value = 114)\n",
       " (cis = [CI(3, 3), CI(3, 4)], value = 35)\n",
       " (cis = [CI(3, 7), CI(3, 8), CI(3, 9)], value = 633)\n",
       " (cis = [CI(5, 1), CI(5, 2), CI(5, 3)], value = 617)\n",
       " (cis = [CI(6, 8), CI(6, 9)], value = 58)\n",
       " (cis = [CI(7, 3), CI(7, 4), CI(7, 5)], value = 592)\n",
       " (cis = [CI(8, 7), CI(8, 8), CI(8, 9)], value = 755)\n",
       " (cis = [CI(10, 2), CI(10, 3), CI(10, 4)], value = 664)\n",
       " (cis = [CI(10, 6), CI(10, 7), CI(10, 8)], value = 598)"
      ]
     },
     "metadata": {},
     "output_type": "display_data"
    }
   ],
   "source": [
    "find_numbers(PDS1)\n"
   ]
  },
  {
   "cell_type": "code",
   "execution_count": 13,
   "metadata": {},
   "outputs": [
    {
     "data": {
      "text/plain": [
       "1185-element Vector{NamedTuple{(:cis, :value), Tuple{Vector{CartesianIndex{2}}, Int64}}}:\n",
       " (cis = [CI(1, 4), CI(1, 5), CI(1, 6)], value = 733)\n",
       " (cis = [CI(1, 14), CI(1, 15), CI(1, 16)], value = 289)\n",
       " (cis = [CI(1, 19), CI(1, 20), CI(1, 21)], value = 262)\n",
       " (cis = [CI(1, 27), CI(1, 28), CI(1, 29)], value = 520)\n",
       " (cis = [CI(1, 48), CI(1, 49), CI(1, 50)], value = 161)\n",
       " (cis = [CI(1, 52), CI(1, 53), CI(1, 54)], value = 462)\n",
       " (cis = [CI(1, 65), CI(1, 66), CI(1, 67)], value = 450)\n",
       " (cis = [CI(1, 93), CI(1, 94), CI(1, 95)], value = 183)\n",
       " (cis = [CI(2, 40), CI(2, 41), CI(2, 42)], value = 707)\n",
       " (cis = [CI(2, 44), CI(2, 45), CI(2, 46)], value = 352)\n",
       " ⋮\n",
       " (cis = [CI(139, 37), CI(139, 38), CI(139, 39)], value = 806)\n",
       " (cis = [CI(139, 63), CI(139, 64), CI(139, 65)], value = 591)\n",
       " (cis = [CI(139, 96), CI(139, 97), CI(139, 98)], value = 348)\n",
       " (cis = [CI(139, 103), CI(139, 104), CI(139, 105)], value = 829)\n",
       " (cis = [CI(139, 126), CI(139, 127), CI(139, 128)], value = 460)\n",
       " (cis = [CI(140, 22), CI(140, 23), CI(140, 24)], value = 244)\n",
       " (cis = [CI(140, 29)], value = 6)\n",
       " (cis = [CI(140, 67), CI(140, 68), CI(140, 69)], value = 789)\n",
       " (cis = [CI(140, 92), CI(140, 93), CI(140, 94)], value = 687)"
      ]
     },
     "metadata": {},
     "output_type": "display_data"
    }
   ],
   "source": [
    "find_numbers(PDI)\n"
   ]
  },
  {
   "cell_type": "code",
   "execution_count": 14,
   "metadata": {},
   "outputs": [
    {
     "data": {
      "text/plain": [
       "8-element Vector{NamedTuple{(:cis, :value), Tuple{Vector{CartesianIndex{2}}, Int64}}}:\n",
       " (cis = [CI(1, 1), CI(1, 2), CI(1, 3)], value = 467)\n",
       " (cis = [CI(3, 3), CI(3, 4)], value = 35)\n",
       " (cis = [CI(3, 7), CI(3, 8), CI(3, 9)], value = 633)\n",
       " (cis = [CI(5, 1), CI(5, 2), CI(5, 3)], value = 617)\n",
       " (cis = [CI(7, 3), CI(7, 4), CI(7, 5)], value = 592)\n",
       " (cis = [CI(8, 7), CI(8, 8), CI(8, 9)], value = 755)\n",
       " (cis = [CI(10, 2), CI(10, 3), CI(10, 4)], value = 664)\n",
       " (cis = [CI(10, 6), CI(10, 7), CI(10, 8)], value = 598)"
      ]
     },
     "metadata": {},
     "output_type": "display_data"
    }
   ],
   "source": [
    "is_adjacent_to_parts(\n",
    "    find_numbers(PDS1),\n",
    "    find_parts(PDS1)\n",
    ")\n"
   ]
  },
  {
   "cell_type": "markdown",
   "metadata": {},
   "source": [
    "### answer\n"
   ]
  },
  {
   "cell_type": "code",
   "execution_count": 15,
   "metadata": {},
   "outputs": [
    {
     "name": "stdout",
     "output_type": "stream",
     "text": [
      "  0.721544 seconds (1.14 M allocations: 77.599 MiB, 2.13% gc time, 99.75% compilation time: 57% of which was recompilation)\n"
     ]
    },
    {
     "name": "stderr",
     "output_type": "stream",
     "text": [
      "\u001b[36m\u001b[1m┌ \u001b[22m\u001b[39m\u001b[36m\u001b[1mInfo: \u001b[22m\u001b[39mpart 1 sample answer\n",
      "\u001b[36m\u001b[1m└ \u001b[22m\u001b[39m  result1(PDS1) = 4361\n"
     ]
    }
   ],
   "source": [
    "@time @info(\n",
    "    \"part 1 sample answer\",\n",
    "    result1(PDS1),\n",
    ")\n"
   ]
  },
  {
   "cell_type": "code",
   "execution_count": 16,
   "metadata": {},
   "outputs": [
    {
     "name": "stdout",
     "output_type": "stream",
     "text": [
      "  0.073348 seconds (192.57 k allocations: 12.481 MiB, 94.58% compilation time)\n"
     ]
    },
    {
     "name": "stderr",
     "output_type": "stream",
     "text": [
      "\u001b[36m\u001b[1m┌ \u001b[22m\u001b[39m\u001b[36m\u001b[1mInfo: \u001b[22m\u001b[39mpart 1 answer\n",
      "\u001b[36m\u001b[1m└ \u001b[22m\u001b[39m  result1(PDI) = 525181\n"
     ]
    }
   ],
   "source": [
    "@time @info(\n",
    "    \"part 1 answer\",\n",
    "    result1(PDI),\n",
    ")\n"
   ]
  },
  {
   "cell_type": "markdown",
   "metadata": {},
   "source": [
    "## part 2\n"
   ]
  },
  {
   "cell_type": "code",
   "execution_count": 17,
   "metadata": {},
   "outputs": [
    {
     "data": {
      "text/plain": [
       "3-element Vector{NamedTuple{(:ci, :item), Tuple{CartesianIndex{2}, Char}}}:\n",
       " (ci = CI(2, 4), item = '*')\n",
       " (ci = CI(5, 4), item = '*')\n",
       " (ci = CI(9, 6), item = '*')"
      ]
     },
     "metadata": {},
     "output_type": "display_data"
    }
   ],
   "source": [
    "find_gears(PDS1)\n"
   ]
  },
  {
   "cell_type": "code",
   "execution_count": 18,
   "metadata": {},
   "outputs": [
    {
     "data": {
      "text/plain": [
       "3-element Vector{Vector{NamedTuple{(:cis, :value), Tuple{Vector{CartesianIndex{2}}, Int64}}}}:\n",
       " [(cis = [CI(1, 1), CI(1, 2), CI(1, 3)], value = 467), (cis = [CI(3, 3), CI(3, 4)], value = 35)]\n",
       " [(cis = [CI(5, 1), CI(5, 2), CI(5, 3)], value = 617)]\n",
       " [(cis = [CI(8, 7), CI(8, 8), CI(8, 9)], value = 755), (cis = [CI(10, 6), CI(10, 7), CI(10, 8)], value = 598)]"
      ]
     },
     "metadata": {},
     "output_type": "display_data"
    }
   ],
   "source": [
    "filter_neighbouring_numbers_to_gears(find_numbers(PDS1), find_gears(PDS1))\n"
   ]
  },
  {
   "cell_type": "code",
   "execution_count": 19,
   "metadata": {},
   "outputs": [
    {
     "data": {
      "text/plain": [
       "16345"
      ]
     },
     "metadata": {},
     "output_type": "display_data"
    }
   ],
   "source": [
    "compute_gear_ratio([(cis = [CI(1, 1), CI(1, 2), CI(1, 3)], value = 467), (cis = [CI(3, 3), CI(3, 4)], value = 35)])\n"
   ]
  },
  {
   "cell_type": "markdown",
   "metadata": {},
   "source": [
    "### answer\n"
   ]
  },
  {
   "cell_type": "code",
   "execution_count": 20,
   "metadata": {},
   "outputs": [
    {
     "name": "stdout",
     "output_type": "stream",
     "text": [
      "  0.110609 seconds (318.41 k allocations: 21.310 MiB, 98.94% compilation time)\n"
     ]
    },
    {
     "name": "stderr",
     "output_type": "stream",
     "text": [
      "\u001b[36m\u001b[1m┌ \u001b[22m\u001b[39m\u001b[36m\u001b[1mInfo: \u001b[22m\u001b[39mpart 2 sample answer\n",
      "\u001b[36m\u001b[1m└ \u001b[22m\u001b[39m  result2(PDS1) = 467835\n"
     ]
    }
   ],
   "source": [
    "@time @info(\n",
    "    \"part 2 sample answer\",\n",
    "    result2(PDS1),\n",
    ")\n"
   ]
  },
  {
   "cell_type": "code",
   "execution_count": 21,
   "metadata": {},
   "outputs": [
    {
     "name": "stdout",
     "output_type": "stream",
     "text": [
      "  0.317463 seconds (4.04 M allocations: 483.647 MiB, 15.40% gc time, 21.97% compilation time)\n"
     ]
    },
    {
     "name": "stderr",
     "output_type": "stream",
     "text": [
      "\u001b[36m\u001b[1m┌ \u001b[22m\u001b[39m\u001b[36m\u001b[1mInfo: \u001b[22m\u001b[39mpart 2 answer\n",
      "\u001b[36m\u001b[1m└ \u001b[22m\u001b[39m  result2(PDI) = 84289137\n"
     ]
    }
   ],
   "source": [
    "@time @info(\n",
    "    \"part 2 answer\",\n",
    "    result2(PDI),\n",
    ")\n"
   ]
  }
 ],
 "metadata": {
  "@webio": {
   "lastCommId": null,
   "lastKernelId": null
  },
  "kernelspec": {
   "display_name": "Julia 1.9.3",
   "language": "julia",
   "name": "julia-1.9"
  },
  "language_info": {
   "file_extension": ".jl",
   "mimetype": "application/julia",
   "name": "julia",
   "version": "1.9.3"
  },
  "latex_envs": {
   "LaTeX_envs_menu_present": true,
   "autoclose": false,
   "autocomplete": true,
   "bibliofile": "biblio.bib",
   "cite_by": "apalike",
   "current_citInitial": 1,
   "eqLabelWithNumbers": true,
   "eqNumInitial": 1,
   "hotkeys": {
    "equation": "Ctrl-E",
    "itemize": "Ctrl-I"
   },
   "labels_anchors": false,
   "latex_user_defs": false,
   "report_style_numbering": false,
   "user_envs_cfg": false
  },
  "toc": {
   "base_numbering": 1,
   "nav_menu": {},
   "number_sections": true,
   "sideBar": true,
   "skip_h1_title": true,
   "title_cell": "Table of Contents",
   "title_sidebar": "Contents",
   "toc_cell": true,
   "toc_position": {},
   "toc_section_display": true,
   "toc_window_display": false
  }
 },
 "nbformat": 4,
 "nbformat_minor": 4
}
