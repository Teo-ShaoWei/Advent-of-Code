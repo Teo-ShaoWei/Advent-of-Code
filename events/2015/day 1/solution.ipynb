{
 "cells": [
  {
   "cell_type": "markdown",
   "metadata": {},
   "source": [
    "# Advent of Code 2015 Day 1\n",
    "[link](https://adventofcode.com/2015/day/1)"
   ]
  },
  {
   "cell_type": "markdown",
   "metadata": {
    "toc": true
   },
   "source": [
    "<h1>Table of Contents<span class=\"tocSkip\"></span></h1>\n",
    "<div class=\"toc\"><ul class=\"toc-item\"><li><span><a href=\"#include-code-file-using-Revise\" data-toc-modified-id=\"include-code-file-using-Revise-1\"><span class=\"toc-item-num\">1&nbsp;&nbsp;</span>include code file using Revise</a></span></li><li><span><a href=\"#read-input\" data-toc-modified-id=\"read-input-2\"><span class=\"toc-item-num\">2&nbsp;&nbsp;</span>read input</a></span><ul class=\"toc-item\"><li><span><a href=\"#PDI-:=-puzzle-data-input\" data-toc-modified-id=\"PDI-:=-puzzle-data-input-2.1\"><span class=\"toc-item-num\">2.1&nbsp;&nbsp;</span>PDI := puzzle data input</a></span></li></ul></li><li><span><a href=\"#part-1\" data-toc-modified-id=\"part-1-3\"><span class=\"toc-item-num\">3&nbsp;&nbsp;</span>part 1</a></span><ul class=\"toc-item\"><li><span><a href=\"#PDS-:=-puzzle-data-samples\" data-toc-modified-id=\"PDS-:=-puzzle-data-samples-3.1\"><span class=\"toc-item-num\">3.1&nbsp;&nbsp;</span>PDS := puzzle data samples</a></span></li><li><span><a href=\"#answer\" data-toc-modified-id=\"answer-3.2\"><span class=\"toc-item-num\">3.2&nbsp;&nbsp;</span>answer</a></span></li></ul></li><li><span><a href=\"#part-2\" data-toc-modified-id=\"part-2-4\"><span class=\"toc-item-num\">4&nbsp;&nbsp;</span>part 2</a></span><ul class=\"toc-item\"><li><span><a href=\"#answer\" data-toc-modified-id=\"answer-4.1\"><span class=\"toc-item-num\">4.1&nbsp;&nbsp;</span>answer</a></span></li></ul></li></ul></div>"
   ]
  },
  {
   "cell_type": "markdown",
   "metadata": {},
   "source": [
    "## include code file using Revise"
   ]
  },
  {
   "cell_type": "code",
   "execution_count": 1,
   "metadata": {
    "ExecuteTime": {
     "end_time": "2021-12-12T01:04:04.872000+08:00",
     "start_time": "2021-12-11T17:04:03.738Z"
    }
   },
   "outputs": [],
   "source": [
    "using Revise"
   ]
  },
  {
   "cell_type": "code",
   "execution_count": 2,
   "metadata": {
    "ExecuteTime": {
     "end_time": "2021-12-12T01:04:10.726000+08:00",
     "start_time": "2021-12-11T17:04:03.741Z"
    },
    "scrolled": true
   },
   "outputs": [],
   "source": [
    "includet(\"functions.jl\")"
   ]
  },
  {
   "cell_type": "markdown",
   "metadata": {},
   "source": [
    "## read input"
   ]
  },
  {
   "cell_type": "markdown",
   "metadata": {},
   "source": [
    "### PDI := puzzle data input"
   ]
  },
  {
   "cell_type": "code",
   "execution_count": 3,
   "metadata": {
    "ExecuteTime": {
     "end_time": "2021-12-12T01:04:11.904000+08:00",
     "start_time": "2021-12-11T17:04:03.870Z"
    },
    "scrolled": true
   },
   "outputs": [
    {
     "data": {
      "text/plain": [
       "7000-element Vector{Char}:\n",
       " '(': ASCII/Unicode U+0028 (category Ps: Punctuation, open)\n",
       " '(': ASCII/Unicode U+0028 (category Ps: Punctuation, open)\n",
       " '(': ASCII/Unicode U+0028 (category Ps: Punctuation, open)\n",
       " '(': ASCII/Unicode U+0028 (category Ps: Punctuation, open)\n",
       " ')': ASCII/Unicode U+0029 (category Pe: Punctuation, close)\n",
       " ')': ASCII/Unicode U+0029 (category Pe: Punctuation, close)\n",
       " ')': ASCII/Unicode U+0029 (category Pe: Punctuation, close)\n",
       " ')': ASCII/Unicode U+0029 (category Pe: Punctuation, close)\n",
       " '(': ASCII/Unicode U+0028 (category Ps: Punctuation, open)\n",
       " ')': ASCII/Unicode U+0029 (category Pe: Punctuation, close)\n",
       " '(': ASCII/Unicode U+0028 (category Ps: Punctuation, open)\n",
       " '(': ASCII/Unicode U+0028 (category Ps: Punctuation, open)\n",
       " '(': ASCII/Unicode U+0028 (category Ps: Punctuation, open)\n",
       " ⋮\n",
       " '(': ASCII/Unicode U+0028 (category Ps: Punctuation, open)\n",
       " '(': ASCII/Unicode U+0028 (category Ps: Punctuation, open)\n",
       " '(': ASCII/Unicode U+0028 (category Ps: Punctuation, open)\n",
       " ')': ASCII/Unicode U+0029 (category Pe: Punctuation, close)\n",
       " '(': ASCII/Unicode U+0028 (category Ps: Punctuation, open)\n",
       " '(': ASCII/Unicode U+0028 (category Ps: Punctuation, open)\n",
       " ')': ASCII/Unicode U+0029 (category Pe: Punctuation, close)\n",
       " '(': ASCII/Unicode U+0028 (category Ps: Punctuation, open)\n",
       " ')': ASCII/Unicode U+0029 (category Pe: Punctuation, close)\n",
       " '(': ASCII/Unicode U+0028 (category Ps: Punctuation, open)\n",
       " ')': ASCII/Unicode U+0029 (category Pe: Punctuation, close)\n",
       " '(': ASCII/Unicode U+0028 (category Ps: Punctuation, open)"
      ]
     },
     "execution_count": 3,
     "metadata": {},
     "output_type": "execute_result"
    }
   ],
   "source": [
    "PDI = parse_input(\"input.txt\")"
   ]
  },
  {
   "cell_type": "markdown",
   "metadata": {},
   "source": [
    "## part 1"
   ]
  },
  {
   "cell_type": "code",
   "execution_count": 4,
   "metadata": {
    "ExecuteTime": {
     "end_time": "2021-12-12T01:04:12.676000+08:00",
     "start_time": "2021-12-11T17:04:03.952Z"
    }
   },
   "outputs": [
    {
     "data": {
      "text/plain": [
       "9-element Vector{NamedTuple{(:data, :result), Tuple{String, Int64}}}:\n",
       " (data = \"(())\", result = 0)\n",
       " (data = \"()()\", result = 0)\n",
       " (data = \"(((\", result = 3)\n",
       " (data = \"(()(()(\", result = 3)\n",
       " (data = \"))(((((\", result = 3)\n",
       " (data = \"())\", result = -1)\n",
       " (data = \"))(\", result = -1)\n",
       " (data = \")))\", result = -3)\n",
       " (data = \")())())\", result = -3)"
      ]
     },
     "execution_count": 4,
     "metadata": {},
     "output_type": "execute_result"
    }
   ],
   "source": [
    "SAMPLES_P1 = [\n",
    "    (data = \"(())\", result = 0),\n",
    "    (data = \"()()\", result = 0),\n",
    "    (data = \"(((\", result = 3),\n",
    "    (data = \"(()(()(\", result = 3),\n",
    "    (data = \"))(((((\", result = 3),\n",
    "    (data = \"())\", result = -1),\n",
    "    (data = \"))(\", result = -1),\n",
    "    (data = \")))\", result = -3),\n",
    "    (data = \")())())\", result = -3),\n",
    "]"
   ]
  },
  {
   "cell_type": "markdown",
   "metadata": {},
   "source": [
    "### PDS := puzzle data samples"
   ]
  },
  {
   "cell_type": "code",
   "execution_count": 5,
   "metadata": {
    "ExecuteTime": {
     "end_time": "2021-12-12T01:04:13.242000+08:00",
     "start_time": "2021-12-11T17:04:04.019Z"
    },
    "scrolled": false
   },
   "outputs": [
    {
     "data": {
      "text/plain": [
       "9-element Vector{Vector{Char}}:\n",
       " ['(', '(', ')', ')']\n",
       " ['(', ')', '(', ')']\n",
       " ['(', '(', '(']\n",
       " ['(', '(', ')', '(', '(', ')', '(']\n",
       " [')', ')', '(', '(', '(', '(', '(']\n",
       " ['(', ')', ')']\n",
       " [')', ')', '(']\n",
       " [')', ')', ')']\n",
       " [')', '(', ')', ')', '(', ')', ')']"
      ]
     },
     "execution_count": 5,
     "metadata": {},
     "output_type": "execute_result"
    }
   ],
   "source": [
    "PDS_P1 = parse_line.(s.data for s in SAMPLES_P1)"
   ]
  },
  {
   "cell_type": "code",
   "execution_count": 6,
   "metadata": {
    "ExecuteTime": {
     "end_time": "2021-12-12T01:04:13.904000+08:00",
     "start_time": "2021-12-11T17:04:04.021Z"
    }
   },
   "outputs": [
    {
     "data": {
      "text/plain": [
       "Dict{Char, Int64} with 2 entries:\n",
       "  '(' => 1\n",
       "  ')' => -1"
      ]
     },
     "execution_count": 6,
     "metadata": {},
     "output_type": "execute_result"
    }
   ],
   "source": [
    "MOVE = Dict(\n",
    "    '(' => 1,\n",
    "    ')' => -1,\n",
    ")"
   ]
  },
  {
   "cell_type": "markdown",
   "metadata": {},
   "source": [
    "### answer"
   ]
  },
  {
   "cell_type": "code",
   "execution_count": 7,
   "metadata": {
    "ExecuteTime": {
     "end_time": "2021-12-12T01:04:14.424000+08:00",
     "start_time": "2021-12-11T17:04:04.084Z"
    }
   },
   "outputs": [
    {
     "name": "stdout",
     "output_type": "stream",
     "text": [
      "  0.415908 seconds (557.89 k allocations: 30.855 MiB, 99.42% compilation time)\n"
     ]
    },
    {
     "name": "stderr",
     "output_type": "stream",
     "text": [
      "┌ Info: part 1 answer\n",
      "│   result1.(PDS_P1) = [0, 0, 3, 3, 3, -1, -1, -3, -3]\n",
      "│   result1(PDI) = 232\n",
      "└ @ Main In[7]:1\n"
     ]
    }
   ],
   "source": [
    "@time @info(\n",
    "    \"part 1 answer\",\n",
    "    result1.(PDS_P1),\n",
    "    result1(PDI),\n",
    ")"
   ]
  },
  {
   "cell_type": "markdown",
   "metadata": {},
   "source": [
    "## part 2"
   ]
  },
  {
   "cell_type": "code",
   "execution_count": 8,
   "metadata": {
    "ExecuteTime": {
     "end_time": "2021-12-12T01:04:14.439000+08:00",
     "start_time": "2021-12-11T17:04:04.149Z"
    }
   },
   "outputs": [
    {
     "data": {
      "text/plain": [
       "2-element Vector{NamedTuple{(:data, :result), Tuple{String, Int64}}}:\n",
       " (data = \")\", result = 1)\n",
       " (data = \"()())\", result = 5)"
      ]
     },
     "execution_count": 8,
     "metadata": {},
     "output_type": "execute_result"
    }
   ],
   "source": [
    "SAMPLES_P2 = [\n",
    "    (data = \")\", result = 1),\n",
    "    (data = \"()())\", result = 5),\n",
    "]"
   ]
  },
  {
   "cell_type": "code",
   "execution_count": 9,
   "metadata": {
    "ExecuteTime": {
     "end_time": "2021-12-12T01:04:14.495000+08:00",
     "start_time": "2021-12-11T17:04:04.152Z"
    }
   },
   "outputs": [
    {
     "data": {
      "text/plain": [
       "2-element Vector{Vector{Char}}:\n",
       " [')']\n",
       " ['(', ')', '(', ')', ')']"
      ]
     },
     "execution_count": 9,
     "metadata": {},
     "output_type": "execute_result"
    }
   ],
   "source": [
    "PDS_P2 = parse_line.(s.data for s in SAMPLES_P2)"
   ]
  },
  {
   "cell_type": "markdown",
   "metadata": {},
   "source": [
    "### answer"
   ]
  },
  {
   "cell_type": "code",
   "execution_count": 10,
   "metadata": {
    "ExecuteTime": {
     "end_time": "2021-12-12T01:04:14.780000+08:00",
     "start_time": "2021-12-11T17:04:04.240Z"
    }
   },
   "outputs": [
    {
     "name": "stdout",
     "output_type": "stream",
     "text": [
      "  0.212048 seconds (336.35 k allocations: 18.561 MiB, 99.00% compilation time)\n"
     ]
    },
    {
     "name": "stderr",
     "output_type": "stream",
     "text": [
      "┌ Info: part 2 answer\n",
      "│   result2.(PDS_P2) = [1, 5]\n",
      "│   result2(PDI) = 1783\n",
      "└ @ Main In[10]:1\n"
     ]
    }
   ],
   "source": [
    "@time @info(\n",
    "    \"part 2 answer\",\n",
    "    result2.(PDS_P2),\n",
    "    result2(PDI),\n",
    "    )"
   ]
  }
 ],
 "metadata": {
  "@webio": {
   "lastCommId": null,
   "lastKernelId": null
  },
  "kernelspec": {
   "display_name": "Julia 1.7.0",
   "language": "julia",
   "name": "julia-1.7"
  },
  "language_info": {
   "file_extension": ".jl",
   "mimetype": "application/julia",
   "name": "julia",
   "version": "1.7.0"
  },
  "latex_envs": {
   "LaTeX_envs_menu_present": true,
   "autoclose": false,
   "autocomplete": true,
   "bibliofile": "biblio.bib",
   "cite_by": "apalike",
   "current_citInitial": 1,
   "eqLabelWithNumbers": true,
   "eqNumInitial": 1,
   "hotkeys": {
    "equation": "Ctrl-E",
    "itemize": "Ctrl-I"
   },
   "labels_anchors": false,
   "latex_user_defs": false,
   "report_style_numbering": false,
   "user_envs_cfg": false
  },
  "toc": {
   "base_numbering": 1,
   "nav_menu": {},
   "number_sections": true,
   "sideBar": true,
   "skip_h1_title": true,
   "title_cell": "Table of Contents",
   "title_sidebar": "Contents",
   "toc_cell": true,
   "toc_position": {},
   "toc_section_display": true,
   "toc_window_display": false
  }
 },
 "nbformat": 4,
 "nbformat_minor": 4
}
