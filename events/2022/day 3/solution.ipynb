{
 "cells": [
  {
   "cell_type": "markdown",
   "metadata": {},
   "source": [
    "# Advent of Code 2022 Day 3\n",
    "[link](https://adventofcode.com/2022/day/3)"
   ]
  },
  {
   "cell_type": "markdown",
   "metadata": {},
   "source": [
    "## include code file using Revise"
   ]
  },
  {
   "cell_type": "code",
   "execution_count": 1,
   "metadata": {},
   "outputs": [],
   "source": [
    "using Revise"
   ]
  },
  {
   "cell_type": "code",
   "execution_count": 2,
   "metadata": {
    "scrolled": true
   },
   "outputs": [],
   "source": [
    "includet(\"functions.jl\")"
   ]
  },
  {
   "cell_type": "markdown",
   "metadata": {},
   "source": [
    "## set logger"
   ]
  },
  {
   "cell_type": "code",
   "execution_count": 3,
   "metadata": {},
   "outputs": [
    {
     "data": {
      "text/plain": [
       "Base.CoreLogging.SimpleLogger(IJulia.IJuliaStdio{Base.PipeEndpoint}(IOContext(Base.PipeEndpoint(RawFD(45) open, 0 bytes waiting))), Info, Dict{Any, Int64}())"
      ]
     },
     "execution_count": 3,
     "metadata": {},
     "output_type": "execute_result"
    }
   ],
   "source": [
    "import Logging\n",
    "import TerminalLoggers\n",
    "\n",
    "Logging.global_logger(TerminalLoggers.TerminalLogger())"
   ]
  },
  {
   "cell_type": "markdown",
   "metadata": {},
   "source": [
    "## read input"
   ]
  },
  {
   "cell_type": "code",
   "execution_count": 4,
   "metadata": {
    "scrolled": true
   },
   "outputs": [
    {
     "data": {
      "text/plain": [
       "6-element Vector{String}:\n",
       " \"vJrwpWtwJgWrhcsFMMfFFhFp\"\n",
       " \"jqHRNqRjqzjGDLGLrsFMfFZSrLrFZsSL\"\n",
       " \"PmmdzqPrVvPwwTWBwg\"\n",
       " \"wMqvLMZHhHMvwLHjbvcjnnSBnvTQFn\"\n",
       " \"ttgJtRGJQctTZtZT\"\n",
       " \"CrZsJsPPZsGzwwsLwLmpwMDw\""
      ]
     },
     "execution_count": 4,
     "metadata": {},
     "output_type": "execute_result"
    }
   ],
   "source": [
    "PDS1 = parse_puzzle_file(\"sample1.txt\")"
   ]
  },
  {
   "cell_type": "code",
   "execution_count": 5,
   "metadata": {
    "scrolled": true
   },
   "outputs": [
    {
     "data": {
      "text/plain": [
       "300-element Vector{String}:\n",
       " \"JppMDcJPcQbqGqFb\"\n",
       " \"ZStgnHtsSjGBhqFbBmsm\"\n",
       " \"djzzwgHHggdnfwjtMPDPMGpPlNfpLDll\"\n",
       " \"dRCtwtlCSttPtlNPNtgvPrDqmBsjGSpjBBsJsqqmrp\"\n",
       " \"ZhWnZhzMMfnWWTDzBrmsmjsBccJB\"\n",
       " \"TFQMrZrMfZrLZZnLQdlvNdCgdHPlCllHNF\"\n",
       " \"PVddPnZWDDPqmHZzqVPzqdHdMRMJjQtvmvjvtTQQtlRtbbQl\"\n",
       " \"fsNswFpChpNwfgtMvCbjTRJBbtRj\"\n",
       " \"SFgfSMShLcsLgNMFhpwShFFZPHqZGZPqHdzPZHZcdzDDqd\"\n",
       " \"dHffzCqSfJCCzCPvdcpzRrBDDBSBBBMtthDDrFMT\"\n",
       " \"bVsZbsrgbWshBTFtDTtZTD\"\n",
       " \"slWGNbNWgWwnmNnwgnlGjdJJdPHcvcrcHjqPzdqPvp\"\n",
       " \"vBFBzGvGBvjFpGWcvCCvBvGPPhZbgLhMnhrPgFgPFgLLPF\"\n",
       " ⋮\n",
       " \"hNMNdssdMqdTQchqgNZzHtwmwGHHzmQZGHDH\"\n",
       " \"JrbJvJrvLrPjrPCVCjRBLPbzfRFZmzwHgFHmGHmwFwzFZR\"\n",
       " \"rpbrvVjPCBbCJrCSLSPsTlphNncMglcNTMWMql\"\n",
       " \"fGWGHbrllCCWWllFNPQSZvdPSvdZTffZ\"\n",
       " \"tqssVjJMJWzWVvSvWS\"\n",
       " \"qtwMwDWjnRRwssWjngwjjnhhDcCLhhCFHlcmcbCHFmDC\"\n",
       " \"rFTdFjdRDTTlDWCqvhwLhwZdLS\"\n",
       " \"QzfJfnfsbsJHMnNmHhVpCZwSQSWqSqVQhS\"\n",
       " \"nJnczsHzNMmBJnbnbNwnfzJfcDTltllRTgPlFlgPrTDjPRGl\"\n",
       " \"ZLCGDvvJlvGChSPZWPSsZWdRRN\"\n",
       " \"rQccBwcccnHmQggnVLPLWpgVWPpWzSRs\"\n",
       " \"fmwTfTHnMBTfJDbfftJLvhlL\""
      ]
     },
     "execution_count": 5,
     "metadata": {},
     "output_type": "execute_result"
    }
   ],
   "source": [
    "PDI = parse_puzzle_file(\"input.txt\")"
   ]
  },
  {
   "cell_type": "markdown",
   "metadata": {},
   "source": [
    "## part 1"
   ]
  },
  {
   "cell_type": "markdown",
   "metadata": {},
   "source": [
    "### answer"
   ]
  },
  {
   "cell_type": "code",
   "execution_count": 6,
   "metadata": {},
   "outputs": [
    {
     "name": "stdout",
     "output_type": "stream",
     "text": [
      "  0.497928 seconds (2.90 M allocations: 146.716 MiB, 6.07% gc time, 99.57% compilation time)\n"
     ]
    },
    {
     "name": "stderr",
     "output_type": "stream",
     "text": [
      "\u001b[36m\u001b[1m┌ \u001b[22m\u001b[39m\u001b[36m\u001b[1mInfo: \u001b[22m\u001b[39mpart 1 answer\n",
      "\u001b[36m\u001b[1m│ \u001b[22m\u001b[39m  result1(PDS1) = 157\n",
      "\u001b[36m\u001b[1m└ \u001b[22m\u001b[39m  result1(PDI) = 7446\n"
     ]
    }
   ],
   "source": [
    "@time @info(\n",
    "    \"part 1 answer\",\n",
    "    result1(PDS1),\n",
    "    result1(PDI),\n",
    ")"
   ]
  },
  {
   "cell_type": "markdown",
   "metadata": {},
   "source": [
    "## part 2"
   ]
  },
  {
   "cell_type": "markdown",
   "metadata": {},
   "source": [
    "### answer"
   ]
  },
  {
   "cell_type": "code",
   "execution_count": 7,
   "metadata": {},
   "outputs": [
    {
     "name": "stdout",
     "output_type": "stream",
     "text": [
      "  0.148186 seconds (842.30 k allocations: 42.764 MiB, 4.79% gc time, 99.23% compilation time)\n"
     ]
    },
    {
     "name": "stderr",
     "output_type": "stream",
     "text": [
      "\u001b[36m\u001b[1m┌ \u001b[22m\u001b[39m\u001b[36m\u001b[1mInfo: \u001b[22m\u001b[39mpart 2 answer\n",
      "\u001b[36m\u001b[1m│ \u001b[22m\u001b[39m  result2(PDS1) = 70\n",
      "\u001b[36m\u001b[1m└ \u001b[22m\u001b[39m  result2(PDI) = 2646\n"
     ]
    }
   ],
   "source": [
    "@time @info(\n",
    "    \"part 2 answer\",\n",
    "    result2(PDS1),\n",
    "    result2(PDI),\n",
    ")"
   ]
  }
 ],
 "metadata": {
  "@webio": {
   "lastCommId": null,
   "lastKernelId": null
  },
  "kernelspec": {
   "display_name": "Julia 1.8.2",
   "language": "julia",
   "name": "julia-1.8"
  },
  "language_info": {
   "file_extension": ".jl",
   "mimetype": "application/julia",
   "name": "julia",
   "version": "1.8.2"
  },
  "latex_envs": {
   "LaTeX_envs_menu_present": true,
   "autoclose": false,
   "autocomplete": true,
   "bibliofile": "biblio.bib",
   "cite_by": "apalike",
   "current_citInitial": 1,
   "eqLabelWithNumbers": true,
   "eqNumInitial": 1,
   "hotkeys": {
    "equation": "Ctrl-E",
    "itemize": "Ctrl-I"
   },
   "labels_anchors": false,
   "latex_user_defs": false,
   "report_style_numbering": false,
   "user_envs_cfg": false
  },
  "toc": {
   "base_numbering": 1,
   "nav_menu": {},
   "number_sections": true,
   "sideBar": true,
   "skip_h1_title": true,
   "title_cell": "Table of Contents",
   "title_sidebar": "Contents",
   "toc_cell": true,
   "toc_position": {},
   "toc_section_display": true,
   "toc_window_display": false
  }
 },
 "nbformat": 4,
 "nbformat_minor": 4
}
