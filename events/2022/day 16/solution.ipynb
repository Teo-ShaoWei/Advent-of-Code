{
 "cells": [
  {
   "cell_type": "markdown",
   "metadata": {},
   "source": [
    "# Advent of Code 2022 Day 16\n",
    "[link](https://adventofcode.com/2022/day/16)"
   ]
  },
  {
   "cell_type": "markdown",
   "metadata": {},
   "source": [
    "## include code file using Revise"
   ]
  },
  {
   "cell_type": "code",
   "execution_count": 1,
   "metadata": {},
   "outputs": [],
   "source": [
    "using Revise"
   ]
  },
  {
   "cell_type": "code",
   "execution_count": 2,
   "metadata": {
    "scrolled": true
   },
   "outputs": [],
   "source": [
    "includet(\"functions.jl\")"
   ]
  },
  {
   "cell_type": "markdown",
   "metadata": {},
   "source": [
    "## set logger"
   ]
  },
  {
   "cell_type": "code",
   "execution_count": 3,
   "metadata": {},
   "outputs": [
    {
     "data": {
      "text/plain": [
       "Base.CoreLogging.SimpleLogger(IJulia.IJuliaStdio{Base.PipeEndpoint}(IOContext(Base.PipeEndpoint(RawFD(46) open, 0 bytes waiting))), Info, Dict{Any, Int64}())"
      ]
     },
     "execution_count": 3,
     "metadata": {},
     "output_type": "execute_result"
    }
   ],
   "source": [
    "import Logging\n",
    "import TerminalLoggers\n",
    "\n",
    "Logging.global_logger(TerminalLoggers.TerminalLogger())"
   ]
  },
  {
   "cell_type": "markdown",
   "metadata": {},
   "source": [
    "## read input"
   ]
  },
  {
   "cell_type": "code",
   "execution_count": 4,
   "metadata": {
    "scrolled": true
   },
   "outputs": [
    {
     "data": {
      "text/plain": [
       "OrderedDict{String, NamedTuple{(:rate, :neighbours), Tuple{Int64, Vector{String}}}} with 10 entries:\n",
       "  \"AA\" => (rate = 0, neighbours = [DD, II, BB])\n",
       "  \"BB\" => (rate = 13, neighbours = [CC, AA])\n",
       "  \"CC\" => (rate = 2, neighbours = [DD, BB])\n",
       "  \"DD\" => (rate = 20, neighbours = [CC, AA, EE])\n",
       "  \"EE\" => (rate = 3, neighbours = [FF, DD])\n",
       "  \"FF\" => (rate = 0, neighbours = [EE, GG])\n",
       "  \"GG\" => (rate = 0, neighbours = [FF, HH])\n",
       "  \"HH\" => (rate = 22, neighbours = [GG])\n",
       "  \"II\" => (rate = 0, neighbours = [AA, JJ])\n",
       "  \"JJ\" => (rate = 21, neighbours = [II])"
      ]
     },
     "execution_count": 4,
     "metadata": {},
     "output_type": "execute_result"
    }
   ],
   "source": [
    "PDS1 = parse_puzzle_file(\"sample1.txt\")"
   ]
  },
  {
   "cell_type": "code",
   "execution_count": 5,
   "metadata": {
    "scrolled": true
   },
   "outputs": [
    {
     "data": {
      "text/plain": [
       "OrderedDict{String, NamedTuple{(:rate, :neighbours), Tuple{Int64, Vector{String}}}} with 57 entries:\n",
       "  \"RU\" => (rate = 0, neighbours = [YH, ID])\n",
       "  \"QK\" => (rate = 24, neighbours = [PQ, PP])\n",
       "  \"RP\" => (rate = 11, neighbours = [RM, BA, RI, EM])\n",
       "  \"BX\" => (rate = 0, neighbours = [ZX, VK])\n",
       "  \"JL\" => (rate = 0, neighbours = [ID, LC])\n",
       "  \"DC\" => (rate = 25, neighbours = [ST])\n",
       "  \"HX\" => (rate = 0, neighbours = [DH, FE])\n",
       "  \"KJ\" => (rate = 0, neighbours = [ZK, XN])\n",
       "  \"EM\" => (rate = 0, neighbours = [AW, RP])\n",
       "  \"XN\" => (rate = 7, neighbours = [LH, KJ, KU, AO])\n",
       "  \"DH\" => (rate = 9, neighbours = [SY, CC, QL, LH, HX])\n",
       "  \"LH\" => (rate = 0, neighbours = [XN, DH])\n",
       "  \"PP\" => (rate = 0, neighbours = [QK, TA])\n",
       "  \"AO\" => (rate = 0, neighbours = [AA, XN])\n",
       "  \"SY\" => (rate = 0, neighbours = [DH, AA])\n",
       "  \"MZ\" => (rate = 0, neighbours = [JT, PF])\n",
       "  \"AA\" => (rate = 0, neighbours = [JN, UN, WG, SY, AO])\n",
       "  \"RM\" => (rate = 0, neighbours = [XL, RP])\n",
       "  \"BA\" => (rate = 0, neighbours = [RP, YP])\n",
       "  \"AD\" => (rate = 12, neighbours = [LK, ZX, AW])\n",
       "  \"ZN\" => (rate = 0, neighbours = [EQ, HL])\n",
       "  \"EX\" => (rate = 18, neighbours = [RB])\n",
       "  \"CR\" => (rate = 0, neighbours = [TA, ST])\n",
       "  \"WG\" => (rate = 0, neighbours = [AA, TA])\n",
       "  \"UN\" => (rate = 0, neighbours = [WK, AA])\n",
       "  ⋮    => ⋮"
      ]
     },
     "execution_count": 5,
     "metadata": {},
     "output_type": "execute_result"
    }
   ],
   "source": [
    "PDI = parse_puzzle_file(\"input.txt\")"
   ]
  },
  {
   "cell_type": "code",
   "execution_count": 6,
   "metadata": {},
   "outputs": [],
   "source": [
    "PD = PDS1;"
   ]
  },
  {
   "cell_type": "markdown",
   "metadata": {
    "tags": []
   },
   "source": [
    "## part 1"
   ]
  },
  {
   "cell_type": "code",
   "execution_count": 7,
   "metadata": {},
   "outputs": [
    {
     "data": {
      "text/plain": [
       "Dict{String, NamedTuple{(:rate, :neighbours), Tuple{Int64, Vector{String}}}} with 6 entries:\n",
       "  \"BB\" => (rate = 13, neighbours = [CC, AA])\n",
       "  \"JJ\" => (rate = 21, neighbours = [II])\n",
       "  \"CC\" => (rate = 2, neighbours = [DD, BB])\n",
       "  \"DD\" => (rate = 20, neighbours = [CC, AA, EE])\n",
       "  \"EE\" => (rate = 3, neighbours = [FF, DD])\n",
       "  \"HH\" => (rate = 22, neighbours = [GG])"
      ]
     },
     "execution_count": 7,
     "metadata": {},
     "output_type": "execute_result"
    }
   ],
   "source": [
    "USEFUL_VALVES = filter_useful_valves(PD)"
   ]
  },
  {
   "cell_type": "code",
   "execution_count": 8,
   "metadata": {},
   "outputs": [
    {
     "data": {
      "text/plain": [
       "31"
      ]
     },
     "execution_count": 8,
     "metadata": {},
     "output_type": "execute_result"
    }
   ],
   "source": [
    "partitions(collect(1:6), 2) |> length"
   ]
  },
  {
   "cell_type": "code",
   "execution_count": 9,
   "metadata": {},
   "outputs": [
    {
     "data": {
      "text/plain": [
       "16383"
      ]
     },
     "execution_count": 9,
     "metadata": {},
     "output_type": "execute_result"
    }
   ],
   "source": [
    "partitions(collect(1:15), 2) |> length"
   ]
  },
  {
   "cell_type": "code",
   "execution_count": 10,
   "metadata": {},
   "outputs": [
    {
     "data": {
      "text/plain": [
       "Dict{Pair{String, String}, Int64} with 10 entries:\n",
       "  \"AA\"=>\"BB\" => 1\n",
       "  \"AA\"=>\"CC\" => 2\n",
       "  \"AA\"=>\"HH\" => 5\n",
       "  \"AA\"=>\"II\" => 1\n",
       "  \"AA\"=>\"AA\" => 2\n",
       "  \"AA\"=>\"DD\" => 1\n",
       "  \"AA\"=>\"FF\" => 3\n",
       "  \"AA\"=>\"JJ\" => 2\n",
       "  \"AA\"=>\"EE\" => 2\n",
       "  \"AA\"=>\"GG\" => 4"
      ]
     },
     "execution_count": 10,
     "metadata": {},
     "output_type": "execute_result"
    }
   ],
   "source": [
    "make_timing_map(\"AA\", PD)"
   ]
  },
  {
   "cell_type": "code",
   "execution_count": 11,
   "metadata": {},
   "outputs": [
    {
     "data": {
      "text/plain": [
       "Dict{Pair{String, String}, Int64} with 100 entries:\n",
       "  \"BB\"=>\"HH\" => 6\n",
       "  \"JJ\"=>\"II\" => 1\n",
       "  \"FF\"=>\"EE\" => 1\n",
       "  \"FF\"=>\"FF\" => 2\n",
       "  \"HH\"=>\"GG\" => 1\n",
       "  \"II\"=>\"DD\" => 2\n",
       "  \"JJ\"=>\"FF\" => 5\n",
       "  \"AA\"=>\"CC\" => 2\n",
       "  \"FF\"=>\"HH\" => 2\n",
       "  \"BB\"=>\"II\" => 2\n",
       "  \"DD\"=>\"CC\" => 1\n",
       "  \"II\"=>\"GG\" => 5\n",
       "  \"DD\"=>\"II\" => 2\n",
       "  \"EE\"=>\"JJ\" => 4\n",
       "  \"CC\"=>\"DD\" => 1\n",
       "  \"GG\"=>\"DD\" => 3\n",
       "  \"BB\"=>\"FF\" => 4\n",
       "  \"JJ\"=>\"JJ\" => 2\n",
       "  \"AA\"=>\"HH\" => 5\n",
       "  \"DD\"=>\"HH\" => 4\n",
       "  \"HH\"=>\"AA\" => 5\n",
       "  \"II\"=>\"II\" => 2\n",
       "  \"EE\"=>\"AA\" => 2\n",
       "  \"II\"=>\"CC\" => 3\n",
       "  \"JJ\"=>\"DD\" => 3\n",
       "  ⋮          => ⋮"
      ]
     },
     "execution_count": 11,
     "metadata": {},
     "output_type": "execute_result"
    }
   ],
   "source": [
    "TIMING_MAP = make_timing_map(PD)"
   ]
  },
  {
   "cell_type": "code",
   "execution_count": 12,
   "metadata": {},
   "outputs": [
    {
     "data": {
      "text/plain": [
       "Dict{Pair{String, String}, Int64} with 30 entries:\n",
       "  \"BB\"=>\"HH\" => 6\n",
       "  \"HH\"=>\"JJ\" => 7\n",
       "  \"DD\"=>\"JJ\" => 3\n",
       "  \"HH\"=>\"CC\" => 5\n",
       "  \"CC\"=>\"EE\" => 2\n",
       "  \"JJ\"=>\"EE\" => 4\n",
       "  \"DD\"=>\"EE\" => 1\n",
       "  \"EE\"=>\"DD\" => 1\n",
       "  \"DD\"=>\"CC\" => 1\n",
       "  \"EE\"=>\"HH\" => 3\n",
       "  \"BB\"=>\"DD\" => 2\n",
       "  \"EE\"=>\"CC\" => 2\n",
       "  \"HH\"=>\"BB\" => 6\n",
       "  \"EE\"=>\"JJ\" => 4\n",
       "  \"CC\"=>\"DD\" => 1\n",
       "  \"JJ\"=>\"BB\" => 3\n",
       "  \"DD\"=>\"BB\" => 2\n",
       "  \"BB\"=>\"EE\" => 3\n",
       "  \"CC\"=>\"JJ\" => 4\n",
       "  \"HH\"=>\"DD\" => 4\n",
       "  \"DD\"=>\"HH\" => 4\n",
       "  \"CC\"=>\"HH\" => 5\n",
       "  \"BB\"=>\"CC\" => 1\n",
       "  \"JJ\"=>\"CC\" => 4\n",
       "  \"JJ\"=>\"HH\" => 7\n",
       "  ⋮          => ⋮"
      ]
     },
     "execution_count": 12,
     "metadata": {},
     "output_type": "execute_result"
    }
   ],
   "source": [
    "extract_timing_map_between_useful_valves(TIMING_MAP, USEFUL_VALVES)"
   ]
  },
  {
   "cell_type": "code",
   "execution_count": 13,
   "metadata": {},
   "outputs": [
    {
     "data": {
      "text/plain": [
       "4"
      ]
     },
     "execution_count": 13,
     "metadata": {},
     "output_type": "execute_result"
    }
   ],
   "source": [
    "get_timing_of_useful_move(TIMING_MAP, \"JJ\" => \"BB\")"
   ]
  },
  {
   "cell_type": "code",
   "execution_count": 14,
   "metadata": {},
   "outputs": [
    {
     "data": {
      "text/plain": [
       "Dict{Vector{String}, NamedTuple{(:timing, :flow), Tuple{Int64, Int64}}} with 6 entries:\n",
       "  [BB] => (timing = 2, flow = 364)\n",
       "  [DD] => (timing = 2, flow = 560)\n",
       "  [EE] => (timing = 3, flow = 81)\n",
       "  [CC] => (timing = 3, flow = 54)\n",
       "  [JJ] => (timing = 3, flow = 567)\n",
       "  [HH] => (timing = 6, flow = 528)"
      ]
     },
     "execution_count": 14,
     "metadata": {},
     "output_type": "execute_result"
    }
   ],
   "source": [
    "FIRST_STEPS = derive_first_steps(TIMING_MAP, USEFUL_VALVES; time_limit = 30)"
   ]
  },
  {
   "cell_type": "code",
   "execution_count": 15,
   "metadata": {},
   "outputs": [
    {
     "data": {
      "text/plain": [
       "Dict{Vector{String}, NamedTuple{(:timing, :flow), Tuple{Int64, Int64}}} with 1956 entries:\n",
       "  [EE, DD, BB, JJ, HH, CC] => (timing = 26, flow = 1473)\n",
       "  [DD, EE, CC, HH, JJ]     => (timing = 21, flow = 1247)\n",
       "  [HH, DD, EE]             => (timing = 13, flow = 959)\n",
       "  [EE, DD, CC]             => (timing = 7, flow = 627)\n",
       "  [EE, CC, JJ, DD, BB, HH] => (timing = 25, flow = 1094)\n",
       "  [BB, HH, EE, JJ]         => (timing = 18, flow = 1129)\n",
       "  [BB, JJ, CC, HH, EE]     => (timing = 21, flow = 1219)\n",
       "  [BB, DD, HH, CC, JJ]     => (timing = 21, flow = 1521)\n",
       "  [HH, EE, CC, DD]         => (timing = 15, flow = 922)\n",
       "  [BB, DD, CC, JJ]         => (timing = 12, flow = 1288)\n",
       "  [BB, JJ, HH, CC, EE, DD] => (timing = 25, flow = 1361)\n",
       "  [BB, CC, HH, EE, DD, JJ] => (timing = 20, flow = 1394)\n",
       "  [JJ, EE, HH, BB, DD]     => (timing = 22, flow = 1332)\n",
       "  [DD, HH, BB, JJ, CC, EE] => (timing = 26, flow = 1552)\n",
       "  [DD, BB, HH]             => (timing = 12, flow = 1281)\n",
       "  [EE, HH, JJ, CC, BB, DD] => (timing = 25, flow = 1126)\n",
       "  [EE, CC, HH, DD, BB]     => (timing = 20, flow = 915)\n",
       "  [BB, EE, CC, DD, HH]     => (timing = 16, flow = 1166)\n",
       "  [EE, HH, BB, CC, JJ, DD] => (timing = 25, flow = 1112)\n",
       "  [JJ, BB, DD, EE, HH]     => (timing = 16, flow = 1628)\n",
       "  [EE, DD, CC, JJ, BB]     => (timing = 16, flow = 1187)\n",
       "  [JJ, DD, HH]             => (timing = 12, flow = 1423)\n",
       "  [HH, JJ, DD, CC]         => (timing = 20, flow = 1124)\n",
       "  [HH, DD, JJ, BB]         => (timing = 19, flow = 1366)\n",
       "  [BB, JJ, CC, DD, HH]     => (timing = 18, flow = 1510)\n",
       "  ⋮                        => ⋮"
      ]
     },
     "execution_count": 15,
     "metadata": {},
     "output_type": "execute_result"
    }
   ],
   "source": [
    "build_flow_model(PDS1; time_limit = 30)"
   ]
  },
  {
   "cell_type": "markdown",
   "metadata": {},
   "source": [
    "### answer"
   ]
  },
  {
   "cell_type": "code",
   "execution_count": 16,
   "metadata": {},
   "outputs": [
    {
     "data": {
      "text/plain": [
       "1651"
      ]
     },
     "execution_count": 16,
     "metadata": {},
     "output_type": "execute_result"
    }
   ],
   "source": [
    "result1(PDS1)"
   ]
  },
  {
   "cell_type": "code",
   "execution_count": 17,
   "metadata": {},
   "outputs": [
    {
     "name": "stdout",
     "output_type": "stream",
     "text": [
      "  2.293208 seconds (37.45 M allocations: 1.348 GiB, 14.33% gc time, 13.26% compilation time: 8% of which was recompilation)\n"
     ]
    },
    {
     "name": "stderr",
     "output_type": "stream",
     "text": [
      "\u001b[36m\u001b[1m┌ \u001b[22m\u001b[39m\u001b[36m\u001b[1mInfo: \u001b[22m\u001b[39mpart 1 answer\n",
      "\u001b[36m\u001b[1m│ \u001b[22m\u001b[39m  result1(PDS1) = 1651\n",
      "\u001b[36m\u001b[1m└ \u001b[22m\u001b[39m  result1(PDI) = 2330\n"
     ]
    }
   ],
   "source": [
    "@time @info(\n",
    "    \"part 1 answer\",\n",
    "    result1(PDS1),\n",
    "    result1(PDI),\n",
    ")"
   ]
  },
  {
   "cell_type": "markdown",
   "metadata": {},
   "source": [
    "## part 2"
   ]
  },
  {
   "cell_type": "code",
   "execution_count": 18,
   "metadata": {},
   "outputs": [
    {
     "data": {
      "text/plain": [
       "Dict{Vector{String}, NamedTuple{(:timing, :flow), Tuple{Int64, Int64}}} with 1820 entries:\n",
       "  [EE, DD, BB, JJ, HH, CC] => (timing = 26, flow = 1149)\n",
       "  [DD, EE, CC, HH, JJ]     => (timing = 21, flow = 975)\n",
       "  [HH, DD, EE]             => (timing = 13, flow = 779)\n",
       "  [EE, DD, CC]             => (timing = 7, flow = 527)\n",
       "  [EE, CC, JJ, DD, BB, HH] => (timing = 25, flow = 770)\n",
       "  [BB, HH, EE, JJ]         => (timing = 18, flow = 893)\n",
       "  [BB, JJ, CC, HH, EE]     => (timing = 21, flow = 975)\n",
       "  [BB, DD, HH, CC, JJ]     => (timing = 21, flow = 1209)\n",
       "  [HH, EE, CC, DD]         => (timing = 15, flow = 734)\n",
       "  [BB, DD, CC, JJ]         => (timing = 12, flow = 1064)\n",
       "  [BB, JJ, HH, CC, EE, DD] => (timing = 25, flow = 1037)\n",
       "  [BB, CC, HH, EE, DD, JJ] => (timing = 20, flow = 1070)\n",
       "  [JJ, EE, HH, BB, DD]     => (timing = 22, flow = 1016)\n",
       "  [DD, HH, BB, JJ, CC, EE] => (timing = 26, flow = 1228)\n",
       "  [DD, BB, HH]             => (timing = 12, flow = 1061)\n",
       "  [EE, HH, JJ, CC, BB, DD] => (timing = 25, flow = 802)\n",
       "  [EE, CC, HH, DD, BB]     => (timing = 20, flow = 675)\n",
       "  [BB, EE, CC, DD, HH]     => (timing = 16, flow = 926)\n",
       "  [EE, HH, BB, CC, JJ, DD] => (timing = 25, flow = 788)\n",
       "  [JJ, BB, DD, EE, HH]     => (timing = 16, flow = 1312)\n",
       "  [EE, DD, CC, JJ, BB]     => (timing = 16, flow = 951)\n",
       "  [JJ, DD, HH]             => (timing = 12, flow = 1171)\n",
       "  [HH, JJ, DD, CC]         => (timing = 20, flow = 864)\n",
       "  [HH, DD, JJ, BB]         => (timing = 19, flow = 1062)\n",
       "  [BB, JJ, CC, DD, HH]     => (timing = 18, flow = 1198)\n",
       "  ⋮                        => ⋮"
      ]
     },
     "execution_count": 18,
     "metadata": {},
     "output_type": "execute_result"
    }
   ],
   "source": [
    "FLOW_MODEL = build_flow_model(PD; time_limit = 26)"
   ]
  },
  {
   "cell_type": "code",
   "execution_count": 19,
   "metadata": {},
   "outputs": [
    {
     "data": {
      "text/plain": [
       "31-element Vector{Vector{Set{String}}}:\n",
       " [Set([\"BB\", \"JJ\", \"CC\", \"DD\", \"EE\"]), Set([\"HH\"])]\n",
       " [Set([\"BB\", \"JJ\", \"CC\", \"DD\", \"HH\"]), Set([\"EE\"])]\n",
       " [Set([\"BB\", \"JJ\", \"CC\", \"DD\"]), Set([\"HH\", \"EE\"])]\n",
       " [Set([\"BB\", \"JJ\", \"CC\", \"HH\", \"EE\"]), Set([\"DD\"])]\n",
       " [Set([\"BB\", \"JJ\", \"CC\", \"EE\"]), Set([\"DD\", \"HH\"])]\n",
       " [Set([\"BB\", \"JJ\", \"CC\", \"HH\"]), Set([\"DD\", \"EE\"])]\n",
       " [Set([\"BB\", \"JJ\", \"CC\"]), Set([\"DD\", \"EE\", \"HH\"])]\n",
       " [Set([\"BB\", \"JJ\", \"DD\", \"EE\", \"HH\"]), Set([\"CC\"])]\n",
       " [Set([\"BB\", \"JJ\", \"DD\", \"EE\"]), Set([\"CC\", \"HH\"])]\n",
       " [Set([\"BB\", \"JJ\", \"DD\", \"HH\"]), Set([\"CC\", \"EE\"])]\n",
       " [Set([\"BB\", \"JJ\", \"DD\"]), Set([\"CC\", \"HH\", \"EE\"])]\n",
       " [Set([\"BB\", \"JJ\", \"HH\", \"EE\"]), Set([\"CC\", \"DD\"])]\n",
       " [Set([\"BB\", \"JJ\", \"EE\"]), Set([\"CC\", \"DD\", \"HH\"])]\n",
       " ⋮\n",
       " [Set([\"BB\", \"CC\", \"HH\", \"EE\"]), Set([\"JJ\", \"DD\"])]\n",
       " [Set([\"BB\", \"CC\", \"EE\"]), Set([\"JJ\", \"DD\", \"HH\"])]\n",
       " [Set([\"BB\", \"CC\", \"HH\"]), Set([\"JJ\", \"DD\", \"EE\"])]\n",
       " [Set([\"BB\", \"CC\"]), Set([\"JJ\", \"DD\", \"EE\", \"HH\"])]\n",
       " [Set([\"BB\", \"DD\", \"EE\", \"HH\"]), Set([\"JJ\", \"CC\"])]\n",
       " [Set([\"BB\", \"DD\", \"EE\"]), Set([\"JJ\", \"CC\", \"HH\"])]\n",
       " [Set([\"BB\", \"DD\", \"HH\"]), Set([\"JJ\", \"CC\", \"EE\"])]\n",
       " [Set([\"BB\", \"DD\"]), Set([\"JJ\", \"CC\", \"HH\", \"EE\"])]\n",
       " [Set([\"BB\", \"HH\", \"EE\"]), Set([\"JJ\", \"CC\", \"DD\"])]\n",
       " [Set([\"BB\", \"EE\"]), Set([\"JJ\", \"CC\", \"DD\", \"HH\"])]\n",
       " [Set([\"BB\", \"HH\"]), Set([\"JJ\", \"CC\", \"DD\", \"EE\"])]\n",
       " [Set([\"BB\"]), Set([\"JJ\", \"CC\", \"DD\", \"EE\", \"HH\"])]"
      ]
     },
     "execution_count": 19,
     "metadata": {},
     "output_type": "execute_result"
    }
   ],
   "source": [
    "bucket_useful_value_ids(USEFUL_VALVES)"
   ]
  },
  {
   "cell_type": "code",
   "execution_count": 20,
   "metadata": {},
   "outputs": [
    {
     "data": {
      "text/plain": [
       "(timing = 3, flow = 483)"
      ]
     },
     "execution_count": 20,
     "metadata": {},
     "output_type": "execute_result"
    }
   ],
   "source": [
    "FLOW_MODEL[[\"JJ\"]]"
   ]
  },
  {
   "cell_type": "code",
   "execution_count": 21,
   "metadata": {},
   "outputs": [
    {
     "data": {
      "text/plain": [
       "Dict{Any, Any} with 63 entries:\n",
       "  Set([\"BB\", \"JJ\", \"DD\", \"HH\"])             => 1308\n",
       "  Set([\"DD\", \"HH\", \"EE\"])                   => 943\n",
       "  Set([\"BB\", \"DD\", \"EE\"])                   => 804\n",
       "  Set([\"BB\", \"JJ\", \"CC\", \"HH\"])             => 1008\n",
       "  Set([\"HH\"])                               => 440\n",
       "  Set([\"BB\", \"JJ\", \"DD\", \"EE\"])             => 1146\n",
       "  Set([\"HH\", \"EE\"])                         => 488\n",
       "  Set([\"CC\", \"DD\", \"HH\", \"EE\"])             => 967\n",
       "  Set([\"JJ\", \"DD\", \"HH\"])                   => 1171\n",
       "  Set([\"CC\", \"HH\", \"EE\"])                   => 514\n",
       "  Set([\"BB\", \"JJ\", \"CC\", \"DD\", \"HH\", \"EE\"]) => 1327\n",
       "  Set([\"BB\", \"JJ\", \"CC\", \"HH\", \"EE\"])       => 1030\n",
       "  Set([\"CC\"])                               => 46\n",
       "  Set([\"BB\", \"JJ\", \"DD\", \"HH\", \"EE\"])       => 1323\n",
       "  Set([\"JJ\", \"DD\", \"EE\"])                   => 945\n",
       "  Set([\"CC\", \"EE\"])                         => 109\n",
       "  Set([\"JJ\", \"EE\"])                         => 537\n",
       "  Set([\"JJ\", \"CC\", \"EE\"])                   => 567\n",
       "  Set([\"DD\", \"HH\"])                         => 898\n",
       "  Set([\"BB\", \"JJ\", \"HH\"])                   => 996\n",
       "  Set([\"BB\", \"JJ\", \"CC\"])                   => 764\n",
       "  Set([\"BB\", \"DD\", \"HH\"])                   => 1084\n",
       "  Set([\"BB\", \"JJ\", \"HH\", \"EE\"])             => 1020\n",
       "  Set([\"JJ\", \"DD\", \"HH\", \"EE\"])             => 1201\n",
       "  Set([\"BB\", \"DD\", \"HH\", \"EE\"])             => 1120\n",
       "  ⋮                                         => ⋮"
      ]
     },
     "execution_count": 21,
     "metadata": {},
     "output_type": "execute_result"
    }
   ],
   "source": [
    "BEST = build_best_flow_lookup(FLOW_MODEL)"
   ]
  },
  {
   "cell_type": "code",
   "execution_count": 22,
   "metadata": {},
   "outputs": [
    {
     "data": {
      "text/plain": [
       "1707"
      ]
     },
     "execution_count": 22,
     "metadata": {},
     "output_type": "execute_result"
    }
   ],
   "source": [
    "build_new_flow_model(PD; time_limit = 26)"
   ]
  },
  {
   "cell_type": "markdown",
   "metadata": {},
   "source": [
    "### answer"
   ]
  },
  {
   "cell_type": "code",
   "execution_count": 23,
   "metadata": {},
   "outputs": [
    {
     "name": "stdout",
     "output_type": "stream",
     "text": [
      "  2.149611 seconds (52.60 M allocations: 2.066 GiB, 8.35% gc time, 3.29% compilation time)\n"
     ]
    },
    {
     "name": "stderr",
     "output_type": "stream",
     "text": [
      "\u001b[36m\u001b[1m┌ \u001b[22m\u001b[39m\u001b[36m\u001b[1mInfo: \u001b[22m\u001b[39mpart 2 answer\n",
      "\u001b[36m\u001b[1m│ \u001b[22m\u001b[39m  result2(PDS1) = 1707\n",
      "\u001b[36m\u001b[1m└ \u001b[22m\u001b[39m  result2(PDI) = 2675\n"
     ]
    }
   ],
   "source": [
    "@time @info(\n",
    "    \"part 2 answer\",\n",
    "    result2(PDS1),\n",
    "    result2(PDI),\n",
    ")"
   ]
  }
 ],
 "metadata": {
  "@webio": {
   "lastCommId": null,
   "lastKernelId": null
  },
  "kernelspec": {
   "display_name": "Julia 1.8.2",
   "language": "julia",
   "name": "julia-1.8"
  },
  "language_info": {
   "file_extension": ".jl",
   "mimetype": "application/julia",
   "name": "julia",
   "version": "1.8.2"
  },
  "latex_envs": {
   "LaTeX_envs_menu_present": true,
   "autoclose": false,
   "autocomplete": true,
   "bibliofile": "biblio.bib",
   "cite_by": "apalike",
   "current_citInitial": 1,
   "eqLabelWithNumbers": true,
   "eqNumInitial": 1,
   "hotkeys": {
    "equation": "Ctrl-E",
    "itemize": "Ctrl-I"
   },
   "labels_anchors": false,
   "latex_user_defs": false,
   "report_style_numbering": false,
   "user_envs_cfg": false
  },
  "toc": {
   "base_numbering": 1,
   "nav_menu": {},
   "number_sections": true,
   "sideBar": true,
   "skip_h1_title": true,
   "title_cell": "Table of Contents",
   "title_sidebar": "Contents",
   "toc_cell": true,
   "toc_position": {},
   "toc_section_display": true,
   "toc_window_display": false
  }
 },
 "nbformat": 4,
 "nbformat_minor": 4
}
