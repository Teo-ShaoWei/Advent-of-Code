{
 "cells": [
  {
   "cell_type": "markdown",
   "metadata": {},
   "source": [
    "# Advent of Code 2022 Day 8\n",
    "[link](https://adventofcode.com/2022/day/8)"
   ]
  },
  {
   "cell_type": "markdown",
   "metadata": {},
   "source": [
    "## include code file using Revise"
   ]
  },
  {
   "cell_type": "code",
   "execution_count": 1,
   "metadata": {},
   "outputs": [],
   "source": [
    "using Revise"
   ]
  },
  {
   "cell_type": "code",
   "execution_count": 2,
   "metadata": {
    "scrolled": true
   },
   "outputs": [],
   "source": [
    "includet(\"functions.jl\")"
   ]
  },
  {
   "cell_type": "markdown",
   "metadata": {},
   "source": [
    "## set logger"
   ]
  },
  {
   "cell_type": "code",
   "execution_count": 3,
   "metadata": {},
   "outputs": [
    {
     "data": {
      "text/plain": [
       "Base.CoreLogging.SimpleLogger(IJulia.IJuliaStdio{Base.PipeEndpoint}(IOContext(Base.PipeEndpoint(RawFD(45) open, 0 bytes waiting))), Info, Dict{Any, Int64}())"
      ]
     },
     "execution_count": 3,
     "metadata": {},
     "output_type": "execute_result"
    }
   ],
   "source": [
    "import Logging\n",
    "import TerminalLoggers\n",
    "\n",
    "Logging.global_logger(TerminalLoggers.TerminalLogger())"
   ]
  },
  {
   "cell_type": "markdown",
   "metadata": {},
   "source": [
    "## read input"
   ]
  },
  {
   "cell_type": "code",
   "execution_count": 4,
   "metadata": {
    "scrolled": true
   },
   "outputs": [
    {
     "data": {
      "text/plain": [
       "5×5 Matrix{Int64}:\n",
       " 3  0  3  7  3\n",
       " 2  5  5  1  2\n",
       " 6  5  3  3  2\n",
       " 3  3  5  4  9\n",
       " 3  5  3  9  0"
      ]
     },
     "execution_count": 4,
     "metadata": {},
     "output_type": "execute_result"
    }
   ],
   "source": [
    "PDS1 = parse_puzzle_file(\"sample1.txt\")"
   ]
  },
  {
   "cell_type": "code",
   "execution_count": 5,
   "metadata": {
    "scrolled": true
   },
   "outputs": [
    {
     "data": {
      "text/plain": [
       "99×99 Matrix{Int64}:\n",
       " 3  0  0  0  3  0  2  1  3  2  1  3  1  …  1  0  3  1  1  0  2  2  0  2  1  1\n",
       " 1  3  3  0  0  0  0  0  4  4  2  1  3     4  4  2  0  3  2  3  1  1  0  3  0\n",
       " 2  1  3  1  2  1  3  1  2  2  3  0  4     0  2  3  1  4  2  0  1  0  1  3  3\n",
       " 2  1  0  0  2  0  1  0  3  2  3  2  3     4  4  4  4  3  2  3  0  1  2  1  0\n",
       " 3  0  0  2  2  1  3  1  1  0  1  3  4     2  0  0  0  4  1  2  3  2  0  0  0\n",
       " 0  0  0  0  0  0  0  1  1  1  3  0  2  …  0  0  3  1  0  3  4  3  1  4  3  1\n",
       " 0  1  2  1  4  2  3  3  3  1  4  1  3     3  3  1  2  4  3  2  1  1  2  3  2\n",
       " 0  2  0  2  1  3  0  3  3  0  2  2  0     0  5  4  1  3  0  4  3  0  4  2  2\n",
       " 0  4  2  3  1  4  0  1  2  0  3  0  2     5  2  3  2  1  0  1  2  2  3  0  0\n",
       " 2  1  1  2  2  4  0  2  0  4  0  2  4     2  4  1  0  3  0  2  4  3  4  3  3\n",
       " 3  1  4  4  2  4  0  3  2  3  3  2  2  …  3  1  1  3  5  2  3  0  3  0  2  0\n",
       " 4  3  0  4  4  2  0  4  3  2  1  1  5     0  1  3  3  4  0  3  4  1  2  3  2\n",
       " 0  0  1  0  0  1  3  2  5  2  3  2  4     5  0  4  3  3  1  1  3  2  1  1  4\n",
       " ⋮              ⋮              ⋮        ⋱           ⋮              ⋮        \n",
       " 4  4  4  2  1  3  3  1  0  1  0  2  5     4  3  4  3  3  4  0  2  0  1  3  4\n",
       " 1  1  3  2  3  4  3  1  0  3  1  3  0     5  0  1  1  1  2  2  0  2  4  2  4\n",
       " 1  4  2  4  0  2  3  3  2  0  0  4  0     4  3  1  5  1  2  1  1  1  4  4  4\n",
       " 4  1  1  0  3  4  3  4  0  0  5  1  5  …  5  2  3  3  4  2  2  3  0  0  2  1\n",
       " 4  0  1  2  1  2  2  1  2  3  1  1  2     5  2  4  0  4  3  0  3  3  2  4  3\n",
       " 0  4  0  0  3  4  0  2  3  2  3  3  1     1  0  4  0  4  1  4  3  0  0  2  3\n",
       " 2  0  2  2  1  0  2  3  3  0  3  4  4     2  1  0  2  0  3  4  2  2  3  2  2\n",
       " 0  1  1  4  3  1  4  3  2  0  1  3  3     5  1  2  0  3  1  3  0  2  3  3  3\n",
       " 0  2  0  0  2  3  2  1  0  3  0  1  1  …  2  4  2  4  3  4  4  4  4  0  0  3\n",
       " 3  1  0  2  0  3  1  1  1  4  4  1  4     0  1  3  3  4  1  2  4  0  1  2  1\n",
       " 0  1  2  3  2  0  3  1  1  1  0  0  0     4  2  1  1  4  4  1  1  1  2  3  0\n",
       " 3  1  1  3  1  0  3  4  4  4  3  3  2     4  4  0  2  3  2  3  3  0  0  2  2"
      ]
     },
     "execution_count": 5,
     "metadata": {},
     "output_type": "execute_result"
    }
   ],
   "source": [
    "PDI = parse_puzzle_file(\"input.txt\")"
   ]
  },
  {
   "cell_type": "markdown",
   "metadata": {},
   "source": [
    "## part 1"
   ]
  },
  {
   "cell_type": "code",
   "execution_count": 6,
   "metadata": {},
   "outputs": [
    {
     "data": {
      "text/plain": [
       "true"
      ]
     },
     "execution_count": 6,
     "metadata": {},
     "output_type": "execute_result"
    }
   ],
   "source": [
    "can_see_tree(PDS1, CI(1, 3))"
   ]
  },
  {
   "cell_type": "code",
   "execution_count": 7,
   "metadata": {},
   "outputs": [
    {
     "data": {
      "text/plain": [
       "5×5 BitMatrix:\n",
       " 1  1  1  1  1\n",
       " 1  1  1  0  1\n",
       " 1  1  0  1  1\n",
       " 1  0  1  0  1\n",
       " 1  1  1  1  1"
      ]
     },
     "execution_count": 7,
     "metadata": {},
     "output_type": "execute_result"
    }
   ],
   "source": [
    "derive_seeable_trees(PDS1)"
   ]
  },
  {
   "cell_type": "markdown",
   "metadata": {},
   "source": [
    "### answer"
   ]
  },
  {
   "cell_type": "code",
   "execution_count": 8,
   "metadata": {
    "tags": []
   },
   "outputs": [
    {
     "name": "stdout",
     "output_type": "stream",
     "text": [
      "  0.273881 seconds (2.16 M allocations: 122.215 MiB, 7.70% gc time, 96.71% compilation time)\n"
     ]
    },
    {
     "name": "stderr",
     "output_type": "stream",
     "text": [
      "\u001b[36m\u001b[1m┌ \u001b[22m\u001b[39m\u001b[36m\u001b[1mInfo: \u001b[22m\u001b[39mpart 1 answer\n",
      "\u001b[36m\u001b[1m│ \u001b[22m\u001b[39m  result1(PDS1) = 21\n",
      "\u001b[36m\u001b[1m└ \u001b[22m\u001b[39m  result1(PDI) = 1717\n"
     ]
    }
   ],
   "source": [
    "@time @info(\n",
    "    \"part 1 answer\",\n",
    "    result1(PDS1),\n",
    "    result1(PDI),\n",
    ")"
   ]
  },
  {
   "cell_type": "markdown",
   "metadata": {},
   "source": [
    "## part 2"
   ]
  },
  {
   "cell_type": "code",
   "execution_count": 9,
   "metadata": {},
   "outputs": [
    {
     "data": {
      "text/plain": [
       "(l_view = 2, r_view = 2, t_view = 2, b_view = 1)"
      ]
     },
     "execution_count": 9,
     "metadata": {},
     "output_type": "execute_result"
    }
   ],
   "source": [
    "scenic_view(PDS1, CI(4, 3))"
   ]
  },
  {
   "cell_type": "markdown",
   "metadata": {},
   "source": [
    "### answer"
   ]
  },
  {
   "cell_type": "code",
   "execution_count": 10,
   "metadata": {},
   "outputs": [
    {
     "name": "stdout",
     "output_type": "stream",
     "text": [
      "  0.174130 seconds (1.10 M allocations: 71.886 MiB, 7.58% gc time, 93.84% compilation time)\n"
     ]
    },
    {
     "name": "stderr",
     "output_type": "stream",
     "text": [
      "\u001b[36m\u001b[1m┌ \u001b[22m\u001b[39m\u001b[36m\u001b[1mInfo: \u001b[22m\u001b[39mpart 2 answer\n",
      "\u001b[36m\u001b[1m│ \u001b[22m\u001b[39m  result2(PDS1) = 8\n",
      "\u001b[36m\u001b[1m└ \u001b[22m\u001b[39m  result2(PDI) = 321975\n"
     ]
    }
   ],
   "source": [
    "@time @info(\n",
    "    \"part 2 answer\",\n",
    "    result2(PDS1),\n",
    "    result2(PDI),\n",
    ")"
   ]
  }
 ],
 "metadata": {
  "@webio": {
   "lastCommId": null,
   "lastKernelId": null
  },
  "kernelspec": {
   "display_name": "Julia 1.8.2",
   "language": "julia",
   "name": "julia-1.8"
  },
  "language_info": {
   "file_extension": ".jl",
   "mimetype": "application/julia",
   "name": "julia",
   "version": "1.8.2"
  },
  "latex_envs": {
   "LaTeX_envs_menu_present": true,
   "autoclose": false,
   "autocomplete": true,
   "bibliofile": "biblio.bib",
   "cite_by": "apalike",
   "current_citInitial": 1,
   "eqLabelWithNumbers": true,
   "eqNumInitial": 1,
   "hotkeys": {
    "equation": "Ctrl-E",
    "itemize": "Ctrl-I"
   },
   "labels_anchors": false,
   "latex_user_defs": false,
   "report_style_numbering": false,
   "user_envs_cfg": false
  },
  "toc": {
   "base_numbering": 1,
   "nav_menu": {},
   "number_sections": true,
   "sideBar": true,
   "skip_h1_title": true,
   "title_cell": "Table of Contents",
   "title_sidebar": "Contents",
   "toc_cell": true,
   "toc_position": {},
   "toc_section_display": true,
   "toc_window_display": false
  }
 },
 "nbformat": 4,
 "nbformat_minor": 4
}
