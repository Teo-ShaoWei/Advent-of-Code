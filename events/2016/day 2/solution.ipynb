{
 "cells": [
  {
   "cell_type": "code",
   "execution_count": 1,
   "metadata": {},
   "outputs": [
    {
     "data": {
      "text/latex": [
       "\\section{Advent of Code 2016 Day 2}\n",
       "\\href{https://adventofcode.com/2016/day/2}{Problem link}\n",
       "\n"
      ],
      "text/markdown": [
       "# Advent of Code 2016 Day 2\n",
       "\n",
       "[Problem link](https://adventofcode.com/2016/day/2)\n"
      ],
      "text/plain": [
       "\u001b[1m  Advent of Code 2016 Day 2\u001b[22m\n",
       "\u001b[1m  ≡≡≡≡≡≡≡≡≡≡≡≡≡≡≡≡≡≡≡≡≡≡≡≡≡≡≡\u001b[22m\n",
       "\n",
       "  Problem link (https://adventofcode.com/2016/day/2)"
      ]
     },
     "metadata": {},
     "output_type": "display_data"
    }
   ],
   "source": [
    "YEAR = 2016;\n",
    "DAY = 2;\n",
    "SESSION_COOKIE = \"53616c7465645f5f247aa4bb66cc604a12f273db44943b8acf6742dbc7ed3e4915998d3119ad3e8822969ca3695db15416e2361accaed6724c90e2044486f759\"\n",
    "\n",
    "using Markdown\n",
    "URL = \"https://adventofcode.com/$(YEAR)/day/$(DAY)\"\n",
    "Markdown.parse(\"\"\"\n",
    "# Advent of Code $(YEAR) Day $(DAY)\n",
    "[Problem link]($(URL))\n",
    "\"\"\")\n"
   ]
  },
  {
   "cell_type": "markdown",
   "metadata": {},
   "source": [
    "## include code file using Revise\n"
   ]
  },
  {
   "cell_type": "code",
   "execution_count": 2,
   "metadata": {},
   "outputs": [],
   "source": [
    "using Revise\n"
   ]
  },
  {
   "cell_type": "code",
   "execution_count": 3,
   "metadata": {
    "scrolled": true
   },
   "outputs": [],
   "source": [
    "includet(\"functions.jl\")\n"
   ]
  },
  {
   "cell_type": "markdown",
   "metadata": {},
   "source": [
    "## set logger\n"
   ]
  },
  {
   "cell_type": "code",
   "execution_count": 4,
   "metadata": {},
   "outputs": [
    {
     "data": {
      "text/plain": [
       "Base.CoreLogging.SimpleLogger(VSCodeServer.IJuliaCore.IJuliaStdio{Base.PipeEndpoint, typeof(VSCodeServer.io_send_callback)}(IOContext(Base.PipeEndpoint(RawFD(20) open, 0 bytes waiting)), VSCodeServer.io_send_callback), Info, Dict{Any, Int64}())"
      ]
     },
     "metadata": {},
     "output_type": "display_data"
    }
   ],
   "source": [
    "using Logging: Logging\n",
    "using TerminalLoggers: TerminalLoggers\n",
    "\n",
    "Logging.global_logger(TerminalLoggers.TerminalLogger())\n"
   ]
  },
  {
   "cell_type": "markdown",
   "metadata": {},
   "source": [
    "## read input"
   ]
  },
  {
   "cell_type": "code",
   "execution_count": 5,
   "metadata": {},
   "outputs": [],
   "source": [
    "# Run this first.\n",
    "import HTTP\n"
   ]
  },
  {
   "cell_type": "code",
   "execution_count": 6,
   "metadata": {},
   "outputs": [
    {
     "name": "stdout",
     "output_type": "stream",
     "text": [
      "url = \"https://adventofcode.com/$(YEAR)/day/$(DAY)/input\" = \"https://adventofcode.com/2016/day/2/input\"\n",
      "SESSION_COOKIE = \"53616c7465645f5f247aa4bb66cc604a12f273db44943b8acf6742dbc7ed3e4915998d3119ad3e8822969ca3695db15416e2361accaed6724c90e2044486f759\"\n",
      "\n",
      "You already have `input.txt`!\n"
     ]
    }
   ],
   "source": [
    "# Run this only when trying to download the input.txt! Do so abit later.\n",
    "\n",
    "@show url = \"https://adventofcode.com/$(YEAR)/day/$(DAY)/input\"\n",
    "@show SESSION_COOKIE\n",
    "println()\n",
    "\n",
    "if \"input.txt\" ∉ readdir()\n",
    "    response = HTTP.get(url, headers=Dict(\"Cookie\" => \"session=$(SESSION_COOKIE)\"))\n",
    "\n",
    "    if HTTP.status(response) == 200\n",
    "        write(\"input.txt\", String(response.body))\n",
    "        println(\"Downlaoded input file for $YEAR day $DAY to `input.txt`.\")\n",
    "    else\n",
    "        println(\"Download unsuccessful\")\n",
    "    end\n",
    "else\n",
    "    println(\"You already have `input.txt`!\")\n",
    "end\n"
   ]
  },
  {
   "cell_type": "code",
   "execution_count": 7,
   "metadata": {
    "scrolled": true
   },
   "outputs": [
    {
     "data": {
      "text/plain": [
       "4-element Vector{Vector{Symbol}}:\n",
       " [U, L, L]\n",
       " [R, R, D, D, D]\n",
       " [L, U, R, D, L]\n",
       " [U, U, U, U, D]"
      ]
     },
     "metadata": {},
     "output_type": "display_data"
    }
   ],
   "source": [
    "PDS1 = parse_puzzle_file(\"sample1.txt\")\n"
   ]
  },
  {
   "cell_type": "code",
   "execution_count": 8,
   "metadata": {
    "scrolled": true
   },
   "outputs": [
    {
     "data": {
      "text/plain": [
       "5-element Vector{Vector{Symbol}}:\n",
       " [U, R, U, L, L, L, L, L, R, L, D, D, U, U, R, R, R, U, L, L, L, D, U, R, R, D, R, D, R, D, L, U, R, U, R, U, R, L, D, L, L, L, L, R, U, D, D, R, R, L, U, D, D, D, D, D, D, L, R, L, R, D, D, D, U, U, D, U, D, L, D, U, L, U, D, L, D, U, R, D, U, L, L, R, D, D, U, R, L, L, L, R, R, R, L, L, R, U, R, L, L, U, D, R, D, L, L, R, R, L, D, D, R, U, D, U, L, R, R, D, D, L, U, U, U, D, R, L, D, L, U, R, R, R, U, L, U, R, R, D, L, L, L, D, D, D, L, U, D, U, R, D, D, R, L, D, D, D, L, L, R, U, L, D, R, U, D, D, D, L, U, D, L, U, R, U, D, L, L, R, U, R, R, U, U, R, U, D, L, L, L, U, U, U, U, D, D, U, R, D, R, D, D, D, L, D, R, R, U, D, U, R, D, L, L, L, U, L, U, D, U, R, U, R, D, U, U, U, L, R, U, L, U, D, R, U, U, U, U, D, L, R, L, U, U, U, U, U, D, D, R, R, D, D, D, U, R, U, L, L, L, R, R, L, D, U, R, L, D, L, D, R, D, L, L, L, U, U, L, L, R, R, L, L, L, L, D, R, L, R, D, R, R, D, R, R, U, D, D, L, U, L, U, U, D, D, D, D, R, R, U, U, D, D, L, U, R, L, R, D, U, U, D, R, R, L, D, U, D, L, R, R, R, L, R, R, U, U, D, U, R, D, R, U, L, U, L, R, D, U, R, D, R, R, R, D, L, D, U, U, U, L, R, D, D, L, R, L, R, D, L, U, U, D, D, U, D, D, R, L, R, R, U, L, L, L, U, L, U, L, L, D, D, D, R, R, D, U, U, U, D, D, R, U, R, D, D, U, R, D, R, L, R, D, L, D, R, D, R, U, L, R, L, U, U, R, U, D, R, L, U, L, R, L, U, R, L, R, R, U, L, D, R, L, R, D, U, D, L, D, U, R, L, L, R, L, U, D, L, U, D, D, U, R, D, U, U, R, L, U, D, R, L, U, L]\n",
       " [L, L, L, U, U, U, R, U, U, L, D, D, D, U, L, R, R, D, L, R, L, L, L, L, L, L, L, L, R, U, R, R, D, L, U, R, L, U, D, R, R, D, D, U, L, D, R, R, R, R, R, R, L, D, U, R, R, U, L, D, D, U, L, L, D, D, D, R, U, U, D, L, U, D, U, L, L, D, L, R, R, L, U, U, L, U, L, R, U, L, U, R, D, U, R, L, L, D, U, L, U, R, D, U, D, L, R, R, L, R, L, L, D, U, L, L, R, L, D, U, R, R, U, U, L, D, L, D, U, L, L, R, D, U, L, U, L, L, L, U, L, D, R, L, D, L, D, L, D, L, D, D, L, U, L, R, L, D, U, D, R, U, L, U, D, D, R, D, D, R, L, R, L, U, R, U, R, R, D, U, L, L, U, U, L, L, D, R, R, D, R, R, D, L, D, L, L, R, D, L, D, D, U, U, U, R, L, U, U, L, D, D, R, R, R, U, U, L, D, U, L, D, D, R, D, D, L, U, L, U, D, R, U, R, U, U, L, L, U, D, R, U, R, D, R, U, L, D, R, U, U, L, L, R, R, D, U, R, U, D, D, L, D, U, U, L, L, D, D, R, L, R, R, D, U, D, R, L, R, R, R, L, D, R, L, R, U, L, D, R, D, R, R, U, D, R, L, L, L, D, D, U, D, L, U, L, L, U, R, R, U, R, R, L, U, U, R, D, R, L, L, D, L, L, D, U, D, L, U, U, U, R, R, L, R, D, D, U, D, R, L, U, D, L, L, R, U, L, L, D, U, U, U, R, D, L, U, U, U, D, U, D, U, L, R, L, D, L, D, R, U, U, D, U, L, R, D, R, R, U, D, L, U, L, R, L, R, D, L, D, R, R, D, D, D, U, D, L, D, L, D, L, R, U, U, R, L, D, L, L, U, U, R, D, L, D, L, R, D, L, D, R, U, D, D, U, U, R, L, L, L, R, D, R, D, R, R, U, L, L, R, L, R, D, U, L, U, D, D, D, L, U, D, U, R, L, D, U, D, L, L, R, U, L, R, D, U, R, D, R, D, L, L, U, L, R, R, D, L, L, L, D, U, U, R, R, D, U, D, D, L, D, D, R, U, L, R, R, R, R, L, R, D, D, R, U, R, L, L, R, R, L, L, L]\n",
       " [D, R, U, R, L, D, D, D, D, R, L, U, D, R, D, U, R, U, D, D, U, L, L, R, R, L, L, R, L, D, D, R, L, U, L, U, R, L, D, U, R, R, L, D, R, R, L, R, L, U, U, R, D, D, R, R, D, L, R, D, L, D, L, U, L, D, U, R, U, D, R, L, R, U, D, U, L, R, U, R, U, R, L, R, U, D, R, L, L, D, D, U, D, D, R, D, L, D, R, L, L, D, D, L, R, R, D, R, U, U, U, L, D, U, U, D, R, U, U, L, R, L, L, D, L, L, U, L, L, L, R, R, D, R, U, R, D, L, D, D, R, R, D, D, U, D, D, U, L, L, D, U, U, U, L, D, R, U, D, L, D, L, U, R, L, D, R, U, R, U, D, L, R, D, D, D, U, R, R, L, R, D, D, U, D, L, L, L, R, R, U, D, R, U, L, R, U, L, R, R, L, L, U, U, U, L, D, R, L, R, R, R, L, L, L, D, L, L, D, U, D, D, U, U, D, R, U, R, L, D, L, R, R, U, U, U, R, L, U, D, D, D, R, R, D, D, L, D, D, D, D, L, U, U, R, D, D, U, L, D, R, L, R, U, R, L, U, L, L, U, R, R, D, R, L, L, U, R, L, L, L, U, R, D, U, R, L, D, L, U, D, U, U, D, U, U, L, L, R, L, D, L, L, L, L, U, L, R, D, D, L, D, U, D, U, D, D, D, U, U, L, U, R, R, L, U, L, D, L, D, R, L, R, D, R, L, U, L, L, U, D, D, U, U, U, U, U, R, D, R, U, R, L, D, U, U, L, D, R, R, D, U, L, U, D, U, D, L, D, D, R, D, L, U, D, D, U, R, U, D, U, R, L, D, U, L, R, U, D, R, R, D, L, R, L, R, D, R, R, U, R, L, D, L, U, R, L, U, L, U, L, D, D, U, U, D, L, R, L, L, L, L, U, R, R, U, R, U, L, D, D, R, U, U, U, L, L, D, U, L, D, R, D, U, L, D, D, D, L, L, L, R, L, U, L, D, D, U, D, L, R, U, D, U, D, U, D, U, R, L, U, R, L, D, D, L, R, U, L, D, L, U, R, D]\n",
       " [D, R, U, D, R, D, U, R, U, U, R, D, L, R, L, U, U, U, U, U, R, U, D, L, R, D, U, U, R, L, L, D, U, U, L, D, U, U, L, D, L, U, R, D, D, U, U, L, D, R, D, D, R, D, U, L, U, D, D, D, R, R, R, R, L, D, D, U, U, R, L, R, D, L, L, R, L, R, U, R, D, R, R, R, D, U, R, D, U, L, R, L, D, R, D, U, R, U, D, L, L, D, D, U, L, R, D, U, D, U, L, R, R, L, L, U, D, L, L, U, U, U, R, D, U, L, R, D, D, L, U, R, U, L, R, U, R, D, D, L, R, L, L, U, L, U, D, U, R, D, R, R, U, D, L, U, L, L, R, L, D, U, D, L, U, R, U, D, R, U, U, L, D, U, D, L, R, D, U, D, R, R, D, U, L, D, D, L, D, R, L, R, R, U, L, U, R, U, L, U, U, R, D, U, L, R, R, L, D, L, D, U, L, U, L, R, U, U, U, U, U, L, U, U, R, L, U, R, L, R, D, L, L, R, R, R, R, L, U, R, R, U, D, L, R, L, D, D, D, L, D, R, D, R, U, R, L, U, L, R, D, U, D, L, R, L, U, R, R, D, R, R, L, R, L, L, D, L, D, D, L, L, R, R, U, L, R, L, R, L, R, U, D, R, U, U, U, L, L, D, U, U, L, L, D, D, R, L, U, D, D, R, U, R, L, R, L, D, L, U, L, D, U, R, L, L, R, R, L, D, L, L, R, D, D, D, U, D, D, U, U, L, L, U, D, R, U, D, U, R, L, L, R, D, R, U, D, L, U, D, L, L, U, D, R, U, U, D, L, R, U, U, R, R, R, L, L, U, U, L, L, U, U, U, R, L, L, L, R, U, R, U, U, L, L, D, L, L, D, U, R, U, U, U, U, L, D, D, D, L, R, L, U, R, D, R, L, R, R, R, R, R, R, U, D, L, L, L, R, U, U, U, L, D, R, R, D, L, R, D, L, L, D, R, D, L, D, D, L, D, L, R, D, U, D, L, D, D, R, D, D, D, D, R, U, L, R, R, L, R, D, U, L, L, D, U, L, U, L, U, L, R, U, L, L, R, R, L, L, U, U, R, U, U, U, D, L, D, L, U, D, U, D, D, D, L, U, U, D, D, D, D, U, D, D, D, U, U, R, U, U, D, R, D, U, R, R, L, U, U, L, R, R, D, U, U, D, D, U, D, R, R, R, D, L, R, D, R, L, D, L, R, R, U, R, U, U, D, R, R, R, U, U, D, L, D, R, L, R, D, U, R, D]\n",
       " [D, D, D, L, R, U, R, U, D, R, R, R, U, R, U, U, D, L, R, L, R, D, U, L, D, R, D, U, U, L, R, U, R, R, R, U, U, L, U, D, U, L, D, D, L, R, R, L, L, R, L, D, D, L, U, R, L, R, U, D, R, L, R, R, L, R, D, L, R, L, L, D, D, L, U, L, D, L, R, R, U, R, D, D, R, D, L, L, D, D, R, U, D, R, R, R, U, R, R, D, U, D, U, L, U, D, D, U, L, R, R, D, R, L, D, U, U, L, D, L, L, L, D, R, L, U, D, R, D, U, R, D, R, R, D, L, L, L, L, R, R, L, R, L, L, U, L, R, U, R, U, U, D, D, R, U, L, D, L, L, R, U, L, D, R, D, L, U, D, L, U, L, D, D, D, L, L, U, U, L, R, R, L, D, D, U, U, R, D, L, U, L, U, U, L, U, L, R, D, D, D, L, D, U, D, D, L, L, L, R, R, L, L, L, D, U, L, R, D, D, L, R, R, U, D, D, R, D, D, L, L, L, L, D, L, D, L, U, L, R, R, R, D, U, D, U, R, R, L, U, U, D, L, L, L, L, D, U, U, U, L, D, U, L, R, D, R, U, L, L, R, D, R, U, D, U, L, R, U, U, D, U, L, U, L, D, R, D, L, D, U, D, R, R, L, R, R, D, R, L, D, U, D, L, U, L, L, U, D, D, L, U, R, L, U, U, U, D, R, D, U, D, R, U, L, U, L, D, R, D, L, R, D, R, R, L, D, D, R, R, L, U, U, R, D, R, U, L, D, L, R, R, L, L, R, R, L, D, L, R, R, L, D, L, D, R, U, L, D, D, R, L, U, R, D, U, L, R, R, U, D, U, R, R, U, U, R, D, U, U, U, R, U, L, U, U, U, D, L, R, R, L, D, R, D, L, U, L, D, U, R, U, D, U, D, L, U, D, D, D, U, L, U, L, R, U, L, D, R, R, R, L, R, U, R, L, R, L, R, L, U, D, D, L, U, U, D, R, R, R, L, U, U, U, D, U, R, L, D, R, L, R, R, D, R, R, D, U, R, L, L, L]"
      ]
     },
     "metadata": {},
     "output_type": "display_data"
    }
   ],
   "source": [
    "PDI = parse_puzzle_file(\"input.txt\")\n"
   ]
  },
  {
   "cell_type": "markdown",
   "metadata": {},
   "source": []
  },
  {
   "cell_type": "markdown",
   "metadata": {},
   "source": [
    "## part 1\n"
   ]
  },
  {
   "cell_type": "code",
   "execution_count": 9,
   "metadata": {},
   "outputs": [
    {
     "data": {
      "text/plain": [
       "6"
      ]
     },
     "metadata": {},
     "output_type": "display_data"
    }
   ],
   "source": [
    "get_code(CI(2, 3))\n"
   ]
  },
  {
   "cell_type": "code",
   "execution_count": 10,
   "metadata": {},
   "outputs": [
    {
     "data": {
      "text/plain": [
       "CI(2, 1)"
      ]
     },
     "metadata": {},
     "output_type": "display_data"
    }
   ],
   "source": [
    "move(CI(1, 1), Val(:D))\n"
   ]
  },
  {
   "cell_type": "code",
   "execution_count": 11,
   "metadata": {},
   "outputs": [
    {
     "name": "stdout",
     "output_type": "stream",
     "text": [
      "ci = CI(1, 1)\n",
      "ci = CI(3, 3)\n",
      "ci = CI(3, 2)\n",
      "ci = CI(2, 2)\n"
     ]
    }
   ],
   "source": [
    "ci = CI(2, 2)\n",
    "for rule in PDS1\n",
    "    ci = go_next(ci, rule)\n",
    "    @show ci\n",
    "end\n"
   ]
  },
  {
   "cell_type": "markdown",
   "metadata": {},
   "source": [
    "### answer\n"
   ]
  },
  {
   "cell_type": "code",
   "execution_count": 12,
   "metadata": {},
   "outputs": [
    {
     "name": "stdout",
     "output_type": "stream",
     "text": [
      "  0.377610 seconds (954.15 k allocations: 64.349 MiB, 1.96% gc time, 99.45% compilation time)\n"
     ]
    },
    {
     "name": "stderr",
     "output_type": "stream",
     "text": [
      "\u001b[36m\u001b[1m┌ \u001b[22m\u001b[39m\u001b[36m\u001b[1mInfo: \u001b[22m\u001b[39mpart 1 answer\n",
      "\u001b[36m\u001b[1m│ \u001b[22m\u001b[39m  result1(PDS1) = \"1985\"\n",
      "\u001b[36m\u001b[1m└ \u001b[22m\u001b[39m  result1(PDI) = \"14894\"\n"
     ]
    }
   ],
   "source": [
    "@time @info(\n",
    "    \"part 1 answer\",\n",
    "    result1(PDS1),\n",
    "    result1(PDI),\n",
    ")\n"
   ]
  },
  {
   "cell_type": "markdown",
   "metadata": {},
   "source": [
    "## part 2\n"
   ]
  },
  {
   "cell_type": "code",
   "execution_count": 13,
   "metadata": {},
   "outputs": [
    {
     "data": {
      "text/plain": [
       "9"
      ]
     },
     "metadata": {},
     "output_type": "display_data"
    }
   ],
   "source": [
    "get_fancy_code(CI(3, 5))\n"
   ]
  },
  {
   "cell_type": "code",
   "execution_count": 14,
   "metadata": {},
   "outputs": [
    {
     "name": "stdout",
     "output_type": "stream",
     "text": [
      "ci = CI(3, 1)\n",
      "ci = CI(5, 3)\n",
      "ci = CI(4, 3)\n",
      "ci = CI(2, 3)\n"
     ]
    }
   ],
   "source": [
    "ci = CI(3, 1)\n",
    "for rule in PDS1\n",
    "    ci = go_next_fancy(ci, rule)\n",
    "    @show ci\n",
    "end\n"
   ]
  },
  {
   "cell_type": "markdown",
   "metadata": {},
   "source": [
    "### answer\n"
   ]
  },
  {
   "cell_type": "code",
   "execution_count": 15,
   "metadata": {},
   "outputs": [
    {
     "name": "stdout",
     "output_type": "stream",
     "text": [
      "  0.106599 seconds (196.44 k allocations: 12.959 MiB, 98.34% compilation time)\n"
     ]
    },
    {
     "name": "stderr",
     "output_type": "stream",
     "text": [
      "\u001b[36m\u001b[1m┌ \u001b[22m\u001b[39m\u001b[36m\u001b[1mInfo: \u001b[22m\u001b[39mpart 2 answer\n",
      "\u001b[36m\u001b[1m│ \u001b[22m\u001b[39m  result2(PDS1) = \"5DB3\"\n",
      "\u001b[36m\u001b[1m└ \u001b[22m\u001b[39m  result2(PDI) = \"26B96\"\n"
     ]
    }
   ],
   "source": [
    "@time @info(\n",
    "    \"part 2 answer\",\n",
    "    result2(PDS1),\n",
    "    result2(PDI),\n",
    ")\n"
   ]
  }
 ],
 "metadata": {
  "@webio": {
   "lastCommId": null,
   "lastKernelId": null
  },
  "kernelspec": {
   "display_name": "Julia 1.9.3",
   "language": "julia",
   "name": "julia-1.9"
  },
  "language_info": {
   "file_extension": ".jl",
   "mimetype": "application/julia",
   "name": "julia",
   "version": "1.9.3"
  },
  "latex_envs": {
   "LaTeX_envs_menu_present": true,
   "autoclose": false,
   "autocomplete": true,
   "bibliofile": "biblio.bib",
   "cite_by": "apalike",
   "current_citInitial": 1,
   "eqLabelWithNumbers": true,
   "eqNumInitial": 1,
   "hotkeys": {
    "equation": "Ctrl-E",
    "itemize": "Ctrl-I"
   },
   "labels_anchors": false,
   "latex_user_defs": false,
   "report_style_numbering": false,
   "user_envs_cfg": false
  },
  "toc": {
   "base_numbering": 1,
   "nav_menu": {},
   "number_sections": true,
   "sideBar": true,
   "skip_h1_title": true,
   "title_cell": "Table of Contents",
   "title_sidebar": "Contents",
   "toc_cell": true,
   "toc_position": {},
   "toc_section_display": true,
   "toc_window_display": false
  }
 },
 "nbformat": 4,
 "nbformat_minor": 4
}
