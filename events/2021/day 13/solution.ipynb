{
 "cells": [
  {
   "cell_type": "markdown",
   "metadata": {},
   "source": [
    "# Advent of Code 2021 Day 13\n",
    "[link](https://adventofcode.com/2021/day/13)"
   ]
  },
  {
   "cell_type": "markdown",
   "metadata": {
    "toc": true
   },
   "source": [
    "<h1>Table of Contents<span class=\"tocSkip\"></span></h1>\n",
    "<div class=\"toc\"><ul class=\"toc-item\"><li><span><a href=\"#include-code-file-using-Revise\" data-toc-modified-id=\"include-code-file-using-Revise-1\"><span class=\"toc-item-num\">1&nbsp;&nbsp;</span>include code file using Revise</a></span></li><li><span><a href=\"#read-input\" data-toc-modified-id=\"read-input-2\"><span class=\"toc-item-num\">2&nbsp;&nbsp;</span>read input</a></span></li><li><span><a href=\"#part-1\" data-toc-modified-id=\"part-1-3\"><span class=\"toc-item-num\">3&nbsp;&nbsp;</span>part 1</a></span><ul class=\"toc-item\"><li><span><a href=\"#answer\" data-toc-modified-id=\"answer-3.1\"><span class=\"toc-item-num\">3.1&nbsp;&nbsp;</span>answer</a></span></li></ul></li><li><span><a href=\"#part-2\" data-toc-modified-id=\"part-2-4\"><span class=\"toc-item-num\">4&nbsp;&nbsp;</span>part 2</a></span><ul class=\"toc-item\"><li><span><a href=\"#answer\" data-toc-modified-id=\"answer-4.1\"><span class=\"toc-item-num\">4.1&nbsp;&nbsp;</span>answer</a></span></li></ul></li></ul></div>"
   ]
  },
  {
   "cell_type": "markdown",
   "metadata": {},
   "source": [
    "## include code file using Revise"
   ]
  },
  {
   "cell_type": "code",
   "execution_count": 1,
   "metadata": {
    "ExecuteTime": {
     "end_time": "2021-12-15T23:38:43.189000+08:00",
     "start_time": "2021-12-15T15:38:42.186Z"
    }
   },
   "outputs": [],
   "source": [
    "using Revise"
   ]
  },
  {
   "cell_type": "code",
   "execution_count": 2,
   "metadata": {
    "ExecuteTime": {
     "end_time": "2021-12-15T23:38:48.794000+08:00",
     "start_time": "2021-12-15T15:38:42.187Z"
    },
    "scrolled": true
   },
   "outputs": [],
   "source": [
    "includet(\"functions.jl\")"
   ]
  },
  {
   "cell_type": "markdown",
   "metadata": {},
   "source": [
    "## read input"
   ]
  },
  {
   "cell_type": "code",
   "execution_count": 3,
   "metadata": {
    "ExecuteTime": {
     "end_time": "2021-12-15T23:38:50.163000+08:00",
     "start_time": "2021-12-15T15:38:42.248Z"
    },
    "scrolled": true
   },
   "outputs": [
    {
     "data": {
      "text/plain": [
       "(dots = CartesianIndex{2}[CartesianIndex(10, 6), CartesianIndex(14, 0), CartesianIndex(10, 9), CartesianIndex(3, 0), CartesianIndex(4, 10), CartesianIndex(11, 4), CartesianIndex(0, 6), CartesianIndex(12, 6), CartesianIndex(1, 4), CartesianIndex(13, 0), CartesianIndex(12, 10), CartesianIndex(4, 3), CartesianIndex(0, 3), CartesianIndex(4, 8), CartesianIndex(10, 1), CartesianIndex(14, 2), CartesianIndex(10, 8), CartesianIndex(0, 9)], ists = NamedTuple{(:axis, :value)}[(axis = Val{:y}(), value = 7), (axis = Val{:x}(), value = 5)])"
      ]
     },
     "execution_count": 3,
     "metadata": {},
     "output_type": "execute_result"
    }
   ],
   "source": [
    "PDS1 = parse_input(\"sample1.txt\")"
   ]
  },
  {
   "cell_type": "code",
   "execution_count": 4,
   "metadata": {
    "ExecuteTime": {
     "end_time": "2021-12-15T23:38:50.239000+08:00",
     "start_time": "2021-12-15T15:38:42.250Z"
    },
    "scrolled": true
   },
   "outputs": [
    {
     "data": {
      "text/plain": [
       "(dots = CartesianIndex{2}[CartesianIndex(123, 23), CartesianIndex(117, 1116), CartesianIndex(18, 60), CartesianIndex(323, 954), CartesianIndex(226, 1235), CartesianIndex(599, 1123), CartesianIndex(231, 862), CartesianIndex(11, 808), CartesianIndex(687, 982), CartesianIndex(248, 574)  …  CartesianIndex(637, 908), CartesianIndex(829, 1242), CartesianIndex(180, 32), CartesianIndex(652, 922), CartesianIndex(750, 738), CartesianIndex(59, 137), CartesianIndex(245, 751), CartesianIndex(726, 875), CartesianIndex(633, 82), CartesianIndex(7, 112)], ists = NamedTuple{(:axis, :value)}[(axis = Val{:x}(), value = 655), (axis = Val{:y}(), value = 447), (axis = Val{:x}(), value = 327), (axis = Val{:y}(), value = 223), (axis = Val{:x}(), value = 163), (axis = Val{:y}(), value = 111), (axis = Val{:x}(), value = 81), (axis = Val{:y}(), value = 55), (axis = Val{:x}(), value = 40), (axis = Val{:y}(), value = 27), (axis = Val{:y}(), value = 13), (axis = Val{:y}(), value = 6)])"
      ]
     },
     "execution_count": 4,
     "metadata": {},
     "output_type": "execute_result"
    }
   ],
   "source": [
    "PDI = parse_input(\"input.txt\")"
   ]
  },
  {
   "cell_type": "markdown",
   "metadata": {},
   "source": [
    "## part 1"
   ]
  },
  {
   "cell_type": "code",
   "execution_count": 5,
   "metadata": {
    "ExecuteTime": {
     "end_time": "2021-12-15T23:38:51.181000+08:00",
     "start_time": "2021-12-15T15:38:42.310Z"
    }
   },
   "outputs": [
    {
     "data": {
      "text/plain": [
       "15×11 OffsetArray(::BitMatrix, 0:14, 0:10) with eltype Bool with indices 0:14×0:10:\n",
       " 0  0  0  1  0  0  1  0  0  1  0\n",
       " 0  0  0  0  1  0  0  0  0  0  0\n",
       " 0  0  0  0  0  0  0  0  0  0  0\n",
       " 1  0  0  0  0  0  0  0  0  0  0\n",
       " 0  0  0  1  0  0  0  0  1  0  1\n",
       " 0  0  0  0  0  0  0  0  0  0  0\n",
       " 0  0  0  0  0  0  0  0  0  0  0\n",
       " 0  0  0  0  0  0  0  0  0  0  0\n",
       " 0  0  0  0  0  0  0  0  0  0  0\n",
       " 0  0  0  0  0  0  0  0  0  0  0\n",
       " 0  1  0  0  0  0  1  0  1  1  0\n",
       " 0  0  0  0  1  0  0  0  0  0  0\n",
       " 0  0  0  0  0  0  1  0  0  0  1\n",
       " 1  0  0  0  0  0  0  0  0  0  0\n",
       " 1  0  1  0  0  0  0  0  0  0  0"
      ]
     },
     "execution_count": 5,
     "metadata": {},
     "output_type": "execute_result"
    }
   ],
   "source": [
    "get_area(PDS1.dots)"
   ]
  },
  {
   "cell_type": "code",
   "execution_count": 6,
   "metadata": {
    "ExecuteTime": {
     "end_time": "2021-12-15T23:38:51.540000+08:00",
     "start_time": "2021-12-15T15:38:42.312Z"
    }
   },
   "outputs": [
    {
     "data": {
      "text/plain": [
       "CartesianIndex(4, 4)"
      ]
     },
     "execution_count": 6,
     "metadata": {},
     "output_type": "execute_result"
    }
   ],
   "source": [
    "@chain PDS1.dots[1] begin\n",
    "    fold(PDS1.ists[1]...)\n",
    "    fold(PDS1.ists[2]...)\n",
    "end"
   ]
  },
  {
   "cell_type": "code",
   "execution_count": 7,
   "metadata": {
    "ExecuteTime": {
     "end_time": "2021-12-15T23:38:51.712000+08:00",
     "start_time": "2021-12-15T15:38:42.313Z"
    }
   },
   "outputs": [
    {
     "data": {
      "text/plain": [
       "5×11 OffsetArray(::BitMatrix, 0:4, 0:10) with eltype Bool with indices 0:4×0:10:\n",
       " 1  0  1  1  0  0  1  0  0  1  0\n",
       " 1  0  0  0  1  0  0  0  0  0  0\n",
       " 0  0  0  0  0  0  1  0  0  0  1\n",
       " 1  0  0  0  1  0  0  0  0  0  0\n",
       " 0  1  0  1  0  0  1  0  1  1  1"
      ]
     },
     "execution_count": 7,
     "metadata": {},
     "output_type": "execute_result"
    }
   ],
   "source": [
    "@chain PDS1.dots begin\n",
    "    fold(PDS1.ists[1]...)\n",
    "    get_area\n",
    "end"
   ]
  },
  {
   "cell_type": "code",
   "execution_count": 8,
   "metadata": {
    "ExecuteTime": {
     "end_time": "2021-12-15T23:38:51.779000+08:00",
     "start_time": "2021-12-15T15:38:42.315Z"
    }
   },
   "outputs": [
    {
     "data": {
      "text/plain": [
       "5×5 OffsetArray(::BitMatrix, 0:4, 0:4) with eltype Bool with indices 0:4×0:4:\n",
       " 1  1  1  1  1\n",
       " 1  0  0  0  1\n",
       " 1  0  0  0  1\n",
       " 1  0  0  0  1\n",
       " 1  1  1  1  1"
      ]
     },
     "execution_count": 8,
     "metadata": {},
     "output_type": "execute_result"
    }
   ],
   "source": [
    "@chain PDS1.dots begin\n",
    "    fold(PDS1.ists[1]...)\n",
    "    fold(PDS1.ists[2]...)\n",
    "    get_area\n",
    "end"
   ]
  },
  {
   "cell_type": "markdown",
   "metadata": {},
   "source": [
    "### answer"
   ]
  },
  {
   "cell_type": "code",
   "execution_count": 9,
   "metadata": {
    "ExecuteTime": {
     "end_time": "2021-12-15T23:38:52.124000+08:00",
     "start_time": "2021-12-15T15:38:42.366Z"
    }
   },
   "outputs": [
    {
     "name": "stdout",
     "output_type": "stream",
     "text": [
      "  0.254735 seconds (875.83 k allocations: 50.647 MiB, 6.34% gc time, 99.30% compilation time)\n"
     ]
    },
    {
     "name": "stderr",
     "output_type": "stream",
     "text": [
      "┌ Info: part 1 answer\n",
      "│   result1(PDS1) = 17\n",
      "│   result1(PDI) = 755\n",
      "└ @ Main In[9]:1\n"
     ]
    }
   ],
   "source": [
    "@time @info(\n",
    "    \"part 1 answer\",\n",
    "    result1(PDS1),\n",
    "    result1(PDI),\n",
    ")"
   ]
  },
  {
   "cell_type": "markdown",
   "metadata": {},
   "source": [
    "## part 2"
   ]
  },
  {
   "cell_type": "markdown",
   "metadata": {},
   "source": [
    "### answer"
   ]
  },
  {
   "cell_type": "code",
   "execution_count": 10,
   "metadata": {
    "ExecuteTime": {
     "end_time": "2021-12-15T23:38:52.416000+08:00",
     "start_time": "2021-12-15T15:38:42.480Z"
    }
   },
   "outputs": [
    {
     "name": "stdout",
     "output_type": "stream",
     "text": [
      "█████\n",
      "█   █\n",
      "█   █\n",
      "█   █\n",
      "█████\n",
      "\n",
      "███  █    █  █   ██ ███  ███   ██   ██ \n",
      "█  █ █    █ █     █ █  █ █  █ █  █ █  █\n",
      "███  █    ██      █ █  █ ███  █  █ █   \n",
      "█  █ █    █ █     █ ███  █  █ ████ █ ██\n",
      "█  █ █    █ █  █  █ █ █  █  █ █  █ █  █\n",
      "███  ████ █  █  ██  █  █ ███  █  █  ███\n",
      "\n",
      "  0.241828 seconds (941.19 k allocations: 49.743 MiB, 3.94% gc time, 98.72% compilation time)\n"
     ]
    },
    {
     "name": "stderr",
     "output_type": "stream",
     "text": [
      "┌ Info: part 2 answer\n",
      "│   result2(PDS1) = nothing\n",
      "│   result2(PDI) = nothing\n",
      "└ @ Main In[10]:1\n"
     ]
    }
   ],
   "source": [
    "@time @info(\n",
    "    \"part 2 answer\",\n",
    "    result2(PDS1),\n",
    "    result2(PDI),\n",
    "    )"
   ]
  }
 ],
 "metadata": {
  "@webio": {
   "lastCommId": null,
   "lastKernelId": null
  },
  "kernelspec": {
   "display_name": "Julia 1.7.0",
   "language": "julia",
   "name": "julia-1.7"
  },
  "language_info": {
   "file_extension": ".jl",
   "mimetype": "application/julia",
   "name": "julia",
   "version": "1.7.0"
  },
  "latex_envs": {
   "LaTeX_envs_menu_present": true,
   "autoclose": false,
   "autocomplete": true,
   "bibliofile": "biblio.bib",
   "cite_by": "apalike",
   "current_citInitial": 1,
   "eqLabelWithNumbers": true,
   "eqNumInitial": 1,
   "hotkeys": {
    "equation": "Ctrl-E",
    "itemize": "Ctrl-I"
   },
   "labels_anchors": false,
   "latex_user_defs": false,
   "report_style_numbering": false,
   "user_envs_cfg": false
  },
  "toc": {
   "base_numbering": 1,
   "nav_menu": {},
   "number_sections": true,
   "sideBar": true,
   "skip_h1_title": true,
   "title_cell": "Table of Contents",
   "title_sidebar": "Contents",
   "toc_cell": true,
   "toc_position": {},
   "toc_section_display": true,
   "toc_window_display": false
  }
 },
 "nbformat": 4,
 "nbformat_minor": 4
}
