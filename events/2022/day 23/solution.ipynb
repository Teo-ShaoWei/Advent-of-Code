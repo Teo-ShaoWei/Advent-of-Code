{
 "cells": [
  {
   "cell_type": "markdown",
   "metadata": {},
   "source": [
    "# Advent of Code 2022 Day 23\n",
    "[link](https://adventofcode.com/2022/day/23)"
   ]
  },
  {
   "cell_type": "markdown",
   "metadata": {},
   "source": [
    "## include code file using Revise"
   ]
  },
  {
   "cell_type": "code",
   "execution_count": 1,
   "metadata": {},
   "outputs": [],
   "source": [
    "using Revise"
   ]
  },
  {
   "cell_type": "code",
   "execution_count": 2,
   "metadata": {
    "scrolled": true
   },
   "outputs": [],
   "source": [
    "includet(\"functions.jl\")"
   ]
  },
  {
   "cell_type": "markdown",
   "metadata": {},
   "source": [
    "## set logger"
   ]
  },
  {
   "cell_type": "code",
   "execution_count": 3,
   "metadata": {},
   "outputs": [
    {
     "data": {
      "text/plain": [
       "Base.CoreLogging.SimpleLogger(IJulia.IJuliaStdio{Base.PipeEndpoint}(IOContext(Base.PipeEndpoint(RawFD(45) open, 0 bytes waiting))), Info, Dict{Any, Int64}())"
      ]
     },
     "execution_count": 3,
     "metadata": {},
     "output_type": "execute_result"
    }
   ],
   "source": [
    "import Logging\n",
    "import TerminalLoggers\n",
    "\n",
    "Logging.global_logger(TerminalLoggers.TerminalLogger())"
   ]
  },
  {
   "cell_type": "markdown",
   "metadata": {},
   "source": [
    "## read input"
   ]
  },
  {
   "cell_type": "code",
   "execution_count": 4,
   "metadata": {
    "scrolled": true
   },
   "outputs": [
    {
     "data": {
      "text/plain": [
       "5-element Vector{CartesianIndex{2}}:\n",
       " CI(2, 3)\n",
       " CI(3, 3)\n",
       " CI(5, 3)\n",
       " CI(2, 4)\n",
       " CI(5, 4)"
      ]
     },
     "execution_count": 4,
     "metadata": {},
     "output_type": "execute_result"
    }
   ],
   "source": [
    "PDS1 = parse_puzzle_file(\"sample1.txt\")"
   ]
  },
  {
   "cell_type": "code",
   "execution_count": 5,
   "metadata": {
    "scrolled": true
   },
   "outputs": [
    {
     "data": {
      "text/plain": [
       "22-element Vector{CartesianIndex{2}}:\n",
       " CI(5, 4)\n",
       " CI(7, 4)\n",
       " CI(8, 4)\n",
       " CI(6, 5)\n",
       " CI(8, 5)\n",
       " CI(9, 5)\n",
       " CI(4, 6)\n",
       " CI(7, 6)\n",
       " CI(4, 7)\n",
       " CI(7, 7)\n",
       " CI(8, 7)\n",
       " CI(3, 8)\n",
       " CI(4, 8)\n",
       " CI(5, 8)\n",
       " CI(7, 8)\n",
       " CI(9, 8)\n",
       " CI(6, 9)\n",
       " CI(8, 9)\n",
       " CI(4, 10)\n",
       " CI(5, 10)\n",
       " CI(6, 10)\n",
       " CI(8, 10)"
      ]
     },
     "execution_count": 5,
     "metadata": {},
     "output_type": "execute_result"
    }
   ],
   "source": [
    "PDS2 = parse_puzzle_file(\"sample2.txt\")"
   ]
  },
  {
   "cell_type": "code",
   "execution_count": 6,
   "metadata": {
    "scrolled": true
   },
   "outputs": [
    {
     "data": {
      "text/plain": [
       "2540-element Vector{CartesianIndex{2}}:\n",
       " CI(1, 1)\n",
       " CI(2, 1)\n",
       " CI(3, 1)\n",
       " CI(6, 1)\n",
       " CI(7, 1)\n",
       " CI(8, 1)\n",
       " CI(9, 1)\n",
       " CI(10, 1)\n",
       " CI(12, 1)\n",
       " CI(13, 1)\n",
       " CI(17, 1)\n",
       " CI(21, 1)\n",
       " CI(26, 1)\n",
       " ⋮\n",
       " CI(46, 71)\n",
       " CI(47, 71)\n",
       " CI(51, 71)\n",
       " CI(52, 71)\n",
       " CI(56, 71)\n",
       " CI(57, 71)\n",
       " CI(60, 71)\n",
       " CI(62, 71)\n",
       " CI(63, 71)\n",
       " CI(65, 71)\n",
       " CI(68, 71)\n",
       " CI(69, 71)"
      ]
     },
     "execution_count": 6,
     "metadata": {},
     "output_type": "execute_result"
    }
   ],
   "source": [
    "PDI = parse_puzzle_file(\"input.txt\")"
   ]
  },
  {
   "cell_type": "markdown",
   "metadata": {},
   "source": [
    "## part 1"
   ]
  },
  {
   "cell_type": "code",
   "execution_count": 7,
   "metadata": {},
   "outputs": [
    {
     "data": {
      "text/plain": [
       "6×4 OffsetArray(::Matrix{Char}, 1:6, 2:5) with eltype Char with indices 1:6×2:5:\n",
       " .  .  .  .\n",
       " .  #  #  .\n",
       " .  #  .  .\n",
       " .  .  .  .\n",
       " .  #  #  .\n",
       " .  .  .  ."
      ]
     },
     "execution_count": 7,
     "metadata": {},
     "output_type": "execute_result"
    }
   ],
   "source": [
    "make_area(PDS1)"
   ]
  },
  {
   "cell_type": "code",
   "execution_count": 8,
   "metadata": {},
   "outputs": [
    {
     "data": {
      "text/plain": [
       "4×2 OffsetArray(::Matrix{Char}, 2:5, 3:4) with eltype Char with indices 2:5×3:4:\n",
       " #  #\n",
       " #  .\n",
       " .  .\n",
       " #  #"
      ]
     },
     "execution_count": 8,
     "metadata": {},
     "output_type": "execute_result"
    }
   ],
   "source": [
    "make_area(PDS1; margin = (0, 0))"
   ]
  },
  {
   "cell_type": "code",
   "execution_count": 9,
   "metadata": {},
   "outputs": [
    {
     "data": {
      "text/plain": [
       "5-element Vector{CartesianIndex{2}}:\n",
       " CI(2, 3)\n",
       " CI(3, 3)\n",
       " CI(5, 3)\n",
       " CI(2, 4)\n",
       " CI(5, 4)"
      ]
     },
     "execution_count": 9,
     "metadata": {},
     "output_type": "execute_result"
    }
   ],
   "source": [
    "PDS1 |> make_area |> collect_elves"
   ]
  },
  {
   "cell_type": "code",
   "execution_count": 10,
   "metadata": {},
   "outputs": [
    {
     "data": {
      "text/plain": [
       "1×3 Matrix{CartesianIndex{2}}:\n",
       " CI(3, 3)  CI(3, 4)  CI(3, 5)"
      ]
     },
     "execution_count": 10,
     "metadata": {},
     "output_type": "execute_result"
    }
   ],
   "source": [
    "get_neighbours(CI(2, 4), CI(1, 0))"
   ]
  },
  {
   "cell_type": "code",
   "execution_count": 11,
   "metadata": {},
   "outputs": [
    {
     "data": {
      "text/plain": [
       "CI(2, 3)"
      ]
     },
     "execution_count": 11,
     "metadata": {},
     "output_type": "execute_result"
    }
   ],
   "source": [
    "PDS1[1]"
   ]
  },
  {
   "cell_type": "code",
   "execution_count": 12,
   "metadata": {},
   "outputs": [
    {
     "data": {
      "text/plain": [
       "4-element Vector{CartesianIndex{2}}:\n",
       " CI(-1, 0)\n",
       " CI(1, 0)\n",
       " CI(0, -1)\n",
       " CI(0, 1)"
      ]
     },
     "execution_count": 12,
     "metadata": {},
     "output_type": "execute_result"
    }
   ],
   "source": [
    "K = 1\n",
    "MOVE_ORDER = get_move.(mod.((0:3) .+ K, 4) .+ 1)"
   ]
  },
  {
   "cell_type": "code",
   "execution_count": 13,
   "metadata": {},
   "outputs": [
    {
     "data": {
      "text/plain": [
       "CI(1, 3)"
      ]
     },
     "execution_count": 13,
     "metadata": {},
     "output_type": "execute_result"
    }
   ],
   "source": [
    "propose_move(PDS1[1], make_area(PDS1), MOVE_ORDER)"
   ]
  },
  {
   "cell_type": "code",
   "execution_count": 14,
   "metadata": {},
   "outputs": [
    {
     "data": {
      "text/plain": [
       "5-element Vector{CartesianIndex{2}}:\n",
       " CI(2, 3)\n",
       " CI(3, 3)\n",
       " CI(5, 3)\n",
       " CI(2, 4)\n",
       " CI(5, 4)"
      ]
     },
     "execution_count": 14,
     "metadata": {},
     "output_type": "execute_result"
    }
   ],
   "source": [
    "PDS1"
   ]
  },
  {
   "cell_type": "code",
   "execution_count": 15,
   "metadata": {},
   "outputs": [
    {
     "data": {
      "text/plain": [
       "7×4 OffsetArray(::Matrix{Char}, 0:6, 2:5) with eltype Char with indices 0:6×2:5:\n",
       " .  .  .  .\n",
       " .  #  #  .\n",
       " .  .  .  .\n",
       " .  #  .  .\n",
       " .  .  #  .\n",
       " .  #  .  .\n",
       " .  .  .  ."
      ]
     },
     "execution_count": 15,
     "metadata": {},
     "output_type": "execute_result"
    }
   ],
   "source": [
    "move(PDS1; k = 1) |> make_area"
   ]
  },
  {
   "cell_type": "code",
   "execution_count": 16,
   "metadata": {},
   "outputs": [
    {
     "data": {
      "text/plain": [
       "6×5 OffsetArray(::Matrix{Char}, 1:6, 1:5) with eltype Char with indices 1:6×1:5:\n",
       " .  .  #  .  .\n",
       " .  .  .  .  #\n",
       " #  .  .  .  .\n",
       " .  .  .  .  #\n",
       " .  .  .  .  .\n",
       " .  .  #  .  ."
      ]
     },
     "execution_count": 16,
     "metadata": {},
     "output_type": "execute_result"
    }
   ],
   "source": [
    "make_area(repeated_move(PDS1, 10); margin = (0, 0))"
   ]
  },
  {
   "cell_type": "code",
   "execution_count": 17,
   "metadata": {},
   "outputs": [
    {
     "data": {
      "text/plain": [
       "7×7 OffsetArray(::Matrix{Char}, 3:9, 4:10) with eltype Char with indices 3:9×4:10:\n",
       " .  .  .  .  #  .  .\n",
       " .  .  #  #  #  .  #\n",
       " #  .  .  .  #  .  #\n",
       " .  #  .  .  .  #  #\n",
       " #  .  #  #  #  .  .\n",
       " #  #  .  #  .  #  #\n",
       " .  #  .  .  #  .  ."
      ]
     },
     "execution_count": 17,
     "metadata": {},
     "output_type": "execute_result"
    }
   ],
   "source": [
    "make_area(PDS2; margin = (0, 0))"
   ]
  },
  {
   "cell_type": "code",
   "execution_count": 18,
   "metadata": {},
   "outputs": [
    {
     "data": {
      "text/plain": [
       "9×9 OffsetArray(::Matrix{Char}, 2:10, 3:11) with eltype Char with indices 2:10×3:11:\n",
       " .  .  .  .  .  #  .  .  .\n",
       " .  .  .  #  .  .  .  #  .\n",
       " .  #  .  .  #  .  #  .  .\n",
       " .  .  .  .  .  #  .  .  #\n",
       " .  .  #  .  #  .  #  #  .\n",
       " #  .  .  #  .  #  .  .  .\n",
       " #  .  #  .  #  .  #  #  .\n",
       " .  .  .  .  .  .  .  .  .\n",
       " .  .  #  .  .  #  .  .  ."
      ]
     },
     "execution_count": 18,
     "metadata": {},
     "output_type": "execute_result"
    }
   ],
   "source": [
    "make_area(repeated_move(PDS2, 1); margin = (0, 0))"
   ]
  },
  {
   "cell_type": "code",
   "execution_count": 19,
   "metadata": {},
   "outputs": [
    {
     "data": {
      "text/plain": [
       "11×12 OffsetArray(::Matrix{Char}, 1:11, 2:13) with eltype Char with indices 1:11×2:13:\n",
       " .  .  .  .  .  .  #  .  .  .  .  .\n",
       " .  .  .  .  .  .  .  .  .  .  #  .\n",
       " .  #  .  #  .  .  #  .  .  .  .  .\n",
       " .  .  .  .  .  #  .  .  .  .  .  .\n",
       " .  .  #  .  .  .  .  .  #  .  .  #\n",
       " #  .  .  .  .  .  .  #  #  .  .  .\n",
       " .  .  .  .  #  #  .  .  .  .  .  .\n",
       " .  #  .  .  .  .  .  .  .  .  #  .\n",
       " .  .  .  #  .  #  .  .  #  .  .  .\n",
       " .  .  .  .  .  .  .  .  .  .  .  .\n",
       " .  .  .  #  .  .  #  .  .  #  .  ."
      ]
     },
     "execution_count": 19,
     "metadata": {},
     "output_type": "execute_result"
    }
   ],
   "source": [
    "make_area(repeated_move(PDS2, 10); margin = (0, 0))"
   ]
  },
  {
   "cell_type": "markdown",
   "metadata": {},
   "source": [
    "### answer"
   ]
  },
  {
   "cell_type": "code",
   "execution_count": 20,
   "metadata": {},
   "outputs": [
    {
     "name": "stdout",
     "output_type": "stream",
     "text": [
      "  0.834483 seconds (7.28 M allocations: 414.151 MiB, 6.27% gc time, 38.01% compilation time: 7% of which was recompilation)\n"
     ]
    },
    {
     "name": "stderr",
     "output_type": "stream",
     "text": [
      "\u001b[36m\u001b[1m┌ \u001b[22m\u001b[39m\u001b[36m\u001b[1mInfo: \u001b[22m\u001b[39mpart 1 answer\n",
      "\u001b[36m\u001b[1m│ \u001b[22m\u001b[39m  result1(PDS1) = 25\n",
      "\u001b[36m\u001b[1m│ \u001b[22m\u001b[39m  result1(PDS2) = 110\n",
      "\u001b[36m\u001b[1m└ \u001b[22m\u001b[39m  result1(PDI) = 3940\n"
     ]
    }
   ],
   "source": [
    "@time @info(\n",
    "    \"part 1 answer\",\n",
    "    result1(PDS1),\n",
    "    result1(PDS2),\n",
    "    result1(PDI),\n",
    ")"
   ]
  },
  {
   "cell_type": "markdown",
   "metadata": {},
   "source": [
    "## part 2"
   ]
  },
  {
   "cell_type": "code",
   "execution_count": 21,
   "metadata": {},
   "outputs": [
    {
     "data": {
      "text/plain": [
       "4"
      ]
     },
     "execution_count": 21,
     "metadata": {},
     "output_type": "execute_result"
    }
   ],
   "source": [
    "move_till_done(PDS1)"
   ]
  },
  {
   "cell_type": "markdown",
   "metadata": {},
   "source": [
    "### answer"
   ]
  },
  {
   "cell_type": "code",
   "execution_count": 22,
   "metadata": {},
   "outputs": [
    {
     "name": "stdout",
     "output_type": "stream",
     "text": [
      " 22.195977 seconds (224.07 M allocations: 12.623 GiB, 5.49% gc time, 0.32% compilation time)\n"
     ]
    },
    {
     "name": "stderr",
     "output_type": "stream",
     "text": [
      "\u001b[36m\u001b[1m┌ \u001b[22m\u001b[39m\u001b[36m\u001b[1mInfo: \u001b[22m\u001b[39mpart 2 answer\n",
      "\u001b[36m\u001b[1m│ \u001b[22m\u001b[39m  result2(PDS1) = 4\n",
      "\u001b[36m\u001b[1m│ \u001b[22m\u001b[39m  result2(PDS2) = 20\n",
      "\u001b[36m\u001b[1m└ \u001b[22m\u001b[39m  result2(PDI) = 990\n"
     ]
    }
   ],
   "source": [
    "@time @info(\n",
    "    \"part 2 answer\",\n",
    "    result2(PDS1),\n",
    "    result2(PDS2),\n",
    "    result2(PDI),\n",
    ")"
   ]
  }
 ],
 "metadata": {
  "@webio": {
   "lastCommId": null,
   "lastKernelId": null
  },
  "kernelspec": {
   "display_name": "Julia 1.8.2",
   "language": "julia",
   "name": "julia-1.8"
  },
  "language_info": {
   "file_extension": ".jl",
   "mimetype": "application/julia",
   "name": "julia",
   "version": "1.8.2"
  },
  "latex_envs": {
   "LaTeX_envs_menu_present": true,
   "autoclose": false,
   "autocomplete": true,
   "bibliofile": "biblio.bib",
   "cite_by": "apalike",
   "current_citInitial": 1,
   "eqLabelWithNumbers": true,
   "eqNumInitial": 1,
   "hotkeys": {
    "equation": "Ctrl-E",
    "itemize": "Ctrl-I"
   },
   "labels_anchors": false,
   "latex_user_defs": false,
   "report_style_numbering": false,
   "user_envs_cfg": false
  },
  "toc": {
   "base_numbering": 1,
   "nav_menu": {},
   "number_sections": true,
   "sideBar": true,
   "skip_h1_title": true,
   "title_cell": "Table of Contents",
   "title_sidebar": "Contents",
   "toc_cell": true,
   "toc_position": {},
   "toc_section_display": true,
   "toc_window_display": false
  }
 },
 "nbformat": 4,
 "nbformat_minor": 4
}
