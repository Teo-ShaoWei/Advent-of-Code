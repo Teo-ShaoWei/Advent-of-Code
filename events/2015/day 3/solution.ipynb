{
 "cells": [
  {
   "cell_type": "markdown",
   "metadata": {},
   "source": [
    "# Advent of Code 2015 Day 3\n",
    "[link](https://adventofcode.com/2015/day/3)"
   ]
  },
  {
   "cell_type": "markdown",
   "metadata": {
    "toc": true
   },
   "source": [
    "<h1>Table of Contents<span class=\"tocSkip\"></span></h1>\n",
    "<div class=\"toc\"><ul class=\"toc-item\"><li><span><a href=\"#include-code-file-using-Revise\" data-toc-modified-id=\"include-code-file-using-Revise-1\"><span class=\"toc-item-num\">1&nbsp;&nbsp;</span>include code file using Revise</a></span></li><li><span><a href=\"#read-input\" data-toc-modified-id=\"read-input-2\"><span class=\"toc-item-num\">2&nbsp;&nbsp;</span>read input</a></span><ul class=\"toc-item\"><li><span><a href=\"#samples\" data-toc-modified-id=\"samples-2.1\"><span class=\"toc-item-num\">2.1&nbsp;&nbsp;</span>samples</a></span></li><li><span><a href=\"#PDI-:=-puzzle-data-input\" data-toc-modified-id=\"PDI-:=-puzzle-data-input-2.2\"><span class=\"toc-item-num\">2.2&nbsp;&nbsp;</span>PDI := puzzle data input</a></span></li></ul></li><li><span><a href=\"#part-1\" data-toc-modified-id=\"part-1-3\"><span class=\"toc-item-num\">3&nbsp;&nbsp;</span>part 1</a></span><ul class=\"toc-item\"><li><span><a href=\"#answer\" data-toc-modified-id=\"answer-3.1\"><span class=\"toc-item-num\">3.1&nbsp;&nbsp;</span>answer</a></span></li></ul></li><li><span><a href=\"#part-2\" data-toc-modified-id=\"part-2-4\"><span class=\"toc-item-num\">4&nbsp;&nbsp;</span>part 2</a></span><ul class=\"toc-item\"><li><span><a href=\"#answer\" data-toc-modified-id=\"answer-4.1\"><span class=\"toc-item-num\">4.1&nbsp;&nbsp;</span>answer</a></span></li></ul></li></ul></div>"
   ]
  },
  {
   "cell_type": "markdown",
   "metadata": {},
   "source": [
    "## include code file using Revise"
   ]
  },
  {
   "cell_type": "code",
   "execution_count": 1,
   "metadata": {
    "ExecuteTime": {
     "end_time": "2021-12-12T02:06:30.485000+08:00",
     "start_time": "2021-12-11T18:06:29.416Z"
    }
   },
   "outputs": [],
   "source": [
    "using Revise"
   ]
  },
  {
   "cell_type": "code",
   "execution_count": 2,
   "metadata": {
    "ExecuteTime": {
     "end_time": "2021-12-12T02:06:35.903000+08:00",
     "start_time": "2021-12-11T18:06:29.417Z"
    },
    "scrolled": true
   },
   "outputs": [],
   "source": [
    "includet(\"functions.jl\")"
   ]
  },
  {
   "cell_type": "markdown",
   "metadata": {},
   "source": [
    "## read input"
   ]
  },
  {
   "cell_type": "markdown",
   "metadata": {},
   "source": [
    "### samples"
   ]
  },
  {
   "cell_type": "code",
   "execution_count": 3,
   "metadata": {
    "ExecuteTime": {
     "end_time": "2021-12-12T02:06:37.079000+08:00",
     "start_time": "2021-12-11T18:06:29.556Z"
    }
   },
   "outputs": [
    {
     "data": {
      "text/plain": [
       "3-element Vector{String}:\n",
       " \">\"\n",
       " \"^>v<\"\n",
       " \"^v^v^v^v^v\""
      ]
     },
     "execution_count": 3,
     "metadata": {},
     "output_type": "execute_result"
    }
   ],
   "source": [
    "SAMPLE_P1 = [\n",
    "    \">\",\n",
    "    \"^>v<\",\n",
    "    \"^v^v^v^v^v\",\n",
    "]"
   ]
  },
  {
   "cell_type": "code",
   "execution_count": 4,
   "metadata": {
    "ExecuteTime": {
     "end_time": "2021-12-12T02:06:37.870000+08:00",
     "start_time": "2021-12-11T18:06:29.557Z"
    },
    "scrolled": true
   },
   "outputs": [
    {
     "data": {
      "text/plain": [
       "3-element Vector{Vector{Char}}:\n",
       " ['>']\n",
       " ['^', '>', 'v', '<']\n",
       " ['^', 'v', '^', 'v', '^', 'v', '^', 'v', '^', 'v']"
      ]
     },
     "execution_count": 4,
     "metadata": {},
     "output_type": "execute_result"
    }
   ],
   "source": [
    "PDS_P1 = parse_line.(SAMPLE_P1)"
   ]
  },
  {
   "cell_type": "code",
   "execution_count": 5,
   "metadata": {
    "ExecuteTime": {
     "end_time": "2021-12-12T02:06:37.884000+08:00",
     "start_time": "2021-12-11T18:06:29.559Z"
    }
   },
   "outputs": [
    {
     "data": {
      "text/plain": [
       "3-element Vector{String}:\n",
       " \"^v\"\n",
       " \"^>v<\"\n",
       " \"^v^v^v^v^v\""
      ]
     },
     "execution_count": 5,
     "metadata": {},
     "output_type": "execute_result"
    }
   ],
   "source": [
    "SAMPLE_P2 = [\n",
    "    \"^v\",\n",
    "    \"^>v<\",\n",
    "    \"^v^v^v^v^v\",\n",
    "]"
   ]
  },
  {
   "cell_type": "code",
   "execution_count": 6,
   "metadata": {
    "ExecuteTime": {
     "end_time": "2021-12-12T02:06:37.901000+08:00",
     "start_time": "2021-12-11T18:06:29.560Z"
    },
    "scrolled": true
   },
   "outputs": [
    {
     "data": {
      "text/plain": [
       "3-element Vector{Vector{Char}}:\n",
       " ['^', 'v']\n",
       " ['^', '>', 'v', '<']\n",
       " ['^', 'v', '^', 'v', '^', 'v', '^', 'v', '^', 'v']"
      ]
     },
     "execution_count": 6,
     "metadata": {},
     "output_type": "execute_result"
    }
   ],
   "source": [
    "PDS_P2 = parse_line.(SAMPLE_P2)"
   ]
  },
  {
   "cell_type": "markdown",
   "metadata": {},
   "source": [
    "### PDI := puzzle data input"
   ]
  },
  {
   "cell_type": "code",
   "execution_count": 7,
   "metadata": {
    "ExecuteTime": {
     "end_time": "2021-12-12T02:06:38.195000+08:00",
     "start_time": "2021-12-11T18:06:29.622Z"
    },
    "scrolled": true
   },
   "outputs": [
    {
     "data": {
      "text/plain": [
       "8192-element Vector{Char}:\n",
       " 'v': ASCII/Unicode U+0076 (category Ll: Letter, lowercase)\n",
       " '>': ASCII/Unicode U+003E (category Sm: Symbol, math)\n",
       " 'v': ASCII/Unicode U+0076 (category Ll: Letter, lowercase)\n",
       " '<': ASCII/Unicode U+003C (category Sm: Symbol, math)\n",
       " 'v': ASCII/Unicode U+0076 (category Ll: Letter, lowercase)\n",
       " 'v': ASCII/Unicode U+0076 (category Ll: Letter, lowercase)\n",
       " 'v': ASCII/Unicode U+0076 (category Ll: Letter, lowercase)\n",
       " '<': ASCII/Unicode U+003C (category Sm: Symbol, math)\n",
       " '<': ASCII/Unicode U+003C (category Sm: Symbol, math)\n",
       " 'v': ASCII/Unicode U+0076 (category Ll: Letter, lowercase)\n",
       " 'v': ASCII/Unicode U+0076 (category Ll: Letter, lowercase)\n",
       " '^': ASCII/Unicode U+005E (category Sk: Symbol, modifier)\n",
       " 'v': ASCII/Unicode U+0076 (category Ll: Letter, lowercase)\n",
       " ⋮\n",
       " '>': ASCII/Unicode U+003E (category Sm: Symbol, math)\n",
       " '^': ASCII/Unicode U+005E (category Sk: Symbol, modifier)\n",
       " '<': ASCII/Unicode U+003C (category Sm: Symbol, math)\n",
       " 'v': ASCII/Unicode U+0076 (category Ll: Letter, lowercase)\n",
       " '^': ASCII/Unicode U+005E (category Sk: Symbol, modifier)\n",
       " '^': ASCII/Unicode U+005E (category Sk: Symbol, modifier)\n",
       " '>': ASCII/Unicode U+003E (category Sm: Symbol, math)\n",
       " '<': ASCII/Unicode U+003C (category Sm: Symbol, math)\n",
       " '<': ASCII/Unicode U+003C (category Sm: Symbol, math)\n",
       " '>': ASCII/Unicode U+003E (category Sm: Symbol, math)\n",
       " '>': ASCII/Unicode U+003E (category Sm: Symbol, math)\n",
       " '>': ASCII/Unicode U+003E (category Sm: Symbol, math)"
      ]
     },
     "execution_count": 7,
     "metadata": {},
     "output_type": "execute_result"
    }
   ],
   "source": [
    "PDI = parse_input(\"input.txt\")"
   ]
  },
  {
   "cell_type": "markdown",
   "metadata": {},
   "source": [
    "## part 1"
   ]
  },
  {
   "cell_type": "code",
   "execution_count": 8,
   "metadata": {
    "ExecuteTime": {
     "end_time": "2021-12-12T02:06:38.881000+08:00",
     "start_time": "2021-12-11T18:06:29.678Z"
    }
   },
   "outputs": [
    {
     "data": {
      "text/plain": [
       "Dict{Char, CartesianIndex{2}} with 4 entries:\n",
       "  '<' => CartesianIndex(0, -1)\n",
       "  'v' => CartesianIndex(1, 0)\n",
       "  '^' => CartesianIndex(-1, 0)\n",
       "  '>' => CartesianIndex(0, 1)"
      ]
     },
     "execution_count": 8,
     "metadata": {},
     "output_type": "execute_result"
    }
   ],
   "source": [
    "MOVE = Dict(\n",
    "    '^' => CI(-1, 0),\n",
    "    '>' => CI(0, 1),\n",
    "    'v' => CI(1, 0),\n",
    "    '<' => CI(0, -1),\n",
    ")"
   ]
  },
  {
   "cell_type": "markdown",
   "metadata": {},
   "source": [
    "### answer"
   ]
  },
  {
   "cell_type": "code",
   "execution_count": 9,
   "metadata": {
    "ExecuteTime": {
     "end_time": "2021-12-12T02:06:39.327000+08:00",
     "start_time": "2021-12-11T18:06:29.729Z"
    },
    "scrolled": false
   },
   "outputs": [
    {
     "name": "stdout",
     "output_type": "stream",
     "text": [
      "  0.352257 seconds (778.86 k allocations: 42.334 MiB, 2.19% gc time, 99.38% compilation time)\n"
     ]
    },
    {
     "name": "stderr",
     "output_type": "stream",
     "text": [
      "┌ Info: part 1 answer\n",
      "│   result1.(PDS_P1) = [2, 4, 2]\n",
      "│   result1(PDI) = 2572\n",
      "└ @ Main In[9]:1\n"
     ]
    }
   ],
   "source": [
    "@time @info(\n",
    "    \"part 1 answer\",\n",
    "    result1.(PDS_P1),\n",
    "    result1(PDI),\n",
    ")"
   ]
  },
  {
   "cell_type": "markdown",
   "metadata": {},
   "source": [
    "## part 2"
   ]
  },
  {
   "cell_type": "markdown",
   "metadata": {},
   "source": [
    "### answer"
   ]
  },
  {
   "cell_type": "code",
   "execution_count": 10,
   "metadata": {
    "ExecuteTime": {
     "end_time": "2021-12-12T02:06:39.502000+08:00",
     "start_time": "2021-12-11T18:06:29.870Z"
    }
   },
   "outputs": [
    {
     "name": "stdout",
     "output_type": "stream",
     "text": [
      "\n",
      "\n",
      "\n",
      "\n",
      "  0.118749 seconds (314.67 k allocations: 17.005 MiB, 97.22% compilation time)\n"
     ]
    },
    {
     "name": "stderr",
     "output_type": "stream",
     "text": [
      "┌ Info: part 2 answer\n",
      "│   result2.(PDS_P2) = [3, 3, 11]\n",
      "│   result2(PDI) = 2631\n",
      "└ @ Main In[10]:1\n"
     ]
    }
   ],
   "source": [
    "@time @info(\n",
    "    \"part 2 answer\",\n",
    "    result2.(PDS_P2),\n",
    "    result2(PDI),\n",
    "    )"
   ]
  }
 ],
 "metadata": {
  "@webio": {
   "lastCommId": null,
   "lastKernelId": null
  },
  "kernelspec": {
   "display_name": "Julia 1.7.0",
   "language": "julia",
   "name": "julia-1.7"
  },
  "language_info": {
   "file_extension": ".jl",
   "mimetype": "application/julia",
   "name": "julia",
   "version": "1.7.0"
  },
  "latex_envs": {
   "LaTeX_envs_menu_present": true,
   "autoclose": false,
   "autocomplete": true,
   "bibliofile": "biblio.bib",
   "cite_by": "apalike",
   "current_citInitial": 1,
   "eqLabelWithNumbers": true,
   "eqNumInitial": 1,
   "hotkeys": {
    "equation": "Ctrl-E",
    "itemize": "Ctrl-I"
   },
   "labels_anchors": false,
   "latex_user_defs": false,
   "report_style_numbering": false,
   "user_envs_cfg": false
  },
  "toc": {
   "base_numbering": 1,
   "nav_menu": {},
   "number_sections": true,
   "sideBar": true,
   "skip_h1_title": true,
   "title_cell": "Table of Contents",
   "title_sidebar": "Contents",
   "toc_cell": true,
   "toc_position": {},
   "toc_section_display": true,
   "toc_window_display": false
  }
 },
 "nbformat": 4,
 "nbformat_minor": 4
}
