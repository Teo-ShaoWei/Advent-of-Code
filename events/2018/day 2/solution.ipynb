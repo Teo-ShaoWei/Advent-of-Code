{
 "cells": [
  {
   "cell_type": "code",
   "execution_count": 1,
   "metadata": {},
   "outputs": [
    {
     "data": {
      "text/latex": [
       "\\section{Advent of Code 2018 Day 2}\n",
       "\\href{https://adventofcode.com/2018/day/2}{Problem link}\n",
       "\n"
      ],
      "text/markdown": [
       "# Advent of Code 2018 Day 2\n",
       "\n",
       "[Problem link](https://adventofcode.com/2018/day/2)\n"
      ],
      "text/plain": [
       "\u001b[1m  Advent of Code 2018 Day 2\u001b[22m\n",
       "\u001b[1m  ≡≡≡≡≡≡≡≡≡≡≡≡≡≡≡≡≡≡≡≡≡≡≡≡≡≡≡\u001b[22m\n",
       "\n",
       "  Problem link (https://adventofcode.com/2018/day/2)"
      ]
     },
     "metadata": {},
     "output_type": "display_data"
    }
   ],
   "source": [
    "YEAR = 2018;\n",
    "DAY = 2;\n",
    "SESSION_COOKIE = \"53616c7465645f5f247aa4bb66cc604a12f273db44943b8acf6742dbc7ed3e4915998d3119ad3e8822969ca3695db15416e2361accaed6724c90e2044486f759\"\n",
    "\n",
    "using Markdown\n",
    "URL = \"https://adventofcode.com/$(YEAR)/day/$(DAY)\"\n",
    "Markdown.parse(\"\"\"\n",
    "# Advent of Code $(YEAR) Day $(DAY)\n",
    "[Problem link]($(URL))\n",
    "\"\"\")\n"
   ]
  },
  {
   "cell_type": "markdown",
   "metadata": {},
   "source": [
    "## include code file using Revise\n"
   ]
  },
  {
   "cell_type": "code",
   "execution_count": 2,
   "metadata": {},
   "outputs": [],
   "source": [
    "using Revise\n"
   ]
  },
  {
   "cell_type": "code",
   "execution_count": 3,
   "metadata": {
    "scrolled": true
   },
   "outputs": [],
   "source": [
    "includet(\"functions.jl\")\n"
   ]
  },
  {
   "cell_type": "markdown",
   "metadata": {},
   "source": [
    "## set logger\n"
   ]
  },
  {
   "cell_type": "code",
   "execution_count": 4,
   "metadata": {},
   "outputs": [
    {
     "data": {
      "text/plain": [
       "Base.CoreLogging.SimpleLogger(VSCodeServer.IJuliaCore.IJuliaStdio{Base.PipeEndpoint, typeof(VSCodeServer.io_send_callback)}(IOContext(Base.PipeEndpoint(RawFD(20) open, 0 bytes waiting)), VSCodeServer.io_send_callback), Info, Dict{Any, Int64}())"
      ]
     },
     "metadata": {},
     "output_type": "display_data"
    }
   ],
   "source": [
    "using Logging: Logging\n",
    "using TerminalLoggers: TerminalLoggers\n",
    "\n",
    "Logging.global_logger(TerminalLoggers.TerminalLogger())\n"
   ]
  },
  {
   "cell_type": "markdown",
   "metadata": {},
   "source": [
    "## read input"
   ]
  },
  {
   "cell_type": "code",
   "execution_count": 5,
   "metadata": {},
   "outputs": [],
   "source": [
    "# Run this first.\n",
    "import HTTP\n"
   ]
  },
  {
   "cell_type": "code",
   "execution_count": 6,
   "metadata": {},
   "outputs": [
    {
     "name": "stdout",
     "output_type": "stream",
     "text": [
      "url = \"https://adventofcode.com/$(YEAR)/day/$(DAY)/input\" = \"https://adventofcode.com/2018/day/2/input\"\n",
      "SESSION_COOKIE = \"53616c7465645f5f247aa4bb66cc604a12f273db44943b8acf6742dbc7ed3e4915998d3119ad3e8822969ca3695db15416e2361accaed6724c90e2044486f759\"\n",
      "\n",
      "You already have `input.txt`!\n"
     ]
    }
   ],
   "source": [
    "# Run this only when trying to download the input.txt! Do so abit later.\n",
    "\n",
    "@show url = \"https://adventofcode.com/$(YEAR)/day/$(DAY)/input\"\n",
    "@show SESSION_COOKIE\n",
    "println()\n",
    "\n",
    "if \"input.txt\" ∉ readdir()\n",
    "    response = HTTP.get(url, headers=Dict(\"Cookie\" => \"session=$(SESSION_COOKIE)\"))\n",
    "\n",
    "    if HTTP.status(response) == 200\n",
    "        write(\"input.txt\", String(response.body))\n",
    "        println(\"Downlaoded input file for $YEAR day $DAY to `input.txt`.\")\n",
    "    else\n",
    "        println(\"Download unsuccessful\")\n",
    "    end\n",
    "else\n",
    "    println(\"You already have `input.txt`!\")\n",
    "end\n"
   ]
  },
  {
   "cell_type": "code",
   "execution_count": 7,
   "metadata": {
    "scrolled": true
   },
   "outputs": [
    {
     "data": {
      "text/plain": [
       "7-element Vector{String}:\n",
       " \"abcdef\"\n",
       " \"bababc\"\n",
       " \"abbcde\"\n",
       " \"abcccd\"\n",
       " \"aabcdd\"\n",
       " \"abcdee\"\n",
       " \"ababab\""
      ]
     },
     "metadata": {},
     "output_type": "display_data"
    }
   ],
   "source": [
    "PDS1 = parse_puzzle_file(\"sample1.txt\")\n"
   ]
  },
  {
   "cell_type": "code",
   "execution_count": 8,
   "metadata": {},
   "outputs": [
    {
     "data": {
      "text/plain": [
       "7-element Vector{String}:\n",
       " \"abcde\"\n",
       " \"fghij\"\n",
       " \"klmno\"\n",
       " \"pqrst\"\n",
       " \"fguij\"\n",
       " \"axcye\"\n",
       " \"wvxyz\""
      ]
     },
     "metadata": {},
     "output_type": "display_data"
    }
   ],
   "source": [
    "PDS2 = parse_puzzle_file(\"sample2.txt\")\n"
   ]
  },
  {
   "cell_type": "code",
   "execution_count": 9,
   "metadata": {
    "scrolled": true
   },
   "outputs": [
    {
     "data": {
      "text/plain": [
       "250-element Vector{String}:\n",
       " \"ovfclbidieyujztrswxmckgnaw\"\n",
       " \"pmfqlbimheyujztrswxmckgnap\"\n",
       " \"ovfqlbidhetujztrswxmcfgnas\"\n",
       " \"gvfqebddheyujztrswxmckgnap\"\n",
       " \"ovfqlbidheyejztrswxqekgnap\"\n",
       " \"ovzqlbiqheyujztsswxmckgnap\"\n",
       " \"oofqlbidhoyujztoswxmckgnap\"\n",
       " \"ovfqlbicqeyujztrswxmckgncp\"\n",
       " \"ovfelbidheyujltrswxmcwgnap\"\n",
       " \"ovfqlbidheyujzerswxmchgnaf\"\n",
       " ⋮\n",
       " \"ovfqlbidheydjvtrswxmckanap\"\n",
       " \"ovfqlxidheyujztrswgmckgnep\"\n",
       " \"jvfqlbidhzyujztrswxmckgnay\"\n",
       " \"ovfqlbidhkyujztrswxmlkenap\"\n",
       " \"ovfqobidheyujztrswxmckjnaf\"\n",
       " \"ovfxlbidheyujztrswxmcbgnac\"\n",
       " \"ovfqcbidhtyujztrswxmckqnap\"\n",
       " \"ozfglbidheyujzvrswxmckgnap\"\n",
       " \"ovfqlbidheyujztoswxyckcnap\""
      ]
     },
     "metadata": {},
     "output_type": "display_data"
    }
   ],
   "source": [
    "PDI = parse_puzzle_file(\"input.txt\")\n"
   ]
  },
  {
   "cell_type": "markdown",
   "metadata": {},
   "source": [
    "## part 1\n"
   ]
  },
  {
   "cell_type": "code",
   "execution_count": 10,
   "metadata": {},
   "outputs": [
    {
     "data": {
      "text/plain": [
       "7-element Vector{DefaultDict{Char, Int64, Int64}}:\n",
       " DefaultDict('f' => 1, 'a' => 1, 'c' => 1, 'd' => 1, 'e' => 1, 'b' => 1)\n",
       " DefaultDict('a' => 2, 'c' => 1, 'b' => 3)\n",
       " DefaultDict('a' => 1, 'c' => 1, 'd' => 1, 'e' => 1, 'b' => 2)\n",
       " DefaultDict('a' => 1, 'c' => 3, 'd' => 1, 'b' => 1)\n",
       " DefaultDict('a' => 2, 'c' => 1, 'd' => 2, 'b' => 1)\n",
       " DefaultDict('a' => 1, 'c' => 1, 'd' => 1, 'e' => 2, 'b' => 1)\n",
       " DefaultDict('a' => 3, 'b' => 3)"
      ]
     },
     "metadata": {},
     "output_type": "display_data"
    }
   ],
   "source": [
    "gather_chars.(PDS1)\n"
   ]
  },
  {
   "cell_type": "code",
   "execution_count": 11,
   "metadata": {},
   "outputs": [
    {
     "data": {
      "text/plain": [
       "7-element BitVector:\n",
       " 0\n",
       " 1\n",
       " 1\n",
       " 0\n",
       " 1\n",
       " 1\n",
       " 0"
      ]
     },
     "metadata": {},
     "output_type": "display_data"
    }
   ],
   "source": [
    "has_multi_char.(PDS1, 2)\n"
   ]
  },
  {
   "cell_type": "code",
   "execution_count": 12,
   "metadata": {},
   "outputs": [
    {
     "data": {
      "text/plain": [
       "7-element BitVector:\n",
       " 0\n",
       " 1\n",
       " 0\n",
       " 1\n",
       " 0\n",
       " 0\n",
       " 1"
      ]
     },
     "metadata": {},
     "output_type": "display_data"
    }
   ],
   "source": [
    "has_multi_char.(PDS1, 3)\n"
   ]
  },
  {
   "cell_type": "markdown",
   "metadata": {},
   "source": [
    "### answer\n"
   ]
  },
  {
   "cell_type": "code",
   "execution_count": 13,
   "metadata": {},
   "outputs": [
    {
     "name": "stdout",
     "output_type": "stream",
     "text": [
      "  0.363820 seconds (1.01 M allocations: 69.615 MiB, 3.94% gc time, 98.87% compilation time)\n"
     ]
    },
    {
     "name": "stderr",
     "output_type": "stream",
     "text": [
      "\u001b[36m\u001b[1m┌ \u001b[22m\u001b[39m\u001b[36m\u001b[1mInfo: \u001b[22m\u001b[39mpart 1 answer\n",
      "\u001b[36m\u001b[1m│ \u001b[22m\u001b[39m  result1(PDS1) = 12\n",
      "\u001b[36m\u001b[1m└ \u001b[22m\u001b[39m  result1(PDI) = 6642\n"
     ]
    }
   ],
   "source": [
    "@time @info(\n",
    "    \"part 1 answer\",\n",
    "    result1(PDS1),\n",
    "    result1(PDI),\n",
    ")\n"
   ]
  },
  {
   "cell_type": "markdown",
   "metadata": {},
   "source": [
    "## part 2\n"
   ]
  },
  {
   "cell_type": "code",
   "execution_count": 14,
   "metadata": {},
   "outputs": [
    {
     "data": {
      "text/plain": [
       "\"fgij\""
      ]
     },
     "metadata": {},
     "output_type": "display_data"
    }
   ],
   "source": [
    "get_common_letters(\"fghij\", \"fguij\")\n"
   ]
  },
  {
   "cell_type": "markdown",
   "metadata": {},
   "source": [
    "### answer\n"
   ]
  },
  {
   "cell_type": "code",
   "execution_count": 15,
   "metadata": {},
   "outputs": [
    {
     "name": "stdout",
     "output_type": "stream",
     "text": [
      "  0.204548 seconds (535.80 k allocations: 37.190 MiB, 94.84% compilation time)\n"
     ]
    },
    {
     "name": "stderr",
     "output_type": "stream",
     "text": [
      "\u001b[36m\u001b[1m┌ \u001b[22m\u001b[39m\u001b[36m\u001b[1mInfo: \u001b[22m\u001b[39mpart 2 answer\n",
      "\u001b[36m\u001b[1m│ \u001b[22m\u001b[39m  result2(PDS2) = \"fgij\"\n",
      "\u001b[36m\u001b[1m└ \u001b[22m\u001b[39m  result2(PDI) = \"cvqlbidheyujgtrswxmckqnap\"\n"
     ]
    }
   ],
   "source": [
    "@time @info(\n",
    "    \"part 2 answer\",\n",
    "    result2(PDS2),\n",
    "    result2(PDI),\n",
    ")\n"
   ]
  }
 ],
 "metadata": {
  "@webio": {
   "lastCommId": null,
   "lastKernelId": null
  },
  "kernelspec": {
   "display_name": "Julia 1.9.3",
   "language": "julia",
   "name": "julia-1.9"
  },
  "language_info": {
   "file_extension": ".jl",
   "mimetype": "application/julia",
   "name": "julia",
   "version": "1.9.3"
  },
  "latex_envs": {
   "LaTeX_envs_menu_present": true,
   "autoclose": false,
   "autocomplete": true,
   "bibliofile": "biblio.bib",
   "cite_by": "apalike",
   "current_citInitial": 1,
   "eqLabelWithNumbers": true,
   "eqNumInitial": 1,
   "hotkeys": {
    "equation": "Ctrl-E",
    "itemize": "Ctrl-I"
   },
   "labels_anchors": false,
   "latex_user_defs": false,
   "report_style_numbering": false,
   "user_envs_cfg": false
  },
  "toc": {
   "base_numbering": 1,
   "nav_menu": {},
   "number_sections": true,
   "sideBar": true,
   "skip_h1_title": true,
   "title_cell": "Table of Contents",
   "title_sidebar": "Contents",
   "toc_cell": true,
   "toc_position": {},
   "toc_section_display": true,
   "toc_window_display": false
  }
 },
 "nbformat": 4,
 "nbformat_minor": 4
}
