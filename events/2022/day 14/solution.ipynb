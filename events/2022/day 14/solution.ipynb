{
 "cells": [
  {
   "cell_type": "markdown",
   "metadata": {},
   "source": [
    "# Advent of Code 2022 Day 14\n",
    "[link](https://adventofcode.com/2022/day/14)"
   ]
  },
  {
   "cell_type": "markdown",
   "metadata": {
    "tags": []
   },
   "source": [
    "## include code file using Revise"
   ]
  },
  {
   "cell_type": "code",
   "execution_count": 1,
   "metadata": {},
   "outputs": [],
   "source": [
    "using Revise"
   ]
  },
  {
   "cell_type": "code",
   "execution_count": 2,
   "metadata": {
    "scrolled": true
   },
   "outputs": [],
   "source": [
    "includet(\"functions.jl\")"
   ]
  },
  {
   "cell_type": "markdown",
   "metadata": {},
   "source": [
    "## set logger"
   ]
  },
  {
   "cell_type": "code",
   "execution_count": 3,
   "metadata": {},
   "outputs": [
    {
     "data": {
      "text/plain": [
       "Base.CoreLogging.SimpleLogger(IJulia.IJuliaStdio{Base.PipeEndpoint}(IOContext(Base.PipeEndpoint(RawFD(46) open, 0 bytes waiting))), Info, Dict{Any, Int64}())"
      ]
     },
     "execution_count": 3,
     "metadata": {},
     "output_type": "execute_result"
    }
   ],
   "source": [
    "import Logging\n",
    "import TerminalLoggers\n",
    "\n",
    "Logging.global_logger(TerminalLoggers.TerminalLogger())"
   ]
  },
  {
   "cell_type": "markdown",
   "metadata": {},
   "source": [
    "## read input"
   ]
  },
  {
   "cell_type": "code",
   "execution_count": 4,
   "metadata": {
    "scrolled": true
   },
   "outputs": [
    {
     "data": {
      "text/plain": [
       "2-element Vector{Vector{CartesianIndex{2}}}:\n",
       " [CI((x = 498, y = 4)), CI((x = 498, y = 6)), CI((x = 496, y = 6))]\n",
       " [CI((x = 503, y = 4)), CI((x = 502, y = 4)), CI((x = 502, y = 9)), CI((x = 494, y = 9))]"
      ]
     },
     "execution_count": 4,
     "metadata": {},
     "output_type": "execute_result"
    }
   ],
   "source": [
    "PDS1 = parse_puzzle_file(\"sample1.txt\")"
   ]
  },
  {
   "cell_type": "code",
   "execution_count": 5,
   "metadata": {
    "scrolled": true
   },
   "outputs": [
    {
     "data": {
      "text/plain": [
       "148-element Vector{Vector{CartesianIndex{2}}}:\n",
       " [CI((x = 494, y = 132)), CI((x = 494, y = 134)), CI((x = 487, y = 134)), CI((x = 487, y = 139)), CI((x = 502, y = 139)), CI((x = 502, y = 134)), CI((x = 499, y = 134)), CI((x = 499, y = 132))]\n",
       " [CI((x = 509, y = 82)), CI((x = 514, y = 82))]\n",
       " [CI((x = 511, y = 113)), CI((x = 511, y = 116)), CI((x = 509, y = 116)), CI((x = 509, y = 120)), CI((x = 522, y = 120)), CI((x = 522, y = 116)), CI((x = 516, y = 116)), CI((x = 516, y = 113))]\n",
       " [CI((x = 493, y = 36)), CI((x = 493, y = 33)), CI((x = 493, y = 36)), CI((x = 495, y = 36)), CI((x = 495, y = 35)), CI((x = 495, y = 36)), CI((x = 497, y = 36)), CI((x = 497, y = 33)), CI((x = 497, y = 36)), CI((x = 499, y = 36)), CI((x = 499, y = 35)), CI((x = 499, y = 36)), CI((x = 501, y = 36)), CI((x = 501, y = 34)), CI((x = 501, y = 36)), CI((x = 503, y = 36)), CI((x = 503, y = 34)), CI((x = 503, y = 36)), CI((x = 505, y = 36)), CI((x = 505, y = 26)), CI((x = 505, y = 36)), CI((x = 507, y = 36)), CI((x = 507, y = 31)), CI((x = 507, y = 36)), CI((x = 509, y = 36)), CI((x = 509, y = 33)), CI((x = 509, y = 36))]\n",
       " [CI((x = 527, y = 101)), CI((x = 527, y = 99)), CI((x = 527, y = 101)), CI((x = 529, y = 101)), CI((x = 529, y = 98)), CI((x = 529, y = 101)), CI((x = 531, y = 101)), CI((x = 531, y = 92)), CI((x = 531, y = 101)), CI((x = 533, y = 101)), CI((x = 533, y = 91)), CI((x = 533, y = 101)), CI((x = 535, y = 101)), CI((x = 535, y = 99)), CI((x = 535, y = 101)), CI((x = 537, y = 101)), CI((x = 537, y = 100)), CI((x = 537, y = 101)), CI((x = 539, y = 101)), CI((x = 539, y = 93)), CI((x = 539, y = 101))]\n",
       " [CI((x = 493, y = 36)), CI((x = 493, y = 33)), CI((x = 493, y = 36)), CI((x = 495, y = 36)), CI((x = 495, y = 35)), CI((x = 495, y = 36)), CI((x = 497, y = 36)), CI((x = 497, y = 33)), CI((x = 497, y = 36)), CI((x = 499, y = 36)), CI((x = 499, y = 35)), CI((x = 499, y = 36)), CI((x = 501, y = 36)), CI((x = 501, y = 34)), CI((x = 501, y = 36)), CI((x = 503, y = 36)), CI((x = 503, y = 34)), CI((x = 503, y = 36)), CI((x = 505, y = 36)), CI((x = 505, y = 26)), CI((x = 505, y = 36)), CI((x = 507, y = 36)), CI((x = 507, y = 31)), CI((x = 507, y = 36)), CI((x = 509, y = 36)), CI((x = 509, y = 33)), CI((x = 509, y = 36))]\n",
       " [CI((x = 510, y = 65)), CI((x = 510, y = 57)), CI((x = 510, y = 65)), CI((x = 512, y = 65)), CI((x = 512, y = 63)), CI((x = 512, y = 65)), CI((x = 514, y = 65)), CI((x = 514, y = 64)), CI((x = 514, y = 65))]\n",
       " [CI((x = 490, y = 39)), CI((x = 490, y = 42)), CI((x = 483, y = 42)), CI((x = 483, y = 49)), CI((x = 503, y = 49)), CI((x = 503, y = 42)), CI((x = 495, y = 42)), CI((x = 495, y = 39))]\n",
       " [CI((x = 527, y = 101)), CI((x = 527, y = 99)), CI((x = 527, y = 101)), CI((x = 529, y = 101)), CI((x = 529, y = 98)), CI((x = 529, y = 101)), CI((x = 531, y = 101)), CI((x = 531, y = 92)), CI((x = 531, y = 101)), CI((x = 533, y = 101)), CI((x = 533, y = 91)), CI((x = 533, y = 101)), CI((x = 535, y = 101)), CI((x = 535, y = 99)), CI((x = 535, y = 101)), CI((x = 537, y = 101)), CI((x = 537, y = 100)), CI((x = 537, y = 101)), CI((x = 539, y = 101)), CI((x = 539, y = 93)), CI((x = 539, y = 101))]\n",
       " [CI((x = 526, y = 150)), CI((x = 530, y = 150))]\n",
       " [CI((x = 493, y = 36)), CI((x = 493, y = 33)), CI((x = 493, y = 36)), CI((x = 495, y = 36)), CI((x = 495, y = 35)), CI((x = 495, y = 36)), CI((x = 497, y = 36)), CI((x = 497, y = 33)), CI((x = 497, y = 36)), CI((x = 499, y = 36)), CI((x = 499, y = 35)), CI((x = 499, y = 36)), CI((x = 501, y = 36)), CI((x = 501, y = 34)), CI((x = 501, y = 36)), CI((x = 503, y = 36)), CI((x = 503, y = 34)), CI((x = 503, y = 36)), CI((x = 505, y = 36)), CI((x = 505, y = 26)), CI((x = 505, y = 36)), CI((x = 507, y = 36)), CI((x = 507, y = 31)), CI((x = 507, y = 36)), CI((x = 509, y = 36)), CI((x = 509, y = 33)), CI((x = 509, y = 36))]\n",
       " [CI((x = 512, y = 127)), CI((x = 516, y = 127))]\n",
       " [CI((x = 494, y = 132)), CI((x = 494, y = 134)), CI((x = 487, y = 134)), CI((x = 487, y = 139)), CI((x = 502, y = 139)), CI((x = 502, y = 134)), CI((x = 499, y = 134)), CI((x = 499, y = 132))]\n",
       " ⋮\n",
       " [CI((x = 510, y = 65)), CI((x = 510, y = 57)), CI((x = 510, y = 65)), CI((x = 512, y = 65)), CI((x = 512, y = 63)), CI((x = 512, y = 65)), CI((x = 514, y = 65)), CI((x = 514, y = 64)), CI((x = 514, y = 65))]\n",
       " [CI((x = 497, y = 129)), CI((x = 501, y = 129))]\n",
       " [CI((x = 527, y = 101)), CI((x = 527, y = 99)), CI((x = 527, y = 101)), CI((x = 529, y = 101)), CI((x = 529, y = 98)), CI((x = 529, y = 101)), CI((x = 531, y = 101)), CI((x = 531, y = 92)), CI((x = 531, y = 101)), CI((x = 533, y = 101)), CI((x = 533, y = 91)), CI((x = 533, y = 101)), CI((x = 535, y = 101)), CI((x = 535, y = 99)), CI((x = 535, y = 101)), CI((x = 537, y = 101)), CI((x = 537, y = 100)), CI((x = 537, y = 101)), CI((x = 539, y = 101)), CI((x = 539, y = 93)), CI((x = 539, y = 101))]\n",
       " [CI((x = 532, y = 150)), CI((x = 536, y = 150))]\n",
       " [CI((x = 493, y = 36)), CI((x = 493, y = 33)), CI((x = 493, y = 36)), CI((x = 495, y = 36)), CI((x = 495, y = 35)), CI((x = 495, y = 36)), CI((x = 497, y = 36)), CI((x = 497, y = 33)), CI((x = 497, y = 36)), CI((x = 499, y = 36)), CI((x = 499, y = 35)), CI((x = 499, y = 36)), CI((x = 501, y = 36)), CI((x = 501, y = 34)), CI((x = 501, y = 36)), CI((x = 503, y = 36)), CI((x = 503, y = 34)), CI((x = 503, y = 36)), CI((x = 505, y = 36)), CI((x = 505, y = 26)), CI((x = 505, y = 36)), CI((x = 507, y = 36)), CI((x = 507, y = 31)), CI((x = 507, y = 36)), CI((x = 509, y = 36)), CI((x = 509, y = 33)), CI((x = 509, y = 36))]\n",
       " [CI((x = 527, y = 101)), CI((x = 527, y = 99)), CI((x = 527, y = 101)), CI((x = 529, y = 101)), CI((x = 529, y = 98)), CI((x = 529, y = 101)), CI((x = 531, y = 101)), CI((x = 531, y = 92)), CI((x = 531, y = 101)), CI((x = 533, y = 101)), CI((x = 533, y = 91)), CI((x = 533, y = 101)), CI((x = 535, y = 101)), CI((x = 535, y = 99)), CI((x = 535, y = 101)), CI((x = 537, y = 101)), CI((x = 537, y = 100)), CI((x = 537, y = 101)), CI((x = 539, y = 101)), CI((x = 539, y = 93)), CI((x = 539, y = 101))]\n",
       " [CI((x = 547, y = 148)), CI((x = 551, y = 148))]\n",
       " [CI((x = 493, y = 36)), CI((x = 493, y = 33)), CI((x = 493, y = 36)), CI((x = 495, y = 36)), CI((x = 495, y = 35)), CI((x = 495, y = 36)), CI((x = 497, y = 36)), CI((x = 497, y = 33)), CI((x = 497, y = 36)), CI((x = 499, y = 36)), CI((x = 499, y = 35)), CI((x = 499, y = 36)), CI((x = 501, y = 36)), CI((x = 501, y = 34)), CI((x = 501, y = 36)), CI((x = 503, y = 36)), CI((x = 503, y = 34)), CI((x = 503, y = 36)), CI((x = 505, y = 36)), CI((x = 505, y = 26)), CI((x = 505, y = 36)), CI((x = 507, y = 36)), CI((x = 507, y = 31)), CI((x = 507, y = 36)), CI((x = 509, y = 36)), CI((x = 509, y = 33)), CI((x = 509, y = 36))]\n",
       " [CI((x = 518, y = 108)), CI((x = 522, y = 108))]\n",
       " [CI((x = 544, y = 146)), CI((x = 548, y = 146))]\n",
       " [CI((x = 527, y = 101)), CI((x = 527, y = 99)), CI((x = 527, y = 101)), CI((x = 529, y = 101)), CI((x = 529, y = 98)), CI((x = 529, y = 101)), CI((x = 531, y = 101)), CI((x = 531, y = 92)), CI((x = 531, y = 101)), CI((x = 533, y = 101)), CI((x = 533, y = 91)), CI((x = 533, y = 101)), CI((x = 535, y = 101)), CI((x = 535, y = 99)), CI((x = 535, y = 101)), CI((x = 537, y = 101)), CI((x = 537, y = 100)), CI((x = 537, y = 101)), CI((x = 539, y = 101)), CI((x = 539, y = 93)), CI((x = 539, y = 101))]\n",
       " [CI((x = 538, y = 142)), CI((x = 542, y = 142))]"
      ]
     },
     "execution_count": 5,
     "metadata": {},
     "output_type": "execute_result"
    }
   ],
   "source": [
    "PDI = parse_puzzle_file(\"input.txt\")"
   ]
  },
  {
   "cell_type": "markdown",
   "metadata": {},
   "source": [
    "## part 1"
   ]
  },
  {
   "cell_type": "code",
   "execution_count": 6,
   "metadata": {},
   "outputs": [
    {
     "data": {
      "text/plain": [
       "(area = [0 0 … 0 0; 0 0 … 0 0; … ; 0 0 … 0 0; 0 0 … 0 0], starting_ci = CI((x = 500, y = 0)))"
      ]
     },
     "execution_count": 6,
     "metadata": {},
     "output_type": "execute_result"
    }
   ],
   "source": [
    "init_state(PDS1)"
   ]
  },
  {
   "cell_type": "code",
   "execution_count": 7,
   "metadata": {},
   "outputs": [
    {
     "name": "stdout",
     "output_type": "stream",
     "text": [
      "starting_ci: CI((x = 500, y = 0))\n",
      "\n",
      "size: 10 × 19\n",
      "axes: (0:9, 491:509)\n",
      "···················\n",
      "···················\n",
      "···················\n",
      "···················\n",
      "·······░···░░······\n",
      "·······░···░·······\n",
      "·····░░░···░·······\n",
      "···········░·······\n",
      "···········░·······\n",
      "···░░░░░░░░░·······\n",
      "\n"
     ]
    }
   ],
   "source": [
    "@chain PDS1 begin\n",
    "    init_state\n",
    "    print_state\n",
    "end"
   ]
  },
  {
   "cell_type": "code",
   "execution_count": 8,
   "metadata": {},
   "outputs": [
    {
     "ename": "LoadError",
     "evalue": "MethodError: no method matching is_blocked(::NamedTuple{(:area, :starting_ci), Tuple{OffsetMatrix{Int64, Matrix{Int64}}, CartesianIndex{2}}}, ::CartesianIndex{2})\n\u001b[0mClosest candidates are:\n\u001b[0m  is_blocked(\u001b[91m::OffsetArray{Int64, N, AA} where {N, AA<:AbstractArray{Int64, N}}\u001b[39m, ::CartesianIndex{2}) at ~/devs/github.com/Teo-ShaoWei/advent-of-code-julia/events/2022/day 14/functions.jl:144",
     "output_type": "error",
     "traceback": [
      "MethodError: no method matching is_blocked(::NamedTuple{(:area, :starting_ci), Tuple{OffsetMatrix{Int64, Matrix{Int64}}, CartesianIndex{2}}}, ::CartesianIndex{2})\n\u001b[0mClosest candidates are:\n\u001b[0m  is_blocked(\u001b[91m::OffsetArray{Int64, N, AA} where {N, AA<:AbstractArray{Int64, N}}\u001b[39m, ::CartesianIndex{2}) at ~/devs/github.com/Teo-ShaoWei/advent-of-code-julia/events/2022/day 14/functions.jl:144",
      "",
      "Stacktrace:",
      " [1] top-level scope",
      "   @ In[8]:3",
      " [2] eval",
      "   @ ./boot.jl:368 [inlined]",
      " [3] include_string(mapexpr::typeof(REPL.softscope), mod::Module, code::String, filename::String)",
      "   @ Base ./loading.jl:1428"
     ]
    }
   ],
   "source": [
    "@chain PDS1 begin\n",
    "    init_state\n",
    "    is_blocked(CI((x = 500, y = 9)))\n",
    "end"
   ]
  },
  {
   "cell_type": "code",
   "execution_count": 9,
   "metadata": {},
   "outputs": [
    {
     "data": {
      "text/plain": [
       "CI((x = 500, y = 8))"
      ]
     },
     "execution_count": 9,
     "metadata": {},
     "output_type": "execute_result"
    }
   ],
   "source": [
    "@chain PDS1 begin\n",
    "    init_state\n",
    "    next_sand\n",
    "end"
   ]
  },
  {
   "cell_type": "code",
   "execution_count": 10,
   "metadata": {},
   "outputs": [
    {
     "data": {
      "text/plain": [
       "CI((x = 500, y = 8))"
      ]
     },
     "execution_count": 10,
     "metadata": {},
     "output_type": "execute_result"
    }
   ],
   "source": [
    "@chain PDS1 begin\n",
    "    init_state\n",
    "    next_sand\n",
    "end"
   ]
  },
  {
   "cell_type": "code",
   "execution_count": 11,
   "metadata": {},
   "outputs": [
    {
     "data": {
      "text/plain": [
       "9"
      ]
     },
     "execution_count": 11,
     "metadata": {},
     "output_type": "execute_result"
    }
   ],
   "source": [
    "@chain PDS1 begin\n",
    "    init_state\n",
    "    lastindex(_.area, 2)\n",
    "end"
   ]
  },
  {
   "cell_type": "code",
   "execution_count": 12,
   "metadata": {},
   "outputs": [
    {
     "name": "stdout",
     "output_type": "stream",
     "text": [
      "starting_ci: CI((x = 500, y = 0))\n",
      "\n",
      "size: 10 × 19\n",
      "axes: (0:9, 491:509)\n",
      "···················\n",
      "···················\n",
      "·········x·········\n",
      "········xxx········\n",
      "·······░xxx░░······\n",
      "······x░xxx░·······\n",
      "·····░░░xxx░·······\n",
      "·······xxxx░·······\n",
      "····x·xxxxx░·······\n",
      "···░░░░░░░░░·······\n",
      "\n"
     ]
    }
   ],
   "source": [
    "@chain PDS1 begin\n",
    "    fill_sand_part1\n",
    "    print_state\n",
    "end"
   ]
  },
  {
   "cell_type": "markdown",
   "metadata": {},
   "source": [
    "### answer"
   ]
  },
  {
   "cell_type": "code",
   "execution_count": 13,
   "metadata": {},
   "outputs": [
    {
     "name": "stdout",
     "output_type": "stream",
     "text": [
      "  0.348987 seconds (2.45 M allocations: 116.496 MiB, 6.54% gc time, 86.19% compilation time)\n"
     ]
    },
    {
     "name": "stderr",
     "output_type": "stream",
     "text": [
      "\u001b[36m\u001b[1m┌ \u001b[22m\u001b[39m\u001b[36m\u001b[1mInfo: \u001b[22m\u001b[39mpart 1 answer\n",
      "\u001b[36m\u001b[1m│ \u001b[22m\u001b[39m  result1(PDS1) = 24\n",
      "\u001b[36m\u001b[1m└ \u001b[22m\u001b[39m  result1(PDI) = 1016\n"
     ]
    }
   ],
   "source": [
    "@time @info(\n",
    "    \"part 1 answer\",\n",
    "    result1(PDS1),\n",
    "    result1(PDI),\n",
    ")"
   ]
  },
  {
   "cell_type": "markdown",
   "metadata": {},
   "source": [
    "## part 2"
   ]
  },
  {
   "cell_type": "code",
   "execution_count": 14,
   "metadata": {},
   "outputs": [
    {
     "name": "stdout",
     "output_type": "stream",
     "text": [
      "starting_ci: CI((x = 500, y = 0))\n",
      "\n",
      "size: 11 × 21\n",
      "axes: (0:10, 490:510)\n",
      "··········x··········\n",
      "·········xxx·········\n",
      "········xxxxx········\n",
      "·······xxxxxxx·······\n",
      "······xx░xxx░░x······\n",
      "·····xxx░xxx░xxx·····\n",
      "····xx░░░xxx░xxxx····\n",
      "···xxxx·xxxx░xxxxx···\n",
      "··xxxxxxxxxx░xxxxxx··\n",
      "·xxx░░░░░░░░░xxxxxxx·\n",
      "xxxxx·······xxxxxxxxx\n",
      "\n"
     ]
    }
   ],
   "source": [
    "@chain PDS1 begin\n",
    "    fill_sand_part2\n",
    "    print_state\n",
    "end"
   ]
  },
  {
   "cell_type": "markdown",
   "metadata": {},
   "source": [
    "### answer"
   ]
  },
  {
   "cell_type": "code",
   "execution_count": 15,
   "metadata": {},
   "outputs": [
    {
     "name": "stdout",
     "output_type": "stream",
     "text": [
      "  1.541102 seconds (11.56 M allocations: 362.145 MiB, 1.95% gc time, 4.59% compilation time)\n"
     ]
    },
    {
     "name": "stderr",
     "output_type": "stream",
     "text": [
      "\u001b[36m\u001b[1m┌ \u001b[22m\u001b[39m\u001b[36m\u001b[1mInfo: \u001b[22m\u001b[39mpart 2 answer\n",
      "\u001b[36m\u001b[1m│ \u001b[22m\u001b[39m  result2(PDS1) = 93\n",
      "\u001b[36m\u001b[1m└ \u001b[22m\u001b[39m  result2(PDI) = 25402\n"
     ]
    }
   ],
   "source": [
    "@time @info(\n",
    "    \"part 2 answer\",\n",
    "    result2(PDS1),\n",
    "    result2(PDI),\n",
    ")"
   ]
  }
 ],
 "metadata": {
  "@webio": {
   "lastCommId": null,
   "lastKernelId": null
  },
  "kernelspec": {
   "display_name": "Julia 1.8.2",
   "language": "julia",
   "name": "julia-1.8"
  },
  "language_info": {
   "file_extension": ".jl",
   "mimetype": "application/julia",
   "name": "julia",
   "version": "1.8.2"
  },
  "latex_envs": {
   "LaTeX_envs_menu_present": true,
   "autoclose": false,
   "autocomplete": true,
   "bibliofile": "biblio.bib",
   "cite_by": "apalike",
   "current_citInitial": 1,
   "eqLabelWithNumbers": true,
   "eqNumInitial": 1,
   "hotkeys": {
    "equation": "Ctrl-E",
    "itemize": "Ctrl-I"
   },
   "labels_anchors": false,
   "latex_user_defs": false,
   "report_style_numbering": false,
   "user_envs_cfg": false
  },
  "toc": {
   "base_numbering": 1,
   "nav_menu": {},
   "number_sections": true,
   "sideBar": true,
   "skip_h1_title": true,
   "title_cell": "Table of Contents",
   "title_sidebar": "Contents",
   "toc_cell": true,
   "toc_position": {},
   "toc_section_display": true,
   "toc_window_display": false
  }
 },
 "nbformat": 4,
 "nbformat_minor": 4
}
