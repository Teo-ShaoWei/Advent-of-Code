{
 "cells": [
  {
   "cell_type": "code",
   "execution_count": 1,
   "metadata": {},
   "outputs": [
    {
     "data": {
      "text/latex": [
       "\\section{Advent of Code 2023 Day 4}\n",
       "\\href{https://adventofcode.com/2023/day/4}{Problem link}\n",
       "\n"
      ],
      "text/markdown": [
       "# Advent of Code 2023 Day 4\n",
       "\n",
       "[Problem link](https://adventofcode.com/2023/day/4)\n"
      ],
      "text/plain": [
       "\u001b[1m  Advent of Code 2023 Day 4\u001b[22m\n",
       "\u001b[1m  ≡≡≡≡≡≡≡≡≡≡≡≡≡≡≡≡≡≡≡≡≡≡≡≡≡≡≡\u001b[22m\n",
       "\n",
       "  Problem link (https://adventofcode.com/2023/day/4)"
      ]
     },
     "metadata": {},
     "output_type": "display_data"
    }
   ],
   "source": [
    "YEAR = 2023;\n",
    "DAY = 4;\n",
    "SESSION_COOKIE = \"53616c7465645f5f247aa4bb66cc604a12f273db44943b8acf6742dbc7ed3e4915998d3119ad3e8822969ca3695db15416e2361accaed6724c90e2044486f759\"\n",
    "\n",
    "using Markdown\n",
    "URL = \"https://adventofcode.com/$(YEAR)/day/$(DAY)\"\n",
    "Markdown.parse(\"\"\"\n",
    "# Advent of Code $(YEAR) Day $(DAY)\n",
    "[Problem link]($(URL))\n",
    "\"\"\")\n"
   ]
  },
  {
   "cell_type": "markdown",
   "metadata": {},
   "source": [
    "## include code file using Revise\n"
   ]
  },
  {
   "cell_type": "code",
   "execution_count": 2,
   "metadata": {},
   "outputs": [],
   "source": [
    "using Revise\n",
    "includet(\"functions.jl\")\n"
   ]
  },
  {
   "cell_type": "markdown",
   "metadata": {},
   "source": [
    "## logging\n"
   ]
  },
  {
   "cell_type": "code",
   "execution_count": 3,
   "metadata": {},
   "outputs": [
    {
     "data": {
      "text/plain": [
       "Base.CoreLogging.SimpleLogger(VSCodeServer.IJuliaCore.IJuliaStdio{Base.PipeEndpoint, typeof(VSCodeServer.io_send_callback)}(IOContext(Base.PipeEndpoint(RawFD(20) open, 0 bytes waiting)), VSCodeServer.io_send_callback), Info, Dict{Any, Int64}())"
      ]
     },
     "metadata": {},
     "output_type": "display_data"
    }
   ],
   "source": [
    "using Logging: Logging\n",
    "using TerminalLoggers: TerminalLoggers\n",
    "\n",
    "Logging.global_logger(TerminalLoggers.TerminalLogger())\n"
   ]
  },
  {
   "cell_type": "code",
   "execution_count": 4,
   "metadata": {},
   "outputs": [
    {
     "ename": "UndefVarError",
     "evalue": "UndefVarError: `CI` not defined",
     "output_type": "error",
     "traceback": [
      "UndefVarError: `CI` not defined\n",
      "\n",
      "Stacktrace:\n",
      " [1] top-level scope\n",
      "   @ ~/devs/github.com/Teo-ShaoWei/advent-of-code-julia/events/2023/day 4/solution.ipynb:5"
     ]
    }
   ],
   "source": [
    "# Patching some printing methods in Base.\n",
    "\n",
    "Base.show(io::IO, ::MIME\"text/plain\", c::Char) = show(io, c)\n",
    "\n",
    "Base.show(io::IO, c::CI) = print(io, \"CI(\", join(string.(Tuple(c)), \", \"), \")\")\n",
    "Base.print(io::IO, ::Type{CI{N}}) where {N} = print(io, \"CI{\", N, \"}\")\n",
    "\n",
    "Base.show(io::IO, c::CIS) = print(io, \"CIS((\", join(get_bound(c), \", \"), \"))\")\n",
    "Base.show(io::IO, ::MIME\"text/plain\", c::CIS) = print(io, c)\n",
    "\n",
    "function Base.show(io::IO, v::Vector{T}) where {T}\n",
    "    if isempty(v)\n",
    "        print(io, T, \"[]\")\n",
    "    else\n",
    "        print(io, \"[\", join(v, \", \"), \"]\")\n",
    "    end\n",
    "end\n"
   ]
  },
  {
   "cell_type": "markdown",
   "metadata": {},
   "source": [
    "## read input"
   ]
  },
  {
   "cell_type": "code",
   "execution_count": 5,
   "metadata": {},
   "outputs": [],
   "source": [
    "# Run this first.\n",
    "import HTTP\n"
   ]
  },
  {
   "cell_type": "code",
   "execution_count": 6,
   "metadata": {},
   "outputs": [
    {
     "name": "stdout",
     "output_type": "stream",
     "text": [
      "url = \"https://adventofcode.com/$(YEAR)/day/$(DAY)/input\" = \"https://adventofcode.com/2023/day/4/input\"\n",
      "SESSION_COOKIE = \"53616c7465645f5f247aa4bb66cc604a12f273db44943b8acf6742dbc7ed3e4915998d3119ad3e8822969ca3695db15416e2361accaed6724c90e2044486f759\"\n",
      "\n",
      "You already have `input.txt`!\n"
     ]
    }
   ],
   "source": [
    "# Run this only when trying to download the input.txt! Do so abit later.\n",
    "\n",
    "@show url = \"https://adventofcode.com/$(YEAR)/day/$(DAY)/input\"\n",
    "@show SESSION_COOKIE\n",
    "println()\n",
    "\n",
    "if \"input.txt\" ∉ readdir()\n",
    "    response = HTTP.get(url, headers=Dict(\"Cookie\" => \"session=$(SESSION_COOKIE)\"))\n",
    "\n",
    "    if HTTP.status(response) == 200\n",
    "        write(\"input.txt\", String(response.body))\n",
    "        println(\"Downlaoded input file for $YEAR day $DAY to `input.txt`.\")\n",
    "    else\n",
    "        println(\"Download unsuccessful\")\n",
    "    end\n",
    "else\n",
    "    println(\"You already have `input.txt`!\")\n",
    "end\n"
   ]
  },
  {
   "cell_type": "code",
   "execution_count": 7,
   "metadata": {
    "scrolled": true
   },
   "outputs": [
    {
     "data": {
      "text/plain": [
       "6-element Vector{NamedTuple{(:winning, :have), Tuple{Vector{Int64}, Vector{Int64}}}}:\n",
       " (winning = [41, 48, 83, 86, 17], have = [83, 86, 6, 31, 17, 9, 48, 53])\n",
       " (winning = [13, 32, 20, 16, 61], have = [61, 30, 68, 82, 17, 32, 24, 19])\n",
       " (winning = [1, 21, 53, 59, 44], have = [69, 82, 63, 72, 16, 21, 14, 1])\n",
       " (winning = [41, 92, 73, 84, 69], have = [59, 84, 76, 51, 58, 5, 54, 83])\n",
       " (winning = [87, 83, 26, 28, 32], have = [88, 30, 70, 12, 93, 22, 82, 36])\n",
       " (winning = [31, 18, 13, 56, 72], have = [74, 77, 10, 23, 35, 67, 36, 11])"
      ]
     },
     "metadata": {},
     "output_type": "display_data"
    }
   ],
   "source": [
    "PDS1 = parse_puzzle_file(\"sample1.txt\")\n"
   ]
  },
  {
   "cell_type": "code",
   "execution_count": 8,
   "metadata": {
    "scrolled": true
   },
   "outputs": [
    {
     "data": {
      "text/plain": [
       "215-element Vector{NamedTuple{(:winning, :have), Tuple{Vector{Int64}, Vector{Int64}}}}:\n",
       " (winning = [66, 90, 67, 76, 55, 13, 91, 31, 95, 4], have = [82, 98, 69, 8, 15, 2, 32, 24, 99, 56  …  68, 54, 22, 26, 5, 74, 25, 84, 73, 61])\n",
       " (winning = [94, 57, 54, 45, 9, 78, 71, 35, 48, 44], have = [9, 56, 28, 57, 55, 95, 32, 48, 76, 47  …  49, 38, 30, 17, 63, 71, 8, 16, 45, 44])\n",
       " (winning = [44, 10, 67, 65, 62, 43, 47, 13, 26, 95], have = [67, 55, 65, 68, 26, 77, 41, 43, 94, 13  …  10, 69, 95, 31, 47, 70, 72, 44, 23, 17])\n",
       " (winning = [47, 48, 14, 30, 64, 31, 81, 22, 65, 60], have = [85, 23, 47, 19, 60, 31, 32, 68, 64, 33  …  72, 87, 46, 92, 83, 54, 81, 66, 91, 30])\n",
       " (winning = [43, 66, 44, 76, 67, 27, 52, 26, 83, 39], have = [37, 83, 99, 29, 48, 60, 62, 2, 31, 27  …  95, 78, 21, 47, 44, 76, 34, 96, 30, 74])\n",
       " (winning = [38, 34, 59, 52, 10, 14, 57, 98, 73, 90], have = [77, 32, 21, 16, 15, 57, 30, 97, 43, 47  …  69, 82, 35, 68, 60, 78, 37, 46, 50, 9])\n",
       " (winning = [94, 57, 27, 45, 70, 34, 83, 30, 51, 17], have = [89, 30, 44, 29, 17, 41, 70, 87, 83, 45  …  43, 88, 34, 67, 54, 64, 94, 85, 57, 26])\n",
       " (winning = [64, 82, 99, 10, 20, 76, 25, 78, 83, 48], have = [66, 62, 98, 32, 48, 2, 79, 97, 65, 70  …  21, 75, 93, 41, 9, 3, 61, 92, 19, 81])\n",
       " (winning = [93, 49, 20, 77, 14, 86, 89, 28, 54, 82], have = [61, 67, 64, 46, 28, 89, 82, 25, 49, 5  …  83, 44, 6, 60, 36, 77, 12, 68, 50, 71])\n",
       " (winning = [50, 76, 67, 32, 84, 46, 54, 30, 42, 74], have = [42, 82, 85, 2, 74, 67, 23, 48, 96, 30  …  45, 49, 84, 59, 99, 76, 33, 58, 62, 13])\n",
       " ⋮\n",
       " (winning = [10, 92, 3, 99, 67, 2, 83, 71, 25, 17], have = [2, 88, 70, 39, 18, 92, 22, 99, 83, 47  …  40, 77, 10, 24, 7, 76, 35, 71, 12, 3])\n",
       " (winning = [25, 81, 92, 55, 68, 41, 18, 75, 12, 67], have = [96, 6, 86, 20, 76, 89, 92, 40, 30, 17  …  37, 70, 42, 63, 88, 43, 9, 75, 53, 3])\n",
       " (winning = [35, 7, 5, 56, 57, 51, 75, 66, 78, 85], have = [52, 23, 86, 45, 59, 14, 1, 16, 95, 13  …  22, 72, 35, 40, 26, 43, 7, 15, 44, 96])\n",
       " (winning = [35, 83, 8, 27, 2, 39, 47, 29, 25, 61], have = [74, 21, 88, 92, 35, 13, 76, 29, 73, 39  …  23, 16, 4, 40, 7, 42, 19, 72, 22, 31])\n",
       " (winning = [38, 58, 71, 14, 20, 92, 85, 63, 90, 34], have = [54, 93, 16, 39, 1, 62, 13, 51, 46, 77  …  71, 3, 29, 43, 19, 12, 30, 78, 50, 80])\n",
       " (winning = [54, 52, 17, 49, 4, 66, 55, 74, 12, 39], have = [78, 59, 48, 28, 60, 53, 68, 33, 34, 10  …  45, 67, 71, 18, 64, 32, 27, 3, 82, 8])\n",
       " (winning = [53, 70, 23, 28, 63, 52, 88, 2, 98, 29], have = [7, 26, 82, 72, 14, 84, 60, 78, 29, 51  …  12, 55, 90, 6, 2, 67, 71, 35, 41, 32])\n",
       " (winning = [14, 75, 87, 20, 74, 97, 99, 89, 25, 64], have = [76, 59, 61, 96, 63, 31, 9, 83, 68, 8  …  49, 11, 35, 88, 98, 15, 50, 36, 79, 22])\n",
       " (winning = [33, 3, 95, 82, 18, 59, 74, 8, 40, 62], have = [80, 28, 78, 57, 81, 87, 53, 86, 51, 91  …  39, 1, 36, 4, 14, 22, 68, 21, 55, 92])"
      ]
     },
     "metadata": {},
     "output_type": "display_data"
    }
   ],
   "source": [
    "PDI = parse_puzzle_file(\"input.txt\")\n"
   ]
  },
  {
   "cell_type": "markdown",
   "metadata": {},
   "source": [
    "## part 1\n"
   ]
  },
  {
   "cell_type": "code",
   "execution_count": 9,
   "metadata": {},
   "outputs": [
    {
     "data": {
      "text/plain": [
       "6-element Vector{Vector{Int64}}:\n",
       " [83, 86, 17, 48]\n",
       " [61, 32]\n",
       " [21, 1]\n",
       " [84]\n",
       " []\n",
       " []"
      ]
     },
     "metadata": {},
     "output_type": "display_data"
    }
   ],
   "source": [
    "get_self_winning_numbers.(PDS1)\n"
   ]
  },
  {
   "cell_type": "markdown",
   "metadata": {},
   "source": [
    "### answer\n"
   ]
  },
  {
   "cell_type": "code",
   "execution_count": 10,
   "metadata": {},
   "outputs": [
    {
     "name": "stdout",
     "output_type": "stream",
     "text": [
      "  0.299352 seconds (887.45 k allocations: 60.304 MiB, 5.71% gc time, 99.57% compilation time)\n"
     ]
    },
    {
     "name": "stderr",
     "output_type": "stream",
     "text": [
      "\u001b[36m\u001b[1m┌ \u001b[22m\u001b[39m\u001b[36m\u001b[1mInfo: \u001b[22m\u001b[39mpart 1 sample answer\n",
      "\u001b[36m\u001b[1m└ \u001b[22m\u001b[39m  result1(PDS1) = 13\n"
     ]
    }
   ],
   "source": [
    "@time @info(\n",
    "    \"part 1 sample answer\",\n",
    "    result1(PDS1),\n",
    ")\n"
   ]
  },
  {
   "cell_type": "code",
   "execution_count": 11,
   "metadata": {},
   "outputs": [
    {
     "name": "stdout",
     "output_type": "stream",
     "text": [
      "  0.069036 seconds (149.63 k allocations: 10.102 MiB, 98.62% compilation time)\n"
     ]
    },
    {
     "name": "stderr",
     "output_type": "stream",
     "text": [
      "\u001b[36m\u001b[1m┌ \u001b[22m\u001b[39m\u001b[36m\u001b[1mInfo: \u001b[22m\u001b[39mpart 1 answer\n",
      "\u001b[36m\u001b[1m└ \u001b[22m\u001b[39m  result1(PDI) = 27845\n"
     ]
    }
   ],
   "source": [
    "@time @info(\n",
    "    \"part 1 answer\",\n",
    "    result1(PDI),\n",
    ")\n"
   ]
  },
  {
   "cell_type": "markdown",
   "metadata": {},
   "source": [
    "## part 2\n"
   ]
  },
  {
   "cell_type": "code",
   "execution_count": 12,
   "metadata": {},
   "outputs": [
    {
     "data": {
      "text/plain": [
       "6-element Vector{Int64}:\n",
       " 1\n",
       " 2\n",
       " 2\n",
       " 2\n",
       " 2\n",
       " 1"
      ]
     },
     "metadata": {},
     "output_type": "display_data"
    }
   ],
   "source": [
    "process_card!([1 for _ in PDS1], 1, PDS1[1])\n"
   ]
  },
  {
   "cell_type": "markdown",
   "metadata": {},
   "source": [
    "### answer\n"
   ]
  },
  {
   "cell_type": "code",
   "execution_count": 13,
   "metadata": {},
   "outputs": [
    {
     "name": "stdout",
     "output_type": "stream",
     "text": [
      "  0.089789 seconds (191.59 k allocations: 12.917 MiB, 98.94% compilation time)\n"
     ]
    },
    {
     "name": "stderr",
     "output_type": "stream",
     "text": [
      "\u001b[36m\u001b[1m┌ \u001b[22m\u001b[39m\u001b[36m\u001b[1mInfo: \u001b[22m\u001b[39mpart 2 sample answer\n",
      "\u001b[36m\u001b[1m└ \u001b[22m\u001b[39m  result2(PDS1) = 30\n"
     ]
    }
   ],
   "source": [
    "@time @info(\n",
    "    \"part 2 sample answer\",\n",
    "    result2(PDS1),\n",
    ")\n"
   ]
  },
  {
   "cell_type": "code",
   "execution_count": 14,
   "metadata": {},
   "outputs": [
    {
     "name": "stdout",
     "output_type": "stream",
     "text": [
      "  0.068913 seconds (149.62 k allocations: 10.098 MiB, 98.68% compilation time)\n"
     ]
    },
    {
     "name": "stderr",
     "output_type": "stream",
     "text": [
      "\u001b[36m\u001b[1m┌ \u001b[22m\u001b[39m\u001b[36m\u001b[1mInfo: \u001b[22m\u001b[39mpart 2 answer\n",
      "\u001b[36m\u001b[1m└ \u001b[22m\u001b[39m  result2(PDI) = 9496801\n"
     ]
    }
   ],
   "source": [
    "@time @info(\n",
    "    \"part 2 answer\",\n",
    "    result2(PDI),\n",
    ")\n"
   ]
  }
 ],
 "metadata": {
  "@webio": {
   "lastCommId": null,
   "lastKernelId": null
  },
  "kernelspec": {
   "display_name": "Julia 1.9.3",
   "language": "julia",
   "name": "julia-1.9"
  },
  "language_info": {
   "file_extension": ".jl",
   "mimetype": "application/julia",
   "name": "julia",
   "version": "1.9.3"
  },
  "latex_envs": {
   "LaTeX_envs_menu_present": true,
   "autoclose": false,
   "autocomplete": true,
   "bibliofile": "biblio.bib",
   "cite_by": "apalike",
   "current_citInitial": 1,
   "eqLabelWithNumbers": true,
   "eqNumInitial": 1,
   "hotkeys": {
    "equation": "Ctrl-E",
    "itemize": "Ctrl-I"
   },
   "labels_anchors": false,
   "latex_user_defs": false,
   "report_style_numbering": false,
   "user_envs_cfg": false
  },
  "toc": {
   "base_numbering": 1,
   "nav_menu": {},
   "number_sections": true,
   "sideBar": true,
   "skip_h1_title": true,
   "title_cell": "Table of Contents",
   "title_sidebar": "Contents",
   "toc_cell": true,
   "toc_position": {},
   "toc_section_display": true,
   "toc_window_display": false
  }
 },
 "nbformat": 4,
 "nbformat_minor": 4
}
