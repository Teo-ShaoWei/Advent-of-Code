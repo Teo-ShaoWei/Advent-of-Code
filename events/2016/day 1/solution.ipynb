{
 "cells": [
  {
   "cell_type": "code",
   "execution_count": 1,
   "metadata": {},
   "outputs": [
    {
     "data": {
      "text/latex": [
       "\\section{Advent of Code 2016 Day 1}\n",
       "\\href{https://adventofcode.com/2016/day/1}{Problem link}\n",
       "\n"
      ],
      "text/markdown": [
       "# Advent of Code 2016 Day 1\n",
       "\n",
       "[Problem link](https://adventofcode.com/2016/day/1)\n"
      ],
      "text/plain": [
       "\u001b[1m  Advent of Code 2016 Day 1\u001b[22m\n",
       "\u001b[1m  ≡≡≡≡≡≡≡≡≡≡≡≡≡≡≡≡≡≡≡≡≡≡≡≡≡≡≡\u001b[22m\n",
       "\n",
       "  Problem link (https://adventofcode.com/2016/day/1)"
      ]
     },
     "metadata": {},
     "output_type": "display_data"
    }
   ],
   "source": [
    "YEAR = 2016;\n",
    "DAY = 1;\n",
    "SESSION_COOKIE = \"53616c7465645f5f247aa4bb66cc604a12f273db44943b8acf6742dbc7ed3e4915998d3119ad3e8822969ca3695db15416e2361accaed6724c90e2044486f759\"\n",
    "\n",
    "using Markdown\n",
    "URL = \"https://adventofcode.com/$(YEAR)/day/$(DAY)\"\n",
    "Markdown.parse(\"\"\"\n",
    "# Advent of Code $(YEAR) Day $(DAY)\n",
    "[Problem link]($(URL))\n",
    "\"\"\")\n"
   ]
  },
  {
   "cell_type": "markdown",
   "metadata": {},
   "source": [
    "## include code file using Revise\n"
   ]
  },
  {
   "cell_type": "code",
   "execution_count": 2,
   "metadata": {},
   "outputs": [],
   "source": [
    "using Revise\n"
   ]
  },
  {
   "cell_type": "code",
   "execution_count": 3,
   "metadata": {
    "scrolled": true
   },
   "outputs": [],
   "source": [
    "includet(\"functions.jl\")\n"
   ]
  },
  {
   "cell_type": "markdown",
   "metadata": {},
   "source": [
    "## set logger\n"
   ]
  },
  {
   "cell_type": "code",
   "execution_count": 4,
   "metadata": {},
   "outputs": [
    {
     "data": {
      "text/plain": [
       "Base.CoreLogging.SimpleLogger(VSCodeServer.IJuliaCore.IJuliaStdio{Base.PipeEndpoint, typeof(VSCodeServer.io_send_callback)}(IOContext(Base.PipeEndpoint(RawFD(20) open, 0 bytes waiting)), VSCodeServer.io_send_callback), Info, Dict{Any, Int64}())"
      ]
     },
     "metadata": {},
     "output_type": "display_data"
    }
   ],
   "source": [
    "using Logging: Logging\n",
    "using TerminalLoggers: TerminalLoggers\n",
    "\n",
    "Logging.global_logger(TerminalLoggers.TerminalLogger())\n"
   ]
  },
  {
   "cell_type": "markdown",
   "metadata": {},
   "source": [
    "## read input"
   ]
  },
  {
   "cell_type": "code",
   "execution_count": 5,
   "metadata": {},
   "outputs": [],
   "source": [
    "# Run this first.\n",
    "import HTTP\n"
   ]
  },
  {
   "cell_type": "code",
   "execution_count": 6,
   "metadata": {},
   "outputs": [
    {
     "name": "stdout",
     "output_type": "stream",
     "text": [
      "url = \"https://adventofcode.com/$(YEAR)/day/$(DAY)/input\" = \"https://adventofcode.com/2016/day/1/input\"\n",
      "SESSION_COOKIE = \"53616c7465645f5f247aa4bb66cc604a12f273db44943b8acf6742dbc7ed3e4915998d3119ad3e8822969ca3695db15416e2361accaed6724c90e2044486f759\"\n",
      "\n",
      "You already have `input.txt`!\n"
     ]
    }
   ],
   "source": [
    "# Run this only when trying to download the input.txt! Do so abit later.\n",
    "\n",
    "@show url = \"https://adventofcode.com/$(YEAR)/day/$(DAY)/input\"\n",
    "@show SESSION_COOKIE\n",
    "println()\n",
    "\n",
    "if \"input.txt\" ∉ readdir()\n",
    "    response = HTTP.get(url, headers=Dict(\"Cookie\" => \"session=$(SESSION_COOKIE)\"))\n",
    "\n",
    "    if HTTP.status(response) == 200\n",
    "        write(\"input.txt\", String(response.body))\n",
    "        println(\"Downlaoded input file for $YEAR day $DAY to `input.txt`.\")\n",
    "    else\n",
    "        println(\"Download unsuccessful\")\n",
    "    end\n",
    "else\n",
    "    println(\"You already have `input.txt`!\")\n",
    "end\n"
   ]
  },
  {
   "cell_type": "code",
   "execution_count": 7,
   "metadata": {
    "scrolled": true
   },
   "outputs": [
    {
     "data": {
      "text/plain": [
       "165-element Vector{NamedTuple{(:direction, :magnitude), Tuple{Char, Int64}}}:\n",
       " (direction = 'R', magnitude = 3)\n",
       " (direction = 'R', magnitude = 1)\n",
       " (direction = 'R', magnitude = 4)\n",
       " (direction = 'L', magnitude = 4)\n",
       " (direction = 'R', magnitude = 3)\n",
       " (direction = 'R', magnitude = 1)\n",
       " (direction = 'R', magnitude = 1)\n",
       " (direction = 'L', magnitude = 3)\n",
       " (direction = 'L', magnitude = 5)\n",
       " (direction = 'L', magnitude = 5)\n",
       " ⋮\n",
       " (direction = 'L', magnitude = 2)\n",
       " (direction = 'R', magnitude = 3)\n",
       " (direction = 'R', magnitude = 3)\n",
       " (direction = 'R', magnitude = 4)\n",
       " (direction = 'R', magnitude = 4)\n",
       " (direction = 'R', magnitude = 1)\n",
       " (direction = 'L', magnitude = 4)\n",
       " (direction = 'R', magnitude = 1)\n",
       " (direction = 'L', magnitude = 5)"
      ]
     },
     "metadata": {},
     "output_type": "display_data"
    }
   ],
   "source": [
    "PDI = parse_puzzle_file(\"input.txt\")\n"
   ]
  },
  {
   "cell_type": "markdown",
   "metadata": {},
   "source": [
    "## part 1\n"
   ]
  },
  {
   "cell_type": "code",
   "execution_count": 8,
   "metadata": {},
   "outputs": [
    {
     "data": {
      "text/plain": [
       "4-element Vector{NamedTuple{(:direction, :magnitude), Tuple{Char, Int64}}}:\n",
       " (direction = 'R', magnitude = 5)\n",
       " (direction = 'L', magnitude = 5)\n",
       " (direction = 'R', magnitude = 5)\n",
       " (direction = 'R', magnitude = 3)"
      ]
     },
     "metadata": {},
     "output_type": "display_data"
    }
   ],
   "source": [
    "PDS1 = pd\"R5, L5, R5, R3\"\n"
   ]
  },
  {
   "cell_type": "code",
   "execution_count": 9,
   "metadata": {},
   "outputs": [
    {
     "data": {
      "text/plain": [
       "CI((x = 1, y = 0))"
      ]
     },
     "metadata": {},
     "output_type": "display_data"
    }
   ],
   "source": [
    "go_next_direction(CI((x = 0, y = 1)), PDS1[1])\n"
   ]
  },
  {
   "cell_type": "code",
   "execution_count": 10,
   "metadata": {},
   "outputs": [
    {
     "data": {
      "text/plain": [
       "4-element Vector{CartesianIndex{2}}:\n",
       " CI((x = 5, y = 0))\n",
       " CI((x = 0, y = 5))\n",
       " CI((x = 5, y = 0))\n",
       " CI((x = 0, y = -3))"
      ]
     },
     "metadata": {},
     "output_type": "display_data"
    }
   ],
   "source": [
    "get_directed_moves(pd\"R5, L5, R5, R3\")\n"
   ]
  },
  {
   "cell_type": "code",
   "execution_count": 11,
   "metadata": {},
   "outputs": [
    {
     "data": {
      "text/plain": [
       "5"
      ]
     },
     "metadata": {},
     "output_type": "display_data"
    }
   ],
   "source": [
    "result1(pd\"R2, L3\")\n"
   ]
  },
  {
   "cell_type": "code",
   "execution_count": 12,
   "metadata": {},
   "outputs": [
    {
     "data": {
      "text/plain": [
       "2"
      ]
     },
     "metadata": {},
     "output_type": "display_data"
    }
   ],
   "source": [
    "result1(pd\"R2, R2, R2\")\n"
   ]
  },
  {
   "cell_type": "code",
   "execution_count": 13,
   "metadata": {},
   "outputs": [
    {
     "data": {
      "text/plain": [
       "12"
      ]
     },
     "metadata": {},
     "output_type": "display_data"
    }
   ],
   "source": [
    "result1(pd\"R5, L5, R5, R3\")\n"
   ]
  },
  {
   "cell_type": "markdown",
   "metadata": {},
   "source": [
    "### answer\n"
   ]
  },
  {
   "cell_type": "code",
   "execution_count": 14,
   "metadata": {},
   "outputs": [
    {
     "name": "stdout",
     "output_type": "stream",
     "text": [
      "  0.260092 seconds (783.82 k allocations: 53.292 MiB, 2.71% gc time, 99.46% compilation time)\n"
     ]
    },
    {
     "name": "stderr",
     "output_type": "stream",
     "text": [
      "\u001b[36m\u001b[1m┌ \u001b[22m\u001b[39m\u001b[36m\u001b[1mInfo: \u001b[22m\u001b[39mpart 1 answer\n",
      "\u001b[36m\u001b[1m└ \u001b[22m\u001b[39m  result1(PDI) = 300\n"
     ]
    }
   ],
   "source": [
    "@time @info(\n",
    "    \"part 1 answer\",\n",
    "    result1(PDI),\n",
    ")\n"
   ]
  },
  {
   "cell_type": "markdown",
   "metadata": {},
   "source": [
    "## part 2\n"
   ]
  },
  {
   "cell_type": "code",
   "execution_count": 15,
   "metadata": {},
   "outputs": [
    {
     "data": {
      "text/plain": [
       "4-element Vector{NamedTuple{(:direction, :magnitude), Tuple{Char, Int64}}}:\n",
       " (direction = 'R', magnitude = 8)\n",
       " (direction = 'R', magnitude = 4)\n",
       " (direction = 'R', magnitude = 4)\n",
       " (direction = 'R', magnitude = 8)"
      ]
     },
     "metadata": {},
     "output_type": "display_data"
    }
   ],
   "source": [
    "PDS2 = pd\"R8, R4, R4, R8\"\n"
   ]
  },
  {
   "cell_type": "code",
   "execution_count": 16,
   "metadata": {},
   "outputs": [
    {
     "data": {
      "text/plain": [
       "4"
      ]
     },
     "metadata": {},
     "output_type": "display_data"
    }
   ],
   "source": [
    "result2(PDS2)\n"
   ]
  },
  {
   "cell_type": "markdown",
   "metadata": {},
   "source": [
    "### answer\n"
   ]
  },
  {
   "cell_type": "code",
   "execution_count": 17,
   "metadata": {},
   "outputs": [
    {
     "name": "stdout",
     "output_type": "stream",
     "text": [
      "  0.075618 seconds (158.47 k allocations: 10.728 MiB, 98.74% compilation time)\n"
     ]
    },
    {
     "name": "stderr",
     "output_type": "stream",
     "text": [
      "\u001b[36m\u001b[1m┌ \u001b[22m\u001b[39m\u001b[36m\u001b[1mInfo: \u001b[22m\u001b[39mpart 2 answer\n",
      "\u001b[36m\u001b[1m│ \u001b[22m\u001b[39m  result2(PDS2) = 4\n",
      "\u001b[36m\u001b[1m└ \u001b[22m\u001b[39m  result2(PDI) = 159\n"
     ]
    }
   ],
   "source": [
    "@time @info(\n",
    "    \"part 2 answer\",\n",
    "    result2(PDS2),\n",
    "    result2(PDI),\n",
    ")\n"
   ]
  }
 ],
 "metadata": {
  "@webio": {
   "lastCommId": null,
   "lastKernelId": null
  },
  "kernelspec": {
   "display_name": "Julia 1.9.3",
   "language": "julia",
   "name": "julia-1.9"
  },
  "language_info": {
   "file_extension": ".jl",
   "mimetype": "application/julia",
   "name": "julia",
   "version": "1.9.3"
  },
  "latex_envs": {
   "LaTeX_envs_menu_present": true,
   "autoclose": false,
   "autocomplete": true,
   "bibliofile": "biblio.bib",
   "cite_by": "apalike",
   "current_citInitial": 1,
   "eqLabelWithNumbers": true,
   "eqNumInitial": 1,
   "hotkeys": {
    "equation": "Ctrl-E",
    "itemize": "Ctrl-I"
   },
   "labels_anchors": false,
   "latex_user_defs": false,
   "report_style_numbering": false,
   "user_envs_cfg": false
  },
  "toc": {
   "base_numbering": 1,
   "nav_menu": {},
   "number_sections": true,
   "sideBar": true,
   "skip_h1_title": true,
   "title_cell": "Table of Contents",
   "title_sidebar": "Contents",
   "toc_cell": true,
   "toc_position": {},
   "toc_section_display": true,
   "toc_window_display": false
  }
 },
 "nbformat": 4,
 "nbformat_minor": 4
}
