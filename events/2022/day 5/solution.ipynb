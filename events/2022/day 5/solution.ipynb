{
 "cells": [
  {
   "cell_type": "markdown",
   "metadata": {},
   "source": [
    "# Advent of Code 2022 Day 5\n",
    "[link](https://adventofcode.com/2022/day/5)"
   ]
  },
  {
   "cell_type": "markdown",
   "metadata": {},
   "source": [
    "## include code file using Revise"
   ]
  },
  {
   "cell_type": "code",
   "execution_count": 1,
   "metadata": {},
   "outputs": [],
   "source": [
    "using Revise"
   ]
  },
  {
   "cell_type": "code",
   "execution_count": 2,
   "metadata": {
    "scrolled": true
   },
   "outputs": [],
   "source": [
    "includet(\"functions.jl\")"
   ]
  },
  {
   "cell_type": "markdown",
   "metadata": {},
   "source": [
    "## set logger"
   ]
  },
  {
   "cell_type": "code",
   "execution_count": 3,
   "metadata": {},
   "outputs": [
    {
     "data": {
      "text/plain": [
       "Base.CoreLogging.SimpleLogger(IJulia.IJuliaStdio{Base.PipeEndpoint}(IOContext(Base.PipeEndpoint(RawFD(46) open, 0 bytes waiting))), Info, Dict{Any, Int64}())"
      ]
     },
     "execution_count": 3,
     "metadata": {},
     "output_type": "execute_result"
    }
   ],
   "source": [
    "import Logging\n",
    "import TerminalLoggers\n",
    "\n",
    "Logging.global_logger(TerminalLoggers.TerminalLogger())"
   ]
  },
  {
   "cell_type": "markdown",
   "metadata": {},
   "source": [
    "## read input"
   ]
  },
  {
   "cell_type": "code",
   "execution_count": 4,
   "metadata": {},
   "outputs": [
    {
     "data": {
      "text/plain": [
       "3-element Vector{Vector{Char}}:\n",
       " ['Z', 'N']\n",
       " ['M', 'C', 'D']\n",
       " ['P']"
      ]
     },
     "execution_count": 4,
     "metadata": {},
     "output_type": "execute_result"
    }
   ],
   "source": [
    "parse_containers(chomp(\n",
    "\"\"\"\n",
    "    [D]    \n",
    "[N] [C]    \n",
    "[Z] [M] [P]\n",
    " 1   2   3\n",
    "\"\"\"\n",
    "))"
   ]
  },
  {
   "cell_type": "code",
   "execution_count": 5,
   "metadata": {
    "tags": []
   },
   "outputs": [
    {
     "data": {
      "text/plain": [
       "3-element Vector{Vector{Char}}:\n",
       " ['Z', 'N']\n",
       " ['M', 'C', 'D']\n",
       " ['P']"
      ]
     },
     "metadata": {},
     "output_type": "display_data"
    },
    {
     "data": {
      "text/plain": [
       "4-element Vector{NamedTuple{(:count, :src, :tgt), Tuple{Int64, Int64, Int64}}}:\n",
       " (count = 1, src = 2, tgt = 1)\n",
       " (count = 3, src = 1, tgt = 3)\n",
       " (count = 2, src = 2, tgt = 1)\n",
       " (count = 1, src = 1, tgt = 2)"
      ]
     },
     "metadata": {},
     "output_type": "display_data"
    }
   ],
   "source": [
    "PDS1 = pd\"\"\"\n",
    "    [D]    \n",
    "[N] [C]    \n",
    "[Z] [M] [P]\n",
    " 1   2   3\n",
    "\n",
    "move 1 from 2 to 1\n",
    "move 3 from 1 to 3\n",
    "move 2 from 2 to 1\n",
    "move 1 from 1 to 2\n",
    "\"\"\"\n",
    "\n",
    "PDS1[1] |> display\n",
    "PDS1[2] |> display"
   ]
  },
  {
   "cell_type": "code",
   "execution_count": 6,
   "metadata": {
    "scrolled": true
   },
   "outputs": [
    {
     "data": {
      "text/plain": [
       "9-element Vector{Vector{Char}}:\n",
       " ['D', 'B', 'J', 'V']\n",
       " ['P', 'V', 'B', 'W', 'R', 'D', 'F']\n",
       " ['R', 'G', 'F', 'L', 'D', 'C', 'W', 'Q']\n",
       " ['W', 'J', 'P', 'M', 'L', 'N', 'D', 'B']\n",
       " ['H', 'N', 'B', 'P', 'C', 'S', 'Q']\n",
       " ['R', 'D', 'B', 'S', 'N', 'G']\n",
       " ['Z', 'B', 'P', 'M', 'Q', 'F', 'S', 'H']\n",
       " ['W', 'L', 'F']\n",
       " ['S', 'V', 'F', 'M', 'R']"
      ]
     },
     "metadata": {},
     "output_type": "display_data"
    },
    {
     "data": {
      "text/plain": [
       "502-element Vector{NamedTuple{(:count, :src, :tgt), Tuple{Int64, Int64, Int64}}}:\n",
       " (count = 1, src = 4, tgt = 1)\n",
       " (count = 2, src = 4, tgt = 8)\n",
       " (count = 5, src = 9, tgt = 6)\n",
       " (count = 1, src = 1, tgt = 3)\n",
       " (count = 5, src = 8, tgt = 3)\n",
       " (count = 1, src = 1, tgt = 5)\n",
       " (count = 4, src = 3, tgt = 6)\n",
       " (count = 14, src = 6, tgt = 2)\n",
       " (count = 5, src = 4, tgt = 5)\n",
       " (count = 7, src = 7, tgt = 2)\n",
       " (count = 24, src = 2, tgt = 3)\n",
       " (count = 13, src = 3, tgt = 2)\n",
       " (count = 1, src = 7, tgt = 9)\n",
       " ⋮\n",
       " (count = 9, src = 4, tgt = 9)\n",
       " (count = 1, src = 7, tgt = 9)\n",
       " (count = 8, src = 8, tgt = 3)\n",
       " (count = 3, src = 6, tgt = 7)\n",
       " (count = 1, src = 1, tgt = 2)\n",
       " (count = 4, src = 7, tgt = 6)\n",
       " (count = 7, src = 8, tgt = 5)\n",
       " (count = 1, src = 8, tgt = 4)\n",
       " (count = 2, src = 5, tgt = 7)\n",
       " (count = 1, src = 2, tgt = 4)\n",
       " (count = 5, src = 6, tgt = 1)\n",
       " (count = 4, src = 3, tgt = 2)"
      ]
     },
     "metadata": {},
     "output_type": "display_data"
    }
   ],
   "source": [
    "PDI = parse_puzzle_file(\"input.txt\")\n",
    "\n",
    "PDI[1] |> display\n",
    "PDI[2] |> display"
   ]
  },
  {
   "cell_type": "markdown",
   "metadata": {},
   "source": [
    "## part 1"
   ]
  },
  {
   "cell_type": "markdown",
   "metadata": {},
   "source": [
    "### answer"
   ]
  },
  {
   "cell_type": "code",
   "execution_count": 7,
   "metadata": {
    "tags": []
   },
   "outputs": [
    {
     "name": "stdout",
     "output_type": "stream",
     "text": [
      "  0.385714 seconds (2.67 M allocations: 134.146 MiB, 5.49% gc time, 99.61% compilation time)\n"
     ]
    },
    {
     "name": "stderr",
     "output_type": "stream",
     "text": [
      "\u001b[36m\u001b[1m┌ \u001b[22m\u001b[39m\u001b[36m\u001b[1mInfo: \u001b[22m\u001b[39mpart 1 answer\n",
      "\u001b[36m\u001b[1m│ \u001b[22m\u001b[39m  result1(PDS1) = \"CMZ\"\n",
      "\u001b[36m\u001b[1m└ \u001b[22m\u001b[39m  result1(PDI) = \"BSDMQFLSP\"\n"
     ]
    }
   ],
   "source": [
    "@time @info(\n",
    "    \"part 1 answer\",\n",
    "    result1(PDS1),\n",
    "    result1(PDI),\n",
    ")"
   ]
  },
  {
   "cell_type": "markdown",
   "metadata": {},
   "source": [
    "## part 2"
   ]
  },
  {
   "cell_type": "markdown",
   "metadata": {},
   "source": [
    "### answer"
   ]
  },
  {
   "cell_type": "code",
   "execution_count": 8,
   "metadata": {},
   "outputs": [
    {
     "name": "stdout",
     "output_type": "stream",
     "text": [
      "  0.087421 seconds (454.99 k allocations: 22.925 MiB, 7.74% gc time, 99.13% compilation time)\n"
     ]
    },
    {
     "name": "stderr",
     "output_type": "stream",
     "text": [
      "\u001b[36m\u001b[1m┌ \u001b[22m\u001b[39m\u001b[36m\u001b[1mInfo: \u001b[22m\u001b[39mpart 2 answer\n",
      "\u001b[36m\u001b[1m│ \u001b[22m\u001b[39m  result2(PDS1) = \"MCD\"\n",
      "\u001b[36m\u001b[1m└ \u001b[22m\u001b[39m  result2(PDI) = \"PGSQBFLDP\"\n"
     ]
    }
   ],
   "source": [
    "@time @info(\n",
    "    \"part 2 answer\",\n",
    "    result2(PDS1),\n",
    "    result2(PDI),\n",
    ")"
   ]
  }
 ],
 "metadata": {
  "@webio": {
   "lastCommId": null,
   "lastKernelId": null
  },
  "kernelspec": {
   "display_name": "Julia 1.8.2",
   "language": "julia",
   "name": "julia-1.8"
  },
  "language_info": {
   "file_extension": ".jl",
   "mimetype": "application/julia",
   "name": "julia",
   "version": "1.8.2"
  },
  "latex_envs": {
   "LaTeX_envs_menu_present": true,
   "autoclose": false,
   "autocomplete": true,
   "bibliofile": "biblio.bib",
   "cite_by": "apalike",
   "current_citInitial": 1,
   "eqLabelWithNumbers": true,
   "eqNumInitial": 1,
   "hotkeys": {
    "equation": "Ctrl-E",
    "itemize": "Ctrl-I"
   },
   "labels_anchors": false,
   "latex_user_defs": false,
   "report_style_numbering": false,
   "user_envs_cfg": false
  },
  "toc": {
   "base_numbering": 1,
   "nav_menu": {},
   "number_sections": true,
   "sideBar": true,
   "skip_h1_title": true,
   "title_cell": "Table of Contents",
   "title_sidebar": "Contents",
   "toc_cell": true,
   "toc_position": {},
   "toc_section_display": true,
   "toc_window_display": false
  }
 },
 "nbformat": 4,
 "nbformat_minor": 4
}
