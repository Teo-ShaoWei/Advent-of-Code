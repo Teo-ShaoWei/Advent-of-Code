{
 "cells": [
  {
   "cell_type": "markdown",
   "metadata": {},
   "source": [
    "# Advent of Code 2022 Day 24\n",
    "[link](https://adventofcode.com/2022/day/24)"
   ]
  },
  {
   "cell_type": "markdown",
   "metadata": {},
   "source": [
    "## include code file using Revise"
   ]
  },
  {
   "cell_type": "code",
   "execution_count": 1,
   "metadata": {},
   "outputs": [],
   "source": [
    "using Revise"
   ]
  },
  {
   "cell_type": "code",
   "execution_count": 2,
   "metadata": {
    "scrolled": true
   },
   "outputs": [],
   "source": [
    "includet(\"functions.jl\")"
   ]
  },
  {
   "cell_type": "markdown",
   "metadata": {},
   "source": [
    "## set logger"
   ]
  },
  {
   "cell_type": "code",
   "execution_count": 3,
   "metadata": {},
   "outputs": [
    {
     "data": {
      "text/plain": [
       "Base.CoreLogging.SimpleLogger(IJulia.IJuliaStdio{Base.PipeEndpoint}(IOContext(Base.PipeEndpoint(RawFD(46) open, 0 bytes waiting))), Info, Dict{Any, Int64}())"
      ]
     },
     "execution_count": 3,
     "metadata": {},
     "output_type": "execute_result"
    }
   ],
   "source": [
    "import Logging\n",
    "import TerminalLoggers\n",
    "\n",
    "Logging.global_logger(TerminalLoggers.TerminalLogger())"
   ]
  },
  {
   "cell_type": "markdown",
   "metadata": {},
   "source": [
    "## read input"
   ]
  },
  {
   "cell_type": "code",
   "execution_count": 4,
   "metadata": {
    "scrolled": true
   },
   "outputs": [
    {
     "data": {
      "text/plain": [
       "(blizzards = (r = [[[1, 2], [], [1, 4, 6], [6]], [[2, 3], [], [2, 5, 1], [1]], [[3, 4], [], [3, 6, 2], [2]], [[4, 5], [], [4, 1, 3], [3]], [[5, 6], [], [5, 2, 4], [4]], [[6, 1], [], [6, 3, 5], [5]]], d = [[[], [3], [4], [], [], []], [[], [4], [1], [], [], []], [[], [1], [2], [], [], []], [[], [2], [3], [], [], []]], l = [[[4, 6], [2, 5, 6], [5], [1]], [[3, 5], [1, 4, 5], [4], [6]], [[2, 4], [6, 3, 4], [3], [5]], [[1, 3], [5, 2, 3], [2], [4]], [[6, 2], [4, 1, 2], [1], [3]], [[5, 1], [3, 6, 1], [6], [2]]], u = [[[], [4], [], [4], [1, 4], []], [[], [3], [], [3], [4, 3], []], [[], [2], [], [2], [3, 2], []], [[], [1], [], [1], [2, 1], []]]), maze_size = (4, 6))"
      ]
     },
     "execution_count": 4,
     "metadata": {},
     "output_type": "execute_result"
    }
   ],
   "source": [
    "PDS1 = parse_puzzle_file(\"sample1.txt\")"
   ]
  },
  {
   "cell_type": "code",
   "execution_count": 5,
   "metadata": {},
   "outputs": [
    {
     "data": {
      "text/plain": [
       "6-element Vector{Vector{Int64}}:\n",
       " []\n",
       " [3]\n",
       " []\n",
       " [3]\n",
       " [4, 3]\n",
       " []"
      ]
     },
     "execution_count": 5,
     "metadata": {},
     "output_type": "execute_result"
    }
   ],
   "source": [
    "PDS1.blizzards.u[1]"
   ]
  },
  {
   "cell_type": "code",
   "execution_count": 6,
   "metadata": {
    "scrolled": true
   },
   "outputs": [],
   "source": [
    "PDI = parse_puzzle_file(\"input.txt\");"
   ]
  },
  {
   "cell_type": "markdown",
   "metadata": {},
   "source": [
    "## part 1"
   ]
  },
  {
   "cell_type": "code",
   "execution_count": 7,
   "metadata": {},
   "outputs": [
    {
     "data": {
      "text/plain": [
       "3-element Vector{CartesianIndex{2}}:\n",
       " CI(4, 6)\n",
       " CI(3, 6)\n",
       " CI(4, 5)"
      ]
     },
     "execution_count": 7,
     "metadata": {},
     "output_type": "execute_result"
    }
   ],
   "source": [
    "get_neighbours(CI(4, 6), (4, 6))"
   ]
  },
  {
   "cell_type": "code",
   "execution_count": 8,
   "metadata": {},
   "outputs": [
    {
     "data": {
      "text/plain": [
       "(seen = Dict{NamedTuple{(:ci, :row_cycle, :col_cycle), Tuple{CartesianIndex{2}, Mod{4, Int64}, Mod{6, Int64}}}, Int64}((ci = CI(2, 1), row_cycle = Mod{4}(2), col_cycle = Mod{6}(2)) => 2, (ci = CI(1, 1), row_cycle = Mod{4}(2), col_cycle = Mod{6}(4)) => 10, (ci = CI(4, 6), row_cycle = Mod{4}(1), col_cycle = Mod{6}(5)) => 17, (ci = CI(2, 3), row_cycle = Mod{4}(3), col_cycle = Mod{6}(1)) => 7, (ci = CI(1, 4), row_cycle = Mod{4}(1), col_cycle = Mod{6}(1)) => 13, (ci = CI(3, 3), row_cycle = Mod{4}(1), col_cycle = Mod{6}(1)) => 13, (ci = CI(1, 3), row_cycle = Mod{4}(3), col_cycle = Mod{6}(5)) => 11, (ci = CI(1, 2), row_cycle = Mod{4}(1), col_cycle = Mod{6}(3)) => 9, (ci = CI(1, 1), row_cycle = Mod{4}(2), col_cycle = Mod{6}(2)) => 2, (ci = CI(1, 1), row_cycle = Mod{4}(0), col_cycle = Mod{6}(4)) => 4…), final_state = (ci = CI(4, 6), row_cycle = Mod{4}(1), col_cycle = Mod{6}(5)))"
      ]
     },
     "execution_count": 8,
     "metadata": {},
     "output_type": "execute_result"
    }
   ],
   "source": [
    "BP = find_best_path(PDS1)"
   ]
  },
  {
   "cell_type": "code",
   "execution_count": 9,
   "metadata": {},
   "outputs": [
    {
     "data": {
      "text/plain": [
       "17"
      ]
     },
     "execution_count": 9,
     "metadata": {},
     "output_type": "execute_result"
    }
   ],
   "source": [
    "BP.seen[(ci = CI(4, 6), row_cycle = Mod{4}(1), col_cycle = Mod{6}(5))]"
   ]
  },
  {
   "cell_type": "markdown",
   "metadata": {},
   "source": [
    "### answer"
   ]
  },
  {
   "cell_type": "code",
   "execution_count": 10,
   "metadata": {},
   "outputs": [
    {
     "name": "stdout",
     "output_type": "stream",
     "text": [
      "  1.193648 seconds (13.07 M allocations: 573.465 MiB, 4.60% gc time, 37.07% compilation time: 5% of which was recompilation)\n"
     ]
    },
    {
     "name": "stderr",
     "output_type": "stream",
     "text": [
      "\u001b[36m\u001b[1m┌ \u001b[22m\u001b[39m\u001b[36m\u001b[1mInfo: \u001b[22m\u001b[39mpart 1 answer\n",
      "\u001b[36m\u001b[1m│ \u001b[22m\u001b[39m  result1(PDS1) = 18\n",
      "\u001b[36m\u001b[1m└ \u001b[22m\u001b[39m  result1(PDI) = 253\n"
     ]
    }
   ],
   "source": [
    "@time @info(\n",
    "    \"part 1 answer\",\n",
    "    result1(PDS1),\n",
    "    result1(PDI),\n",
    ")"
   ]
  },
  {
   "cell_type": "markdown",
   "metadata": {},
   "source": [
    "## part 2"
   ]
  },
  {
   "cell_type": "code",
   "execution_count": 11,
   "metadata": {},
   "outputs": [
    {
     "data": {
      "text/plain": [
       "2-element Vector{CartesianIndex{2}}:\n",
       " CI(4, 6)\n",
       " CI(5, 6)"
      ]
     },
     "execution_count": 11,
     "metadata": {},
     "output_type": "execute_result"
    }
   ],
   "source": [
    "get_neighbours(CI(5, 6), (4, 6))"
   ]
  },
  {
   "cell_type": "markdown",
   "metadata": {},
   "source": [
    "### answer"
   ]
  },
  {
   "cell_type": "code",
   "execution_count": 12,
   "metadata": {},
   "outputs": [
    {
     "data": {
      "text/plain": [
       "(seen = Dict{NamedTuple{(:ci, :row_cycle, :col_cycle, :trip_portion), Tuple{CartesianIndex{2}, Mod{4, Int64}, Mod{6, Int64}, Int64}}, Int64}((ci = CI(2, 1), row_cycle = Mod{4}(0), col_cycle = Mod{6}(2), trip_portion = 1) => 20, (ci = CI(0, 1), row_cycle = Mod{4}(1), col_cycle = Mod{6}(1), trip_portion = 3) => 49, (ci = CI(4, 2), row_cycle = Mod{4}(2), col_cycle = Mod{6}(0), trip_portion = 2) => 42, (ci = CI(1, 1), row_cycle = Mod{4}(2), col_cycle = Mod{6}(2), trip_portion = 1) => 2, (ci = CI(2, 4), row_cycle = Mod{4}(0), col_cycle = Mod{6}(0), trip_portion = 2) => 36, (ci = CI(3, 1), row_cycle = Mod{4}(1), col_cycle = Mod{6}(5), trip_portion = 2) => 41, (ci = CI(1, 6), row_cycle = Mod{4}(3), col_cycle = Mod{6}(3), trip_portion = 1) => 15, (ci = CI(2, 1), row_cycle = Mod{4}(1), col_cycle = Mod{6}(3), trip_portion = 3) => 45, (ci = CI(2, 1), row_cycle = Mod{4}(1), col_cycle = Mod{6}(3), trip_portion = 2) => 45, (ci = CI(2, 2), row_cycle = Mod{4}(1), col_cycle = Mod{6}(5), trip_portion = 1) => 17…), final_state = (ci = CI(5, 6), row_cycle = Mod{4}(2), col_cycle = Mod{6}(0), trip_portion = 4))"
      ]
     },
     "execution_count": 12,
     "metadata": {},
     "output_type": "execute_result"
    }
   ],
   "source": [
    "BP = find_best_tft_path(PDS1)"
   ]
  },
  {
   "cell_type": "code",
   "execution_count": 13,
   "metadata": {},
   "outputs": [
    {
     "data": {
      "text/plain": [
       "600"
      ]
     },
     "execution_count": 13,
     "metadata": {},
     "output_type": "execute_result"
    }
   ],
   "source": [
    "lcm(PDI.maze_size...)"
   ]
  },
  {
   "cell_type": "code",
   "execution_count": 14,
   "metadata": {},
   "outputs": [
    {
     "data": {
      "text/plain": [
       "1800000"
      ]
     },
     "execution_count": 14,
     "metadata": {},
     "output_type": "execute_result"
    }
   ],
   "source": [
    "lcm(PDI.maze_size...) * prod(PDI.maze_size)"
   ]
  },
  {
   "cell_type": "code",
   "execution_count": 15,
   "metadata": {},
   "outputs": [
    {
     "data": {
      "text/plain": [
       "54"
      ]
     },
     "execution_count": 15,
     "metadata": {},
     "output_type": "execute_result"
    }
   ],
   "source": [
    "result2(PDS1)"
   ]
  },
  {
   "cell_type": "code",
   "execution_count": 16,
   "metadata": {},
   "outputs": [
    {
     "name": "stdout",
     "output_type": "stream",
     "text": [
      " 11.201036 seconds (150.52 M allocations: 5.783 GiB, 3.94% gc time, 1.97% compilation time)\n"
     ]
    },
    {
     "name": "stderr",
     "output_type": "stream",
     "text": [
      "\u001b[36m\u001b[1m┌ \u001b[22m\u001b[39m\u001b[36m\u001b[1mInfo: \u001b[22m\u001b[39mpart 2 answer\n",
      "\u001b[36m\u001b[1m│ \u001b[22m\u001b[39m  result2(PDS1) = 54\n",
      "\u001b[36m\u001b[1m└ \u001b[22m\u001b[39m  result2(PDI) = 794\n"
     ]
    }
   ],
   "source": [
    "@time @info(\n",
    "    \"part 2 answer\",\n",
    "    result2(PDS1),\n",
    "    result2(PDI),\n",
    ")"
   ]
  }
 ],
 "metadata": {
  "@webio": {
   "lastCommId": null,
   "lastKernelId": null
  },
  "kernelspec": {
   "display_name": "Julia 1.8.2",
   "language": "julia",
   "name": "julia-1.8"
  },
  "language_info": {
   "file_extension": ".jl",
   "mimetype": "application/julia",
   "name": "julia",
   "version": "1.8.2"
  },
  "latex_envs": {
   "LaTeX_envs_menu_present": true,
   "autoclose": false,
   "autocomplete": true,
   "bibliofile": "biblio.bib",
   "cite_by": "apalike",
   "current_citInitial": 1,
   "eqLabelWithNumbers": true,
   "eqNumInitial": 1,
   "hotkeys": {
    "equation": "Ctrl-E",
    "itemize": "Ctrl-I"
   },
   "labels_anchors": false,
   "latex_user_defs": false,
   "report_style_numbering": false,
   "user_envs_cfg": false
  },
  "toc": {
   "base_numbering": 1,
   "nav_menu": {},
   "number_sections": true,
   "sideBar": true,
   "skip_h1_title": true,
   "title_cell": "Table of Contents",
   "title_sidebar": "Contents",
   "toc_cell": true,
   "toc_position": {},
   "toc_section_display": true,
   "toc_window_display": false
  }
 },
 "nbformat": 4,
 "nbformat_minor": 4
}
