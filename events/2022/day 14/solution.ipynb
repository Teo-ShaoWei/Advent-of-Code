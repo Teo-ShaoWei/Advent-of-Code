{
 "cells": [
  {
   "cell_type": "markdown",
   "metadata": {},
   "source": [
    "# Advent of Code 2022 Day 14\n",
    "[link](https://adventofcode.com/2022/day/14)"
   ]
  },
  {
   "cell_type": "markdown",
   "metadata": {
    "tags": []
   },
   "source": [
    "## include code file using Revise"
   ]
  },
  {
   "cell_type": "code",
   "execution_count": 1,
   "metadata": {},
   "outputs": [],
   "source": [
    "using Revise"
   ]
  },
  {
   "cell_type": "code",
   "execution_count": 2,
   "metadata": {
    "scrolled": true
   },
   "outputs": [],
   "source": [
    "includet(\"functions.jl\")"
   ]
  },
  {
   "cell_type": "markdown",
   "metadata": {},
   "source": [
    "## set logger"
   ]
  },
  {
   "cell_type": "code",
   "execution_count": 3,
   "metadata": {},
   "outputs": [
    {
     "data": {
      "text/plain": [
       "Base.CoreLogging.SimpleLogger(IJulia.IJuliaStdio{Base.PipeEndpoint}(IOContext(Base.PipeEndpoint(RawFD(46) open, 0 bytes waiting))), Info, Dict{Any, Int64}())"
      ]
     },
     "execution_count": 3,
     "metadata": {},
     "output_type": "execute_result"
    }
   ],
   "source": [
    "import Logging\n",
    "import TerminalLoggers\n",
    "\n",
    "Logging.global_logger(TerminalLoggers.TerminalLogger())"
   ]
  },
  {
   "cell_type": "markdown",
   "metadata": {},
   "source": [
    "## read input"
   ]
  },
  {
   "cell_type": "code",
   "execution_count": 4,
   "metadata": {
    "scrolled": true
   },
   "outputs": [
    {
     "data": {
      "text/plain": [
       "2-element Vector{Vector{CartesianIndex{2}}}:\n",
       " [CI((x = 4, y = 498)), CI((x = 6, y = 498)), CI((x = 6, y = 496))]\n",
       " [CI((x = 4, y = 503)), CI((x = 4, y = 502)), CI((x = 9, y = 502)), CI((x = 9, y = 494))]"
      ]
     },
     "execution_count": 4,
     "metadata": {},
     "output_type": "execute_result"
    }
   ],
   "source": [
    "PDS1 = parse_puzzle_file(\"sample1.txt\")"
   ]
  },
  {
   "cell_type": "code",
   "execution_count": 5,
   "metadata": {
    "scrolled": true
   },
   "outputs": [
    {
     "data": {
      "text/plain": [
       "148-element Vector{Vector{CartesianIndex{2}}}:\n",
       " [CI((x = 132, y = 494)), CI((x = 134, y = 494)), CI((x = 134, y = 487)), CI((x = 139, y = 487)), CI((x = 139, y = 502)), CI((x = 134, y = 502)), CI((x = 134, y = 499)), CI((x = 132, y = 499))]\n",
       " [CI((x = 82, y = 509)), CI((x = 82, y = 514))]\n",
       " [CI((x = 113, y = 511)), CI((x = 116, y = 511)), CI((x = 116, y = 509)), CI((x = 120, y = 509)), CI((x = 120, y = 522)), CI((x = 116, y = 522)), CI((x = 116, y = 516)), CI((x = 113, y = 516))]\n",
       " [CI((x = 36, y = 493)), CI((x = 33, y = 493)), CI((x = 36, y = 493)), CI((x = 36, y = 495)), CI((x = 35, y = 495)), CI((x = 36, y = 495)), CI((x = 36, y = 497)), CI((x = 33, y = 497)), CI((x = 36, y = 497)), CI((x = 36, y = 499)), CI((x = 35, y = 499)), CI((x = 36, y = 499)), CI((x = 36, y = 501)), CI((x = 34, y = 501)), CI((x = 36, y = 501)), CI((x = 36, y = 503)), CI((x = 34, y = 503)), CI((x = 36, y = 503)), CI((x = 36, y = 505)), CI((x = 26, y = 505)), CI((x = 36, y = 505)), CI((x = 36, y = 507)), CI((x = 31, y = 507)), CI((x = 36, y = 507)), CI((x = 36, y = 509)), CI((x = 33, y = 509)), CI((x = 36, y = 509))]\n",
       " [CI((x = 101, y = 527)), CI((x = 99, y = 527)), CI((x = 101, y = 527)), CI((x = 101, y = 529)), CI((x = 98, y = 529)), CI((x = 101, y = 529)), CI((x = 101, y = 531)), CI((x = 92, y = 531)), CI((x = 101, y = 531)), CI((x = 101, y = 533)), CI((x = 91, y = 533)), CI((x = 101, y = 533)), CI((x = 101, y = 535)), CI((x = 99, y = 535)), CI((x = 101, y = 535)), CI((x = 101, y = 537)), CI((x = 100, y = 537)), CI((x = 101, y = 537)), CI((x = 101, y = 539)), CI((x = 93, y = 539)), CI((x = 101, y = 539))]\n",
       " [CI((x = 36, y = 493)), CI((x = 33, y = 493)), CI((x = 36, y = 493)), CI((x = 36, y = 495)), CI((x = 35, y = 495)), CI((x = 36, y = 495)), CI((x = 36, y = 497)), CI((x = 33, y = 497)), CI((x = 36, y = 497)), CI((x = 36, y = 499)), CI((x = 35, y = 499)), CI((x = 36, y = 499)), CI((x = 36, y = 501)), CI((x = 34, y = 501)), CI((x = 36, y = 501)), CI((x = 36, y = 503)), CI((x = 34, y = 503)), CI((x = 36, y = 503)), CI((x = 36, y = 505)), CI((x = 26, y = 505)), CI((x = 36, y = 505)), CI((x = 36, y = 507)), CI((x = 31, y = 507)), CI((x = 36, y = 507)), CI((x = 36, y = 509)), CI((x = 33, y = 509)), CI((x = 36, y = 509))]\n",
       " [CI((x = 65, y = 510)), CI((x = 57, y = 510)), CI((x = 65, y = 510)), CI((x = 65, y = 512)), CI((x = 63, y = 512)), CI((x = 65, y = 512)), CI((x = 65, y = 514)), CI((x = 64, y = 514)), CI((x = 65, y = 514))]\n",
       " [CI((x = 39, y = 490)), CI((x = 42, y = 490)), CI((x = 42, y = 483)), CI((x = 49, y = 483)), CI((x = 49, y = 503)), CI((x = 42, y = 503)), CI((x = 42, y = 495)), CI((x = 39, y = 495))]\n",
       " [CI((x = 101, y = 527)), CI((x = 99, y = 527)), CI((x = 101, y = 527)), CI((x = 101, y = 529)), CI((x = 98, y = 529)), CI((x = 101, y = 529)), CI((x = 101, y = 531)), CI((x = 92, y = 531)), CI((x = 101, y = 531)), CI((x = 101, y = 533)), CI((x = 91, y = 533)), CI((x = 101, y = 533)), CI((x = 101, y = 535)), CI((x = 99, y = 535)), CI((x = 101, y = 535)), CI((x = 101, y = 537)), CI((x = 100, y = 537)), CI((x = 101, y = 537)), CI((x = 101, y = 539)), CI((x = 93, y = 539)), CI((x = 101, y = 539))]\n",
       " [CI((x = 150, y = 526)), CI((x = 150, y = 530))]\n",
       " [CI((x = 36, y = 493)), CI((x = 33, y = 493)), CI((x = 36, y = 493)), CI((x = 36, y = 495)), CI((x = 35, y = 495)), CI((x = 36, y = 495)), CI((x = 36, y = 497)), CI((x = 33, y = 497)), CI((x = 36, y = 497)), CI((x = 36, y = 499)), CI((x = 35, y = 499)), CI((x = 36, y = 499)), CI((x = 36, y = 501)), CI((x = 34, y = 501)), CI((x = 36, y = 501)), CI((x = 36, y = 503)), CI((x = 34, y = 503)), CI((x = 36, y = 503)), CI((x = 36, y = 505)), CI((x = 26, y = 505)), CI((x = 36, y = 505)), CI((x = 36, y = 507)), CI((x = 31, y = 507)), CI((x = 36, y = 507)), CI((x = 36, y = 509)), CI((x = 33, y = 509)), CI((x = 36, y = 509))]\n",
       " [CI((x = 127, y = 512)), CI((x = 127, y = 516))]\n",
       " [CI((x = 132, y = 494)), CI((x = 134, y = 494)), CI((x = 134, y = 487)), CI((x = 139, y = 487)), CI((x = 139, y = 502)), CI((x = 134, y = 502)), CI((x = 134, y = 499)), CI((x = 132, y = 499))]\n",
       " ⋮\n",
       " [CI((x = 65, y = 510)), CI((x = 57, y = 510)), CI((x = 65, y = 510)), CI((x = 65, y = 512)), CI((x = 63, y = 512)), CI((x = 65, y = 512)), CI((x = 65, y = 514)), CI((x = 64, y = 514)), CI((x = 65, y = 514))]\n",
       " [CI((x = 129, y = 497)), CI((x = 129, y = 501))]\n",
       " [CI((x = 101, y = 527)), CI((x = 99, y = 527)), CI((x = 101, y = 527)), CI((x = 101, y = 529)), CI((x = 98, y = 529)), CI((x = 101, y = 529)), CI((x = 101, y = 531)), CI((x = 92, y = 531)), CI((x = 101, y = 531)), CI((x = 101, y = 533)), CI((x = 91, y = 533)), CI((x = 101, y = 533)), CI((x = 101, y = 535)), CI((x = 99, y = 535)), CI((x = 101, y = 535)), CI((x = 101, y = 537)), CI((x = 100, y = 537)), CI((x = 101, y = 537)), CI((x = 101, y = 539)), CI((x = 93, y = 539)), CI((x = 101, y = 539))]\n",
       " [CI((x = 150, y = 532)), CI((x = 150, y = 536))]\n",
       " [CI((x = 36, y = 493)), CI((x = 33, y = 493)), CI((x = 36, y = 493)), CI((x = 36, y = 495)), CI((x = 35, y = 495)), CI((x = 36, y = 495)), CI((x = 36, y = 497)), CI((x = 33, y = 497)), CI((x = 36, y = 497)), CI((x = 36, y = 499)), CI((x = 35, y = 499)), CI((x = 36, y = 499)), CI((x = 36, y = 501)), CI((x = 34, y = 501)), CI((x = 36, y = 501)), CI((x = 36, y = 503)), CI((x = 34, y = 503)), CI((x = 36, y = 503)), CI((x = 36, y = 505)), CI((x = 26, y = 505)), CI((x = 36, y = 505)), CI((x = 36, y = 507)), CI((x = 31, y = 507)), CI((x = 36, y = 507)), CI((x = 36, y = 509)), CI((x = 33, y = 509)), CI((x = 36, y = 509))]\n",
       " [CI((x = 101, y = 527)), CI((x = 99, y = 527)), CI((x = 101, y = 527)), CI((x = 101, y = 529)), CI((x = 98, y = 529)), CI((x = 101, y = 529)), CI((x = 101, y = 531)), CI((x = 92, y = 531)), CI((x = 101, y = 531)), CI((x = 101, y = 533)), CI((x = 91, y = 533)), CI((x = 101, y = 533)), CI((x = 101, y = 535)), CI((x = 99, y = 535)), CI((x = 101, y = 535)), CI((x = 101, y = 537)), CI((x = 100, y = 537)), CI((x = 101, y = 537)), CI((x = 101, y = 539)), CI((x = 93, y = 539)), CI((x = 101, y = 539))]\n",
       " [CI((x = 148, y = 547)), CI((x = 148, y = 551))]\n",
       " [CI((x = 36, y = 493)), CI((x = 33, y = 493)), CI((x = 36, y = 493)), CI((x = 36, y = 495)), CI((x = 35, y = 495)), CI((x = 36, y = 495)), CI((x = 36, y = 497)), CI((x = 33, y = 497)), CI((x = 36, y = 497)), CI((x = 36, y = 499)), CI((x = 35, y = 499)), CI((x = 36, y = 499)), CI((x = 36, y = 501)), CI((x = 34, y = 501)), CI((x = 36, y = 501)), CI((x = 36, y = 503)), CI((x = 34, y = 503)), CI((x = 36, y = 503)), CI((x = 36, y = 505)), CI((x = 26, y = 505)), CI((x = 36, y = 505)), CI((x = 36, y = 507)), CI((x = 31, y = 507)), CI((x = 36, y = 507)), CI((x = 36, y = 509)), CI((x = 33, y = 509)), CI((x = 36, y = 509))]\n",
       " [CI((x = 108, y = 518)), CI((x = 108, y = 522))]\n",
       " [CI((x = 146, y = 544)), CI((x = 146, y = 548))]\n",
       " [CI((x = 101, y = 527)), CI((x = 99, y = 527)), CI((x = 101, y = 527)), CI((x = 101, y = 529)), CI((x = 98, y = 529)), CI((x = 101, y = 529)), CI((x = 101, y = 531)), CI((x = 92, y = 531)), CI((x = 101, y = 531)), CI((x = 101, y = 533)), CI((x = 91, y = 533)), CI((x = 101, y = 533)), CI((x = 101, y = 535)), CI((x = 99, y = 535)), CI((x = 101, y = 535)), CI((x = 101, y = 537)), CI((x = 100, y = 537)), CI((x = 101, y = 537)), CI((x = 101, y = 539)), CI((x = 93, y = 539)), CI((x = 101, y = 539))]\n",
       " [CI((x = 142, y = 538)), CI((x = 142, y = 542))]"
      ]
     },
     "execution_count": 5,
     "metadata": {},
     "output_type": "execute_result"
    }
   ],
   "source": [
    "PDI = parse_puzzle_file(\"input.txt\")"
   ]
  },
  {
   "cell_type": "markdown",
   "metadata": {},
   "source": [
    "## part 1"
   ]
  },
  {
   "cell_type": "code",
   "execution_count": 6,
   "metadata": {},
   "outputs": [
    {
     "data": {
      "text/plain": [
       "19×10 OffsetArray(::Matrix{Int64}, 491:509, 0:9) with eltype Int64 with indices 491:509×0:9:\n",
       " 0  0  0  0  0  0  0  0  0  0\n",
       " 0  0  0  0  0  0  0  0  0  0\n",
       " 0  0  0  0  0  0  0  0  0  0\n",
       " 0  0  0  0  0  0  0  0  0  1\n",
       " 0  0  0  0  0  0  0  0  0  1\n",
       " 0  0  0  0  0  0  1  0  0  1\n",
       " 0  0  0  0  0  0  1  0  0  1\n",
       " 0  0  0  0  1  1  1  0  0  1\n",
       " 0  0  0  0  0  0  0  0  0  1\n",
       " 0  0  0  0  0  0  0  0  0  1\n",
       " 0  0  0  0  0  0  0  0  0  1\n",
       " 0  0  0  0  1  1  1  1  1  1\n",
       " 0  0  0  0  1  0  0  0  0  0\n",
       " 0  0  0  0  0  0  0  0  0  0\n",
       " 0  0  0  0  0  0  0  0  0  0\n",
       " 0  0  0  0  0  0  0  0  0  0\n",
       " 0  0  0  0  0  0  0  0  0  0\n",
       " 0  0  0  0  0  0  0  0  0  0\n",
       " 0  0  0  0  0  0  0  0  0  0"
      ]
     },
     "execution_count": 6,
     "metadata": {},
     "output_type": "execute_result"
    }
   ],
   "source": [
    "init_state(PDS1, CI((x = 0, y = 500)))"
   ]
  },
  {
   "cell_type": "code",
   "execution_count": 7,
   "metadata": {},
   "outputs": [
    {
     "name": "stdout",
     "output_type": "stream",
     "text": [
      "size: 10 × 19\n",
      "axes: (0:9, 491:509)\n",
      "···················\n",
      "···················\n",
      "···················\n",
      "···················\n",
      "·······░···░░······\n",
      "·······░···░·······\n",
      "·····░░░···░·······\n",
      "···········░·······\n",
      "···········░·······\n",
      "···░░░░░░░░░·······\n",
      "\n"
     ]
    }
   ],
   "source": [
    "init_state(PDS1, CI((x = 0, y = 500))) |> print_state"
   ]
  },
  {
   "cell_type": "code",
   "execution_count": 8,
   "metadata": {},
   "outputs": [
    {
     "data": {
      "text/plain": [
       "true"
      ]
     },
     "execution_count": 8,
     "metadata": {},
     "output_type": "execute_result"
    }
   ],
   "source": [
    "is_blocked(init_state(PDS1, CI((x = 0, y = 500))), CI(500, 9))"
   ]
  },
  {
   "cell_type": "code",
   "execution_count": 9,
   "metadata": {},
   "outputs": [
    {
     "data": {
      "text/plain": [
       "CI((x = 8, y = 500))"
      ]
     },
     "execution_count": 9,
     "metadata": {},
     "output_type": "execute_result"
    }
   ],
   "source": [
    "next_sand(init_state(PDS1, CI((x = 0, y = 500))), CI(500, 0))"
   ]
  },
  {
   "cell_type": "code",
   "execution_count": 10,
   "metadata": {},
   "outputs": [
    {
     "data": {
      "text/plain": [
       "9"
      ]
     },
     "execution_count": 10,
     "metadata": {},
     "output_type": "execute_result"
    }
   ],
   "source": [
    "lastindex(init_state(PDS1, CI((x = 0, y = 500))), 2)"
   ]
  },
  {
   "cell_type": "code",
   "execution_count": 11,
   "metadata": {},
   "outputs": [
    {
     "name": "stdout",
     "output_type": "stream",
     "text": [
      "size: 10 × 19\n",
      "axes: (0:9, 491:509)\n",
      "···················\n",
      "···················\n",
      "·········x·········\n",
      "········xxx········\n",
      "·······░xxx░░······\n",
      "······x░xxx░·······\n",
      "·····░░░xxx░·······\n",
      "·······xxxx░·······\n",
      "····x·xxxxx░·······\n",
      "···░░░░░░░░░·······\n",
      "\n"
     ]
    }
   ],
   "source": [
    "fill_sand_part1(PDS1) |> print_state"
   ]
  },
  {
   "cell_type": "markdown",
   "metadata": {},
   "source": [
    "### answer"
   ]
  },
  {
   "cell_type": "code",
   "execution_count": 12,
   "metadata": {},
   "outputs": [
    {
     "name": "stdout",
     "output_type": "stream",
     "text": [
      "  0.342621 seconds (2.56 M allocations: 121.912 MiB, 6.52% gc time, 86.85% compilation time: 8% of which was recompilation)\n"
     ]
    },
    {
     "name": "stderr",
     "output_type": "stream",
     "text": [
      "\u001b[36m\u001b[1m┌ \u001b[22m\u001b[39m\u001b[36m\u001b[1mInfo: \u001b[22m\u001b[39mpart 1 answer\n",
      "\u001b[36m\u001b[1m│ \u001b[22m\u001b[39m  result1(PDS1) = 24\n",
      "\u001b[36m\u001b[1m└ \u001b[22m\u001b[39m  result1(PDI) = 1016\n"
     ]
    }
   ],
   "source": [
    "@time @info(\n",
    "    \"part 1 answer\",\n",
    "    result1(PDS1),\n",
    "    result1(PDI),\n",
    ")"
   ]
  },
  {
   "cell_type": "markdown",
   "metadata": {},
   "source": [
    "## part 2"
   ]
  },
  {
   "cell_type": "code",
   "execution_count": 13,
   "metadata": {},
   "outputs": [
    {
     "ename": "LoadError",
     "evalue": "MethodError: no method matching init_state(::Vector{Vector{CartesianIndex{2}}})\n\u001b[0mClosest candidates are:\n\u001b[0m  init_state(::Any, \u001b[91m::Any\u001b[39m) at ~/devs/github.com/Teo-ShaoWei/advent-of-code-julia/events/2022/day 14/functions.jl:96",
     "output_type": "error",
     "traceback": [
      "MethodError: no method matching init_state(::Vector{Vector{CartesianIndex{2}}})\n\u001b[0mClosest candidates are:\n\u001b[0m  init_state(::Any, \u001b[91m::Any\u001b[39m) at ~/devs/github.com/Teo-ShaoWei/advent-of-code-julia/events/2022/day 14/functions.jl:96",
      "",
      "Stacktrace:",
      " [1] top-level scope",
      "   @ In[13]:1",
      " [2] eval",
      "   @ ./boot.jl:368 [inlined]",
      " [3] include_string(mapexpr::typeof(REPL.softscope), mod::Module, code::String, filename::String)",
      "   @ Base ./loading.jl:1428"
     ]
    }
   ],
   "source": [
    "add_floor(init_state(PDS1)) |> print_state"
   ]
  },
  {
   "cell_type": "code",
   "execution_count": 14,
   "metadata": {},
   "outputs": [
    {
     "name": "stdout",
     "output_type": "stream",
     "text": [
      "size: 11 × 21\n",
      "axes: (0:10, 490:510)\n",
      "··········x··········\n",
      "·········xxx·········\n",
      "········xxxxx········\n",
      "·······xxxxxxx·······\n",
      "······xx░xxx░░x······\n",
      "·····xxx░xxx░xxx·····\n",
      "····xx░░░xxx░xxxx····\n",
      "···xxxx·xxxx░xxxxx···\n",
      "··xxxxxxxxxx░xxxxxx··\n",
      "·xxx░░░░░░░░░xxxxxxx·\n",
      "xxxxx·······xxxxxxxxx\n",
      "\n"
     ]
    }
   ],
   "source": [
    "fill_sand_part2(PDS1) |> print_state"
   ]
  },
  {
   "cell_type": "markdown",
   "metadata": {},
   "source": [
    "### answer"
   ]
  },
  {
   "cell_type": "code",
   "execution_count": 15,
   "metadata": {},
   "outputs": [
    {
     "name": "stdout",
     "output_type": "stream",
     "text": [
      "  1.272985 seconds (11.49 M allocations: 360.212 MiB, 3.91% gc time, 5.11% compilation time)\n"
     ]
    },
    {
     "name": "stderr",
     "output_type": "stream",
     "text": [
      "\u001b[36m\u001b[1m┌ \u001b[22m\u001b[39m\u001b[36m\u001b[1mInfo: \u001b[22m\u001b[39mpart 2 answer\n",
      "\u001b[36m\u001b[1m│ \u001b[22m\u001b[39m  result2(PDS1) = 93\n",
      "\u001b[36m\u001b[1m└ \u001b[22m\u001b[39m  result2(PDI) = 25402\n"
     ]
    }
   ],
   "source": [
    "@time @info(\n",
    "    \"part 2 answer\",\n",
    "    result2(PDS1),\n",
    "    result2(PDI),\n",
    ")"
   ]
  }
 ],
 "metadata": {
  "@webio": {
   "lastCommId": null,
   "lastKernelId": null
  },
  "kernelspec": {
   "display_name": "Julia 1.8.2",
   "language": "julia",
   "name": "julia-1.8"
  },
  "language_info": {
   "file_extension": ".jl",
   "mimetype": "application/julia",
   "name": "julia",
   "version": "1.8.2"
  },
  "latex_envs": {
   "LaTeX_envs_menu_present": true,
   "autoclose": false,
   "autocomplete": true,
   "bibliofile": "biblio.bib",
   "cite_by": "apalike",
   "current_citInitial": 1,
   "eqLabelWithNumbers": true,
   "eqNumInitial": 1,
   "hotkeys": {
    "equation": "Ctrl-E",
    "itemize": "Ctrl-I"
   },
   "labels_anchors": false,
   "latex_user_defs": false,
   "report_style_numbering": false,
   "user_envs_cfg": false
  },
  "toc": {
   "base_numbering": 1,
   "nav_menu": {},
   "number_sections": true,
   "sideBar": true,
   "skip_h1_title": true,
   "title_cell": "Table of Contents",
   "title_sidebar": "Contents",
   "toc_cell": true,
   "toc_position": {},
   "toc_section_display": true,
   "toc_window_display": false
  }
 },
 "nbformat": 4,
 "nbformat_minor": 4
}
