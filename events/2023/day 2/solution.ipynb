{
 "cells": [
  {
   "cell_type": "code",
   "execution_count": 1,
   "metadata": {},
   "outputs": [
    {
     "data": {
      "text/latex": [
       "\\section{Advent of Code 2023 Day 2}\n",
       "\\href{https://adventofcode.com/2023/day/2}{Problem link}\n",
       "\n"
      ],
      "text/markdown": [
       "# Advent of Code 2023 Day 2\n",
       "\n",
       "[Problem link](https://adventofcode.com/2023/day/2)\n"
      ],
      "text/plain": [
       "\u001b[1m  Advent of Code 2023 Day 2\u001b[22m\n",
       "\u001b[1m  ≡≡≡≡≡≡≡≡≡≡≡≡≡≡≡≡≡≡≡≡≡≡≡≡≡≡≡\u001b[22m\n",
       "\n",
       "  Problem link (https://adventofcode.com/2023/day/2)"
      ]
     },
     "metadata": {},
     "output_type": "display_data"
    }
   ],
   "source": [
    "YEAR = 2023;\n",
    "DAY = 2;\n",
    "SESSION_COOKIE = \"53616c7465645f5f247aa4bb66cc604a12f273db44943b8acf6742dbc7ed3e4915998d3119ad3e8822969ca3695db15416e2361accaed6724c90e2044486f759\"\n",
    "\n",
    "using Markdown\n",
    "URL = \"https://adventofcode.com/$(YEAR)/day/$(DAY)\"\n",
    "Markdown.parse(\"\"\"\n",
    "# Advent of Code $(YEAR) Day $(DAY)\n",
    "[Problem link]($(URL))\n",
    "\"\"\")\n"
   ]
  },
  {
   "cell_type": "markdown",
   "metadata": {},
   "source": [
    "## include code file using Revise\n"
   ]
  },
  {
   "cell_type": "code",
   "execution_count": 2,
   "metadata": {},
   "outputs": [],
   "source": [
    "using Revise\n"
   ]
  },
  {
   "cell_type": "code",
   "execution_count": 3,
   "metadata": {
    "scrolled": true
   },
   "outputs": [],
   "source": [
    "includet(\"functions.jl\")\n"
   ]
  },
  {
   "cell_type": "markdown",
   "metadata": {},
   "source": [
    "## set logger\n"
   ]
  },
  {
   "cell_type": "code",
   "execution_count": 4,
   "metadata": {},
   "outputs": [
    {
     "data": {
      "text/plain": [
       "Base.CoreLogging.SimpleLogger(VSCodeServer.IJuliaCore.IJuliaStdio{Base.PipeEndpoint, typeof(VSCodeServer.io_send_callback)}(IOContext(Base.PipeEndpoint(RawFD(20) open, 0 bytes waiting)), VSCodeServer.io_send_callback), Info, Dict{Any, Int64}())"
      ]
     },
     "metadata": {},
     "output_type": "display_data"
    }
   ],
   "source": [
    "using Logging: Logging\n",
    "using TerminalLoggers: TerminalLoggers\n",
    "\n",
    "Logging.global_logger(TerminalLoggers.TerminalLogger())\n"
   ]
  },
  {
   "cell_type": "markdown",
   "metadata": {},
   "source": [
    "## read input"
   ]
  },
  {
   "cell_type": "code",
   "execution_count": 5,
   "metadata": {},
   "outputs": [],
   "source": [
    "# Run this first.\n",
    "import HTTP\n"
   ]
  },
  {
   "cell_type": "code",
   "execution_count": 6,
   "metadata": {},
   "outputs": [
    {
     "name": "stdout",
     "output_type": "stream",
     "text": [
      "url = \"https://adventofcode.com/$(YEAR)/day/$(DAY)/input\" = \"https://adventofcode.com/2023/day/2/input\"\n",
      "SESSION_COOKIE = \"53616c7465645f5f247aa4bb66cc604a12f273db44943b8acf6742dbc7ed3e4915998d3119ad3e8822969ca3695db15416e2361accaed6724c90e2044486f759\"\n",
      "\n",
      "You already have `input.txt`!\n"
     ]
    }
   ],
   "source": [
    "# Run this only when trying to download the input.txt! Do so abit later.\n",
    "\n",
    "@show url = \"https://adventofcode.com/$(YEAR)/day/$(DAY)/input\"\n",
    "@show SESSION_COOKIE\n",
    "println()\n",
    "\n",
    "if \"input.txt\" ∉ readdir()\n",
    "    response = HTTP.get(url, headers=Dict(\"Cookie\" => \"session=$(SESSION_COOKIE)\"))\n",
    "\n",
    "    if HTTP.status(response) == 200\n",
    "        write(\"input.txt\", String(response.body))\n",
    "        println(\"Downlaoded input file for $YEAR day $DAY to `input.txt`.\")\n",
    "    else\n",
    "        println(\"Download unsuccessful\")\n",
    "    end\n",
    "else\n",
    "    println(\"You already have `input.txt`!\")\n",
    "end\n"
   ]
  },
  {
   "cell_type": "code",
   "execution_count": 7,
   "metadata": {
    "scrolled": true
   },
   "outputs": [
    {
     "data": {
      "text/plain": [
       "5-element Vector{Vector{Vector{Int64}}}:\n",
       " [[4, 0, 3], [1, 2, 6], [0, 2, 0]]\n",
       " [[0, 2, 1], [1, 3, 4], [0, 1, 1]]\n",
       " [[20, 8, 6], [4, 13, 5], [1, 5, 0]]\n",
       " [[3, 1, 6], [6, 3, 0], [14, 3, 15]]\n",
       " [[6, 3, 1], [1, 2, 2]]"
      ]
     },
     "metadata": {},
     "output_type": "display_data"
    }
   ],
   "source": [
    "PDS1 = parse_puzzle_file(\"sample1.txt\")\n"
   ]
  },
  {
   "cell_type": "code",
   "execution_count": 8,
   "metadata": {
    "scrolled": true
   },
   "outputs": [
    {
     "data": {
      "text/plain": [
       "100-element Vector{Vector{Vector{Int64}}}:\n",
       " [[4, 18, 15], [9, 17, 18], [8, 14, 6], [2, 14, 12]]\n",
       " [[6, 11, 0], [5, 4, 4], [6, 11, 6]]\n",
       " [[3, 3, 0], [7, 3, 1], [5, 3, 1], [9, 4, 0], [5, 2, 1]]\n",
       " [[9, 5, 2], [7, 0, 10], [5, 2, 14], [0, 2, 3], [10, 4, 7], [7, 2, 15]]\n",
       " [[3, 0, 2], [5, 0, 3], [10, 1, 10], [0, 0, 4]]\n",
       " [[5, 1, 10], [0, 9, 8], [7, 20, 10], [6, 12, 6], [0, 11, 10], [5, 17, 8]]\n",
       " [[3, 7, 12], [19, 0, 12], [8, 7, 8], [6, 7, 5]]\n",
       " [[7, 0, 8], [5, 13, 5], [7, 4, 11], [6, 13, 5], [8, 12, 7]]\n",
       " [[3, 12, 3], [2, 9, 1], [3, 12, 3], [2, 7, 2], [0, 8, 4], [2, 2, 0]]\n",
       " [[10, 16, 0], [7, 13, 0], [8, 8, 1]]\n",
       " ⋮\n",
       " [[6, 9, 7], [4, 9, 0], [0, 2, 5]]\n",
       " [[1, 7, 0], [3, 0, 3], [9, 3, 4], [2, 6, 0], [5, 0, 3]]\n",
       " [[11, 4, 0], [9, 13, 0], [11, 16, 0], [14, 6, 2], [9, 17, 0]]\n",
       " [[7, 2, 13], [3, 8, 13], [6, 5, 13], [2, 8, 8], [8, 4, 6], [2, 0, 2]]\n",
       " [[10, 3, 3], [5, 4, 2], [6, 4, 7], [4, 1, 5]]\n",
       " [[5, 0, 8], [2, 4, 14], [0, 7, 10]]\n",
       " [[1, 2, 14], [0, 6, 1], [4, 0, 19], [4, 3, 18], [2, 0, 1]]\n",
       " [[3, 0, 4], [7, 3, 5], [1, 2, 1], [1, 2, 4], [1, 1, 2], [7, 1, 6]]\n",
       " [[0, 10, 2], [14, 10, 0], [5, 3, 2], [1, 7, 3], [7, 0, 1]]"
      ]
     },
     "metadata": {},
     "output_type": "display_data"
    }
   ],
   "source": [
    "PDI = parse_puzzle_file(\"input.txt\")\n"
   ]
  },
  {
   "cell_type": "markdown",
   "metadata": {},
   "source": [
    "## part 1\n"
   ]
  },
  {
   "cell_type": "code",
   "execution_count": 9,
   "metadata": {},
   "outputs": [
    {
     "data": {
      "text/plain": [
       "3-element BitVector:\n",
       " 1\n",
       " 1\n",
       " 1"
      ]
     },
     "metadata": {},
     "output_type": "display_data"
    }
   ],
   "source": [
    "is_possible.(PDS1[1])\n"
   ]
  },
  {
   "cell_type": "code",
   "execution_count": 10,
   "metadata": {},
   "outputs": [
    {
     "data": {
      "text/plain": [
       "5-element BitVector:\n",
       " 1\n",
       " 1\n",
       " 0\n",
       " 0\n",
       " 1"
      ]
     },
     "metadata": {},
     "output_type": "display_data"
    }
   ],
   "source": [
    "is_possible.(PDS1)\n"
   ]
  },
  {
   "cell_type": "markdown",
   "metadata": {},
   "source": [
    "### answer\n"
   ]
  },
  {
   "cell_type": "code",
   "execution_count": 11,
   "metadata": {},
   "outputs": [
    {
     "name": "stdout",
     "output_type": "stream",
     "text": [
      "  0.315486 seconds (980.84 k allocations: 66.346 MiB, 4.00% gc time, 99.51% compilation time)\n"
     ]
    },
    {
     "name": "stderr",
     "output_type": "stream",
     "text": [
      "\u001b[36m\u001b[1m┌ \u001b[22m\u001b[39m\u001b[36m\u001b[1mInfo: \u001b[22m\u001b[39mpart 1 answer\n",
      "\u001b[36m\u001b[1m│ \u001b[22m\u001b[39m  result1(PDS1) = 8\n",
      "\u001b[36m\u001b[1m└ \u001b[22m\u001b[39m  result1(PDI) = 2879\n"
     ]
    }
   ],
   "source": [
    "@time @info(\n",
    "    \"part 1 answer\",\n",
    "    result1(PDS1),\n",
    "    result1(PDI),\n",
    ")\n"
   ]
  },
  {
   "cell_type": "markdown",
   "metadata": {},
   "source": [
    "## part 2\n"
   ]
  },
  {
   "cell_type": "code",
   "execution_count": 12,
   "metadata": {},
   "outputs": [
    {
     "data": {
      "text/plain": [
       "5-element Vector{Vector{Int64}}:\n",
       " [4, 2, 6]\n",
       " [1, 3, 4]\n",
       " [20, 13, 6]\n",
       " [14, 3, 15]\n",
       " [6, 3, 2]"
      ]
     },
     "metadata": {},
     "output_type": "display_data"
    }
   ],
   "source": [
    "get_min_dices.(PDS1)\n"
   ]
  },
  {
   "cell_type": "markdown",
   "metadata": {},
   "source": [
    "### answer\n"
   ]
  },
  {
   "cell_type": "code",
   "execution_count": 13,
   "metadata": {},
   "outputs": [
    {
     "name": "stdout",
     "output_type": "stream",
     "text": [
      "  0.374463 seconds (1.31 M allocations: 87.421 MiB, 3.35% gc time, 99.50% compilation time)\n"
     ]
    },
    {
     "name": "stderr",
     "output_type": "stream",
     "text": [
      "\u001b[36m\u001b[1m┌ \u001b[22m\u001b[39m\u001b[36m\u001b[1mInfo: \u001b[22m\u001b[39mpart 2 answer\n",
      "\u001b[36m\u001b[1m│ \u001b[22m\u001b[39m  result2(PDS1) = 2286\n",
      "\u001b[36m\u001b[1m└ \u001b[22m\u001b[39m  result2(PDI) = 65122\n"
     ]
    }
   ],
   "source": [
    "@time @info(\n",
    "    \"part 2 answer\",\n",
    "    result2(PDS1),\n",
    "    result2(PDI),\n",
    ")\n"
   ]
  }
 ],
 "metadata": {
  "@webio": {
   "lastCommId": null,
   "lastKernelId": null
  },
  "kernelspec": {
   "display_name": "Julia 1.9.3",
   "language": "julia",
   "name": "julia-1.9"
  },
  "language_info": {
   "file_extension": ".jl",
   "mimetype": "application/julia",
   "name": "julia",
   "version": "1.9.3"
  },
  "latex_envs": {
   "LaTeX_envs_menu_present": true,
   "autoclose": false,
   "autocomplete": true,
   "bibliofile": "biblio.bib",
   "cite_by": "apalike",
   "current_citInitial": 1,
   "eqLabelWithNumbers": true,
   "eqNumInitial": 1,
   "hotkeys": {
    "equation": "Ctrl-E",
    "itemize": "Ctrl-I"
   },
   "labels_anchors": false,
   "latex_user_defs": false,
   "report_style_numbering": false,
   "user_envs_cfg": false
  },
  "toc": {
   "base_numbering": 1,
   "nav_menu": {},
   "number_sections": true,
   "sideBar": true,
   "skip_h1_title": true,
   "title_cell": "Table of Contents",
   "title_sidebar": "Contents",
   "toc_cell": true,
   "toc_position": {},
   "toc_section_display": true,
   "toc_window_display": false
  }
 },
 "nbformat": 4,
 "nbformat_minor": 4
}
