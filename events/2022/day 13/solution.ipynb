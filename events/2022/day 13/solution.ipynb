{
 "cells": [
  {
   "cell_type": "markdown",
   "metadata": {},
   "source": [
    "# Advent of Code 2022 Day 13\n",
    "[link](https://adventofcode.com/2022/day/13)"
   ]
  },
  {
   "cell_type": "markdown",
   "metadata": {},
   "source": [
    "## include code file using Revise"
   ]
  },
  {
   "cell_type": "code",
   "execution_count": 1,
   "metadata": {},
   "outputs": [],
   "source": [
    "using Revise"
   ]
  },
  {
   "cell_type": "code",
   "execution_count": 2,
   "metadata": {
    "scrolled": true
   },
   "outputs": [],
   "source": [
    "includet(\"functions.jl\")"
   ]
  },
  {
   "cell_type": "markdown",
   "metadata": {},
   "source": [
    "## set logger"
   ]
  },
  {
   "cell_type": "code",
   "execution_count": 3,
   "metadata": {},
   "outputs": [
    {
     "data": {
      "text/plain": [
       "Base.CoreLogging.SimpleLogger(IJulia.IJuliaStdio{Base.PipeEndpoint}(IOContext(Base.PipeEndpoint(RawFD(47) open, 0 bytes waiting))), Info, Dict{Any, Int64}())"
      ]
     },
     "execution_count": 3,
     "metadata": {},
     "output_type": "execute_result"
    }
   ],
   "source": [
    "import Logging\n",
    "import TerminalLoggers\n",
    "\n",
    "Logging.global_logger(TerminalLoggers.TerminalLogger())"
   ]
  },
  {
   "cell_type": "markdown",
   "metadata": {},
   "source": [
    "## read input"
   ]
  },
  {
   "cell_type": "code",
   "execution_count": 4,
   "metadata": {},
   "outputs": [
    {
     "data": {
      "text/plain": [
       "false"
      ]
     },
     "execution_count": 4,
     "metadata": {},
     "output_type": "execute_result"
    }
   ],
   "source": [
    "[1, 2] < [1, [1, 2]]"
   ]
  },
  {
   "cell_type": "code",
   "execution_count": 5,
   "metadata": {
    "scrolled": true
   },
   "outputs": [
    {
     "data": {
      "text/plain": [
       "8-element Vector{Tuple{Vector, Vector}}:\n",
       " ([1, 1, 3, 1, 1], [1, 1, 5, 1, 1])\n",
       " ([[1], [2, 3, 4]], Any[[1], 4])\n",
       " ([9], [[8, 7, 6]])\n",
       " (Any[[4, 4], 4, 4], Any[[4, 4], 4, 4, 4])\n",
       " ([7, 7, 7, 7], [7, 7, 7])\n",
       " (Any[], [3])\n",
       " (Vector{Vector{Any}}[[[]]], Vector{Any}[[]])\n",
       " (Any[1, Any[2, Any[3, Any[4, [5, 6, 7]]]], 8, 9], Any[1, Any[2, Any[3, Any[4, [5, 6, 0]]]], 8, 9])"
      ]
     },
     "execution_count": 5,
     "metadata": {},
     "output_type": "execute_result"
    }
   ],
   "source": [
    "PDS1 = parse_puzzle_file(\"sample1.txt\")"
   ]
  },
  {
   "cell_type": "code",
   "execution_count": 6,
   "metadata": {
    "scrolled": true
   },
   "outputs": [
    {
     "data": {
      "text/plain": [
       "150-element Vector{Tuple{Vector, Vector}}:\n",
       " (Vector{Any}[[Any[7, [6, 4, 3], 4, [5, 5, 0]], [9, 2], 5], [Any[0, [3]], Any[[2, 3, 2, 10, 8], 10, 8, [2, 7, 6]], 5, [[0, 8, 6, 10], [2], [8, 7, 6, 4, 9]], 10], [7, 9, 1, 0, Any[]], [[[8]], Any[8, 0, 4, [8], [1]], 4, Any[[9], 4]]], Vector{Any}[[6, Any[[3, 5, 7, 4], [6, 5, 7, 10, 5], 1, [6, 9], 2]], [1, Any[]], [Any[[10, 1], Any[], 1, [9, 0, 1]], Any[[9, 9], [7]]], [0, Any[6, 9, Any[], 10, 2], Any[], Any[]], [8, 6, 6, 6]])\n",
       " ([[6], [2], [5, 9], [9]], Vector{Any}[[Any[0, [9, 8, 6]], Any[3, Any[]], 8, 1], [Any[6, [2], 2, 7]]])\n",
       " (Vector{Any}[[3, 7, Any[0, 6, [5, 10, 0, 4, 8], [9, 4, 1, 5, 1], [1, 1, 7, 0]], 5], [6, Any[0, Any[], 6, [7, 4, 7], [1, 3]], 2, 1, 3], [Any[6, 6, [6], 6], 0, 1, Vector{Any}[[8, 0, 2, 9], []], Any[0, [2, 1], 5, [6, 0, 2, 1], 2]], []], Vector{Any}[[Any[], [3], 8, Any[2, [1, 10]]], [5], []])\n",
       " (Vector{Any}[[], [Any[[10, 4, 7], [8, 3], 4, 8]]], Vector{Any}[[Vector{Any}[[9, 3, 4], []], 3, Any[], 0], [], [Any[[6], 1, [8, 8], Any[]], [2, 4, 7], 1, 3]])\n",
       " (Vector{Any}[[[[2, 1, 2, 5], [10, 1, 6, 8, 7], [3], [9, 2]], 9, [1, 8, 9], 8], [0, Any[9, 3, [10, 8, 10, 3, 4], [8, 10]]], [[[9, 9], [2, 5]], Any[[3], 1, [2], 10], 9]], Vector{Any}[[], [Any[[7, 1, 10, 2, 2], 3, [0, 8, 4, 6], [3, 4]], 3, 0, 6], [], [2, Any[9, 4, Any[], Any[]], [8], 0]])\n",
       " (Vector{Any}[[Any[7, 3, Any[]], 0], [3, [2]]], Vector{Any}[[[[10, 1, 7], [7]]], [[7, 6, 7]], [Any[3, [6, 4], [9, 9, 5], [2, 8, 5, 4]], 10], [Any[[4, 5, 10, 1, 1], [4, 10], [8, 9], [6, 8, 1, 6], 9], Any[[8, 9], 4, Any[], 1, 1], Any[2, [6, 0], 10, Any[], 8], 2], [8, Any[Any[], 2]]])\n",
       " (Vector{Any}[[5, 8, 7], []], Vector{Any}[[[8]], [6, Any[[3, 0, 5], [8, 1, 9, 0, 2], 2, 3], 2, Any[[0, 3, 10], 9, Any[]], Any[[7, 3, 9], 6]], [5, [6], Any[], Any[[7, 1, 3, 8, 5], 7], 4], [Any[], 4, Any[6, [10, 6, 10], [10, 7, 9]], Vector{Any}[[]], 7]])\n",
       " (Vector{Any}[[Any[6, 0, 3, [9, 10, 4, 7]], [4, 8, 3], 10, 3], [Any[1, [4, 7, 9, 0], [7, 1, 1, 1, 5], 4], 2, 4, 0, 7], [0, 7, 8, Any[0, 7, [7, 9], [8, 6, 4, 8, 3], 0]], [10, 4, 9, 5, Any[]], [Any[], [[4, 0]], 5, 0, 3]], Vector{Any}[[10, 3, Any[[1, 8, 7, 8], 5, 8, [4, 3, 3, 4]], Any[6, [9, 4, 10, 10], 4, [3, 9, 9, 10, 2]]]])\n",
       " (Vector{Any}[[], [Any[4, 3, 7, [7, 5, 1, 7, 4]], Any[], Any[[4], 6, [0, 0, 0, 2], 5, 6], Any[[9, 10, 5], [7, 0, 10, 6], 6, [10, 0]], 5]], Vector{Any}[[Any[[5]], Any[]], [[10, 4, 0], 6], [Any[], [[8, 2, 1]], Any[9, [6, 5, 8, 0, 5], [3, 2, 3, 9, 4], 1, [4]], Any[], 5]])\n",
       " (Vector[Any[Any[], [[5]], 3], [[[8, 8, 2, 0], [9, 4, 7]]], [2, 3]], Vector{Any}[[Any[[8], 2, Any[], [5, 5, 7], 4]], [Any[6, 1, 6, [5, 4, 8, 2]], [2, 5], 9], [5], [Any[6, 10, 5, [5]], 7]])\n",
       " (Vector{Any}[[], [1], [0, Any[[8, 5, 10], Any[], 9, [3, 4, 1], 8], 8, 7, 0], [4, [1], 0, 1]], Vector{Any}[[Any[], [[1, 1, 3]], 4, 10], [Any[0, [9, 5], [5, 6, 3], 7], [[9]], Any[], [[6, 5], [1, 2, 1, 6]], 2], [9, 6], [6, 9, 9]])\n",
       " (Vector{Any}[[9], [2, Any[[10, 1, 7], 2, [0]]]], [[6, 9]])\n",
       " (Vector{Any}[[9, [2, 1], 7, 7, Any[8, 5, [8, 6, 5], [1, 3, 2]]]], Vector{Any}[[Any[5, 0, 4], Any[], Any[]], [1, [2], Any[0, [7, 8], [7]], 4, Any[7, [8, 5, 4, 2, 10], 9, [9, 4, 9, 5, 7], 0]], [1, Any[[7], 1, 1, 4]], [9, Any[5, [6, 7, 5, 7, 8]], 6, 6, 2]])\n",
       " ⋮\n",
       " ([[2, 2]], Vector{Any}[[Any[[9, 5, 8], [10], 1, [3, 3, 8, 8, 6], [1]], 9, 3, Any[[6, 9, 6, 9], 9]], [], [6, Any[[8, 3], [4], 7, 7, 9], 8, 5, Any[7, 9, 7, [8, 5, 9, 0, 8]]], [Any[7, [8, 10, 3, 7], 0, [1, 3], 4], 7]])\n",
       " (Vector{Any}[[Any[2, 5, [9], Any[], 8], 10, 2, 2, 0], [], []], [[9]])\n",
       " (Vector{Any}[[Any[3, 4, [4, 4, 5], [10]]], []], Vector{Any}[[], [[[6, 10, 7, 5, 6], [1, 10, 9]], 3, Vector{Any}[[2, 2, 3, 10, 0], []], Any[[8, 10, 8, 6], [1, 3, 4, 5], 2]], [1], []])\n",
       " (Vector{Any}[[[8]], [Any[], 0, 10, 9], [Any[5, [10], 6, 6, 6], Any[[5, 8], [1, 3, 4], 7, [4, 1, 8, 2, 9]], 4], [3, Vector{Any}[[], [], [0, 4, 6, 1, 0]], 6, Any[8, [7, 5], 0, 0, Any[]], 4]], Vector{Vector{Any}}[[[3, 5, 0, [2, 4, 8]], [4]]])\n",
       " (Vector{Any}[[4, [8, 9, 3], 6, Any[7, [0, 0, 2, 8, 3], [4, 5], [5], [10, 4, 3]]], [2, 1, Any[6, 6, 6, [3, 1], 6], Any[6, 0, 10, [1, 3, 8, 8]]]], Vector{Any}[[Any[], 3], [Any[[1, 7, 6, 7], 8, Any[], 0, 5], Any[4, 8, Any[]]], [1, 5, Any[[2, 9, 10, 3], [6, 6, 1, 10], 0]]])\n",
       " (Vector{Any}[[[6, 4, 7, 7], 4, 6], [4, Any[2, 1, 9, [8, 2, 2, 0]], 8, Vector{Any}[[], [9], [4, 10, 4, 9], [0, 5], [10, 8, 3, 3, 1]], Any[]], [[7], 2], [6, Vector{Any}[[8], []]]], Vector{Any}[[Any[[7, 5, 8]], Any[1, 10, [8], [2, 8], [2]]], [7], [[[2, 1, 10, 1, 7]], Any[], 3]])\n",
       " (Vector{Any}[[Any[], Any[5, [1, 5, 10, 5, 1], 9, [8, 4, 1, 6, 9], [7, 4, 6, 7]]], [Any[9, 6, [2, 10, 3], 3], 10, 6], [2, 7, Any[3, 1, [10, 5]], Any[]]], Vector{Any}[[3, 10, 1, Any[3, Any[], [3, 4, 4, 10], 0], 2], [[[2, 10, 0], [5, 1, 0, 5], [3, 10, 9, 4, 9]], Any[10, 4, [10, 6, 5, 2, 9]], 3, 7, 6], [3, Any[[4, 5, 6, 1, 1], [3, 2, 9, 0, 5], [4, 5, 9, 4], 5, 0], Any[[0, 9], 8, [6, 2], 9, 0], 8], [3, Any[[7, 8], 5, 10]], [1, Any[2, 0, 8, [3, 7, 4, 10], 7]]])\n",
       " (Vector{Any}[[7, Any[], 8, 9], [Vector{Any}[[5], []]], [[7], 1, Any[6, [6, 7, 10, 5, 6], 6], 0], [[[1]], Any[[10, 4], Any[], 8, 0, [0, 4, 0, 0, 1]], Vector{Any}[[], [1, 5, 10, 2, 4], [8, 2, 7], []], Any[3, [8, 1], 2, [0, 6, 3], 7], 0], [Any[8, [5, 5, 8, 4], [10, 5, 6, 6], [8, 0, 8], 4], 10]], Vector{Any}[[Any[[5, 3], 7, Any[], 2], Any[1, 10, [7], 5]], [Any[0, [2], [3]]], [4, 9, Vector{Any}[[]], 9]])\n",
       " (Vector{Any}[[0, Any[], Any[7, [7, 4, 9, 5]], 3, 9], [[[2, 9, 3, 10], [3]]], [Any[], 6, 1, 2, 7], [1], []], Vector{Any}[[0, Any[4, [8, 3, 5]]], [Any[[1, 4, 5, 0], 9, 5], [[7, 2, 3, 7]], 5], [0, 1], [], [6, 6, 7, 2]])\n",
       " (Vector{Any}[[9, 9, Any[[10], 9, Any[], [1, 10], [10, 3, 8, 10, 3]], [10, 7, 5], Any[]], [4, 5, 4, 3], [10, Any[], 6], [Any[3, 8, [6, 8], [3]], 0, 2, 1], [Any[5, 0, [9], 10]]], Vector{Any}[[8, Any[Any[], [4, 10, 0, 2, 9], 6, Any[], [8, 0]]], [1], [Any[[4, 9, 0], [7, 2], 0, 9]], [], [[7], [1], 9, Any[0, Any[], 9, 9, 9], Any[[1], 3]]])\n",
       " (Vector{Any}[[10, Any[], 0], [Any[], Any[], Any[[1, 2, 6], 8, [1, 2, 6, 2], [3, 4, 6, 5, 4], [2, 3, 7, 8, 1]], Any[[7, 3], 0, 6, [0, 2, 8, 2], 4], Any[Any[], 5]]], Vector{Any}[[Any[10, [7, 3, 8, 3, 5]], 8], [10, Any[[4, 10, 2, 6], 7, [6, 9, 10, 0, 9], 10]], [Any[], 2], [10, 1, 6, 6]])\n",
       " (Vector{Any}[[9, Any[]], [Any[], Any[9, [9, 5], 0, [0], [9, 0, 5, 8]], 6], [6]], Vector{Any}[[Any[[7], 8, 7], 5, Any[[7, 4, 1, 2], 2], [2, 6]]])"
      ]
     },
     "execution_count": 6,
     "metadata": {},
     "output_type": "execute_result"
    }
   ],
   "source": [
    "PDI = parse_puzzle_file(\"input.txt\")"
   ]
  },
  {
   "cell_type": "markdown",
   "metadata": {},
   "source": [
    "## part 1"
   ]
  },
  {
   "cell_type": "code",
   "execution_count": 7,
   "metadata": {},
   "outputs": [
    {
     "data": {
      "text/plain": [
       "true"
      ]
     },
     "execution_count": 7,
     "metadata": {},
     "output_type": "execute_result"
    }
   ],
   "source": [
    "[2, 3, 4] < [4]"
   ]
  },
  {
   "cell_type": "code",
   "execution_count": 8,
   "metadata": {},
   "outputs": [
    {
     "data": {
      "text/plain": [
       "true"
      ]
     },
     "execution_count": 8,
     "metadata": {},
     "output_type": "execute_result"
    }
   ],
   "source": [
    "[[1],[2,3,4]] < [[1],4]"
   ]
  },
  {
   "cell_type": "code",
   "execution_count": 9,
   "metadata": {},
   "outputs": [
    {
     "data": {
      "text/plain": [
       "true"
      ]
     },
     "execution_count": 9,
     "metadata": {},
     "output_type": "execute_result"
    }
   ],
   "source": [
    "[[1],[2,3,4]] < [[1],4]"
   ]
  },
  {
   "cell_type": "markdown",
   "metadata": {},
   "source": [
    "### answer"
   ]
  },
  {
   "cell_type": "code",
   "execution_count": 10,
   "metadata": {},
   "outputs": [
    {
     "name": "stdout",
     "output_type": "stream",
     "text": [
      "  0.661660 seconds (4.48 M allocations: 229.604 MiB, 5.15% gc time, 99.66% compilation time: 4% of which was recompilation)\n"
     ]
    },
    {
     "name": "stderr",
     "output_type": "stream",
     "text": [
      "\u001b[36m\u001b[1m┌ \u001b[22m\u001b[39m\u001b[36m\u001b[1mInfo: \u001b[22m\u001b[39mpart 1 answer\n",
      "\u001b[36m\u001b[1m│ \u001b[22m\u001b[39m  result1(PDS1) = 13\n",
      "\u001b[36m\u001b[1m└ \u001b[22m\u001b[39m  result1(PDI) = 5675\n"
     ]
    }
   ],
   "source": [
    "@time @info(\n",
    "    \"part 1 answer\",\n",
    "    result1(PDS1),\n",
    "    result1(PDI),\n",
    ")"
   ]
  },
  {
   "cell_type": "markdown",
   "metadata": {},
   "source": [
    "## part 2"
   ]
  },
  {
   "cell_type": "code",
   "execution_count": null,
   "metadata": {},
   "outputs": [],
   "source": []
  },
  {
   "cell_type": "markdown",
   "metadata": {},
   "source": [
    "### answer"
   ]
  },
  {
   "cell_type": "code",
   "execution_count": 11,
   "metadata": {},
   "outputs": [
    {
     "name": "stdout",
     "output_type": "stream",
     "text": [
      "  0.976284 seconds (4.41 M allocations: 225.732 MiB, 3.94% gc time, 99.43% compilation time)\n"
     ]
    },
    {
     "name": "stderr",
     "output_type": "stream",
     "text": [
      "\u001b[36m\u001b[1m┌ \u001b[22m\u001b[39m\u001b[36m\u001b[1mInfo: \u001b[22m\u001b[39mpart 2 answer\n",
      "\u001b[36m\u001b[1m│ \u001b[22m\u001b[39m  result2(PDS1) = 140\n",
      "\u001b[36m\u001b[1m└ \u001b[22m\u001b[39m  result2(PDI) = 20383\n"
     ]
    }
   ],
   "source": [
    "@time @info(\n",
    "    \"part 2 answer\",\n",
    "    result2(PDS1),\n",
    "    result2(PDI),\n",
    ")"
   ]
  }
 ],
 "metadata": {
  "@webio": {
   "lastCommId": null,
   "lastKernelId": null
  },
  "kernelspec": {
   "display_name": "Julia 1.8.2",
   "language": "julia",
   "name": "julia-1.8"
  },
  "language_info": {
   "file_extension": ".jl",
   "mimetype": "application/julia",
   "name": "julia",
   "version": "1.8.2"
  },
  "latex_envs": {
   "LaTeX_envs_menu_present": true,
   "autoclose": false,
   "autocomplete": true,
   "bibliofile": "biblio.bib",
   "cite_by": "apalike",
   "current_citInitial": 1,
   "eqLabelWithNumbers": true,
   "eqNumInitial": 1,
   "hotkeys": {
    "equation": "Ctrl-E",
    "itemize": "Ctrl-I"
   },
   "labels_anchors": false,
   "latex_user_defs": false,
   "report_style_numbering": false,
   "user_envs_cfg": false
  },
  "toc": {
   "base_numbering": 1,
   "nav_menu": {},
   "number_sections": true,
   "sideBar": true,
   "skip_h1_title": true,
   "title_cell": "Table of Contents",
   "title_sidebar": "Contents",
   "toc_cell": true,
   "toc_position": {},
   "toc_section_display": true,
   "toc_window_display": false
  }
 },
 "nbformat": 4,
 "nbformat_minor": 4
}
