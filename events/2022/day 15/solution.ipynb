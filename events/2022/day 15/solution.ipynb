{
 "cells": [
  {
   "cell_type": "markdown",
   "metadata": {},
   "source": [
    "# Advent of Code 2022 Day 15\n",
    "[link](https://adventofcode.com/2022/day/15)"
   ]
  },
  {
   "cell_type": "markdown",
   "metadata": {},
   "source": [
    "## include code file using Revise"
   ]
  },
  {
   "cell_type": "code",
   "execution_count": 1,
   "metadata": {},
   "outputs": [],
   "source": [
    "using Revise"
   ]
  },
  {
   "cell_type": "code",
   "execution_count": 2,
   "metadata": {
    "scrolled": true
   },
   "outputs": [],
   "source": [
    "includet(\"functions.jl\")"
   ]
  },
  {
   "cell_type": "markdown",
   "metadata": {},
   "source": [
    "## set logger"
   ]
  },
  {
   "cell_type": "code",
   "execution_count": 3,
   "metadata": {},
   "outputs": [
    {
     "data": {
      "text/plain": [
       "Base.CoreLogging.SimpleLogger(IJulia.IJuliaStdio{Base.PipeEndpoint}(IOContext(Base.PipeEndpoint(RawFD(48) open, 0 bytes waiting))), Info, Dict{Any, Int64}())"
      ]
     },
     "execution_count": 3,
     "metadata": {},
     "output_type": "execute_result"
    }
   ],
   "source": [
    "import Logging\n",
    "import TerminalLoggers\n",
    "\n",
    "Logging.global_logger(TerminalLoggers.TerminalLogger())"
   ]
  },
  {
   "cell_type": "markdown",
   "metadata": {},
   "source": [
    "## read input"
   ]
  },
  {
   "cell_type": "code",
   "execution_count": 4,
   "metadata": {
    "scrolled": true
   },
   "outputs": [
    {
     "data": {
      "text/plain": [
       "14-element Vector{NamedTuple{(:ci, :beacon_ci), Tuple{CartesianIndex{2}, CartesianIndex{2}}}}:\n",
       " (ci = CI((x = 2, y = 18)), beacon_ci = CI((x = -2, y = 15)))\n",
       " (ci = CI((x = 9, y = 16)), beacon_ci = CI((x = 10, y = 16)))\n",
       " (ci = CI((x = 13, y = 2)), beacon_ci = CI((x = 15, y = 3)))\n",
       " (ci = CI((x = 12, y = 14)), beacon_ci = CI((x = 10, y = 16)))\n",
       " (ci = CI((x = 10, y = 20)), beacon_ci = CI((x = 10, y = 16)))\n",
       " (ci = CI((x = 14, y = 17)), beacon_ci = CI((x = 10, y = 16)))\n",
       " (ci = CI((x = 8, y = 7)), beacon_ci = CI((x = 2, y = 10)))\n",
       " (ci = CI((x = 2, y = 0)), beacon_ci = CI((x = 2, y = 10)))\n",
       " (ci = CI((x = 0, y = 11)), beacon_ci = CI((x = 2, y = 10)))\n",
       " (ci = CI((x = 20, y = 14)), beacon_ci = CI((x = 25, y = 17)))\n",
       " (ci = CI((x = 17, y = 20)), beacon_ci = CI((x = 21, y = 22)))\n",
       " (ci = CI((x = 16, y = 7)), beacon_ci = CI((x = 15, y = 3)))\n",
       " (ci = CI((x = 14, y = 3)), beacon_ci = CI((x = 15, y = 3)))\n",
       " (ci = CI((x = 20, y = 1)), beacon_ci = CI((x = 15, y = 3)))"
      ]
     },
     "execution_count": 4,
     "metadata": {},
     "output_type": "execute_result"
    }
   ],
   "source": [
    "PDS1 = parse_puzzle_file(\"sample1.txt\")"
   ]
  },
  {
   "cell_type": "code",
   "execution_count": 5,
   "metadata": {
    "scrolled": true
   },
   "outputs": [
    {
     "data": {
      "text/plain": [
       "38-element Vector{NamedTuple{(:ci, :beacon_ci), Tuple{CartesianIndex{2}, CartesianIndex{2}}}}:\n",
       " (ci = CI((x = 2793338, y = 1910659)), beacon_ci = CI((x = 2504930, y = 2301197)))\n",
       " (ci = CI((x = 2887961, y = 129550)), beacon_ci = CI((x = 2745008, y = -872454)))\n",
       " (ci = CI((x = 3887055, y = 2785942)), beacon_ci = CI((x = 4322327, y = 2605441)))\n",
       " (ci = CI((x = 3957399, y = 2164042)), beacon_ci = CI((x = 3651713, y = 1889668)))\n",
       " (ci = CI((x = 1268095, y = 1265989)), beacon_ci = CI((x = 1144814, y = 2000000)))\n",
       " (ci = CI((x = 2093967, y = 2103436)), beacon_ci = CI((x = 2504930, y = 2301197)))\n",
       " (ci = CI((x = 2980126, y = 1348046)), beacon_ci = CI((x = 3651713, y = 1889668)))\n",
       " (ci = CI((x = 508134, y = 3998686)), beacon_ci = CI((x = 1123963, y = 4608563)))\n",
       " (ci = CI((x = 2982740, y = 3604350)), beacon_ci = CI((x = 2756683, y = 3240616)))\n",
       " (ci = CI((x = 2372671, y = 3929034)), beacon_ci = CI((x = 2756683, y = 3240616)))\n",
       " (ci = CI((x = 437628, y = 1124644)), beacon_ci = CI((x = 570063, y = 959065)))\n",
       " (ci = CI((x = 3271179, y = 3268845)), beacon_ci = CI((x = 3444757, y = 3373782)))\n",
       " (ci = CI((x = 1899932, y = 730465)), beacon_ci = CI((x = 570063, y = 959065)))\n",
       " ⋮\n",
       " (ci = CI((x = 3892283, y = 688090)), beacon_ci = CI((x = 3651713, y = 1889668)))\n",
       " (ci = CI((x = 1485577, y = 1929020)), beacon_ci = CI((x = 1144814, y = 2000000)))\n",
       " (ci = CI((x = 2991003, y = 2951060)), beacon_ci = CI((x = 2756683, y = 3240616)))\n",
       " (ci = CI((x = 2855486, y = 2533468)), beacon_ci = CI((x = 2504930, y = 2301197)))\n",
       " (ci = CI((x = 750865, y = 1619637)), beacon_ci = CI((x = 1144814, y = 2000000)))\n",
       " (ci = CI((x = 3378101, y = 3402212)), beacon_ci = CI((x = 3444757, y = 3373782)))\n",
       " (ci = CI((x = 3515528, y = 2950404)), beacon_ci = CI((x = 3444757, y = 3373782)))\n",
       " (ci = CI((x = 163133, y = 2640553)), beacon_ci = CI((x = -1016402, y = 3057364)))\n",
       " (ci = CI((x = 1765550, y = 3021994)), beacon_ci = CI((x = 2756683, y = 3240616)))\n",
       " (ci = CI((x = 534625, y = 1056421)), beacon_ci = CI((x = 570063, y = 959065)))\n",
       " (ci = CI((x = 3418549, y = 3380980)), beacon_ci = CI((x = 3444757, y = 3373782)))\n",
       " (ci = CI((x = 29, y = 389033)), beacon_ci = CI((x = 570063, y = 959065)))"
      ]
     },
     "execution_count": 5,
     "metadata": {},
     "output_type": "execute_result"
    }
   ],
   "source": [
    "PDI = parse_puzzle_file(\"input.txt\")"
   ]
  },
  {
   "cell_type": "code",
   "execution_count": 6,
   "metadata": {},
   "outputs": [],
   "source": [
    "PD = PDI;"
   ]
  },
  {
   "cell_type": "markdown",
   "metadata": {},
   "source": [
    "## part 1"
   ]
  },
  {
   "cell_type": "code",
   "execution_count": 7,
   "metadata": {},
   "outputs": [
    {
     "data": {
      "text/plain": [
       "5"
      ]
     },
     "execution_count": 7,
     "metadata": {},
     "output_type": "execute_result"
    }
   ],
   "source": [
    "CI((x = 2, y = 3)) |> get_distance"
   ]
  },
  {
   "cell_type": "code",
   "execution_count": 8,
   "metadata": {},
   "outputs": [
    {
     "data": {
      "text/plain": [
       "7"
      ]
     },
     "execution_count": 8,
     "metadata": {},
     "output_type": "execute_result"
    }
   ],
   "source": [
    "get_beacon_dist(PDS1[1])"
   ]
  },
  {
   "cell_type": "code",
   "execution_count": 9,
   "metadata": {},
   "outputs": [
    {
     "data": {
      "text/plain": [
       "2:2"
      ]
     },
     "execution_count": 9,
     "metadata": {},
     "output_type": "execute_result"
    }
   ],
   "source": [
    "get_calm_xrange(PDS1[1], 11)"
   ]
  },
  {
   "cell_type": "code",
   "execution_count": 10,
   "metadata": {},
   "outputs": [
    {
     "data": {
      "text/plain": [
       "3:2"
      ]
     },
     "execution_count": 10,
     "metadata": {},
     "output_type": "execute_result"
    }
   ],
   "source": [
    "get_calm_xrange(PDS1[1], 10, get_beacon_dist(PDS1[1]))"
   ]
  },
  {
   "cell_type": "code",
   "execution_count": 11,
   "metadata": {},
   "outputs": [
    {
     "name": "stdout",
     "output_type": "stream",
     "text": [
      "[-2, -1, 0, 1, 3, 4, 5, 6, 7, 8, 9, 10, 11, 12, 13, 14, 15, 16, 17, 18, 19, 20, 21, 22, 23, 24]\n"
     ]
    }
   ],
   "source": [
    "get_xs_without_beacon(PDS1, 10) |> println"
   ]
  },
  {
   "cell_type": "markdown",
   "metadata": {},
   "source": [
    "### answer"
   ]
  },
  {
   "cell_type": "code",
   "execution_count": 12,
   "metadata": {},
   "outputs": [
    {
     "name": "stdout",
     "output_type": "stream",
     "text": [
      "  1.301055 seconds (2.06 M allocations: 465.330 MiB, 9.03% gc time, 20.22% compilation time: 8% of which was recompilation)\n"
     ]
    },
    {
     "name": "stderr",
     "output_type": "stream",
     "text": [
      "\u001b[36m\u001b[1m┌ \u001b[22m\u001b[39m\u001b[36m\u001b[1mInfo: \u001b[22m\u001b[39mpart 1 answer\n",
      "\u001b[36m\u001b[1m│ \u001b[22m\u001b[39m  result1(PDS1, 10) = 26\n",
      "\u001b[36m\u001b[1m└ \u001b[22m\u001b[39m  result1(PDI, 2000000) = 5166077\n"
     ]
    }
   ],
   "source": [
    "@time @info(\n",
    "    \"part 1 answer\",\n",
    "    result1(PDS1, 10),\n",
    "    result1(PDI, 2000000),\n",
    ")"
   ]
  },
  {
   "cell_type": "markdown",
   "metadata": {},
   "source": [
    "## part 2"
   ]
  },
  {
   "cell_type": "code",
   "execution_count": 13,
   "metadata": {},
   "outputs": [
    {
     "data": {
      "text/plain": [
       "38-element Vector{NamedTuple{(:ci, :beacon_ci), Tuple{CartesianIndex{2}, CartesianIndex{2}}}}:\n",
       " (ci = CI((x = 29, y = 389033)), beacon_ci = CI((x = 570063, y = 959065)))\n",
       " (ci = CI((x = 100457, y = 871319)), beacon_ci = CI((x = 570063, y = 959065)))\n",
       " (ci = CI((x = 163133, y = 2640553)), beacon_ci = CI((x = -1016402, y = 3057364)))\n",
       " (ci = CI((x = 437628, y = 1124644)), beacon_ci = CI((x = 570063, y = 959065)))\n",
       " (ci = CI((x = 508134, y = 3998686)), beacon_ci = CI((x = 1123963, y = 4608563)))\n",
       " (ci = CI((x = 534625, y = 1056421)), beacon_ci = CI((x = 570063, y = 959065)))\n",
       " (ci = CI((x = 554365, y = 989190)), beacon_ci = CI((x = 570063, y = 959065)))\n",
       " (ci = CI((x = 598586, y = 99571)), beacon_ci = CI((x = 570063, y = 959065)))\n",
       " (ci = CI((x = 750865, y = 1619637)), beacon_ci = CI((x = 1144814, y = 2000000)))\n",
       " (ci = CI((x = 1268095, y = 1265989)), beacon_ci = CI((x = 1144814, y = 2000000)))\n",
       " (ci = CI((x = 1330699, y = 2091946)), beacon_ci = CI((x = 1144814, y = 2000000)))\n",
       " (ci = CI((x = 1390358, y = 3881569)), beacon_ci = CI((x = 1123963, y = 4608563)))\n",
       " (ci = CI((x = 1485577, y = 1929020)), beacon_ci = CI((x = 1144814, y = 2000000)))\n",
       " ⋮\n",
       " (ci = CI((x = 3338431, y = 3346334)), beacon_ci = CI((x = 3444757, y = 3373782)))\n",
       " (ci = CI((x = 3378101, y = 3402212)), beacon_ci = CI((x = 3444757, y = 3373782)))\n",
       " (ci = CI((x = 3418549, y = 3380980)), beacon_ci = CI((x = 3444757, y = 3373782)))\n",
       " (ci = CI((x = 3420789, y = 1720583)), beacon_ci = CI((x = 3651713, y = 1889668)))\n",
       " (ci = CI((x = 3436099, y = 3392932)), beacon_ci = CI((x = 3444757, y = 3373782)))\n",
       " (ci = CI((x = 3515528, y = 2950404)), beacon_ci = CI((x = 3444757, y = 3373782)))\n",
       " (ci = CI((x = 3534099, y = 2371166)), beacon_ci = CI((x = 3651713, y = 1889668)))\n",
       " (ci = CI((x = 3755905, y = 1346206)), beacon_ci = CI((x = 3651713, y = 1889668)))\n",
       " (ci = CI((x = 3887055, y = 2785942)), beacon_ci = CI((x = 4322327, y = 2605441)))\n",
       " (ci = CI((x = 3892283, y = 688090)), beacon_ci = CI((x = 3651713, y = 1889668)))\n",
       " (ci = CI((x = 3957399, y = 2164042)), beacon_ci = CI((x = 3651713, y = 1889668)))\n",
       " (ci = CI((x = 3967103, y = 3930797)), beacon_ci = CI((x = 3444757, y = 3373782)))"
      ]
     },
     "execution_count": 13,
     "metadata": {},
     "output_type": "execute_result"
    }
   ],
   "source": [
    "SORTED_PD = sort(PD, by = s -> (s.ci.x, s.ci.y))"
   ]
  },
  {
   "cell_type": "code",
   "execution_count": 14,
   "metadata": {},
   "outputs": [
    {
     "data": {
      "text/plain": [
       "0:4000000"
      ]
     },
     "execution_count": 14,
     "metadata": {},
     "output_type": "execute_result"
    }
   ],
   "source": [
    "CONFINED_RANGE = 0:4000000"
   ]
  },
  {
   "cell_type": "code",
   "execution_count": 15,
   "metadata": {},
   "outputs": [
    {
     "data": {
      "text/plain": [
       "38-element Vector{Int64}:\n",
       " 1140066\n",
       "  557352\n",
       " 1596346\n",
       "  298014\n",
       " 1225706\n",
       "  132794\n",
       "   45823\n",
       "  888017\n",
       "  774312\n",
       "  857292\n",
       "  277831\n",
       "  993389\n",
       "  411743\n",
       "       ⋮\n",
       "  133774\n",
       "   95086\n",
       "   33406\n",
       "  400009\n",
       "   27808\n",
       "  494149\n",
       "  599112\n",
       "  647654\n",
       "  615773\n",
       " 1442148\n",
       "  580060\n",
       " 1079361"
      ]
     },
     "execution_count": 15,
     "metadata": {},
     "output_type": "execute_result"
    }
   ],
   "source": [
    "SORTED_BEACON_DISTS = get_beacon_dist.(SORTED_PD)"
   ]
  },
  {
   "cell_type": "code",
   "execution_count": 16,
   "metadata": {},
   "outputs": [
    {
     "data": {
      "text/plain": [
       "0:389062"
      ]
     },
     "execution_count": 16,
     "metadata": {},
     "output_type": "execute_result"
    }
   ],
   "source": [
    "get_calm_xrange(SORTED_PD[1], 1140066, SORTED_BEACON_DISTS[1], CONFINED_RANGE)"
   ]
  },
  {
   "cell_type": "code",
   "execution_count": 17,
   "metadata": {},
   "outputs": [
    {
     "data": {
      "text/plain": [
       "CI((x = 3267801, y = 2703981))"
      ]
     },
     "execution_count": 17,
     "metadata": {},
     "output_type": "execute_result"
    }
   ],
   "source": [
    "CANDIDATES = candidate_distress_beacon_in_range(SORTED_PD, SORTED_BEACON_DISTS, 2703981, CONFINED_RANGE)"
   ]
  },
  {
   "cell_type": "code",
   "execution_count": 18,
   "metadata": {},
   "outputs": [
    {
     "name": "stdout",
     "output_type": "stream",
     "text": [
      "  0.492878 seconds (2.80 M allocations: 1.697 GiB, 14.81% gc time, 9.11% compilation time)\n"
     ]
    },
    {
     "data": {
      "text/plain": [
       "CI((x = 3267801, y = 2703981))"
      ]
     },
     "execution_count": 18,
     "metadata": {},
     "output_type": "execute_result"
    }
   ],
   "source": [
    "@time derive_distress_ci(PD, (0:4000000, 0:4000000))"
   ]
  },
  {
   "cell_type": "markdown",
   "metadata": {},
   "source": [
    "### answer"
   ]
  },
  {
   "cell_type": "code",
   "execution_count": 19,
   "metadata": {},
   "outputs": [
    {
     "name": "stdout",
     "output_type": "stream",
     "text": [
      "  0.513953 seconds (3.14 M allocations: 1.714 GiB, 13.13% gc time, 14.68% compilation time)\n"
     ]
    },
    {
     "name": "stderr",
     "output_type": "stream",
     "text": [
      "\u001b[36m\u001b[1m┌ \u001b[22m\u001b[39m\u001b[36m\u001b[1mInfo: \u001b[22m\u001b[39mpart 2 answer\n",
      "\u001b[36m\u001b[1m│ \u001b[22m\u001b[39m  result2(PDS1, (0:20, 0:20)) = 56000011\n",
      "\u001b[36m\u001b[1m└ \u001b[22m\u001b[39m  result2(PDI, (0:4000000, 0:4000000)) = 13071206703981\n"
     ]
    }
   ],
   "source": [
    "@time @info(\n",
    "    \"part 2 answer\",\n",
    "    result2(PDS1, (0:20, 0:20)),\n",
    "    result2(PDI, (0:4000000, 0:4000000)),\n",
    ")"
   ]
  },
  {
   "cell_type": "code",
   "execution_count": 20,
   "metadata": {},
   "outputs": [],
   "source": [
    "# PDI part 2 is CI((x = 3267801, y = 2703981))."
   ]
  }
 ],
 "metadata": {
  "@webio": {
   "lastCommId": null,
   "lastKernelId": null
  },
  "kernelspec": {
   "display_name": "Julia 1.8.2",
   "language": "julia",
   "name": "julia-1.8"
  },
  "language_info": {
   "file_extension": ".jl",
   "mimetype": "application/julia",
   "name": "julia",
   "version": "1.8.2"
  },
  "latex_envs": {
   "LaTeX_envs_menu_present": true,
   "autoclose": false,
   "autocomplete": true,
   "bibliofile": "biblio.bib",
   "cite_by": "apalike",
   "current_citInitial": 1,
   "eqLabelWithNumbers": true,
   "eqNumInitial": 1,
   "hotkeys": {
    "equation": "Ctrl-E",
    "itemize": "Ctrl-I"
   },
   "labels_anchors": false,
   "latex_user_defs": false,
   "report_style_numbering": false,
   "user_envs_cfg": false
  },
  "toc": {
   "base_numbering": 1,
   "nav_menu": {},
   "number_sections": true,
   "sideBar": true,
   "skip_h1_title": true,
   "title_cell": "Table of Contents",
   "title_sidebar": "Contents",
   "toc_cell": true,
   "toc_position": {},
   "toc_section_display": true,
   "toc_window_display": false
  }
 },
 "nbformat": 4,
 "nbformat_minor": 4
}
