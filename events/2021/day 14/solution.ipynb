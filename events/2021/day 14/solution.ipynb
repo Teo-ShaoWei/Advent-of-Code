{
 "cells": [
  {
   "cell_type": "markdown",
   "metadata": {},
   "source": [
    "# Advent of Code 2021 Day 14\n",
    "[link](https://adventofcode.com/2021/day/14)"
   ]
  },
  {
   "cell_type": "markdown",
   "metadata": {
    "toc": true
   },
   "source": [
    "<h1>Table of Contents<span class=\"tocSkip\"></span></h1>\n",
    "<div class=\"toc\"><ul class=\"toc-item\"><li><span><a href=\"#include-code-file-using-Revise\" data-toc-modified-id=\"include-code-file-using-Revise-1\"><span class=\"toc-item-num\">1&nbsp;&nbsp;</span>include code file using Revise</a></span></li><li><span><a href=\"#read-input\" data-toc-modified-id=\"read-input-2\"><span class=\"toc-item-num\">2&nbsp;&nbsp;</span>read input</a></span></li><li><span><a href=\"#part-1\" data-toc-modified-id=\"part-1-3\"><span class=\"toc-item-num\">3&nbsp;&nbsp;</span>part 1</a></span><ul class=\"toc-item\"><li><span><a href=\"#answer\" data-toc-modified-id=\"answer-3.1\"><span class=\"toc-item-num\">3.1&nbsp;&nbsp;</span>answer</a></span></li></ul></li><li><span><a href=\"#part-2\" data-toc-modified-id=\"part-2-4\"><span class=\"toc-item-num\">4&nbsp;&nbsp;</span>part 2</a></span><ul class=\"toc-item\"><li><span><a href=\"#answer\" data-toc-modified-id=\"answer-4.1\"><span class=\"toc-item-num\">4.1&nbsp;&nbsp;</span>answer</a></span></li></ul></li></ul></div>"
   ]
  },
  {
   "cell_type": "markdown",
   "metadata": {},
   "source": [
    "## include code file using Revise"
   ]
  },
  {
   "cell_type": "code",
   "execution_count": 1,
   "metadata": {
    "ExecuteTime": {
     "end_time": "2021-12-14T14:13:05.433000+08:00",
     "start_time": "2021-12-14T06:13:04.345Z"
    }
   },
   "outputs": [],
   "source": [
    "using Revise"
   ]
  },
  {
   "cell_type": "code",
   "execution_count": 2,
   "metadata": {
    "ExecuteTime": {
     "end_time": "2021-12-14T14:13:11.673000+08:00",
     "start_time": "2021-12-14T06:13:04.347Z"
    },
    "scrolled": true
   },
   "outputs": [],
   "source": [
    "includet(\"functions.jl\")"
   ]
  },
  {
   "cell_type": "markdown",
   "metadata": {},
   "source": [
    "## read input"
   ]
  },
  {
   "cell_type": "code",
   "execution_count": 3,
   "metadata": {
    "ExecuteTime": {
     "end_time": "2021-12-14T14:13:13.099000+08:00",
     "start_time": "2021-12-14T06:13:04.409Z"
    },
    "scrolled": true
   },
   "outputs": [
    {
     "data": {
      "text/plain": [
       "(template = \"NNCB\", insertions = Dict(('H', 'H') => 'N', ('B', 'N') => 'B', ('B', 'C') => 'B', ('N', 'H') => 'C', ('C', 'N') => 'C', ('C', 'B') => 'H', ('N', 'B') => 'B', ('N', 'C') => 'B', ('N', 'N') => 'C', ('B', 'H') => 'H'…))"
      ]
     },
     "execution_count": 3,
     "metadata": {},
     "output_type": "execute_result"
    }
   ],
   "source": [
    "PDS1 = parse_input(\"sample1.txt\")"
   ]
  },
  {
   "cell_type": "code",
   "execution_count": 4,
   "metadata": {
    "ExecuteTime": {
     "end_time": "2021-12-14T14:13:13.574000+08:00",
     "start_time": "2021-12-14T06:13:04.411Z"
    },
    "scrolled": true
   },
   "outputs": [
    {
     "data": {
      "text/plain": [
       "Dict{Tuple{Char, Char}, Char} with 16 entries:\n",
       "  ('H', 'H') => 'N'\n",
       "  ('B', 'N') => 'B'\n",
       "  ('B', 'C') => 'B'\n",
       "  ('N', 'H') => 'C'\n",
       "  ('C', 'N') => 'C'\n",
       "  ('C', 'B') => 'H'\n",
       "  ('N', 'B') => 'B'\n",
       "  ('N', 'C') => 'B'\n",
       "  ('N', 'N') => 'C'\n",
       "  ('B', 'H') => 'H'\n",
       "  ('H', 'B') => 'C'\n",
       "  ('C', 'C') => 'N'\n",
       "  ('H', 'N') => 'C'\n",
       "  ('C', 'H') => 'B'\n",
       "  ('H', 'C') => 'B'\n",
       "  ('B', 'B') => 'N'"
      ]
     },
     "execution_count": 4,
     "metadata": {},
     "output_type": "execute_result"
    }
   ],
   "source": [
    "PDS1.insertions"
   ]
  },
  {
   "cell_type": "code",
   "execution_count": 5,
   "metadata": {
    "ExecuteTime": {
     "end_time": "2021-12-14T14:13:13.588000+08:00",
     "start_time": "2021-12-14T06:13:04.413Z"
    },
    "scrolled": true
   },
   "outputs": [
    {
     "data": {
      "text/plain": [
       "(template = \"KOKHCCHNKKFHBKVVHNPN\", insertions = Dict(('N', 'V') => 'F', ('P', 'F') => 'S', ('C', 'N') => 'V', ('H', 'O') => 'H', ('F', 'V') => 'F', ('V', 'P') => 'C', ('O', 'S') => 'K', ('H', 'S') => 'S', ('O', 'F') => 'B', ('B', 'H') => 'H'…))"
      ]
     },
     "execution_count": 5,
     "metadata": {},
     "output_type": "execute_result"
    }
   ],
   "source": [
    "PDI = parse_input(\"input.txt\")"
   ]
  },
  {
   "cell_type": "code",
   "execution_count": 6,
   "metadata": {
    "ExecuteTime": {
     "end_time": "2021-12-14T14:13:14.333000+08:00",
     "start_time": "2021-12-14T06:13:04.417Z"
    }
   },
   "outputs": [
    {
     "data": {
      "text/plain": [
       "9-element Vector{Char}:\n",
       " K\n",
       " O\n",
       " H\n",
       " C\n",
       " N\n",
       " F\n",
       " B\n",
       " V\n",
       " P"
      ]
     },
     "execution_count": 6,
     "metadata": {},
     "output_type": "execute_result"
    }
   ],
   "source": [
    "PDI.template |> unique"
   ]
  },
  {
   "cell_type": "code",
   "execution_count": 7,
   "metadata": {
    "ExecuteTime": {
     "end_time": "2021-12-14T14:13:14.347000+08:00",
     "start_time": "2021-12-14T06:13:04.419Z"
    }
   },
   "outputs": [
    {
     "data": {
      "text/plain": [
       "Dict{Tuple{Char, Char}, Char} with 100 entries:\n",
       "  ('N', 'V') => 'F'\n",
       "  ('P', 'F') => 'S'\n",
       "  ('C', 'N') => 'V'\n",
       "  ('H', 'O') => 'H'\n",
       "  ('F', 'V') => 'F'\n",
       "  ('V', 'P') => 'C'\n",
       "  ('O', 'S') => 'K'\n",
       "  ('H', 'S') => 'S'\n",
       "  ('O', 'F') => 'B'\n",
       "  ('B', 'H') => 'H'\n",
       "  ('K', 'B') => 'P'\n",
       "  ('S', 'B') => 'O'\n",
       "  ('S', 'C') => 'C'\n",
       "  ('C', 'C') => 'P'\n",
       "  ('V', 'H') => 'F'\n",
       "  ('B', 'N') => 'C'\n",
       "  ('O', 'V') => 'K'\n",
       "  ('F', 'N') => 'F'\n",
       "  ('K', 'O') => 'V'\n",
       "  ('N', 'H') => 'P'\n",
       "  ('B', 'C') => 'B'\n",
       "  ('C', 'O') => 'N'\n",
       "  ('K', 'P') => 'O'\n",
       "  ('S', 'F') => 'N'\n",
       "  ('H', 'H') => 'P'\n",
       "  ⋮          => ⋮"
      ]
     },
     "execution_count": 7,
     "metadata": {},
     "output_type": "execute_result"
    }
   ],
   "source": [
    "PDI.insertions"
   ]
  },
  {
   "cell_type": "markdown",
   "metadata": {},
   "source": [
    "## part 1"
   ]
  },
  {
   "cell_type": "code",
   "execution_count": 8,
   "metadata": {
    "ExecuteTime": {
     "end_time": "2021-12-14T14:13:15.111000+08:00",
     "start_time": "2021-12-14T06:13:04.472Z"
    },
    "scrolled": true
   },
   "outputs": [
    {
     "data": {
      "text/plain": [
       "Dict{Tuple{Char, Char}, Int64} with 16 entries:\n",
       "  ('H', 'H') => 0\n",
       "  ('B', 'N') => 0\n",
       "  ('B', 'C') => 0\n",
       "  ('N', 'H') => 0\n",
       "  ('C', 'N') => 0\n",
       "  ('C', 'B') => 1\n",
       "  ('N', 'B') => 0\n",
       "  ('N', 'C') => 1\n",
       "  ('N', 'N') => 1\n",
       "  ('B', 'H') => 0\n",
       "  ('H', 'B') => 0\n",
       "  ('C', 'C') => 0\n",
       "  ('H', 'N') => 0\n",
       "  ('C', 'H') => 0\n",
       "  ('H', 'C') => 0\n",
       "  ('B', 'B') => 0"
      ]
     },
     "execution_count": 8,
     "metadata": {},
     "output_type": "execute_result"
    }
   ],
   "source": [
    "init_polymer(PDS1...)"
   ]
  },
  {
   "cell_type": "code",
   "execution_count": 9,
   "metadata": {
    "ExecuteTime": {
     "end_time": "2021-12-14T14:13:15.217000+08:00",
     "start_time": "2021-12-14T06:13:04.475Z"
    }
   },
   "outputs": [
    {
     "data": {
      "text/plain": [
       "Dict{Tuple{Char, Char}, Int64} with 16 entries:\n",
       "  ('H', 'H') => 0\n",
       "  ('B', 'N') => 0\n",
       "  ('B', 'C') => 1\n",
       "  ('N', 'H') => 0\n",
       "  ('C', 'N') => 1\n",
       "  ('C', 'B') => 0\n",
       "  ('N', 'B') => 1\n",
       "  ('N', 'C') => 1\n",
       "  ('N', 'N') => 0\n",
       "  ('B', 'H') => 0\n",
       "  ('H', 'B') => 1\n",
       "  ('C', 'C') => 0\n",
       "  ('H', 'N') => 0\n",
       "  ('C', 'H') => 1\n",
       "  ('H', 'C') => 0\n",
       "  ('B', 'B') => 0"
      ]
     },
     "execution_count": 9,
     "metadata": {},
     "output_type": "execute_result"
    }
   ],
   "source": [
    "next(init_polymer(PDS1...), PDS1.insertions)"
   ]
  },
  {
   "cell_type": "markdown",
   "metadata": {},
   "source": [
    "### answer"
   ]
  },
  {
   "cell_type": "code",
   "execution_count": 10,
   "metadata": {
    "ExecuteTime": {
     "end_time": "2021-12-14T14:13:15.649000+08:00",
     "start_time": "2021-12-14T06:13:04.527Z"
    }
   },
   "outputs": [
    {
     "name": "stdout",
     "output_type": "stream",
     "text": [
      "  0.340616 seconds (777.25 k allocations: 43.232 MiB, 2.45% gc time, 99.65% compilation time)\n"
     ]
    },
    {
     "name": "stderr",
     "output_type": "stream",
     "text": [
      "┌ Info: part 1 answer\n",
      "│   result(PDS1, 10) = 1588\n",
      "│   result(PDI, 10) = 3406\n",
      "└ @ Main In[10]:1\n"
     ]
    }
   ],
   "source": [
    "@time @info(\n",
    "    \"part 1 answer\",\n",
    "    result(PDS1, 10),\n",
    "    result(PDI, 10),\n",
    ")"
   ]
  },
  {
   "cell_type": "markdown",
   "metadata": {},
   "source": [
    "## part 2"
   ]
  },
  {
   "cell_type": "markdown",
   "metadata": {},
   "source": [
    "### answer"
   ]
  },
  {
   "cell_type": "code",
   "execution_count": 11,
   "metadata": {
    "ExecuteTime": {
     "end_time": "2021-12-14T14:13:15.729000+08:00",
     "start_time": "2021-12-14T06:13:04.650Z"
    }
   },
   "outputs": [
    {
     "name": "stdout",
     "output_type": "stream",
     "text": [
      "  0.029122 seconds (68.33 k allocations: 4.118 MiB, 95.75% compilation time)\n"
     ]
    },
    {
     "name": "stderr",
     "output_type": "stream",
     "text": [
      "┌ Info: part 1 answer\n",
      "│   result(PDS1, 40) = 2188189693529\n",
      "│   result(PDI, 40) = 3941782230241\n",
      "└ @ Main In[11]:1\n"
     ]
    }
   ],
   "source": [
    "@time @info(\n",
    "    \"part 1 answer\",\n",
    "    result(PDS1, 40),\n",
    "    result(PDI, 40),\n",
    ")"
   ]
  }
 ],
 "metadata": {
  "@webio": {
   "lastCommId": null,
   "lastKernelId": null
  },
  "kernelspec": {
   "display_name": "Julia 1.7.0",
   "language": "julia",
   "name": "julia-1.7"
  },
  "language_info": {
   "file_extension": ".jl",
   "mimetype": "application/julia",
   "name": "julia",
   "version": "1.7.0"
  },
  "latex_envs": {
   "LaTeX_envs_menu_present": true,
   "autoclose": false,
   "autocomplete": true,
   "bibliofile": "biblio.bib",
   "cite_by": "apalike",
   "current_citInitial": 1,
   "eqLabelWithNumbers": true,
   "eqNumInitial": 1,
   "hotkeys": {
    "equation": "Ctrl-E",
    "itemize": "Ctrl-I"
   },
   "labels_anchors": false,
   "latex_user_defs": false,
   "report_style_numbering": false,
   "user_envs_cfg": false
  },
  "toc": {
   "base_numbering": 1,
   "nav_menu": {},
   "number_sections": true,
   "sideBar": true,
   "skip_h1_title": true,
   "title_cell": "Table of Contents",
   "title_sidebar": "Contents",
   "toc_cell": true,
   "toc_position": {},
   "toc_section_display": true,
   "toc_window_display": false
  }
 },
 "nbformat": 4,
 "nbformat_minor": 4
}
